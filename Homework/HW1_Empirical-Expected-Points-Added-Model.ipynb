{
 "cells": [
  {
   "cell_type": "markdown",
   "metadata": {
    "collapsed": true
   },
   "source": [
    "# Empirical Expected Points Model"
   ]
  },
  {
   "cell_type": "markdown",
   "metadata": {},
   "source": [
    "**Authors:**  \n",
    "Iain Muir, iam9ez  \n",
    "Hriday Singh,  \n",
    "Connor Smith,"
   ]
  },
  {
   "cell_type": "markdown",
   "metadata": {},
   "source": [
    "*Date: September 9th, 2021*"
   ]
  },
  {
   "cell_type": "markdown",
   "metadata": {},
   "source": [
    "## Table of Contents"
   ]
  },
  {
   "cell_type": "markdown",
   "metadata": {},
   "source": [
    "* 0. Import Libraries\n",
    "* 1. Load Data\n",
    "* 2. Transform Data\n",
    "    * 2.1 Remove Garbage Time\n",
    "    * 2.2 Split Score to Home/Away\n",
    "    * 2.3 Cast datetime Variables\n",
    "    * 2.4 Group Point Periods\n",
    "* 3. Expected Points Model"
   ]
  },
  {
   "cell_type": "markdown",
   "metadata": {},
   "source": [
    "### 0. Import Libraries"
   ]
  },
  {
   "cell_type": "code",
   "execution_count": 2,
   "metadata": {},
   "outputs": [],
   "source": [
    "import pandas as pd\n",
    "import numpy as np"
   ]
  },
  {
   "cell_type": "markdown",
   "metadata": {},
   "source": [
    "### 1.0 Load Data"
   ]
  },
  {
   "cell_type": "code",
   "execution_count": 3,
   "metadata": {},
   "outputs": [
    {
     "name": "stderr",
     "output_type": "stream",
     "text": [
      "/Library/Frameworks/Python.framework/Versions/3.6/lib/python3.6/site-packages/IPython/core/interactiveshell.py:3072: DtypeWarning: Columns (4) have mixed types.Specify dtype option on import or set low_memory=False.\n",
      "  interactivity=interactivity, compiler=compiler, result=result)\n"
     ]
    }
   ],
   "source": [
    "PATH = '/Users/iainmuir/Desktop/4Y 1S/STAT 4800/Dataset/2019 PFF All Plays.csv'\n",
    "DATA = pd.read_csv(PATH)"
   ]
  },
  {
   "cell_type": "code",
   "execution_count": 4,
   "metadata": {},
   "outputs": [
    {
     "data": {
      "text/plain": [
       "(167027, 177)"
      ]
     },
     "execution_count": 4,
     "metadata": {},
     "output_type": "execute_result"
    }
   ],
   "source": [
    "DATA.shape"
   ]
  },
  {
   "cell_type": "code",
   "execution_count": 5,
   "metadata": {},
   "outputs": [
    {
     "data": {
      "text/html": [
       "<div>\n",
       "<style scoped>\n",
       "    .dataframe tbody tr th:only-of-type {\n",
       "        vertical-align: middle;\n",
       "    }\n",
       "\n",
       "    .dataframe tbody tr th {\n",
       "        vertical-align: top;\n",
       "    }\n",
       "\n",
       "    .dataframe thead th {\n",
       "        text-align: right;\n",
       "    }\n",
       "</style>\n",
       "<table border=\"1\" class=\"dataframe\">\n",
       "  <thead>\n",
       "    <tr style=\"text-align: right;\">\n",
       "      <th></th>\n",
       "      <th>pff_PLAYID</th>\n",
       "      <th>pff_GAMEID</th>\n",
       "      <th>pff_GAMEDATE</th>\n",
       "      <th>pff_GAMESEASON</th>\n",
       "      <th>pff_WEEK</th>\n",
       "      <th>pff_GSISGAMEKEY</th>\n",
       "      <th>pff_GSISPLAYID</th>\n",
       "      <th>pff_QUARTER</th>\n",
       "      <th>pff_DOWN</th>\n",
       "      <th>pff_CLOCK</th>\n",
       "      <th>...</th>\n",
       "      <th>pff_STSAFETIES</th>\n",
       "      <th>pff_TACKLE</th>\n",
       "      <th>pff_TACKLEASSIST</th>\n",
       "      <th>pff_TEALIGNMENT</th>\n",
       "      <th>pff_TOUCHDOWN</th>\n",
       "      <th>pff_UNBLOCKEDPRESSURE</th>\n",
       "      <th>pff_VISE</th>\n",
       "      <th>pff_WRALIGNMENT</th>\n",
       "      <th>pff_PLAYCLOCK</th>\n",
       "      <th>pff_RUNPASSOPTION</th>\n",
       "    </tr>\n",
       "  </thead>\n",
       "  <tbody>\n",
       "    <tr>\n",
       "      <th>0</th>\n",
       "      <td>3401248</td>\n",
       "      <td>16800</td>\n",
       "      <td>1/13/20</td>\n",
       "      <td>2019</td>\n",
       "      <td>FC</td>\n",
       "      <td>76953</td>\n",
       "      <td>0</td>\n",
       "      <td>1</td>\n",
       "      <td>0</td>\n",
       "      <td>15:00</td>\n",
       "      <td>...</td>\n",
       "      <td>NaN</td>\n",
       "      <td>NaN</td>\n",
       "      <td>NaN</td>\n",
       "      <td>NaN</td>\n",
       "      <td>NaN</td>\n",
       "      <td>NaN</td>\n",
       "      <td>NaN</td>\n",
       "      <td>NaN</td>\n",
       "      <td>NaN</td>\n",
       "      <td>0</td>\n",
       "    </tr>\n",
       "    <tr>\n",
       "      <th>1</th>\n",
       "      <td>3401250</td>\n",
       "      <td>16800</td>\n",
       "      <td>1/13/20</td>\n",
       "      <td>2019</td>\n",
       "      <td>FC</td>\n",
       "      <td>76953</td>\n",
       "      <td>0</td>\n",
       "      <td>1</td>\n",
       "      <td>1</td>\n",
       "      <td>15:00</td>\n",
       "      <td>...</td>\n",
       "      <td>NaN</td>\n",
       "      <td>LAST D18</td>\n",
       "      <td>NaN</td>\n",
       "      <td>R</td>\n",
       "      <td>NaN</td>\n",
       "      <td>NaN</td>\n",
       "      <td>NaN</td>\n",
       "      <td>LWR; SLoWR^; SLiWR</td>\n",
       "      <td>3.0</td>\n",
       "      <td>0</td>\n",
       "    </tr>\n",
       "    <tr>\n",
       "      <th>2</th>\n",
       "      <td>3401251</td>\n",
       "      <td>16800</td>\n",
       "      <td>1/13/20</td>\n",
       "      <td>2019</td>\n",
       "      <td>FC</td>\n",
       "      <td>76953</td>\n",
       "      <td>0</td>\n",
       "      <td>1</td>\n",
       "      <td>2</td>\n",
       "      <td>14:35</td>\n",
       "      <td>...</td>\n",
       "      <td>NaN</td>\n",
       "      <td>LAST D01</td>\n",
       "      <td>NaN</td>\n",
       "      <td>NaN</td>\n",
       "      <td>NaN</td>\n",
       "      <td>NaN</td>\n",
       "      <td>NaN</td>\n",
       "      <td>LWR^; SRiWR; SRoWR; RWR^</td>\n",
       "      <td>23.0</td>\n",
       "      <td>0</td>\n",
       "    </tr>\n",
       "    <tr>\n",
       "      <th>3</th>\n",
       "      <td>3401252</td>\n",
       "      <td>16800</td>\n",
       "      <td>1/13/20</td>\n",
       "      <td>2019</td>\n",
       "      <td>FC</td>\n",
       "      <td>76953</td>\n",
       "      <td>0</td>\n",
       "      <td>1</td>\n",
       "      <td>1</td>\n",
       "      <td>14:19</td>\n",
       "      <td>...</td>\n",
       "      <td>NaN</td>\n",
       "      <td>LAST D06</td>\n",
       "      <td>NaN</td>\n",
       "      <td>R</td>\n",
       "      <td>NaN</td>\n",
       "      <td>NaN</td>\n",
       "      <td>NaN</td>\n",
       "      <td>LWR^; SRWR; RWR^</td>\n",
       "      <td>17.0</td>\n",
       "      <td>0</td>\n",
       "    </tr>\n",
       "    <tr>\n",
       "      <th>4</th>\n",
       "      <td>3401253</td>\n",
       "      <td>16800</td>\n",
       "      <td>1/13/20</td>\n",
       "      <td>2019</td>\n",
       "      <td>FC</td>\n",
       "      <td>76953</td>\n",
       "      <td>0</td>\n",
       "      <td>1</td>\n",
       "      <td>1</td>\n",
       "      <td>13:58</td>\n",
       "      <td>...</td>\n",
       "      <td>NaN</td>\n",
       "      <td>LAST D05</td>\n",
       "      <td>NaN</td>\n",
       "      <td>R</td>\n",
       "      <td>NaN</td>\n",
       "      <td>NaN</td>\n",
       "      <td>NaN</td>\n",
       "      <td>SRiWR; SRoWR^; RWR</td>\n",
       "      <td>25.0</td>\n",
       "      <td>1</td>\n",
       "    </tr>\n",
       "  </tbody>\n",
       "</table>\n",
       "<p>5 rows × 177 columns</p>\n",
       "</div>"
      ],
      "text/plain": [
       "   pff_PLAYID  pff_GAMEID pff_GAMEDATE  pff_GAMESEASON pff_WEEK  \\\n",
       "0     3401248       16800      1/13/20            2019       FC   \n",
       "1     3401250       16800      1/13/20            2019       FC   \n",
       "2     3401251       16800      1/13/20            2019       FC   \n",
       "3     3401252       16800      1/13/20            2019       FC   \n",
       "4     3401253       16800      1/13/20            2019       FC   \n",
       "\n",
       "   pff_GSISGAMEKEY  pff_GSISPLAYID  pff_QUARTER  pff_DOWN pff_CLOCK  ...  \\\n",
       "0            76953               0            1         0     15:00  ...   \n",
       "1            76953               0            1         1     15:00  ...   \n",
       "2            76953               0            1         2     14:35  ...   \n",
       "3            76953               0            1         1     14:19  ...   \n",
       "4            76953               0            1         1     13:58  ...   \n",
       "\n",
       "   pff_STSAFETIES  pff_TACKLE  pff_TACKLEASSIST  pff_TEALIGNMENT  \\\n",
       "0             NaN         NaN               NaN              NaN   \n",
       "1             NaN    LAST D18               NaN                R   \n",
       "2             NaN    LAST D01               NaN              NaN   \n",
       "3             NaN    LAST D06               NaN                R   \n",
       "4             NaN    LAST D05               NaN                R   \n",
       "\n",
       "   pff_TOUCHDOWN  pff_UNBLOCKEDPRESSURE  pff_VISE           pff_WRALIGNMENT  \\\n",
       "0            NaN                    NaN       NaN                       NaN   \n",
       "1            NaN                    NaN       NaN        LWR; SLoWR^; SLiWR   \n",
       "2            NaN                    NaN       NaN  LWR^; SRiWR; SRoWR; RWR^   \n",
       "3            NaN                    NaN       NaN          LWR^; SRWR; RWR^   \n",
       "4            NaN                    NaN       NaN        SRiWR; SRoWR^; RWR   \n",
       "\n",
       "   pff_PLAYCLOCK  pff_RUNPASSOPTION  \n",
       "0            NaN                  0  \n",
       "1            3.0                  0  \n",
       "2           23.0                  0  \n",
       "3           17.0                  0  \n",
       "4           25.0                  1  \n",
       "\n",
       "[5 rows x 177 columns]"
      ]
     },
     "execution_count": 5,
     "metadata": {},
     "output_type": "execute_result"
    }
   ],
   "source": [
    "DATA.head()"
   ]
  },
  {
   "cell_type": "code",
   "execution_count": 6,
   "metadata": {},
   "outputs": [
    {
     "data": {
      "text/html": [
       "<div>\n",
       "<style scoped>\n",
       "    .dataframe tbody tr th:only-of-type {\n",
       "        vertical-align: middle;\n",
       "    }\n",
       "\n",
       "    .dataframe tbody tr th {\n",
       "        vertical-align: top;\n",
       "    }\n",
       "\n",
       "    .dataframe thead th {\n",
       "        text-align: right;\n",
       "    }\n",
       "</style>\n",
       "<table border=\"1\" class=\"dataframe\">\n",
       "  <thead>\n",
       "    <tr style=\"text-align: right;\">\n",
       "      <th></th>\n",
       "      <th>pff_PLAYID</th>\n",
       "      <th>pff_GAMEID</th>\n",
       "      <th>pff_GAMESEASON</th>\n",
       "      <th>pff_GSISGAMEKEY</th>\n",
       "      <th>pff_GSISPLAYID</th>\n",
       "      <th>pff_QUARTER</th>\n",
       "      <th>pff_DOWN</th>\n",
       "      <th>pff_BLITZDOG</th>\n",
       "      <th>pff_CATCHABLE</th>\n",
       "      <th>pff_DEEPPASS</th>\n",
       "      <th>...</th>\n",
       "      <th>pff_PASSDEPTH</th>\n",
       "      <th>pff_PASSWIDTH</th>\n",
       "      <th>pff_PLAYENDFIELDPOSITION</th>\n",
       "      <th>pff_PUMPFAKE</th>\n",
       "      <th>pff_QBMOVEDOFFSPOT</th>\n",
       "      <th>pff_QBRESET</th>\n",
       "      <th>pff_RUNCONCEPT3</th>\n",
       "      <th>pff_SCOREDIFFERENTIAL</th>\n",
       "      <th>pff_PLAYCLOCK</th>\n",
       "      <th>pff_RUNPASSOPTION</th>\n",
       "    </tr>\n",
       "  </thead>\n",
       "  <tbody>\n",
       "    <tr>\n",
       "      <th>count</th>\n",
       "      <td>1.670270e+05</td>\n",
       "      <td>167027.000000</td>\n",
       "      <td>167027.0</td>\n",
       "      <td>167027.000000</td>\n",
       "      <td>167027.000000</td>\n",
       "      <td>167027.000000</td>\n",
       "      <td>167027.000000</td>\n",
       "      <td>167027.000000</td>\n",
       "      <td>70988.000000</td>\n",
       "      <td>167027.000000</td>\n",
       "      <td>...</td>\n",
       "      <td>67106.000000</td>\n",
       "      <td>58114.000000</td>\n",
       "      <td>167027.000000</td>\n",
       "      <td>167027.000000</td>\n",
       "      <td>70988.000000</td>\n",
       "      <td>70988.000000</td>\n",
       "      <td>0.0</td>\n",
       "      <td>167027.000000</td>\n",
       "      <td>137584.000000</td>\n",
       "      <td>167027.000000</td>\n",
       "    </tr>\n",
       "    <tr>\n",
       "      <th>mean</th>\n",
       "      <td>3.187349e+06</td>\n",
       "      <td>15459.272088</td>\n",
       "      <td>2019.0</td>\n",
       "      <td>74972.614553</td>\n",
       "      <td>2011.392799</td>\n",
       "      <td>2.488831</td>\n",
       "      <td>1.789022</td>\n",
       "      <td>0.125944</td>\n",
       "      <td>0.560081</td>\n",
       "      <td>0.058320</td>\n",
       "      <td>...</td>\n",
       "      <td>8.061038</td>\n",
       "      <td>27.194910</td>\n",
       "      <td>1.464524</td>\n",
       "      <td>0.015578</td>\n",
       "      <td>0.205316</td>\n",
       "      <td>0.017989</td>\n",
       "      <td>NaN</td>\n",
       "      <td>-1.210014</td>\n",
       "      <td>12.988996</td>\n",
       "      <td>0.174451</td>\n",
       "    </tr>\n",
       "    <tr>\n",
       "      <th>std</th>\n",
       "      <td>1.211107e+05</td>\n",
       "      <td>462.439957</td>\n",
       "      <td>0.0</td>\n",
       "      <td>1267.438124</td>\n",
       "      <td>1182.639051</td>\n",
       "      <td>1.114170</td>\n",
       "      <td>1.131771</td>\n",
       "      <td>0.331787</td>\n",
       "      <td>0.496381</td>\n",
       "      <td>0.234348</td>\n",
       "      <td>...</td>\n",
       "      <td>11.000766</td>\n",
       "      <td>16.630412</td>\n",
       "      <td>30.528227</td>\n",
       "      <td>0.123838</td>\n",
       "      <td>0.403935</td>\n",
       "      <td>0.132912</td>\n",
       "      <td>NaN</td>\n",
       "      <td>16.022196</td>\n",
       "      <td>7.199358</td>\n",
       "      <td>0.379498</td>\n",
       "    </tr>\n",
       "    <tr>\n",
       "      <th>min</th>\n",
       "      <td>2.982310e+06</td>\n",
       "      <td>14901.000000</td>\n",
       "      <td>2019.0</td>\n",
       "      <td>73049.000000</td>\n",
       "      <td>0.000000</td>\n",
       "      <td>1.000000</td>\n",
       "      <td>0.000000</td>\n",
       "      <td>0.000000</td>\n",
       "      <td>0.000000</td>\n",
       "      <td>0.000000</td>\n",
       "      <td>...</td>\n",
       "      <td>-21.000000</td>\n",
       "      <td>0.000000</td>\n",
       "      <td>-49.000000</td>\n",
       "      <td>0.000000</td>\n",
       "      <td>0.000000</td>\n",
       "      <td>0.000000</td>\n",
       "      <td>NaN</td>\n",
       "      <td>-79.000000</td>\n",
       "      <td>0.000000</td>\n",
       "      <td>0.000000</td>\n",
       "    </tr>\n",
       "    <tr>\n",
       "      <th>25%</th>\n",
       "      <td>3.083844e+06</td>\n",
       "      <td>15135.000000</td>\n",
       "      <td>2019.0</td>\n",
       "      <td>73810.000000</td>\n",
       "      <td>994.000000</td>\n",
       "      <td>2.000000</td>\n",
       "      <td>1.000000</td>\n",
       "      <td>0.000000</td>\n",
       "      <td>0.000000</td>\n",
       "      <td>0.000000</td>\n",
       "      <td>...</td>\n",
       "      <td>0.000000</td>\n",
       "      <td>12.000000</td>\n",
       "      <td>-29.000000</td>\n",
       "      <td>0.000000</td>\n",
       "      <td>0.000000</td>\n",
       "      <td>0.000000</td>\n",
       "      <td>NaN</td>\n",
       "      <td>-10.000000</td>\n",
       "      <td>8.000000</td>\n",
       "      <td>0.000000</td>\n",
       "    </tr>\n",
       "    <tr>\n",
       "      <th>50%</th>\n",
       "      <td>3.186109e+06</td>\n",
       "      <td>15368.000000</td>\n",
       "      <td>2019.0</td>\n",
       "      <td>74990.000000</td>\n",
       "      <td>1995.000000</td>\n",
       "      <td>2.000000</td>\n",
       "      <td>2.000000</td>\n",
       "      <td>0.000000</td>\n",
       "      <td>1.000000</td>\n",
       "      <td>0.000000</td>\n",
       "      <td>...</td>\n",
       "      <td>5.000000</td>\n",
       "      <td>28.000000</td>\n",
       "      <td>4.000000</td>\n",
       "      <td>0.000000</td>\n",
       "      <td>0.000000</td>\n",
       "      <td>0.000000</td>\n",
       "      <td>NaN</td>\n",
       "      <td>0.000000</td>\n",
       "      <td>12.000000</td>\n",
       "      <td>0.000000</td>\n",
       "    </tr>\n",
       "    <tr>\n",
       "      <th>75%</th>\n",
       "      <td>3.286893e+06</td>\n",
       "      <td>15605.000000</td>\n",
       "      <td>2019.0</td>\n",
       "      <td>76239.000000</td>\n",
       "      <td>2991.000000</td>\n",
       "      <td>3.000000</td>\n",
       "      <td>3.000000</td>\n",
       "      <td>0.000000</td>\n",
       "      <td>1.000000</td>\n",
       "      <td>0.000000</td>\n",
       "      <td>...</td>\n",
       "      <td>13.000000</td>\n",
       "      <td>43.000000</td>\n",
       "      <td>27.000000</td>\n",
       "      <td>0.000000</td>\n",
       "      <td>0.000000</td>\n",
       "      <td>0.000000</td>\n",
       "      <td>NaN</td>\n",
       "      <td>7.000000</td>\n",
       "      <td>18.000000</td>\n",
       "      <td>0.000000</td>\n",
       "    </tr>\n",
       "    <tr>\n",
       "      <th>max</th>\n",
       "      <td>3.402800e+06</td>\n",
       "      <td>16800.000000</td>\n",
       "      <td>2019.0</td>\n",
       "      <td>76953.000000</td>\n",
       "      <td>5246.000000</td>\n",
       "      <td>5.000000</td>\n",
       "      <td>4.000000</td>\n",
       "      <td>1.000000</td>\n",
       "      <td>1.000000</td>\n",
       "      <td>1.000000</td>\n",
       "      <td>...</td>\n",
       "      <td>59.000000</td>\n",
       "      <td>53.000000</td>\n",
       "      <td>50.000000</td>\n",
       "      <td>1.000000</td>\n",
       "      <td>1.000000</td>\n",
       "      <td>1.000000</td>\n",
       "      <td>NaN</td>\n",
       "      <td>79.000000</td>\n",
       "      <td>40.000000</td>\n",
       "      <td>1.000000</td>\n",
       "    </tr>\n",
       "  </tbody>\n",
       "</table>\n",
       "<p>8 rows × 60 columns</p>\n",
       "</div>"
      ],
      "text/plain": [
       "         pff_PLAYID     pff_GAMEID  pff_GAMESEASON  pff_GSISGAMEKEY  \\\n",
       "count  1.670270e+05  167027.000000        167027.0    167027.000000   \n",
       "mean   3.187349e+06   15459.272088          2019.0     74972.614553   \n",
       "std    1.211107e+05     462.439957             0.0      1267.438124   \n",
       "min    2.982310e+06   14901.000000          2019.0     73049.000000   \n",
       "25%    3.083844e+06   15135.000000          2019.0     73810.000000   \n",
       "50%    3.186109e+06   15368.000000          2019.0     74990.000000   \n",
       "75%    3.286893e+06   15605.000000          2019.0     76239.000000   \n",
       "max    3.402800e+06   16800.000000          2019.0     76953.000000   \n",
       "\n",
       "       pff_GSISPLAYID    pff_QUARTER       pff_DOWN   pff_BLITZDOG  \\\n",
       "count   167027.000000  167027.000000  167027.000000  167027.000000   \n",
       "mean      2011.392799       2.488831       1.789022       0.125944   \n",
       "std       1182.639051       1.114170       1.131771       0.331787   \n",
       "min          0.000000       1.000000       0.000000       0.000000   \n",
       "25%        994.000000       2.000000       1.000000       0.000000   \n",
       "50%       1995.000000       2.000000       2.000000       0.000000   \n",
       "75%       2991.000000       3.000000       3.000000       0.000000   \n",
       "max       5246.000000       5.000000       4.000000       1.000000   \n",
       "\n",
       "       pff_CATCHABLE   pff_DEEPPASS  ...  pff_PASSDEPTH  pff_PASSWIDTH  \\\n",
       "count   70988.000000  167027.000000  ...   67106.000000   58114.000000   \n",
       "mean        0.560081       0.058320  ...       8.061038      27.194910   \n",
       "std         0.496381       0.234348  ...      11.000766      16.630412   \n",
       "min         0.000000       0.000000  ...     -21.000000       0.000000   \n",
       "25%         0.000000       0.000000  ...       0.000000      12.000000   \n",
       "50%         1.000000       0.000000  ...       5.000000      28.000000   \n",
       "75%         1.000000       0.000000  ...      13.000000      43.000000   \n",
       "max         1.000000       1.000000  ...      59.000000      53.000000   \n",
       "\n",
       "       pff_PLAYENDFIELDPOSITION   pff_PUMPFAKE  pff_QBMOVEDOFFSPOT  \\\n",
       "count             167027.000000  167027.000000        70988.000000   \n",
       "mean                   1.464524       0.015578            0.205316   \n",
       "std                   30.528227       0.123838            0.403935   \n",
       "min                  -49.000000       0.000000            0.000000   \n",
       "25%                  -29.000000       0.000000            0.000000   \n",
       "50%                    4.000000       0.000000            0.000000   \n",
       "75%                   27.000000       0.000000            0.000000   \n",
       "max                   50.000000       1.000000            1.000000   \n",
       "\n",
       "        pff_QBRESET  pff_RUNCONCEPT3  pff_SCOREDIFFERENTIAL  pff_PLAYCLOCK  \\\n",
       "count  70988.000000              0.0          167027.000000  137584.000000   \n",
       "mean       0.017989              NaN              -1.210014      12.988996   \n",
       "std        0.132912              NaN              16.022196       7.199358   \n",
       "min        0.000000              NaN             -79.000000       0.000000   \n",
       "25%        0.000000              NaN             -10.000000       8.000000   \n",
       "50%        0.000000              NaN               0.000000      12.000000   \n",
       "75%        0.000000              NaN               7.000000      18.000000   \n",
       "max        1.000000              NaN              79.000000      40.000000   \n",
       "\n",
       "       pff_RUNPASSOPTION  \n",
       "count      167027.000000  \n",
       "mean            0.174451  \n",
       "std             0.379498  \n",
       "min             0.000000  \n",
       "25%             0.000000  \n",
       "50%             0.000000  \n",
       "75%             0.000000  \n",
       "max             1.000000  \n",
       "\n",
       "[8 rows x 60 columns]"
      ]
     },
     "execution_count": 6,
     "metadata": {},
     "output_type": "execute_result"
    }
   ],
   "source": [
    "DATA.describe()"
   ]
  },
  {
   "cell_type": "code",
   "execution_count": 7,
   "metadata": {},
   "outputs": [
    {
     "name": "stdout",
     "output_type": "stream",
     "text": [
      "<class 'pandas.core.frame.DataFrame'>\n",
      "RangeIndex: 167027 entries, 0 to 167026\n",
      "Columns: 177 entries, pff_PLAYID to pff_RUNPASSOPTION\n",
      "dtypes: float64(29), int64(31), object(117)\n",
      "memory usage: 225.6+ MB\n"
     ]
    }
   ],
   "source": [
    "DATA.info()"
   ]
  },
  {
   "cell_type": "code",
   "execution_count": 8,
   "metadata": {},
   "outputs": [],
   "source": [
    "d = DATA.copy()"
   ]
  },
  {
   "cell_type": "markdown",
   "metadata": {},
   "source": [
    "### 2.0 Transform Data"
   ]
  },
  {
   "cell_type": "markdown",
   "metadata": {},
   "source": [
    "#### 2.1 Remove Garbage Time"
   ]
  },
  {
   "cell_type": "code",
   "execution_count": 9,
   "metadata": {},
   "outputs": [],
   "source": [
    "d = d.loc[d['pff_GARBAGETIME'] == 0]"
   ]
  },
  {
   "cell_type": "code",
   "execution_count": 10,
   "metadata": {},
   "outputs": [],
   "source": [
    "d = d.loc[(d['pff_QUARTER'] == 1) | (d['pff_QUARTER'] == 3)]"
   ]
  },
  {
   "cell_type": "code",
   "execution_count": 11,
   "metadata": {},
   "outputs": [],
   "source": [
    "d = d.reset_index(drop=True)"
   ]
  },
  {
   "cell_type": "code",
   "execution_count": 12,
   "metadata": {},
   "outputs": [
    {
     "data": {
      "text/plain": [
       "(79912, 177)"
      ]
     },
     "execution_count": 12,
     "metadata": {},
     "output_type": "execute_result"
    }
   ],
   "source": [
    "d.shape"
   ]
  },
  {
   "cell_type": "markdown",
   "metadata": {},
   "source": [
    "#### 2.2 Split Score to Home/Away"
   ]
  },
  {
   "cell_type": "code",
   "execution_count": 13,
   "metadata": {},
   "outputs": [],
   "source": [
    "def split_score(row):\n",
    "    \"\"\"\n",
    "    \n",
    "    \"\"\"\n",
    "    score = row['pff_SCORE']\n",
    "    \n",
    "    if '.' in score:\n",
    "        h, a = score.split('.')\n",
    "        if len(a) == 1:\n",
    "            a = int(a)\n",
    "            a *= 10\n",
    "    else:\n",
    "        h = score\n",
    "        a = 0\n",
    "    \n",
    "    return int(h), int(a)"
   ]
  },
  {
   "cell_type": "code",
   "execution_count": 14,
   "metadata": {},
   "outputs": [
    {
     "name": "stdout",
     "output_type": "stream",
     "text": [
      "CPU times: user 20.9 s, sys: 331 ms, total: 21.3 s\n",
      "Wall time: 23.5 s\n"
     ]
    }
   ],
   "source": [
    "%%time\n",
    "\n",
    "d['pff_SCORE'] = d['pff_SCORE'].astype(str)\n",
    "s = pd.DataFrame(d['pff_SCORE'])\n",
    "scores = s.apply(\n",
    "    lambda r: split_score(r),\n",
    "    axis=1,\n",
    "    result_type='expand'\n",
    ")"
   ]
  },
  {
   "cell_type": "code",
   "execution_count": 15,
   "metadata": {},
   "outputs": [],
   "source": [
    "scores.columns = ['homeScore', 'awayScore']"
   ]
  },
  {
   "cell_type": "code",
   "execution_count": 16,
   "metadata": {},
   "outputs": [],
   "source": [
    "d['homeScore'], d['awayScore'] = scores['homeScore'], scores['awayScore']"
   ]
  },
  {
   "cell_type": "markdown",
   "metadata": {},
   "source": [
    "#### 2.3 Cast Datetime Variables"
   ]
  },
  {
   "cell_type": "code",
   "execution_count": 17,
   "metadata": {},
   "outputs": [],
   "source": [
    "d['pff_GAMEDATE'] = pd.to_datetime(d['pff_GAMEDATE'])"
   ]
  },
  {
   "cell_type": "code",
   "execution_count": 18,
   "metadata": {},
   "outputs": [],
   "source": [
    "d['pff_CLOCK'] = pd.to_datetime(d['pff_CLOCK']).dt.time"
   ]
  },
  {
   "cell_type": "code",
   "execution_count": 19,
   "metadata": {},
   "outputs": [
    {
     "data": {
      "text/plain": [
       "(79912, 179)"
      ]
     },
     "execution_count": 19,
     "metadata": {},
     "output_type": "execute_result"
    }
   ],
   "source": [
    "d.shape"
   ]
  },
  {
   "cell_type": "markdown",
   "metadata": {},
   "source": [
    "### 3.0 Expected Points Added Model"
   ]
  },
  {
   "cell_type": "code",
   "execution_count": 233,
   "metadata": {},
   "outputs": [],
   "source": [
    "points = list()\n",
    "MAX = max(d['pff_DISTANCE'])\n",
    "SEED = 42\n",
    "\n",
    "YTG_DEV = {\n",
    "    'long': 4,\n",
    "    'medium': 3,\n",
    "    'short': 2,\n",
    "    'inches': 1\n",
    "}\n",
    "YTG_MIN = {\n",
    "    'long': 10,\n",
    "    'medium': 6,\n",
    "    'short': 3,\n",
    "    'inches': 1\n",
    "}\n",
    "POSITION_DEV = 5 # yards"
   ]
  },
  {
   "cell_type": "code",
   "execution_count": 238,
   "metadata": {},
   "outputs": [],
   "source": [
    "def EPA(down, ytg, position, own):\n",
    "    \"\"\"\n",
    "    \n",
    "    \"\"\"\n",
    "    global points\n",
    "    \n",
    "    ytg_dev = 4 if ytg in range(10, MAX) else \\\n",
    "              3 if ytg in range(6, 10) else \\\n",
    "              2 if ytg in range(3, 6) else \\\n",
    "              1\n",
    "                \n",
    "    SIMULATIONS = 1000\n",
    "    for i in range(SIMULATIONS):\n",
    "        point = run_play(down, ytg, position, own)\n",
    "        points.append(point)\n",
    "    \n",
    "    return np.array(points).mean()"
   ]
  },
  {
   "cell_type": "code",
   "execution_count": 239,
   "metadata": {},
   "outputs": [],
   "source": [
    "def run_play(down, ytg, position, own):\n",
    "    dist_ = 'long' if ytg in range(10, MAX) else \\\n",
    "            'medium' if ytg in range(6, 10) else \\\n",
    "            'short' if ytg in range(3, 6) else \\\n",
    "            'inches'\n",
    "    ytg_dev = YTG_DEV[dist_]\n",
    "    ytg_min = YTG_MIN[dist_]\n",
    "    \n",
    "    position *= -1 if own else 1\n",
    "    fp_right = position - POSITION_DEV\n",
    "    fp_left = position + POSITION_DEV\n",
    "    \n",
    "    # Off the field left\n",
    "    if fp_left > 0 and fp_right < 0:\n",
    "        fp_left = -1\n",
    "    # Redzone -- shrink deviation to 3 yards\n",
    "    elif 0 < position < 20:\n",
    "        fp_right += 2\n",
    "        fp_left -= 2\n",
    "    \n",
    "    samples = d.loc[\n",
    "        (d['pff_DOWN'] == down) &\n",
    "        (d['pff_DISTANCE'] >= max(ytg_min, ytg - ytg_dev)) &\n",
    "        (d['pff_DISTANCE'] <= ytg + ytg_dev) &\n",
    "        (d['pff_FIELDPOSITION'] >= fp_right) &\n",
    "        (d['pff_FIELDPOSITION'] <= fp_left)\n",
    "    ]\n",
    "    if len(samples) == 0:\n",
    "        return None\n",
    "    else:\n",
    "        sample = samples.sample(n=1, random_state=SEED)\n",
    "        \n",
    "        # Define conditions for a TD, FG\n",
    "        if True:\n",
    "            score = True\n",
    "            scored = 6\n",
    "            \n",
    "            xps = d.loc[\n",
    "                (d['pff_DOWN'] == 0) &\n",
    "                (d['pff_DISTANCE'] == 0) &\n",
    "                (d['pff_FIELDPOSITION'] == 0)\n",
    "            ]\n",
    "            xp = xps.sample(n=1, random_state=SEED)\n",
    "            result = xp['pff_KICKRESULT']\n",
    "            scored += 1 if 'MADE' in result else 0\n",
    "        elif True:\n",
    "            score = True\n",
    "            scored = 3\n",
    "        else:\n",
    "            score = False\n",
    "    \n",
    "    if score:\n",
    "        return scored\n",
    "    else:\n",
    "        return run_play(d, y, p)"
   ]
  },
  {
   "cell_type": "code",
   "execution_count": null,
   "metadata": {},
   "outputs": [],
   "source": [
    "down = int(input('Down: ').strip())\n",
    "ytg = int(input('Yards to Go: ').strip())\n",
    "position = int(input('Field Position: ').strip())\n",
    "own = input('Possession (home/away): ').strip()\n",
    "own = True if own == 'home' else False"
   ]
  },
  {
   "cell_type": "code",
   "execution_count": null,
   "metadata": {},
   "outputs": [],
   "source": [
    "STATE = {\n",
    "    'down': down,\n",
    "    'ytg': ytg,\n",
    "    'position': position,\n",
    "    'own': own\n",
    "}"
   ]
  },
  {
   "cell_type": "code",
   "execution_count": null,
   "metadata": {},
   "outputs": [],
   "source": [
    "epa = EPA(**STATE)"
   ]
  },
  {
   "cell_type": "code",
   "execution_count": null,
   "metadata": {},
   "outputs": [],
   "source": [
    "print('''\n",
    "    Expected Points Model:\n",
    "    S (Down: {}, YTG: {}, Position: {}) == {} EP\n",
    "'''.format(\n",
    "    STATE['down'],\n",
    "    STATE['ytg'],\n",
    "    ('Own ' if STATE['own'] else '') + str(STATE['position']),\n",
    "    epa\n",
    "))"
   ]
  }
 ],
 "metadata": {
  "kernelspec": {
   "display_name": "Python 3",
   "language": "python",
   "name": "python3"
  },
  "language_info": {
   "codemirror_mode": {
    "name": "ipython",
    "version": 3
   },
   "file_extension": ".py",
   "mimetype": "text/x-python",
   "name": "python",
   "nbconvert_exporter": "python",
   "pygments_lexer": "ipython3",
   "version": "3.6.4"
  }
 },
 "nbformat": 4,
 "nbformat_minor": 1
}
