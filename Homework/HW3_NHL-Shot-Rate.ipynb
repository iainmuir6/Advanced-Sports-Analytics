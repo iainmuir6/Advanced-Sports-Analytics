{
 "cells": [
  {
   "cell_type": "markdown",
   "metadata": {},
   "source": [
    "# Homework 3\n",
    "### NHL Play-by-Play\n",
    "\n",
    "Iain Muir  \n",
    "Hriday Singh  \n",
    "Connor Smith"
   ]
  },
  {
   "cell_type": "markdown",
   "metadata": {},
   "source": [
    "#### Import Libraries"
   ]
  },
  {
   "cell_type": "code",
   "execution_count": 231,
   "metadata": {},
   "outputs": [],
   "source": [
    "import matplotlib.pyplot as plt\n",
    "import pandas as pd"
   ]
  },
  {
   "cell_type": "code",
   "execution_count": null,
   "metadata": {},
   "outputs": [],
   "source": [
    "from constants import LOCAL_ROOT"
   ]
  },
  {
   "cell_type": "code",
   "execution_count": 232,
   "metadata": {},
   "outputs": [],
   "source": [
    "# Silence SettingWithCopyWarning\n",
    "pd.set_option('mode.chained_assignment', None)"
   ]
  },
  {
   "cell_type": "markdown",
   "metadata": {},
   "source": [
    "#### Load Data"
   ]
  },
  {
   "cell_type": "code",
   "execution_count": 233,
   "metadata": {},
   "outputs": [],
   "source": [
    "DATA = pd.read_csv(\n",
    "    LOCAL_ROOT + 'Homework/HW 3/nhl_pbp20162017.csv'\n",
    ")"
   ]
  },
  {
   "cell_type": "code",
   "execution_count": 234,
   "metadata": {},
   "outputs": [
    {
     "data": {
      "text/plain": [
       "(413497, 57)"
      ]
     },
     "execution_count": 234,
     "metadata": {},
     "output_type": "execute_result"
    }
   ],
   "source": [
    "DATA.shape"
   ]
  },
  {
   "cell_type": "code",
   "execution_count": 266,
   "metadata": {},
   "outputs": [
    {
     "data": {
      "text/plain": [
       "Index(['Unnamed: 0', 'Game_Id', 'Date', 'Period', 'Event', 'Description',\n",
       "       'Time_Elapsed', 'Seconds_Elapsed', 'Strength', 'Ev_Zone', 'Type',\n",
       "       'Ev_Team', 'Home_Zone', 'Away_Team', 'Home_Team', 'p1_name', 'p1_ID',\n",
       "       'p2_name', 'p2_ID', 'p3_name', 'p3_ID', 'awayPlayer1', 'awayPlayer1_id',\n",
       "       'awayPlayer2', 'awayPlayer2_id', 'awayPlayer3', 'awayPlayer3_id',\n",
       "       'awayPlayer4', 'awayPlayer4_id', 'awayPlayer5', 'awayPlayer5_id',\n",
       "       'awayPlayer6', 'awayPlayer6_id', 'homePlayer1', 'homePlayer1_id',\n",
       "       'homePlayer2', 'homePlayer2_id', 'homePlayer3', 'homePlayer3_id',\n",
       "       'homePlayer4', 'homePlayer4_id', 'homePlayer5', 'homePlayer5_id',\n",
       "       'homePlayer6', 'homePlayer6_id', 'Away_Players', 'Home_Players',\n",
       "       'Away_Score', 'Home_Score', 'Away_Goalie', 'Away_Goalie_Id',\n",
       "       'Home_Goalie', 'Home_Goalie_Id', 'xC', 'yC', 'Home_Coach',\n",
       "       'Away_Coach'],\n",
       "      dtype='object')"
      ]
     },
     "execution_count": 266,
     "metadata": {},
     "output_type": "execute_result"
    }
   ],
   "source": [
    "DATA.columns"
   ]
  },
  {
   "cell_type": "code",
   "execution_count": 236,
   "metadata": {},
   "outputs": [
    {
     "data": {
      "text/html": [
       "<div>\n",
       "<style scoped>\n",
       "    .dataframe tbody tr th:only-of-type {\n",
       "        vertical-align: middle;\n",
       "    }\n",
       "\n",
       "    .dataframe tbody tr th {\n",
       "        vertical-align: top;\n",
       "    }\n",
       "\n",
       "    .dataframe thead th {\n",
       "        text-align: right;\n",
       "    }\n",
       "</style>\n",
       "<table border=\"1\" class=\"dataframe\">\n",
       "  <thead>\n",
       "    <tr style=\"text-align: right;\">\n",
       "      <th></th>\n",
       "      <th>Unnamed: 0</th>\n",
       "      <th>Game_Id</th>\n",
       "      <th>Date</th>\n",
       "      <th>Period</th>\n",
       "      <th>Event</th>\n",
       "      <th>Description</th>\n",
       "      <th>Time_Elapsed</th>\n",
       "      <th>Seconds_Elapsed</th>\n",
       "      <th>Strength</th>\n",
       "      <th>Ev_Zone</th>\n",
       "      <th>...</th>\n",
       "      <th>Away_Score</th>\n",
       "      <th>Home_Score</th>\n",
       "      <th>Away_Goalie</th>\n",
       "      <th>Away_Goalie_Id</th>\n",
       "      <th>Home_Goalie</th>\n",
       "      <th>Home_Goalie_Id</th>\n",
       "      <th>xC</th>\n",
       "      <th>yC</th>\n",
       "      <th>Home_Coach</th>\n",
       "      <th>Away_Coach</th>\n",
       "    </tr>\n",
       "  </thead>\n",
       "  <tbody>\n",
       "    <tr>\n",
       "      <th>0</th>\n",
       "      <td>0</td>\n",
       "      <td>20001</td>\n",
       "      <td>2016-10-12</td>\n",
       "      <td>1</td>\n",
       "      <td>PSTR</td>\n",
       "      <td>Period Start- Local time: 7:18 EDT</td>\n",
       "      <td>0:00</td>\n",
       "      <td>0.0</td>\n",
       "      <td>5x5</td>\n",
       "      <td>NaN</td>\n",
       "      <td>...</td>\n",
       "      <td>0</td>\n",
       "      <td>0</td>\n",
       "      <td>FREDERIK ANDERSEN</td>\n",
       "      <td>8475883.0</td>\n",
       "      <td>CRAIG ANDERSON</td>\n",
       "      <td>8467950.0</td>\n",
       "      <td>NaN</td>\n",
       "      <td>NaN</td>\n",
       "      <td>GUY BOUCHER</td>\n",
       "      <td>MIKE BABCOCK</td>\n",
       "    </tr>\n",
       "    <tr>\n",
       "      <th>1</th>\n",
       "      <td>1</td>\n",
       "      <td>20001</td>\n",
       "      <td>2016-10-12</td>\n",
       "      <td>1</td>\n",
       "      <td>FAC</td>\n",
       "      <td>TOR won Neu. Zone - TOR #43 KADRI vs OTT #19 B...</td>\n",
       "      <td>0:00</td>\n",
       "      <td>0.0</td>\n",
       "      <td>5x5</td>\n",
       "      <td>Neu</td>\n",
       "      <td>...</td>\n",
       "      <td>0</td>\n",
       "      <td>0</td>\n",
       "      <td>FREDERIK ANDERSEN</td>\n",
       "      <td>8475883.0</td>\n",
       "      <td>CRAIG ANDERSON</td>\n",
       "      <td>8467950.0</td>\n",
       "      <td>0.0</td>\n",
       "      <td>0.0</td>\n",
       "      <td>GUY BOUCHER</td>\n",
       "      <td>MIKE BABCOCK</td>\n",
       "    </tr>\n",
       "    <tr>\n",
       "      <th>2</th>\n",
       "      <td>2</td>\n",
       "      <td>20001</td>\n",
       "      <td>2016-10-12</td>\n",
       "      <td>1</td>\n",
       "      <td>STOP</td>\n",
       "      <td>ICING</td>\n",
       "      <td>0:05</td>\n",
       "      <td>5.0</td>\n",
       "      <td>5x5</td>\n",
       "      <td>NaN</td>\n",
       "      <td>...</td>\n",
       "      <td>0</td>\n",
       "      <td>0</td>\n",
       "      <td>FREDERIK ANDERSEN</td>\n",
       "      <td>8475883.0</td>\n",
       "      <td>CRAIG ANDERSON</td>\n",
       "      <td>8467950.0</td>\n",
       "      <td>NaN</td>\n",
       "      <td>NaN</td>\n",
       "      <td>GUY BOUCHER</td>\n",
       "      <td>MIKE BABCOCK</td>\n",
       "    </tr>\n",
       "    <tr>\n",
       "      <th>3</th>\n",
       "      <td>3</td>\n",
       "      <td>20001</td>\n",
       "      <td>2016-10-12</td>\n",
       "      <td>1</td>\n",
       "      <td>FAC</td>\n",
       "      <td>TOR won Def. Zone - TOR #43 KADRI vs OTT #19 B...</td>\n",
       "      <td>0:05</td>\n",
       "      <td>5.0</td>\n",
       "      <td>5x5</td>\n",
       "      <td>Def</td>\n",
       "      <td>...</td>\n",
       "      <td>0</td>\n",
       "      <td>0</td>\n",
       "      <td>FREDERIK ANDERSEN</td>\n",
       "      <td>8475883.0</td>\n",
       "      <td>CRAIG ANDERSON</td>\n",
       "      <td>8467950.0</td>\n",
       "      <td>69.0</td>\n",
       "      <td>22.0</td>\n",
       "      <td>GUY BOUCHER</td>\n",
       "      <td>MIKE BABCOCK</td>\n",
       "    </tr>\n",
       "    <tr>\n",
       "      <th>4</th>\n",
       "      <td>4</td>\n",
       "      <td>20001</td>\n",
       "      <td>2016-10-12</td>\n",
       "      <td>1</td>\n",
       "      <td>TAKE</td>\n",
       "      <td>TOR TAKEAWAY - #16 MARNER, Off. Zone</td>\n",
       "      <td>0:43</td>\n",
       "      <td>43.0</td>\n",
       "      <td>5x5</td>\n",
       "      <td>Off</td>\n",
       "      <td>...</td>\n",
       "      <td>0</td>\n",
       "      <td>0</td>\n",
       "      <td>FREDERIK ANDERSEN</td>\n",
       "      <td>8475883.0</td>\n",
       "      <td>CRAIG ANDERSON</td>\n",
       "      <td>8467950.0</td>\n",
       "      <td>-81.0</td>\n",
       "      <td>38.0</td>\n",
       "      <td>GUY BOUCHER</td>\n",
       "      <td>MIKE BABCOCK</td>\n",
       "    </tr>\n",
       "  </tbody>\n",
       "</table>\n",
       "<p>5 rows × 57 columns</p>\n",
       "</div>"
      ],
      "text/plain": [
       "   Unnamed: 0  Game_Id        Date  Period Event  \\\n",
       "0           0    20001  2016-10-12       1  PSTR   \n",
       "1           1    20001  2016-10-12       1   FAC   \n",
       "2           2    20001  2016-10-12       1  STOP   \n",
       "3           3    20001  2016-10-12       1   FAC   \n",
       "4           4    20001  2016-10-12       1  TAKE   \n",
       "\n",
       "                                         Description Time_Elapsed  \\\n",
       "0                 Period Start- Local time: 7:18 EDT         0:00   \n",
       "1  TOR won Neu. Zone - TOR #43 KADRI vs OTT #19 B...         0:00   \n",
       "2                                              ICING         0:05   \n",
       "3  TOR won Def. Zone - TOR #43 KADRI vs OTT #19 B...         0:05   \n",
       "4               TOR TAKEAWAY - #16 MARNER, Off. Zone         0:43   \n",
       "\n",
       "   Seconds_Elapsed Strength Ev_Zone  ... Away_Score Home_Score  \\\n",
       "0              0.0      5x5     NaN  ...          0          0   \n",
       "1              0.0      5x5     Neu  ...          0          0   \n",
       "2              5.0      5x5     NaN  ...          0          0   \n",
       "3              5.0      5x5     Def  ...          0          0   \n",
       "4             43.0      5x5     Off  ...          0          0   \n",
       "\n",
       "         Away_Goalie Away_Goalie_Id     Home_Goalie Home_Goalie_Id    xC  \\\n",
       "0  FREDERIK ANDERSEN      8475883.0  CRAIG ANDERSON      8467950.0   NaN   \n",
       "1  FREDERIK ANDERSEN      8475883.0  CRAIG ANDERSON      8467950.0   0.0   \n",
       "2  FREDERIK ANDERSEN      8475883.0  CRAIG ANDERSON      8467950.0   NaN   \n",
       "3  FREDERIK ANDERSEN      8475883.0  CRAIG ANDERSON      8467950.0  69.0   \n",
       "4  FREDERIK ANDERSEN      8475883.0  CRAIG ANDERSON      8467950.0 -81.0   \n",
       "\n",
       "     yC   Home_Coach    Away_Coach  \n",
       "0   NaN  GUY BOUCHER  MIKE BABCOCK  \n",
       "1   0.0  GUY BOUCHER  MIKE BABCOCK  \n",
       "2   NaN  GUY BOUCHER  MIKE BABCOCK  \n",
       "3  22.0  GUY BOUCHER  MIKE BABCOCK  \n",
       "4  38.0  GUY BOUCHER  MIKE BABCOCK  \n",
       "\n",
       "[5 rows x 57 columns]"
      ]
     },
     "execution_count": 236,
     "metadata": {},
     "output_type": "execute_result"
    }
   ],
   "source": [
    "DATA.head()"
   ]
  },
  {
   "cell_type": "code",
   "execution_count": 237,
   "metadata": {},
   "outputs": [],
   "source": [
    "# Eliminate Irrelevant Features\n",
    "df = DATA[\n",
    "   ['Game_Id', 'Date', 'Period', 'Event', 'Description', \n",
    "    'Seconds_Elapsed', 'Strength', 'Ev_Zone', 'Type', 'Ev_Team',\n",
    "    'Home_Zone', 'Away_Team', 'Home_Team', 'Away_Players',\n",
    "    'Home_Players', 'Away_Score', 'Home_Score', 'xC', 'yC'] \n",
    "]"
   ]
  },
  {
   "cell_type": "code",
   "execution_count": 238,
   "metadata": {},
   "outputs": [
    {
     "data": {
      "text/plain": [
       "(413497, 19)"
      ]
     },
     "execution_count": 238,
     "metadata": {},
     "output_type": "execute_result"
    }
   ],
   "source": [
    "df.shape"
   ]
  },
  {
   "cell_type": "code",
   "execution_count": 239,
   "metadata": {},
   "outputs": [],
   "source": [
    "# Filter for Regular time (not OT) and for all SHOTs\n",
    "shots = df.loc[\n",
    "    (df['Period'].isin([1, 2, 3])) & (df['Event'] == 'SHOT')\n",
    "]"
   ]
  },
  {
   "cell_type": "code",
   "execution_count": 240,
   "metadata": {},
   "outputs": [
    {
     "data": {
      "text/plain": [
       "(71337, 19)"
      ]
     },
     "execution_count": 240,
     "metadata": {},
     "output_type": "execute_result"
    }
   ],
   "source": [
    "shots.shape"
   ]
  },
  {
   "cell_type": "code",
   "execution_count": 241,
   "metadata": {
    "scrolled": false
   },
   "outputs": [
    {
     "data": {
      "text/html": [
       "<div>\n",
       "<style scoped>\n",
       "    .dataframe tbody tr th:only-of-type {\n",
       "        vertical-align: middle;\n",
       "    }\n",
       "\n",
       "    .dataframe tbody tr th {\n",
       "        vertical-align: top;\n",
       "    }\n",
       "\n",
       "    .dataframe thead th {\n",
       "        text-align: right;\n",
       "    }\n",
       "</style>\n",
       "<table border=\"1\" class=\"dataframe\">\n",
       "  <thead>\n",
       "    <tr style=\"text-align: right;\">\n",
       "      <th></th>\n",
       "      <th>Game_Id</th>\n",
       "      <th>Date</th>\n",
       "      <th>Period</th>\n",
       "      <th>Event</th>\n",
       "      <th>Description</th>\n",
       "      <th>Seconds_Elapsed</th>\n",
       "      <th>Strength</th>\n",
       "      <th>Ev_Zone</th>\n",
       "      <th>Type</th>\n",
       "      <th>Ev_Team</th>\n",
       "      <th>Home_Zone</th>\n",
       "      <th>Away_Team</th>\n",
       "      <th>Home_Team</th>\n",
       "      <th>Away_Players</th>\n",
       "      <th>Home_Players</th>\n",
       "      <th>Away_Score</th>\n",
       "      <th>Home_Score</th>\n",
       "      <th>xC</th>\n",
       "      <th>yC</th>\n",
       "    </tr>\n",
       "  </thead>\n",
       "  <tbody>\n",
       "    <tr>\n",
       "      <th>7</th>\n",
       "      <td>20001</td>\n",
       "      <td>2016-10-12</td>\n",
       "      <td>1</td>\n",
       "      <td>SHOT</td>\n",
       "      <td>TOR ONGOAL - #16 MARNER, Wrist, Off. Zone, 13 ft.</td>\n",
       "      <td>71.0</td>\n",
       "      <td>5x5</td>\n",
       "      <td>Off</td>\n",
       "      <td>WRIST SHOT</td>\n",
       "      <td>TOR</td>\n",
       "      <td>Def</td>\n",
       "      <td>TOR</td>\n",
       "      <td>OTT</td>\n",
       "      <td>6</td>\n",
       "      <td>6</td>\n",
       "      <td>0</td>\n",
       "      <td>0</td>\n",
       "      <td>-77.0</td>\n",
       "      <td>5.0</td>\n",
       "    </tr>\n",
       "    <tr>\n",
       "      <th>14</th>\n",
       "      <td>20001</td>\n",
       "      <td>2016-10-12</td>\n",
       "      <td>1</td>\n",
       "      <td>SHOT</td>\n",
       "      <td>OTT ONGOAL - #22 KELLY, Wrist, Off. Zone, 13 ft.</td>\n",
       "      <td>173.0</td>\n",
       "      <td>5x5</td>\n",
       "      <td>Off</td>\n",
       "      <td>WRIST SHOT</td>\n",
       "      <td>OTT</td>\n",
       "      <td>Off</td>\n",
       "      <td>TOR</td>\n",
       "      <td>OTT</td>\n",
       "      <td>6</td>\n",
       "      <td>6</td>\n",
       "      <td>0</td>\n",
       "      <td>0</td>\n",
       "      <td>86.0</td>\n",
       "      <td>13.0</td>\n",
       "    </tr>\n",
       "    <tr>\n",
       "      <th>21</th>\n",
       "      <td>20001</td>\n",
       "      <td>2016-10-12</td>\n",
       "      <td>1</td>\n",
       "      <td>SHOT</td>\n",
       "      <td>OTT ONGOAL - #5 CECI, Wrist, Neu. Zone, 77 ft.</td>\n",
       "      <td>241.0</td>\n",
       "      <td>5x5</td>\n",
       "      <td>Neu</td>\n",
       "      <td>WRIST SHOT</td>\n",
       "      <td>OTT</td>\n",
       "      <td>Neu</td>\n",
       "      <td>TOR</td>\n",
       "      <td>OTT</td>\n",
       "      <td>6</td>\n",
       "      <td>6</td>\n",
       "      <td>0</td>\n",
       "      <td>0</td>\n",
       "      <td>23.0</td>\n",
       "      <td>-38.0</td>\n",
       "    </tr>\n",
       "    <tr>\n",
       "      <th>23</th>\n",
       "      <td>20001</td>\n",
       "      <td>2016-10-12</td>\n",
       "      <td>1</td>\n",
       "      <td>SHOT</td>\n",
       "      <td>OTT ONGOAL - #65 KARLSSON, Slap, Off. Zone, 58...</td>\n",
       "      <td>286.0</td>\n",
       "      <td>5x5</td>\n",
       "      <td>Off</td>\n",
       "      <td>SLAP SHOT</td>\n",
       "      <td>OTT</td>\n",
       "      <td>Off</td>\n",
       "      <td>TOR</td>\n",
       "      <td>OTT</td>\n",
       "      <td>6</td>\n",
       "      <td>6</td>\n",
       "      <td>0</td>\n",
       "      <td>0</td>\n",
       "      <td>33.0</td>\n",
       "      <td>-15.0</td>\n",
       "    </tr>\n",
       "    <tr>\n",
       "      <th>36</th>\n",
       "      <td>20001</td>\n",
       "      <td>2016-10-12</td>\n",
       "      <td>1</td>\n",
       "      <td>SHOT</td>\n",
       "      <td>TOR ONGOAL - #52 MARINCIN, Wrist, Off. Zone, 6...</td>\n",
       "      <td>406.0</td>\n",
       "      <td>5x5</td>\n",
       "      <td>Off</td>\n",
       "      <td>WRIST SHOT</td>\n",
       "      <td>TOR</td>\n",
       "      <td>Def</td>\n",
       "      <td>TOR</td>\n",
       "      <td>OTT</td>\n",
       "      <td>6</td>\n",
       "      <td>6</td>\n",
       "      <td>0</td>\n",
       "      <td>0</td>\n",
       "      <td>-34.0</td>\n",
       "      <td>28.0</td>\n",
       "    </tr>\n",
       "  </tbody>\n",
       "</table>\n",
       "</div>"
      ],
      "text/plain": [
       "    Game_Id        Date  Period Event  \\\n",
       "7     20001  2016-10-12       1  SHOT   \n",
       "14    20001  2016-10-12       1  SHOT   \n",
       "21    20001  2016-10-12       1  SHOT   \n",
       "23    20001  2016-10-12       1  SHOT   \n",
       "36    20001  2016-10-12       1  SHOT   \n",
       "\n",
       "                                          Description  Seconds_Elapsed  \\\n",
       "7   TOR ONGOAL - #16 MARNER, Wrist, Off. Zone, 13 ft.             71.0   \n",
       "14   OTT ONGOAL - #22 KELLY, Wrist, Off. Zone, 13 ft.            173.0   \n",
       "21     OTT ONGOAL - #5 CECI, Wrist, Neu. Zone, 77 ft.            241.0   \n",
       "23  OTT ONGOAL - #65 KARLSSON, Slap, Off. Zone, 58...            286.0   \n",
       "36  TOR ONGOAL - #52 MARINCIN, Wrist, Off. Zone, 6...            406.0   \n",
       "\n",
       "   Strength Ev_Zone        Type Ev_Team Home_Zone Away_Team Home_Team  \\\n",
       "7       5x5     Off  WRIST SHOT     TOR       Def       TOR       OTT   \n",
       "14      5x5     Off  WRIST SHOT     OTT       Off       TOR       OTT   \n",
       "21      5x5     Neu  WRIST SHOT     OTT       Neu       TOR       OTT   \n",
       "23      5x5     Off   SLAP SHOT     OTT       Off       TOR       OTT   \n",
       "36      5x5     Off  WRIST SHOT     TOR       Def       TOR       OTT   \n",
       "\n",
       "    Away_Players  Home_Players  Away_Score  Home_Score    xC    yC  \n",
       "7              6             6           0           0 -77.0   5.0  \n",
       "14             6             6           0           0  86.0  13.0  \n",
       "21             6             6           0           0  23.0 -38.0  \n",
       "23             6             6           0           0  33.0 -15.0  \n",
       "36             6             6           0           0 -34.0  28.0  "
      ]
     },
     "execution_count": 241,
     "metadata": {},
     "output_type": "execute_result"
    }
   ],
   "source": [
    "shots.head()"
   ]
  },
  {
   "cell_type": "markdown",
   "metadata": {},
   "source": [
    "#### Create Time Bins"
   ]
  },
  {
   "cell_type": "code",
   "execution_count": 242,
   "metadata": {},
   "outputs": [
    {
     "data": {
      "image/png": "[encoded data removed]",
      "text/plain": [
       "<Figure size 432x288 with 1 Axes>"
      ]
     },
     "metadata": {
      "needs_background": "light"
     },
     "output_type": "display_data"
    }
   ],
   "source": [
    "# Appears to be a uniform distribution of shots across all periods\n",
    "shots['Seconds_Elapsed'].hist()\n",
    "plt.show()"
   ]
  },
  {
   "cell_type": "code",
   "execution_count": 243,
   "metadata": {},
   "outputs": [
    {
     "name": "stdout",
     "output_type": "stream",
     "text": [
      "Max: 1200\n",
      "Min: 4\n"
     ]
    }
   ],
   "source": [
    "# Max: End of Period -- 20 mins; Min: Beginning -- 4 secs into Period\n",
    "max_ = int(max(shots['Seconds_Elapsed']))\n",
    "min_ = int(min(shots['Seconds_Elapsed']))\n",
    "print(\"Max:\", max_)\n",
    "print(\"Min:\", min_)"
   ]
  },
  {
   "cell_type": "code",
   "execution_count": 244,
   "metadata": {},
   "outputs": [],
   "source": [
    "BIN_MINS = 0.5\n",
    "BIN_SECONDS = BIN_MINS * 60"
   ]
  },
  {
   "cell_type": "code",
   "execution_count": 245,
   "metadata": {},
   "outputs": [
    {
     "name": "stdout",
     "output_type": "stream",
     "text": [
      "Bins: [4, 34, 64, 94, 124, 154, 184, 214, 244, 274, 304, 334, 364, 394, 424, 454, 484, 514, 544, 574, 604, 634, 664, 694, 724, 754, 784, 814, 844, 874, 904, 934, 964, 994, 1024, 1054, 1084, 1114, 1144, 1174, 1204]\n",
      "Labels: [1, 2, 3, 4, 5, 6, 7, 8, 9, 10, 11, 12, 13, 14, 15, 16, 17, 18, 19, 20, 21, 22, 23, 24, 25, 26, 27, 28, 29, 30, 31, 32, 33, 34, 35, 36, 37, 38, 39, 40]\n",
      "   Bin 1: 4-34\n",
      "   Bin 2: 34-64\n",
      "   Bin 3: 64-94\n",
      "   Bin 4: 94-124\n",
      "   Bin 5: 124-154\n",
      "   Bin 6: 154-184\n",
      "   Bin 7: 184-214\n",
      "   Bin 8: 214-244\n",
      "   Bin 9: 244-274\n",
      "   Bin 10: 274-304\n",
      "   Bin 11: 304-334\n",
      "   Bin 12: 334-364\n",
      "   Bin 13: 364-394\n",
      "   Bin 14: 394-424\n",
      "   Bin 15: 424-454\n",
      "   Bin 16: 454-484\n",
      "   Bin 17: 484-514\n",
      "   Bin 18: 514-544\n",
      "   Bin 19: 544-574\n",
      "   Bin 20: 574-604\n",
      "   Bin 21: 604-634\n",
      "   Bin 22: 634-664\n",
      "   Bin 23: 664-694\n",
      "   Bin 24: 694-724\n",
      "   Bin 25: 724-754\n",
      "   Bin 26: 754-784\n",
      "   Bin 27: 784-814\n",
      "   Bin 28: 814-844\n",
      "   Bin 29: 844-874\n",
      "   Bin 30: 874-904\n",
      "   Bin 31: 904-934\n",
      "   Bin 32: 934-964\n",
      "   Bin 33: 964-994\n",
      "   Bin 34: 994-1024\n",
      "   Bin 35: 1024-1054\n",
      "   Bin 36: 1054-1084\n",
      "   Bin 37: 1084-1114\n",
      "   Bin 38: 1114-1144\n",
      "   Bin 39: 1144-1174\n",
      "   Bin 40: 1174-1204\n"
     ]
    }
   ],
   "source": [
    "BINS = list(range(min_, max_+25, int(BIN_SECONDS)))\n",
    "LABELS = list(range(1, len(BINS)))\n",
    "\n",
    "print(\"Bins:\", BINS)\n",
    "print(\"Labels:\", LABELS)\n",
    "\n",
    "for i, label in enumerate(LABELS):\n",
    "    print(\"   Bin {}: {}-{}\".format(label, BINS[i], BINS[label]))\n"
   ]
  },
  {
   "cell_type": "code",
   "execution_count": 246,
   "metadata": {},
   "outputs": [],
   "source": [
    "shots['BINS'] = pd.cut(\n",
    "    shots['Seconds_Elapsed'], bins=BINS, labels=LABELS\n",
    ")"
   ]
  },
  {
   "cell_type": "markdown",
   "metadata": {},
   "source": [
    "#### Group Observations"
   ]
  },
  {
   "cell_type": "code",
   "execution_count": 247,
   "metadata": {},
   "outputs": [],
   "source": [
    "from sklearn.preprocessing import LabelEncoder"
   ]
  },
  {
   "cell_type": "code",
   "execution_count": 248,
   "metadata": {},
   "outputs": [],
   "source": [
    "# Remove Outlier Strengths\n",
    "shots = shots[shots['Strength'].str.match('[3-6]x[3-6]').values]\n",
    "shots = shots.dropna()"
   ]
  },
  {
   "cell_type": "code",
   "execution_count": 249,
   "metadata": {
    "scrolled": true
   },
   "outputs": [],
   "source": [
    "# Encode Categorical Variables -- Speed up pandas groupby\n",
    "shots['Ev_Team_Enc'] = LabelEncoder().fit_transform(shots['Ev_Team'])\n",
    "shots['Strength_Enc'] = LabelEncoder().fit_transform(shots['Strength'])"
   ]
  },
  {
   "cell_type": "code",
   "execution_count": 250,
   "metadata": {},
   "outputs": [],
   "source": [
    "# Subset Most Important Predictors\n",
    "model_df = shots[['Ev_Team_Enc', 'Game_Id', 'Period', 'BINS', 'Strength_Enc']]\n",
    "model_df = model_df.dropna(subset=['BINS'])\n",
    "model_df['BINS'] = model_df['BINS'].astype(int)"
   ]
  },
  {
   "cell_type": "code",
   "execution_count": 251,
   "metadata": {},
   "outputs": [
    {
     "data": {
      "text/plain": [
       "(71283, 5)"
      ]
     },
     "execution_count": 251,
     "metadata": {},
     "output_type": "execute_result"
    }
   ],
   "source": [
    "model_df.shape"
   ]
  },
  {
   "cell_type": "code",
   "execution_count": 252,
   "metadata": {},
   "outputs": [
    {
     "name": "stdout",
     "output_type": "stream",
     "text": [
      "<class 'pandas.core.frame.DataFrame'>\n",
      "Int64Index: 71283 entries, 7 to 413475\n",
      "Data columns (total 5 columns):\n",
      " #   Column        Non-Null Count  Dtype\n",
      "---  ------        --------------  -----\n",
      " 0   Ev_Team_Enc   71283 non-null  int64\n",
      " 1   Game_Id       71283 non-null  int64\n",
      " 2   Period        71283 non-null  int64\n",
      " 3   BINS          71283 non-null  int64\n",
      " 4   Strength_Enc  71283 non-null  int64\n",
      "dtypes: int64(5)\n",
      "memory usage: 3.3 MB\n"
     ]
    }
   ],
   "source": [
    "model_df.info()"
   ]
  },
  {
   "cell_type": "code",
   "execution_count": 253,
   "metadata": {},
   "outputs": [],
   "source": [
    "groups = model_df.groupby(\n",
    "    ['Period', 'BINS']\n",
    ").size()"
   ]
  },
  {
   "cell_type": "code",
   "execution_count": 254,
   "metadata": {},
   "outputs": [
    {
     "data": {
      "image/png": "[encoded data removed]",
      "text/plain": [
       "<Figure size 432x288 with 1 Axes>"
      ]
     },
     "metadata": {
      "needs_background": "light"
     },
     "output_type": "display_data"
    }
   ],
   "source": [
    "pivot_ = groups.reset_index().pivot(index='BINS', columns='Period')\n",
    "pivot_.plot()\n",
    "plt.show()"
   ]
  },
  {
   "cell_type": "code",
   "execution_count": 255,
   "metadata": {},
   "outputs": [
    {
     "data": {
      "text/plain": [
       "Period  BINS\n",
       "1       1       507\n",
       "        2       601\n",
       "        3       597\n",
       "        4       603\n",
       "        5       615\n",
       "               ... \n",
       "3       36      513\n",
       "        37      505\n",
       "        38      531\n",
       "        39      507\n",
       "        40      608\n",
       "Length: 120, dtype: int64"
      ]
     },
     "execution_count": 255,
     "metadata": {},
     "output_type": "execute_result"
    }
   ],
   "source": [
    "# groups = model_df.groupby(\n",
    "#     ['Ev_Team_Enc', 'Period', 'BINS']\n",
    "# ).size()\n",
    "groups"
   ]
  },
  {
   "cell_type": "code",
   "execution_count": 256,
   "metadata": {},
   "outputs": [
    {
     "data": {
      "text/html": [
       "<div>\n",
       "<style scoped>\n",
       "    .dataframe tbody tr th:only-of-type {\n",
       "        vertical-align: middle;\n",
       "    }\n",
       "\n",
       "    .dataframe tbody tr th {\n",
       "        vertical-align: top;\n",
       "    }\n",
       "\n",
       "    .dataframe thead th {\n",
       "        text-align: right;\n",
       "    }\n",
       "</style>\n",
       "<table border=\"1\" class=\"dataframe\">\n",
       "  <thead>\n",
       "    <tr style=\"text-align: right;\">\n",
       "      <th></th>\n",
       "      <th>Period</th>\n",
       "      <th>Time Bins</th>\n",
       "      <th>Count</th>\n",
       "    </tr>\n",
       "  </thead>\n",
       "  <tbody>\n",
       "    <tr>\n",
       "      <th>0</th>\n",
       "      <td>1</td>\n",
       "      <td>1</td>\n",
       "      <td>507</td>\n",
       "    </tr>\n",
       "    <tr>\n",
       "      <th>1</th>\n",
       "      <td>1</td>\n",
       "      <td>2</td>\n",
       "      <td>601</td>\n",
       "    </tr>\n",
       "    <tr>\n",
       "      <th>2</th>\n",
       "      <td>1</td>\n",
       "      <td>3</td>\n",
       "      <td>597</td>\n",
       "    </tr>\n",
       "    <tr>\n",
       "      <th>3</th>\n",
       "      <td>1</td>\n",
       "      <td>4</td>\n",
       "      <td>603</td>\n",
       "    </tr>\n",
       "    <tr>\n",
       "      <th>4</th>\n",
       "      <td>1</td>\n",
       "      <td>5</td>\n",
       "      <td>615</td>\n",
       "    </tr>\n",
       "  </tbody>\n",
       "</table>\n",
       "</div>"
      ],
      "text/plain": [
       "   Period  Time Bins  Count\n",
       "0       1          1    507\n",
       "1       1          2    601\n",
       "2       1          3    597\n",
       "3       1          4    603\n",
       "4       1          5    615"
      ]
     },
     "execution_count": 256,
     "metadata": {},
     "output_type": "execute_result"
    }
   ],
   "source": [
    "flat_groups = groups.reset_index()\n",
    "flat_groups.columns = ['Period', 'Time Bins', 'Count']\n",
    "flat_groups.head()"
   ]
  },
  {
   "cell_type": "code",
   "execution_count": 257,
   "metadata": {},
   "outputs": [
    {
     "data": {
      "text/plain": [
       "<AxesSubplot:>"
      ]
     },
     "execution_count": 257,
     "metadata": {},
     "output_type": "execute_result"
    },
    {
     "data": {
      "image/png": "[encoded data removed]",
      "text/plain": [
       "<Figure size 432x288 with 1 Axes>"
      ]
     },
     "metadata": {
      "needs_background": "light"
     },
     "output_type": "display_data"
    }
   ],
   "source": [
    "flat_groups['Count'].hist()"
   ]
  },
  {
   "cell_type": "markdown",
   "metadata": {},
   "source": [
    "#### Poisson Regressor"
   ]
  },
  {
   "cell_type": "code",
   "execution_count": 258,
   "metadata": {},
   "outputs": [],
   "source": [
    "from sklearn.model_selection import train_test_split\n",
    "import statsmodels.api as sm"
   ]
  },
  {
   "cell_type": "code",
   "execution_count": 259,
   "metadata": {},
   "outputs": [],
   "source": [
    "X = flat_groups[['Period', 'Time Bins']]\n",
    "y = flat_groups['Count']"
   ]
  },
  {
   "cell_type": "code",
   "execution_count": 260,
   "metadata": {},
   "outputs": [],
   "source": [
    "X_train, X_test, y_train, y_test = train_test_split(X, y, test_size=0.2)"
   ]
  },
  {
   "cell_type": "code",
   "execution_count": 261,
   "metadata": {},
   "outputs": [
    {
     "name": "stdout",
     "output_type": "stream",
     "text": [
      "X_train: (96, 2)\n",
      "X_test: (24, 2)\n",
      "y_train: (96,)\n",
      "y_test: (24,)\n"
     ]
    }
   ],
   "source": [
    "print('X_train:', X_train.shape)\n",
    "print('X_test:', X_test.shape)\n",
    "print('y_train:', y_train.shape)\n",
    "print('y_test:', y_test.shape)"
   ]
  },
  {
   "cell_type": "code",
   "execution_count": 262,
   "metadata": {},
   "outputs": [],
   "source": [
    "pois = sm.GLM(y_train, X_train, family=sm.families.Poisson()).fit()"
   ]
  },
  {
   "cell_type": "code",
   "execution_count": 263,
   "metadata": {},
   "outputs": [
    {
     "name": "stdout",
     "output_type": "stream",
     "text": [
      "                 Generalized Linear Model Regression Results                  \n",
      "==============================================================================\n",
      "Dep. Variable:                  Count   No. Observations:                   96\n",
      "Model:                            GLM   Df Residuals:                       94\n",
      "Model Family:                 Poisson   Df Model:                            1\n",
      "Link Function:                    log   Scale:                          1.0000\n",
      "Method:                          IRLS   Log-Likelihood:                -71752.\n",
      "Date:                Tue, 02 Nov 2021   Deviance:                   1.4272e+05\n",
      "Time:                        20:26:28   Pearson chi2:                 7.15e+05\n",
      "No. Iterations:                     7                                         \n",
      "Covariance Type:            nonrobust                                         \n",
      "==============================================================================\n",
      "                 coef    std err          z      P>|z|      [0.025      0.975]\n",
      "------------------------------------------------------------------------------\n",
      "Period         1.8297      0.005    371.171      0.000       1.820       1.839\n",
      "Time Bins      0.0586      0.000    126.757      0.000       0.058       0.060\n",
      "==============================================================================\n"
     ]
    }
   ],
   "source": [
    "print(pois.summary())"
   ]
  },
  {
   "cell_type": "code",
   "execution_count": 264,
   "metadata": {},
   "outputs": [
    {
     "name": "stdout",
     "output_type": "stream",
     "text": [
      "            mean   mean_se  mean_ci_lower  mean_ci_upper\n",
      "60    133.008905  0.466654     132.097418     133.926681\n",
      "30     38.355141  0.378821      37.619805      39.104850\n",
      "34     48.490254  0.567440      47.390749      49.615268\n",
      "15     15.920541  0.052272      15.818419      16.023321\n",
      "29     36.171445  0.340800      35.509620      36.845606\n",
      "71    253.463611  1.664382     250.222385     256.746822\n",
      "48     65.824580  0.404287      65.036942      66.621757\n",
      "98    737.224225  5.351943     726.808882     747.788822\n",
      "7       9.960842  0.019553       9.922593       9.999239\n",
      "104  1047.962897  5.961261    1036.343931    1059.712130\n",
      "52     83.218325  0.393932      82.449803      83.994011\n",
      "0       6.608335  0.029736       6.550310       6.666874\n",
      "35     51.417644  0.625221      50.206720      52.657774\n",
      "96    655.668261  5.200258     645.554752     665.940212\n",
      "103   988.298620  5.820020     976.957168     999.771734\n",
      "86    364.843807  4.310439     356.492565     373.390687\n",
      "38     61.303508  0.829696      59.698714      62.951442\n",
      "8      10.562185  0.018959      10.525091      10.599410\n",
      "91    489.097643  4.789580     479.799753     498.575714\n",
      "1       7.007285  0.028569       6.951513       7.063503\n",
      "102   932.031242  5.702056     920.922154     943.274340\n",
      "66    189.071916  0.900806     187.314587     190.845732\n",
      "92    518.624809  4.877358     509.152926     528.272900\n",
      "78    382.049508  3.617839     375.024073     389.206554\n"
     ]
    }
   ],
   "source": [
    "predictions = pois.get_prediction(X_test)\n",
    "predictions_summary = predictions.summary_frame()\n",
    "print(predictions_summary)"
   ]
  },
  {
   "cell_type": "code",
   "execution_count": 265,
   "metadata": {},
   "outputs": [
    {
     "data": {
      "image/png": "[encoded data removed]",
      "text/plain": [
       "<Figure size 432x288 with 1 Axes>"
      ]
     },
     "metadata": {
      "needs_background": "light"
     },
     "output_type": "display_data"
    }
   ],
   "source": [
    "predictions = predictions_summary['mean']\n",
    "actual = y_test\n",
    "fig = plt.figure()\n",
    "predicted, = plt.plot(X_test.index, predictions, 'go-', label='Predicted counts')\n",
    "actual, = plt.plot(X_test.index, actual, 'ro-', label='Actual counts')\n",
    "plt.legend(handles=[predicted, actual])\n",
    "plt.show()"
   ]
  }
 ],
 "metadata": {
  "kernelspec": {
   "display_name": "Python 3",
   "language": "python",
   "name": "python3"
  },
  "language_info": {
   "codemirror_mode": {
    "name": "ipython",
    "version": 3
   },
   "file_extension": ".py",
   "mimetype": "text/x-python",
   "name": "python",
   "nbconvert_exporter": "python",
   "pygments_lexer": "ipython3",
   "version": "3.6.4"
  }
 },
 "nbformat": 4,
 "nbformat_minor": 1
}
