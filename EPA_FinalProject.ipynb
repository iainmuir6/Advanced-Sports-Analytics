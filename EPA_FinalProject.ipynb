{
 "cells": [
  {
   "cell_type": "markdown",
   "metadata": {
    "collapsed": true
   },
   "source": [
    "# Empirical Expected Points Added Model"
   ]
  },
  {
   "cell_type": "markdown",
   "metadata": {},
   "source": [
    "#### Authors"
   ]
  },
  {
   "cell_type": "markdown",
   "metadata": {},
   "source": [
    "**Iain Muir**, iam9ez  \n",
    "**Hriday Singh**, hns4dc  \n",
    "**Connor Smith**, cms6xs"
   ]
  },
  {
   "cell_type": "markdown",
   "metadata": {},
   "source": [
    "**TODO**  \n",
    "* TOC\n",
    "* Style + Docstrings\n",
    "* Remove unnecesary\n",
    "* Data Viz"
   ]
  },
  {
   "cell_type": "markdown",
   "metadata": {},
   "source": [
    "## Table of Contents"
   ]
  },
  {
   "cell_type": "markdown",
   "metadata": {},
   "source": [
    "* **0. Import Libraries**\n",
    "* **1. Load Data**\n",
    "* **2. Feature Selection and Engineering**\n",
    "    * 2.1 Remove Garbage Time\n",
    "    * 2.2 Create Custom Field Position\n",
    "* **3. Transform Data for Modeling**\n",
    "* **4. Field Goal Model**\n",
    "* **5. Punt Model**\n",
    "* **6. Run Models**\n",
    "* **7. Pass Models**\n",
    "* **8. Expected Points Added Model**"
   ]
  },
  {
   "cell_type": "markdown",
   "metadata": {},
   "source": [
    "### 0. Import Libraries"
   ]
  },
  {
   "cell_type": "code",
   "execution_count": 1,
   "metadata": {},
   "outputs": [],
   "source": [
    "from sklearn.linear_model import LinearRegression, LogisticRegression\n",
    "from sklearn.preprocessing import OneHotEncoder, StandardScaler\n",
    "from sklearn.metrics import confusion_matrix, f1_score\n",
    "from sklearn.model_selection import train_test_split\n",
    "from sklearn.compose import ColumnTransformer\n",
    "from sklearn.mixture import GaussianMixture\n",
    "from sklearn.pipeline import Pipeline\n",
    "import matplotlib.pyplot as plt\n",
    "import pandas as pd\n",
    "import numpy as np"
   ]
  },
  {
   "cell_type": "code",
   "execution_count": 2,
   "metadata": {},
   "outputs": [],
   "source": [
    "from pandas.core.common import SettingWithCopyWarning\n",
    "import warnings\n",
    "\n",
    "warnings.simplefilter(action=\"ignore\", category=SettingWithCopyWarning)"
   ]
  },
  {
   "cell_type": "code",
   "execution_count": 3,
   "metadata": {},
   "outputs": [],
   "source": [
    "SEED = 42"
   ]
  },
  {
   "cell_type": "markdown",
   "metadata": {},
   "source": [
    "### 1.0 Load Data"
   ]
  },
  {
   "cell_type": "markdown",
   "metadata": {},
   "source": [
    "#### 1.1 Aggregate Data across Years"
   ]
  },
  {
   "cell_type": "code",
   "execution_count": 4,
   "metadata": {},
   "outputs": [],
   "source": [
    "ROOT = '/Users/iainmuir/Desktop/4Y 1S/STAT 4800/Dataset/{} PFF All Plays.csv'"
   ]
  },
  {
   "cell_type": "code",
   "execution_count": 5,
   "metadata": {},
   "outputs": [],
   "source": [
    "DATA = pd.DataFrame()"
   ]
  },
  {
   "cell_type": "code",
   "execution_count": 6,
   "metadata": {},
   "outputs": [
    {
     "name": "stdout",
     "output_type": "stream",
     "text": [
      "CPU times: user 1min 3s, sys: 19.2 s, total: 1min 22s\n",
      "Wall time: 3min 51s\n"
     ]
    }
   ],
   "source": [
    "%%time\n",
    "\n",
    "for year in range(2015, 2020):\n",
    "    PATH = ROOT.format(year)\n",
    "    df = pd.read_csv(PATH, low_memory=False)\n",
    "    DATA = pd.concat([DATA, df])"
   ]
  },
  {
   "cell_type": "code",
   "execution_count": 7,
   "metadata": {},
   "outputs": [
    {
     "data": {
      "text/plain": [
       "(758971, 177)"
      ]
     },
     "execution_count": 7,
     "metadata": {},
     "output_type": "execute_result"
    }
   ],
   "source": [
    "DATA.shape"
   ]
  },
  {
   "cell_type": "code",
   "execution_count": 8,
   "metadata": {},
   "outputs": [
    {
     "data": {
      "text/html": [
       "<div>\n",
       "<style scoped>\n",
       "    .dataframe tbody tr th:only-of-type {\n",
       "        vertical-align: middle;\n",
       "    }\n",
       "\n",
       "    .dataframe tbody tr th {\n",
       "        vertical-align: top;\n",
       "    }\n",
       "\n",
       "    .dataframe thead th {\n",
       "        text-align: right;\n",
       "    }\n",
       "</style>\n",
       "<table border=\"1\" class=\"dataframe\">\n",
       "  <thead>\n",
       "    <tr style=\"text-align: right;\">\n",
       "      <th></th>\n",
       "      <th>pff_PLAYID</th>\n",
       "      <th>pff_GAMEID</th>\n",
       "      <th>pff_GAMEDATE</th>\n",
       "      <th>pff_GAMESEASON</th>\n",
       "      <th>pff_WEEK</th>\n",
       "      <th>pff_GSISGAMEKEY</th>\n",
       "      <th>pff_GSISPLAYID</th>\n",
       "      <th>pff_QUARTER</th>\n",
       "      <th>pff_DOWN</th>\n",
       "      <th>pff_CLOCK</th>\n",
       "      <th>...</th>\n",
       "      <th>pff_STSAFETIES</th>\n",
       "      <th>pff_TACKLE</th>\n",
       "      <th>pff_TACKLEASSIST</th>\n",
       "      <th>pff_TEALIGNMENT</th>\n",
       "      <th>pff_TOUCHDOWN</th>\n",
       "      <th>pff_UNBLOCKEDPRESSURE</th>\n",
       "      <th>pff_VISE</th>\n",
       "      <th>pff_WRALIGNMENT</th>\n",
       "      <th>pff_PLAYCLOCK</th>\n",
       "      <th>pff_RUNPASSOPTION</th>\n",
       "    </tr>\n",
       "  </thead>\n",
       "  <tbody>\n",
       "    <tr>\n",
       "      <th>0</th>\n",
       "      <td>1455513</td>\n",
       "      <td>5573</td>\n",
       "      <td>12/31/15</td>\n",
       "      <td>2015</td>\n",
       "      <td>PO</td>\n",
       "      <td>60761</td>\n",
       "      <td>35</td>\n",
       "      <td>1</td>\n",
       "      <td>0</td>\n",
       "      <td>15:00</td>\n",
       "      <td>...</td>\n",
       "      <td>NaN</td>\n",
       "      <td>NaN</td>\n",
       "      <td>NaN</td>\n",
       "      <td>NaN</td>\n",
       "      <td>NaN</td>\n",
       "      <td>NaN</td>\n",
       "      <td>NaN</td>\n",
       "      <td>NaN</td>\n",
       "      <td>NaN</td>\n",
       "      <td>0.0</td>\n",
       "    </tr>\n",
       "    <tr>\n",
       "      <th>1</th>\n",
       "      <td>1455434</td>\n",
       "      <td>5573</td>\n",
       "      <td>12/31/15</td>\n",
       "      <td>2015</td>\n",
       "      <td>PO</td>\n",
       "      <td>60761</td>\n",
       "      <td>49</td>\n",
       "      <td>1</td>\n",
       "      <td>1</td>\n",
       "      <td>15:00</td>\n",
       "      <td>...</td>\n",
       "      <td>NaN</td>\n",
       "      <td>NaN</td>\n",
       "      <td>NaN</td>\n",
       "      <td>NaN</td>\n",
       "      <td>NaN</td>\n",
       "      <td>NaN</td>\n",
       "      <td>NaN</td>\n",
       "      <td>LWR^; SRiWR; SRoWR^; RWR</td>\n",
       "      <td>NaN</td>\n",
       "      <td>0.0</td>\n",
       "    </tr>\n",
       "    <tr>\n",
       "      <th>2</th>\n",
       "      <td>1455470</td>\n",
       "      <td>5573</td>\n",
       "      <td>12/31/15</td>\n",
       "      <td>2015</td>\n",
       "      <td>PO</td>\n",
       "      <td>60761</td>\n",
       "      <td>68</td>\n",
       "      <td>1</td>\n",
       "      <td>2</td>\n",
       "      <td>14:33</td>\n",
       "      <td>...</td>\n",
       "      <td>NaN</td>\n",
       "      <td>SCCL D15</td>\n",
       "      <td>NaN</td>\n",
       "      <td>NaN</td>\n",
       "      <td>NaN</td>\n",
       "      <td>NaN</td>\n",
       "      <td>NaN</td>\n",
       "      <td>LWR^; SRiWR; SRoWR^; RWR</td>\n",
       "      <td>NaN</td>\n",
       "      <td>0.0</td>\n",
       "    </tr>\n",
       "    <tr>\n",
       "      <th>3</th>\n",
       "      <td>1455450</td>\n",
       "      <td>5573</td>\n",
       "      <td>12/31/15</td>\n",
       "      <td>2015</td>\n",
       "      <td>PO</td>\n",
       "      <td>60761</td>\n",
       "      <td>90</td>\n",
       "      <td>1</td>\n",
       "      <td>3</td>\n",
       "      <td>14:03</td>\n",
       "      <td>...</td>\n",
       "      <td>NaN</td>\n",
       "      <td>SCCL D18</td>\n",
       "      <td>NaN</td>\n",
       "      <td>NaN</td>\n",
       "      <td>NaN</td>\n",
       "      <td>NaN</td>\n",
       "      <td>NaN</td>\n",
       "      <td>LWR; SLWR^; SRWR^; RWR</td>\n",
       "      <td>NaN</td>\n",
       "      <td>0.0</td>\n",
       "    </tr>\n",
       "    <tr>\n",
       "      <th>4</th>\n",
       "      <td>1455419</td>\n",
       "      <td>5573</td>\n",
       "      <td>12/31/15</td>\n",
       "      <td>2015</td>\n",
       "      <td>PO</td>\n",
       "      <td>60761</td>\n",
       "      <td>112</td>\n",
       "      <td>1</td>\n",
       "      <td>1</td>\n",
       "      <td>13:51</td>\n",
       "      <td>...</td>\n",
       "      <td>NaN</td>\n",
       "      <td>SCCL D91</td>\n",
       "      <td>NaN</td>\n",
       "      <td>NaN</td>\n",
       "      <td>NaN</td>\n",
       "      <td>NaN</td>\n",
       "      <td>NaN</td>\n",
       "      <td>LWR; SLWR^; SRWR^; RWR</td>\n",
       "      <td>NaN</td>\n",
       "      <td>0.0</td>\n",
       "    </tr>\n",
       "  </tbody>\n",
       "</table>\n",
       "<p>5 rows × 177 columns</p>\n",
       "</div>"
      ],
      "text/plain": [
       "   pff_PLAYID  pff_GAMEID pff_GAMEDATE  pff_GAMESEASON pff_WEEK  \\\n",
       "0     1455513        5573     12/31/15            2015       PO   \n",
       "1     1455434        5573     12/31/15            2015       PO   \n",
       "2     1455470        5573     12/31/15            2015       PO   \n",
       "3     1455450        5573     12/31/15            2015       PO   \n",
       "4     1455419        5573     12/31/15            2015       PO   \n",
       "\n",
       "   pff_GSISGAMEKEY  pff_GSISPLAYID  pff_QUARTER  pff_DOWN pff_CLOCK  ...  \\\n",
       "0            60761              35            1         0     15:00  ...   \n",
       "1            60761              49            1         1     15:00  ...   \n",
       "2            60761              68            1         2     14:33  ...   \n",
       "3            60761              90            1         3     14:03  ...   \n",
       "4            60761             112            1         1     13:51  ...   \n",
       "\n",
       "   pff_STSAFETIES  pff_TACKLE  pff_TACKLEASSIST  pff_TEALIGNMENT  \\\n",
       "0             NaN         NaN               NaN              NaN   \n",
       "1             NaN         NaN               NaN              NaN   \n",
       "2             NaN    SCCL D15               NaN              NaN   \n",
       "3             NaN    SCCL D18               NaN              NaN   \n",
       "4             NaN    SCCL D91               NaN              NaN   \n",
       "\n",
       "   pff_TOUCHDOWN  pff_UNBLOCKEDPRESSURE  pff_VISE           pff_WRALIGNMENT  \\\n",
       "0            NaN                    NaN       NaN                       NaN   \n",
       "1            NaN                    NaN       NaN  LWR^; SRiWR; SRoWR^; RWR   \n",
       "2            NaN                    NaN       NaN  LWR^; SRiWR; SRoWR^; RWR   \n",
       "3            NaN                    NaN       NaN    LWR; SLWR^; SRWR^; RWR   \n",
       "4            NaN                    NaN       NaN    LWR; SLWR^; SRWR^; RWR   \n",
       "\n",
       "   pff_PLAYCLOCK  pff_RUNPASSOPTION  \n",
       "0            NaN                0.0  \n",
       "1            NaN                0.0  \n",
       "2            NaN                0.0  \n",
       "3            NaN                0.0  \n",
       "4            NaN                0.0  \n",
       "\n",
       "[5 rows x 177 columns]"
      ]
     },
     "execution_count": 8,
     "metadata": {},
     "output_type": "execute_result"
    }
   ],
   "source": [
    "DATA.head()"
   ]
  },
  {
   "cell_type": "code",
   "execution_count": 26,
   "metadata": {},
   "outputs": [
    {
     "name": "stdout",
     "output_type": "stream",
     "text": [
      "<class 'pandas.core.frame.DataFrame'>\n",
      "Int64Index: 758971 entries, 0 to 167026\n",
      "Columns: 177 entries, pff_PLAYID to pff_RUNPASSOPTION\n",
      "dtypes: float64(30), int64(30), object(117)\n",
      "memory usage: 1.0+ GB\n"
     ]
    }
   ],
   "source": [
    "DATA.info()"
   ]
  },
  {
   "cell_type": "code",
   "execution_count": 27,
   "metadata": {},
   "outputs": [],
   "source": [
    "d = DATA.copy()"
   ]
  },
  {
   "cell_type": "markdown",
   "metadata": {},
   "source": [
    "### 2.0 Feature Selection and Engineering"
   ]
  },
  {
   "cell_type": "markdown",
   "metadata": {},
   "source": [
    "#### 2.1 Remove Garbage Time"
   ]
  },
  {
   "cell_type": "code",
   "execution_count": 28,
   "metadata": {},
   "outputs": [],
   "source": [
    "d = d.loc[d['pff_GARBAGETIME'] == 0]"
   ]
  },
  {
   "cell_type": "code",
   "execution_count": 29,
   "metadata": {},
   "outputs": [],
   "source": [
    "d = d.reset_index(drop=True)"
   ]
  },
  {
   "cell_type": "code",
   "execution_count": 30,
   "metadata": {},
   "outputs": [
    {
     "data": {
      "text/plain": [
       "(721010, 177)"
      ]
     },
     "execution_count": 30,
     "metadata": {},
     "output_type": "execute_result"
    }
   ],
   "source": [
    "d.shape"
   ]
  },
  {
   "cell_type": "markdown",
   "metadata": {},
   "source": [
    "#### 2.2 Custom Field Position"
   ]
  },
  {
   "cell_type": "code",
   "execution_count": 31,
   "metadata": {},
   "outputs": [],
   "source": [
    "fp = d['pff_FIELDPOSITION']\n",
    "d['fp'] = np.where(fp < 0, -1 * fp, 100 - fp)"
   ]
  },
  {
   "cell_type": "code",
   "execution_count": 32,
   "metadata": {},
   "outputs": [
    {
     "data": {
      "text/plain": [
       "99"
      ]
     },
     "execution_count": 32,
     "metadata": {},
     "output_type": "execute_result"
    }
   ],
   "source": [
    "len(d['fp'].unique())"
   ]
  },
  {
   "cell_type": "markdown",
   "metadata": {},
   "source": [
    "### 3.0 Transform All Data"
   ]
  },
  {
   "cell_type": "markdown",
   "metadata": {},
   "source": [
    "#### 3.1 Subset Data Sets"
   ]
  },
  {
   "cell_type": "code",
   "execution_count": 33,
   "metadata": {},
   "outputs": [],
   "source": [
    "PLAYS = d.loc[(d['pff_RUNPASS'] == 'P') | (d['pff_RUNPASS'] == 'R')]\n",
    "FGS = d.loc[d['pff_SPECIALTEAMSTYPE'].astype(str) == 'FIELD GOAL']"
   ]
  },
  {
   "cell_type": "code",
   "execution_count": 34,
   "metadata": {},
   "outputs": [
    {
     "name": "stdout",
     "output_type": "stream",
     "text": [
      "Plays: (578355, 178)\n",
      "FGs: (12548, 178)\n"
     ]
    }
   ],
   "source": [
    "print(\"Plays:\", PLAYS.shape)\n",
    "print(\"FGs:\", FGS.shape)"
   ]
  },
  {
   "cell_type": "markdown",
   "metadata": {},
   "source": [
    "#### 3.2 Column Transformer and Selection"
   ]
  },
  {
   "cell_type": "markdown",
   "metadata": {},
   "source": [
    "###### 3.2.1 Run + Pass"
   ]
  },
  {
   "cell_type": "code",
   "execution_count": 35,
   "metadata": {},
   "outputs": [],
   "source": [
    "rp = PLAYS['pff_RUNPASS']"
   ]
  },
  {
   "cell_type": "code",
   "execution_count": 36,
   "metadata": {},
   "outputs": [],
   "source": [
    "INPUTS = [\n",
    "    'pff_DOWN', 'pff_DISTANCE', 'pff_GAINLOSSNET', 'pff_PASSRESULT', 'fp'\n",
    "]"
   ]
  },
  {
   "cell_type": "code",
   "execution_count": 37,
   "metadata": {},
   "outputs": [],
   "source": [
    "model_p = PLAYS[INPUTS]"
   ]
  },
  {
   "cell_type": "code",
   "execution_count": 38,
   "metadata": {},
   "outputs": [
    {
     "data": {
      "text/plain": [
       "pff_DOWN                0\n",
       "pff_DISTANCE            0\n",
       "pff_GAINLOSSNET         0\n",
       "pff_PASSRESULT     274374\n",
       "fp                      0\n",
       "dtype: int64"
      ]
     },
     "execution_count": 38,
     "metadata": {},
     "output_type": "execute_result"
    }
   ],
   "source": [
    "model_p.isnull().sum()"
   ]
  },
  {
   "cell_type": "code",
   "execution_count": 39,
   "metadata": {},
   "outputs": [],
   "source": [
    "model_p['pff_PASSRESULT'] = model_p['pff_PASSRESULT'].fillna('RUN')"
   ]
  },
  {
   "cell_type": "code",
   "execution_count": 40,
   "metadata": {},
   "outputs": [
    {
     "data": {
      "text/plain": [
       "0"
      ]
     },
     "execution_count": 40,
     "metadata": {},
     "output_type": "execute_result"
    }
   ],
   "source": [
    "model_p.isnull().sum().sum()"
   ]
  },
  {
   "cell_type": "code",
   "execution_count": 41,
   "metadata": {},
   "outputs": [
    {
     "name": "stdout",
     "output_type": "stream",
     "text": [
      "Plays: (578355, 5)\n"
     ]
    }
   ],
   "source": [
    "print(\"Plays:\", model_p.shape)"
   ]
  },
  {
   "cell_type": "code",
   "execution_count": 42,
   "metadata": {},
   "outputs": [
    {
     "data": {
      "text/html": [
       "<div>\n",
       "<style scoped>\n",
       "    .dataframe tbody tr th:only-of-type {\n",
       "        vertical-align: middle;\n",
       "    }\n",
       "\n",
       "    .dataframe tbody tr th {\n",
       "        vertical-align: top;\n",
       "    }\n",
       "\n",
       "    .dataframe thead th {\n",
       "        text-align: right;\n",
       "    }\n",
       "</style>\n",
       "<table border=\"1\" class=\"dataframe\">\n",
       "  <thead>\n",
       "    <tr style=\"text-align: right;\">\n",
       "      <th></th>\n",
       "      <th>pff_DOWN</th>\n",
       "      <th>pff_DISTANCE</th>\n",
       "      <th>pff_GAINLOSSNET</th>\n",
       "      <th>pff_PASSRESULT</th>\n",
       "      <th>fp</th>\n",
       "    </tr>\n",
       "  </thead>\n",
       "  <tbody>\n",
       "    <tr>\n",
       "      <th>1</th>\n",
       "      <td>1</td>\n",
       "      <td>10</td>\n",
       "      <td>-6</td>\n",
       "      <td>SACK</td>\n",
       "      <td>25</td>\n",
       "    </tr>\n",
       "    <tr>\n",
       "      <th>2</th>\n",
       "      <td>2</td>\n",
       "      <td>16</td>\n",
       "      <td>9</td>\n",
       "      <td>RUN</td>\n",
       "      <td>19</td>\n",
       "    </tr>\n",
       "    <tr>\n",
       "      <th>3</th>\n",
       "      <td>3</td>\n",
       "      <td>7</td>\n",
       "      <td>17</td>\n",
       "      <td>RUN</td>\n",
       "      <td>28</td>\n",
       "    </tr>\n",
       "    <tr>\n",
       "      <th>4</th>\n",
       "      <td>1</td>\n",
       "      <td>10</td>\n",
       "      <td>1</td>\n",
       "      <td>RUN</td>\n",
       "      <td>45</td>\n",
       "    </tr>\n",
       "    <tr>\n",
       "      <th>5</th>\n",
       "      <td>1</td>\n",
       "      <td>10</td>\n",
       "      <td>15</td>\n",
       "      <td>INCOMPLETE</td>\n",
       "      <td>46</td>\n",
       "    </tr>\n",
       "  </tbody>\n",
       "</table>\n",
       "</div>"
      ],
      "text/plain": [
       "   pff_DOWN  pff_DISTANCE  pff_GAINLOSSNET pff_PASSRESULT  fp\n",
       "1         1            10               -6           SACK  25\n",
       "2         2            16                9            RUN  19\n",
       "3         3             7               17            RUN  28\n",
       "4         1            10                1            RUN  45\n",
       "5         1            10               15     INCOMPLETE  46"
      ]
     },
     "execution_count": 42,
     "metadata": {},
     "output_type": "execute_result"
    }
   ],
   "source": [
    "model_p.head()"
   ]
  },
  {
   "cell_type": "code",
   "execution_count": 43,
   "metadata": {},
   "outputs": [],
   "source": [
    "TARGET = 'pff_GAINLOSSNET'\n",
    "X_p = model_p.drop(TARGET, axis=1)\n",
    "y_p = model_p[TARGET]"
   ]
  },
  {
   "cell_type": "code",
   "execution_count": 44,
   "metadata": {},
   "outputs": [],
   "source": [
    "# num_pipeline = Pipeline([\n",
    "#     ('std_scaler', StandardScaler())\n",
    "# ])\n",
    "# X_prep_p = num_pipeline.fit_transform(X_p)\n",
    "# X_prep_p = pd.DataFrame(X_prep_p, columns=X_p.columns.tolist())\n",
    "# X_prep_p = X_prep_p.join(rp.reset_index(drop=True))"
   ]
  },
  {
   "cell_type": "code",
   "execution_count": 45,
   "metadata": {},
   "outputs": [],
   "source": [
    "X_prep_p = X_p.join(rp.reset_index(drop=True))"
   ]
  },
  {
   "cell_type": "code",
   "execution_count": 46,
   "metadata": {},
   "outputs": [
    {
     "data": {
      "text/html": [
       "<div>\n",
       "<style scoped>\n",
       "    .dataframe tbody tr th:only-of-type {\n",
       "        vertical-align: middle;\n",
       "    }\n",
       "\n",
       "    .dataframe tbody tr th {\n",
       "        vertical-align: top;\n",
       "    }\n",
       "\n",
       "    .dataframe thead th {\n",
       "        text-align: right;\n",
       "    }\n",
       "</style>\n",
       "<table border=\"1\" class=\"dataframe\">\n",
       "  <thead>\n",
       "    <tr style=\"text-align: right;\">\n",
       "      <th></th>\n",
       "      <th>pff_DOWN</th>\n",
       "      <th>pff_DISTANCE</th>\n",
       "      <th>pff_PASSRESULT</th>\n",
       "      <th>fp</th>\n",
       "      <th>pff_RUNPASS</th>\n",
       "    </tr>\n",
       "  </thead>\n",
       "  <tbody>\n",
       "    <tr>\n",
       "      <th>1</th>\n",
       "      <td>1</td>\n",
       "      <td>10</td>\n",
       "      <td>SACK</td>\n",
       "      <td>25</td>\n",
       "      <td>R</td>\n",
       "    </tr>\n",
       "    <tr>\n",
       "      <th>2</th>\n",
       "      <td>2</td>\n",
       "      <td>16</td>\n",
       "      <td>RUN</td>\n",
       "      <td>19</td>\n",
       "      <td>R</td>\n",
       "    </tr>\n",
       "    <tr>\n",
       "      <th>3</th>\n",
       "      <td>3</td>\n",
       "      <td>7</td>\n",
       "      <td>RUN</td>\n",
       "      <td>28</td>\n",
       "      <td>R</td>\n",
       "    </tr>\n",
       "    <tr>\n",
       "      <th>4</th>\n",
       "      <td>1</td>\n",
       "      <td>10</td>\n",
       "      <td>RUN</td>\n",
       "      <td>45</td>\n",
       "      <td>P</td>\n",
       "    </tr>\n",
       "    <tr>\n",
       "      <th>5</th>\n",
       "      <td>1</td>\n",
       "      <td>10</td>\n",
       "      <td>INCOMPLETE</td>\n",
       "      <td>46</td>\n",
       "      <td>R</td>\n",
       "    </tr>\n",
       "  </tbody>\n",
       "</table>\n",
       "</div>"
      ],
      "text/plain": [
       "   pff_DOWN  pff_DISTANCE pff_PASSRESULT  fp pff_RUNPASS\n",
       "1         1            10           SACK  25           R\n",
       "2         2            16            RUN  19           R\n",
       "3         3             7            RUN  28           R\n",
       "4         1            10            RUN  45           P\n",
       "5         1            10     INCOMPLETE  46           R"
      ]
     },
     "execution_count": 46,
     "metadata": {},
     "output_type": "execute_result"
    }
   ],
   "source": [
    "X_prep_p.head()"
   ]
  },
  {
   "cell_type": "code",
   "execution_count": 47,
   "metadata": {},
   "outputs": [
    {
     "name": "stdout",
     "output_type": "stream",
     "text": [
      "Plays: (578355, 5)\n"
     ]
    }
   ],
   "source": [
    "print(\"Plays:\", X_prep_p.shape)"
   ]
  },
  {
   "cell_type": "code",
   "execution_count": 48,
   "metadata": {},
   "outputs": [
    {
     "name": "stdout",
     "output_type": "stream",
     "text": [
      "Plays: (578355,)\n"
     ]
    }
   ],
   "source": [
    "print(\"Plays:\", y_p.shape)"
   ]
  },
  {
   "cell_type": "code",
   "execution_count": 49,
   "metadata": {},
   "outputs": [],
   "source": [
    "X_prep_p = X_prep_p.join(y_p)"
   ]
  },
  {
   "cell_type": "code",
   "execution_count": 50,
   "metadata": {},
   "outputs": [],
   "source": [
    "RUN = X_prep_p.loc[X_prep_p['pff_RUNPASS'] == 'R']\n",
    "PASS = X_prep_p.loc[X_prep_p['pff_RUNPASS'] == 'P']"
   ]
  },
  {
   "cell_type": "code",
   "execution_count": 51,
   "metadata": {},
   "outputs": [
    {
     "name": "stdout",
     "output_type": "stream",
     "text": [
      "Run: (219972, 6)\n",
      "Pass: (244086, 6)\n"
     ]
    }
   ],
   "source": [
    "print(\"Run:\", RUN.shape)\n",
    "print(\"Pass:\", PASS.shape)"
   ]
  },
  {
   "cell_type": "markdown",
   "metadata": {},
   "source": [
    "###### 3.2.2 Field Goals"
   ]
  },
  {
   "cell_type": "code",
   "execution_count": 52,
   "metadata": {},
   "outputs": [],
   "source": [
    "FGS[['kickResult', 'kickLocation']] = FGS['pff_KICKRESULT'].str.split(' - ', expand=True)\n",
    "FGS['kickResult'] = np.where(FGS['kickResult'] == 'MISSED', 0, 1)"
   ]
  },
  {
   "cell_type": "code",
   "execution_count": 53,
   "metadata": {},
   "outputs": [],
   "source": [
    "INPUTS = [\n",
    "    'pff_HASH', 'pff_KICKYARDS', 'kickResult'\n",
    "]"
   ]
  },
  {
   "cell_type": "code",
   "execution_count": 54,
   "metadata": {},
   "outputs": [],
   "source": [
    "model_fg = FGS[INPUTS]"
   ]
  },
  {
   "cell_type": "code",
   "execution_count": 55,
   "metadata": {},
   "outputs": [
    {
     "data": {
      "text/plain": [
       "(12548, 3)"
      ]
     },
     "execution_count": 55,
     "metadata": {},
     "output_type": "execute_result"
    }
   ],
   "source": [
    "model_fg.shape"
   ]
  },
  {
   "cell_type": "code",
   "execution_count": 56,
   "metadata": {},
   "outputs": [],
   "source": [
    "model_fg = model_fg.dropna()"
   ]
  },
  {
   "cell_type": "code",
   "execution_count": 57,
   "metadata": {},
   "outputs": [
    {
     "data": {
      "text/plain": [
       "(12535, 3)"
      ]
     },
     "execution_count": 57,
     "metadata": {},
     "output_type": "execute_result"
    }
   ],
   "source": [
    "model_fg.shape"
   ]
  },
  {
   "cell_type": "code",
   "execution_count": 58,
   "metadata": {},
   "outputs": [],
   "source": [
    "TARGET = 'kickResult'\n",
    "X_fg = model_fg.drop(TARGET, axis=1)\n",
    "y_fg = model_fg[TARGET]"
   ]
  },
  {
   "cell_type": "code",
   "execution_count": 59,
   "metadata": {},
   "outputs": [],
   "source": [
    "hash_, yards = X_fg['pff_HASH'], X_fg['pff_KICKYARDS']\n",
    "hash_ = np.array(hash_).reshape(-1, 1)\n",
    "one_hot = OneHotEncoder(sparse=True).fit_transform(hash_).toarray()\n",
    "hash_ = pd.DataFrame(one_hot, columns=['hash_C', 'hash_L', 'hash_R'])\n",
    "X_prep_fg = hash_.join(yards.reset_index(drop=True).astype(int))"
   ]
  },
  {
   "cell_type": "code",
   "execution_count": 60,
   "metadata": {},
   "outputs": [
    {
     "data": {
      "text/html": [
       "<div>\n",
       "<style scoped>\n",
       "    .dataframe tbody tr th:only-of-type {\n",
       "        vertical-align: middle;\n",
       "    }\n",
       "\n",
       "    .dataframe tbody tr th {\n",
       "        vertical-align: top;\n",
       "    }\n",
       "\n",
       "    .dataframe thead th {\n",
       "        text-align: right;\n",
       "    }\n",
       "</style>\n",
       "<table border=\"1\" class=\"dataframe\">\n",
       "  <thead>\n",
       "    <tr style=\"text-align: right;\">\n",
       "      <th></th>\n",
       "      <th>hash_C</th>\n",
       "      <th>hash_L</th>\n",
       "      <th>hash_R</th>\n",
       "      <th>pff_KICKYARDS</th>\n",
       "    </tr>\n",
       "  </thead>\n",
       "  <tbody>\n",
       "    <tr>\n",
       "      <th>0</th>\n",
       "      <td>0.0</td>\n",
       "      <td>1.0</td>\n",
       "      <td>0.0</td>\n",
       "      <td>26</td>\n",
       "    </tr>\n",
       "    <tr>\n",
       "      <th>1</th>\n",
       "      <td>0.0</td>\n",
       "      <td>0.0</td>\n",
       "      <td>1.0</td>\n",
       "      <td>36</td>\n",
       "    </tr>\n",
       "    <tr>\n",
       "      <th>2</th>\n",
       "      <td>0.0</td>\n",
       "      <td>0.0</td>\n",
       "      <td>1.0</td>\n",
       "      <td>22</td>\n",
       "    </tr>\n",
       "    <tr>\n",
       "      <th>3</th>\n",
       "      <td>0.0</td>\n",
       "      <td>1.0</td>\n",
       "      <td>0.0</td>\n",
       "      <td>43</td>\n",
       "    </tr>\n",
       "    <tr>\n",
       "      <th>4</th>\n",
       "      <td>0.0</td>\n",
       "      <td>0.0</td>\n",
       "      <td>1.0</td>\n",
       "      <td>47</td>\n",
       "    </tr>\n",
       "  </tbody>\n",
       "</table>\n",
       "</div>"
      ],
      "text/plain": [
       "   hash_C  hash_L  hash_R  pff_KICKYARDS\n",
       "0     0.0     1.0     0.0             26\n",
       "1     0.0     0.0     1.0             36\n",
       "2     0.0     0.0     1.0             22\n",
       "3     0.0     1.0     0.0             43\n",
       "4     0.0     0.0     1.0             47"
      ]
     },
     "execution_count": 60,
     "metadata": {},
     "output_type": "execute_result"
    }
   ],
   "source": [
    "X_prep_fg.head()"
   ]
  },
  {
   "cell_type": "markdown",
   "metadata": {},
   "source": [
    "### 4.0 Field Goal Model"
   ]
  },
  {
   "cell_type": "markdown",
   "metadata": {},
   "source": [
    "#### 4.1 Threshold Experimentation"
   ]
  },
  {
   "cell_type": "code",
   "execution_count": 61,
   "metadata": {},
   "outputs": [],
   "source": [
    "def metrics(model, x, y, threshold=0.5):\n",
    "    y_prob = model.predict_proba(x)[:, 1]\n",
    "    predictions = np.where(y_prob > threshold, 1, 0)\n",
    "    print(\"\\nConfusion Matrix (t={})\".format(threshold))\n",
    "    print(confusion_matrix(y, predictions))\n",
    "    f1_ = f1_score(y, predictions)\n",
    "    print(\"F1:\", f1_)\n",
    "\n",
    "    return f1_"
   ]
  },
  {
   "cell_type": "code",
   "execution_count": 62,
   "metadata": {},
   "outputs": [],
   "source": [
    "def log_reg(X, y, threshold=0.5):\n",
    "    X_train, X_test, y_train, y_test = train_test_split(\n",
    "        X, y, test_size=0.2\n",
    "    )\n",
    "\n",
    "    lr = LogisticRegression(\n",
    "#         random_state=SEED,\n",
    "        solver='lbfgs'\n",
    "    )\n",
    "    lr = lr.fit(X_train, y_train)\n",
    "    f1_score = metrics(lr, X_test, y_test, threshold)\n",
    "\n",
    "    return lr, f1_score"
   ]
  },
  {
   "cell_type": "code",
   "execution_count": 63,
   "metadata": {},
   "outputs": [
    {
     "name": "stdout",
     "output_type": "stream",
     "text": [
      "\n",
      "Confusion Matrix (t=0.5)\n",
      "[[ 138  545]\n",
      " [ 105 1719]]\n",
      "F1: 0.8409980430528375\n",
      "\n",
      "Confusion Matrix (t=0.55)\n",
      "[[ 174  487]\n",
      " [ 186 1660]]\n",
      "F1: 0.8314550463310794\n",
      "\n",
      "Confusion Matrix (t=0.6)\n",
      "[[ 284  406]\n",
      " [ 279 1538]]\n",
      "F1: 0.8178675884073385\n",
      "\n",
      "Confusion Matrix (t=0.65)\n",
      "[[ 348  339]\n",
      " [ 363 1457]]\n",
      "F1: 0.8058628318584071\n",
      "\n",
      "Confusion Matrix (t=0.7)\n",
      "[[ 377  271]\n",
      " [ 514 1345]]\n",
      "F1: 0.7741007194244605\n",
      "\n",
      "Confusion Matrix (t=0.75)\n",
      "[[ 486  179]\n",
      " [ 713 1129]]\n",
      "F1: 0.7168253968253967\n",
      "\n",
      "Confusion Matrix (t=0.8)\n",
      "[[519 145]\n",
      " [924 919]]\n",
      "F1: 0.6322669418644652\n",
      "\n",
      "Confusion Matrix (t=0.85)\n",
      "[[ 586   63]\n",
      " [1216  642]]\n",
      "F1: 0.5009754194303551\n",
      "\n",
      "Confusion Matrix (t=0.9)\n",
      "[[ 635   15]\n",
      " [1575  282]]\n",
      "F1: 0.2618384401114206\n",
      "\n",
      "Confusion Matrix (t=0.95)\n",
      "[[ 724    0]\n",
      " [1779    4]]\n",
      "F1: 0.0044767767207610516\n",
      "\n",
      "Confusion Matrix (t=1.0)\n",
      "[[ 665    0]\n",
      " [1842    0]]\n",
      "F1: 0.0\n"
     ]
    }
   ],
   "source": [
    "thresholds = np.arange(0.5, 1.05, 0.05)\n",
    "f1_scores = []\n",
    "for t in thresholds:\n",
    "    model, f1 = log_reg(X_prep_fg, y_fg, round(t, 2))\n",
    "    f1_scores.append(f1)"
   ]
  },
  {
   "cell_type": "code",
   "execution_count": 64,
   "metadata": {},
   "outputs": [
    {
     "data": {
      "image/png": "[encoded data removed]",
      "text/plain": [
       "<Figure size 432x288 with 1 Axes>"
      ]
     },
     "metadata": {
      "needs_background": "light"
     },
     "output_type": "display_data"
    }
   ],
   "source": [
    "plt.plot(thresholds, f1_scores)\n",
    "plt.show()"
   ]
  },
  {
   "cell_type": "markdown",
   "metadata": {},
   "source": [
    "#### 4.2 Final Logistic Regression Model"
   ]
  },
  {
   "cell_type": "code",
   "execution_count": 65,
   "metadata": {},
   "outputs": [],
   "source": [
    "BEST_THRESHOLD = 0.6"
   ]
  },
  {
   "cell_type": "code",
   "execution_count": 66,
   "metadata": {},
   "outputs": [
    {
     "name": "stdout",
     "output_type": "stream",
     "text": [
      "\n",
      "Confusion Matrix (t=0.6)\n",
      "[[ 270  428]\n",
      " [ 272 1537]]\n",
      "F1: 0.8145204027556968\n"
     ]
    }
   ],
   "source": [
    "fg_model, f1 = log_reg(X_prep_fg, y_fg, 0.6)"
   ]
  },
  {
   "cell_type": "markdown",
   "metadata": {},
   "source": [
    "### 5.0 Punt Distributions"
   ]
  },
  {
   "cell_type": "code",
   "execution_count": 67,
   "metadata": {},
   "outputs": [],
   "source": [
    "PUNTS = d.loc[d['pff_SPECIALTEAMSTYPE'] == 'PUNT'][['pff_KICKYARDS', 'pff_RETURNYARDS']]\n",
    "PUNTS['pff_RETURNYARDS'] = PUNTS['pff_RETURNYARDS'].fillna(0)\n",
    "PUNTS = PUNTS.dropna()"
   ]
  },
  {
   "cell_type": "code",
   "execution_count": 68,
   "metadata": {},
   "outputs": [
    {
     "data": {
      "text/plain": [
       "(40782, 2)"
      ]
     },
     "execution_count": 68,
     "metadata": {},
     "output_type": "execute_result"
    }
   ],
   "source": [
    "PUNTS.shape"
   ]
  },
  {
   "cell_type": "code",
   "execution_count": 69,
   "metadata": {},
   "outputs": [],
   "source": [
    "PUNTS['NET_YARDS'] = PUNTS['pff_KICKYARDS'] - PUNTS['pff_RETURNYARDS']"
   ]
  },
  {
   "cell_type": "code",
   "execution_count": 70,
   "metadata": {},
   "outputs": [
    {
     "data": {
      "image/png": "[encoded data removed]",
      "text/plain": [
       "<Figure size 432x288 with 1 Axes>"
      ]
     },
     "metadata": {
      "needs_background": "light"
     },
     "output_type": "display_data"
    }
   ],
   "source": [
    "PUNTS['NET_YARDS'].plot.density()\n",
    "plt.show()"
   ]
  },
  {
   "cell_type": "code",
   "execution_count": 71,
   "metadata": {},
   "outputs": [],
   "source": [
    "x = np.array(PUNTS['NET_YARDS'])\n",
    "punt_model = GaussianMixture(\n",
    "        n_components=2,\n",
    "#         random_state=SEED\n",
    ").fit(x.reshape(-1, 1))"
   ]
  },
  {
   "cell_type": "markdown",
   "metadata": {},
   "source": [
    "### 6.0 Run Models"
   ]
  },
  {
   "cell_type": "code",
   "execution_count": 72,
   "metadata": {},
   "outputs": [],
   "source": [
    "RUN = RUN.drop('pff_PASSRESULT', axis=1)"
   ]
  },
  {
   "cell_type": "code",
   "execution_count": 73,
   "metadata": {},
   "outputs": [],
   "source": [
    "r1 = RUN.loc[RUN['pff_DOWN'] == 1]\n",
    "r2 = RUN.loc[RUN['pff_DOWN'] == 2]\n",
    "r3 = RUN.loc[RUN['pff_DOWN'] == 3]\n",
    "r4 = RUN.loc[RUN['pff_DOWN'] == 4]"
   ]
  },
  {
   "cell_type": "code",
   "execution_count": 74,
   "metadata": {},
   "outputs": [
    {
     "name": "stdout",
     "output_type": "stream",
     "text": [
      "Running Downs:\n",
      "\t1st: (96808, 5)\n",
      "\t2nd: (72217, 5)\n",
      "\t3rd: (45542, 5)\n",
      "\t4th: (4888, 5)\n"
     ]
    }
   ],
   "source": [
    "print(\"Running Downs:\")\n",
    "print(\"\\t1st:\", r1.shape)\n",
    "print(\"\\t2nd:\", r2.shape)\n",
    "print(\"\\t3rd:\", r3.shape)\n",
    "print(\"\\t4th:\", r4.shape)"
   ]
  },
  {
   "cell_type": "markdown",
   "metadata": {},
   "source": [
    "#### Calculate Median and Standard Deviation"
   ]
  },
  {
   "cell_type": "code",
   "execution_count": 75,
   "metadata": {},
   "outputs": [],
   "source": [
    "r1['group'] = pd.qcut(r1['pff_DISTANCE'], q=[0, 0.05, 0.9675, 1], labels=['short', 'medium', 'long'])\n",
    "r2['group'] = pd.qcut(r2['pff_DISTANCE'], q=[0, 0.25, 0.75, 1], labels=['short', 'medium', 'long'])\n",
    "r3['group'] = pd.qcut(r3['pff_DISTANCE'], q=[0, 0.25, 0.75, 1], labels=['short', 'medium', 'long'])\n",
    "r4['group'] = pd.qcut(r4['pff_DISTANCE'], q=[0, 0.5, 0.75, 1], labels=['short', 'medium', 'long'])"
   ]
  },
  {
   "cell_type": "code",
   "execution_count": 76,
   "metadata": {},
   "outputs": [],
   "source": [
    "r1_s, r1_m, r1_l = r1.loc[r1['group'] == 'short'], r1.loc[r1['group'] == 'medium'], r1.loc[r1['group'] == 'long']\n",
    "r2_s, r2_m, r2_l = r2.loc[r2['group'] == 'short'], r2.loc[r2['group'] == 'medium'], r2.loc[r2['group'] == 'long']\n",
    "r3_s, r3_m, r3_l = r3.loc[r3['group'] == 'short'], r3.loc[r3['group'] == 'medium'], r3.loc[r3['group'] == 'long']\n",
    "r4_s, r4_m, r4_l = r4.loc[r4['group'] == 'short'], r4.loc[r4['group'] == 'medium'], r4.loc[r4['group'] == 'long']"
   ]
  },
  {
   "cell_type": "code",
   "execution_count": 77,
   "metadata": {},
   "outputs": [
    {
     "name": "stdout",
     "output_type": "stream",
     "text": [
      "Running Categories:\n",
      "\t1st: (96808, 6)\n",
      "\t\t1st Short: (5212, 6)\n",
      "\t\t1st Medium: (88477, 6)\n",
      "\t\t1st Long: (3119, 6)\n",
      "\t2nd: (72217, 6)\n",
      "\t\t2nd Short: (21029, 6)\n",
      "\t\t2nd Medium: (40235, 6)\n",
      "\t\t2nd Long: (10953, 6)\n",
      "\t3rd: (45542, 6)\n",
      "\t\t3rd Short: (11953, 6)\n",
      "\t\t3rd Medium: (25066, 6)\n",
      "\t\t3rd Long: (8523, 6)\n",
      "\t4th: (4888, 6)\n",
      "\t\t4th Short: (2467, 6)\n",
      "\t\t4th Medium: (1327, 6)\n",
      "\t\t4th Long: (1094, 6)\n"
     ]
    }
   ],
   "source": [
    "print(\"Running Categories:\")\n",
    "print(\"\\t1st:\", r1.shape)\n",
    "print(\"\\t\\t1st Short:\", r1_s.shape)\n",
    "print(\"\\t\\t1st Medium:\", r1_m.shape)\n",
    "print(\"\\t\\t1st Long:\", r1_l.shape)\n",
    "print(\"\\t2nd:\", r2.shape)\n",
    "print(\"\\t\\t2nd Short:\", r2_s.shape)\n",
    "print(\"\\t\\t2nd Medium:\", r2_m.shape)\n",
    "print(\"\\t\\t2nd Long:\", r2_l.shape)\n",
    "print(\"\\t3rd:\", r3.shape)\n",
    "print(\"\\t\\t3rd Short:\", r3_s.shape)\n",
    "print(\"\\t\\t3rd Medium:\", r3_m.shape)\n",
    "print(\"\\t\\t3rd Long:\", r3_l.shape)\n",
    "print(\"\\t4th:\", r4.shape)\n",
    "print(\"\\t\\t4th Short:\", r4_s.shape)\n",
    "print(\"\\t\\t4th Medium:\", r4_m.shape)\n",
    "print(\"\\t\\t4th Long:\", r4_l.shape)"
   ]
  },
  {
   "cell_type": "markdown",
   "metadata": {},
   "source": [
    "#### Mixture Models"
   ]
  },
  {
   "cell_type": "markdown",
   "metadata": {},
   "source": [
    "Ref: \n",
    "* [sklearn.mixture.GaussianMixture](https://scikit-learn.org/stable/modules/generated/sklearn.mixture.GaussianMixture.html#sklearn.mixture.GaussianMixture)  \n",
    "* [sklearn.linear_model.LinearRegression](https://scikit-learn.org/stable/modules/generated/sklearn.linear_model.LinearRegression.html)\n",
    "* [sklearn.compose.ColumnTransformer](https://scikit-learn.org/stable/modules/generated/sklearn.compose.ColumnTransformer.html)\n",
    "* [sklearn.pipeline.Pipeline](https://scikit-learn.org/stable/modules/generated/sklearn.pipeline.Pipeline.html)\n",
    "* [sklearn.preprocessing.StandardScaler](https://scikit-learn.org/stable/modules/generated/sklearn.preprocessing.StandardScaler.html)\n",
    "* [sklearn.preprocessing.OneHotEncoder](https://scikit-learn.org/stable/modules/generated/sklearn.preprocessing.OneHotEncoder.html)"
   ]
  },
  {
   "cell_type": "code",
   "execution_count": 78,
   "metadata": {},
   "outputs": [
    {
     "data": {
      "image/png": "[encoded data removed]",
      "text/plain": [
       "<Figure size 432x288 with 1 Axes>"
      ]
     },
     "metadata": {
      "needs_background": "light"
     },
     "output_type": "display_data"
    }
   ],
   "source": [
    "r1_s['pff_GAINLOSSNET'].plot.density()\n",
    "r1_m['pff_GAINLOSSNET'].plot.density()\n",
    "r1_l['pff_GAINLOSSNET'].plot.density()\n",
    "plt.xlim(-20, 50)\n",
    "plt.legend(labels=['short', 'medium', 'long'])\n",
    "plt.show()"
   ]
  },
  {
   "cell_type": "code",
   "execution_count": 79,
   "metadata": {},
   "outputs": [],
   "source": [
    "from sklearn.mixture import GaussianMixture\n",
    "\n",
    "def plot_mixture(gm):\n",
    "    \"\"\"\n",
    "    \n",
    "    \"\"\"\n",
    "    fig = plt.figure()\n",
    "    ax = fig.add_subplot(111)\n",
    "    \n",
    "    x = np.linspace(-25, 50, 1000).reshape(1000, 1)\n",
    "    logprob = gm.score_samples(x)\n",
    "    pdf = np.exp(logprob)\n",
    "    \n",
    "    ax.plot(x, pdf, '-k')\n",
    "    plt.show()\n",
    "    \n",
    "\n",
    "def mixture_model(x, plot=True):\n",
    "    \"\"\"\n",
    "    \n",
    "    \"\"\"\n",
    "    x = np.array(x['pff_GAINLOSSNET'])\n",
    "    \n",
    "    gm = GaussianMixture(\n",
    "        n_components=2, \n",
    "#         random_state=SEED\n",
    "    ).fit(x.reshape(-1, 1))\n",
    "    \n",
    "    if plot:\n",
    "        plot_mixture(gm)\n",
    "    \n",
    "    return gm"
   ]
  },
  {
   "cell_type": "code",
   "execution_count": 80,
   "metadata": {},
   "outputs": [
    {
     "data": {
      "image/png": "[encoded data removed]",
      "text/plain": [
       "<Figure size 432x288 with 1 Axes>"
      ]
     },
     "metadata": {
      "needs_background": "light"
     },
     "output_type": "display_data"
    }
   ],
   "source": [
    "m = mixture_model(r1_s)"
   ]
  },
  {
   "cell_type": "code",
   "execution_count": 81,
   "metadata": {},
   "outputs": [],
   "source": [
    "vals = [\n",
    "    r1_s, r1_m, r1_l,\n",
    "    r2_s, r2_m, r2_l,\n",
    "    r3_s, r3_m, r3_l,\n",
    "    r4_s, r4_m, r4_l\n",
    "]\n",
    "run_mixture_dict = {1: [], 2: [], 3: [], 4:[]}\n",
    "run_bins = {1: [], 2: [], 3: [], 4:[]}\n",
    "\n",
    "for i, v in enumerate(vals):\n",
    "    down = i // 3 + 1\n",
    "    \n",
    "    m = mixture_model(v, plot=False)  \n",
    "    run_mixture_dict[down].append(m)\n",
    "    run_bins[down].append((min(v['pff_DISTANCE']), max(v['pff_DISTANCE']) + 1))"
   ]
  },
  {
   "cell_type": "code",
   "execution_count": 82,
   "metadata": {},
   "outputs": [
    {
     "data": {
      "text/plain": [
       "(1, 9)"
      ]
     },
     "execution_count": 82,
     "metadata": {},
     "output_type": "execute_result"
    }
   ],
   "source": [
    "run_bins[1][0]"
   ]
  },
  {
   "cell_type": "code",
   "execution_count": 83,
   "metadata": {},
   "outputs": [
    {
     "data": {
      "image/png": "[encoded data removed]",
      "text/plain": [
       "<Figure size 432x288 with 1 Axes>"
      ]
     },
     "metadata": {
      "needs_background": "light"
     },
     "output_type": "display_data"
    }
   ],
   "source": [
    "plot_mixture(run_mixture_dict[1][0])"
   ]
  },
  {
   "cell_type": "code",
   "execution_count": 84,
   "metadata": {},
   "outputs": [
    {
     "data": {
      "text/plain": [
       "3.4216191807759646"
      ]
     },
     "execution_count": 84,
     "metadata": {},
     "output_type": "execute_result"
    }
   ],
   "source": [
    "run_mixture_dict[1][0].sample(1)[0][0][0]"
   ]
  },
  {
   "cell_type": "markdown",
   "metadata": {},
   "source": [
    "### 7.0 Pass Models"
   ]
  },
  {
   "cell_type": "code",
   "execution_count": 85,
   "metadata": {},
   "outputs": [],
   "source": [
    "p1 = PASS.loc[PASS['pff_DOWN'] == 1]\n",
    "p2 = PASS.loc[PASS['pff_DOWN'] == 2]\n",
    "p3 = PASS.loc[PASS['pff_DOWN'] == 3]\n",
    "p4 = PASS.loc[PASS['pff_DOWN'] == 4]"
   ]
  },
  {
   "cell_type": "code",
   "execution_count": 86,
   "metadata": {},
   "outputs": [
    {
     "name": "stdout",
     "output_type": "stream",
     "text": [
      "Passing Downs:\n",
      "\t1st: (107682, 6)\n",
      "\t2nd: (79630, 6)\n",
      "\t3rd: (50783, 6)\n",
      "\t4th: (5375, 6)\n"
     ]
    }
   ],
   "source": [
    "print(\"Passing Downs:\")\n",
    "print(\"\\t1st:\", p1.shape)\n",
    "print(\"\\t2nd:\", p2.shape)\n",
    "print(\"\\t3rd:\", p3.shape)\n",
    "print(\"\\t4th:\", p4.shape)"
   ]
  },
  {
   "cell_type": "markdown",
   "metadata": {},
   "source": [
    "#### Calculate Median and Standard Deviation"
   ]
  },
  {
   "cell_type": "code",
   "execution_count": 87,
   "metadata": {},
   "outputs": [],
   "source": [
    "p1['group'] = pd.qcut(p1['pff_DISTANCE'], q=[0, 0.05, 0.9675, 1], labels=['short', 'medium', 'long'])\n",
    "p2['group'] = pd.qcut(p2['pff_DISTANCE'], q=[0, 0.25, 0.75, 1], labels=['short', 'medium', 'long'])\n",
    "p3['group'] = pd.qcut(p3['pff_DISTANCE'], q=[0, 0.25, 0.75, 1], labels=['short', 'medium', 'long'])\n",
    "p4['group'] = pd.qcut(p4['pff_DISTANCE'], q=[0, 0.5, 0.75, 1], labels=['short', 'medium', 'long'])"
   ]
  },
  {
   "cell_type": "code",
   "execution_count": 88,
   "metadata": {},
   "outputs": [],
   "source": [
    "p1_s, p1_m, p1_l = p1.loc[p1['group'] == 'short'], p1.loc[p1['group'] == 'medium'], p1.loc[p1['group'] == 'long']\n",
    "p2_s, p2_m, p2_l = p2.loc[p2['group'] == 'short'], p2.loc[p2['group'] == 'medium'], p2.loc[p2['group'] == 'long']\n",
    "p3_s, p3_m, p3_l = p3.loc[p3['group'] == 'short'], p3.loc[p3['group'] == 'medium'], p3.loc[p3['group'] == 'long']\n",
    "p4_s, p4_m, p4_l = p4.loc[p4['group'] == 'short'], p4.loc[p4['group'] == 'medium'], p4.loc[p4['group'] == 'long']"
   ]
  },
  {
   "cell_type": "code",
   "execution_count": 89,
   "metadata": {},
   "outputs": [
    {
     "name": "stdout",
     "output_type": "stream",
     "text": [
      "Passing Categories:\n",
      "\t1st: (107682, 7)\n",
      "\t\t1st Short: (5775, 7)\n",
      "\t\t1st Medium: (98432, 7)\n",
      "\t\t1st Long: (3475, 7)\n",
      "\t2nd: (79630, 7)\n",
      "\t\t2nd Short: (22910, 7)\n",
      "\t\t2nd Medium: (44483, 7)\n",
      "\t\t2nd Long: (12237, 7)\n",
      "\t3rd: (50783, 7)\n",
      "\t\t3rd Short: (13319, 7)\n",
      "\t\t3rd Medium: (27965, 7)\n",
      "\t\t3rd Long: (9499, 7)\n",
      "\t4th: (5375, 7)\n",
      "\t\t4th Short: (3173, 7)\n",
      "\t\t4th Medium: (991, 7)\n",
      "\t\t4th Long: (1211, 7)\n"
     ]
    }
   ],
   "source": [
    "print(\"Passing Categories:\")\n",
    "print(\"\\t1st:\", p1.shape)\n",
    "print(\"\\t\\t1st Short:\", p1_s.shape)\n",
    "print(\"\\t\\t1st Medium:\", p1_m.shape)\n",
    "print(\"\\t\\t1st Long:\", p1_l.shape)\n",
    "print(\"\\t2nd:\", p2.shape)\n",
    "print(\"\\t\\t2nd Short:\", p2_s.shape)\n",
    "print(\"\\t\\t2nd Medium:\", p2_m.shape)\n",
    "print(\"\\t\\t2nd Long:\", p2_l.shape)\n",
    "print(\"\\t3rd:\", p3.shape)\n",
    "print(\"\\t\\t3rd Short:\", p3_s.shape)\n",
    "print(\"\\t\\t3rd Medium:\", p3_m.shape)\n",
    "print(\"\\t\\t3rd Long:\", p3_l.shape)\n",
    "print(\"\\t4th:\", p4.shape)\n",
    "print(\"\\t\\t4th Short:\", p4_s.shape)\n",
    "print(\"\\t\\t4th Medium:\", p4_m.shape)\n",
    "print(\"\\t\\t4th Long:\", p4_l.shape)"
   ]
  },
  {
   "cell_type": "code",
   "execution_count": 90,
   "metadata": {},
   "outputs": [],
   "source": [
    "vals = [\n",
    "    p1_s, p1_m, p1_l,\n",
    "    p2_s, p2_m, p2_l,\n",
    "    p3_s, p3_m, p3_l,\n",
    "    p4_s, p4_m, p4_l\n",
    "]\n",
    "pass_mixture_dict = {1: [], 2: [], 3: [], 4:[]}\n",
    "pass_bins = {1: [], 2: [], 3: [], 4:[]}\n",
    "\n",
    "for i, v in enumerate(vals):\n",
    "    down = i // 3 + 1\n",
    "    \n",
    "    m = mixture_model(v, plot=False)  \n",
    "    pass_mixture_dict[down].append(m)\n",
    "    pass_bins[down].append((min(v['pff_DISTANCE']), max(v['pff_DISTANCE']) + 1))"
   ]
  },
  {
   "cell_type": "code",
   "execution_count": 91,
   "metadata": {},
   "outputs": [
    {
     "data": {
      "text/plain": [
       "(1, 9)"
      ]
     },
     "execution_count": 91,
     "metadata": {},
     "output_type": "execute_result"
    }
   ],
   "source": [
    "pass_bins[1][0]"
   ]
  },
  {
   "cell_type": "code",
   "execution_count": 92,
   "metadata": {},
   "outputs": [
    {
     "data": {
      "image/png": "[encoded data removed]",
      "text/plain": [
       "<Figure size 432x288 with 1 Axes>"
      ]
     },
     "metadata": {
      "needs_background": "light"
     },
     "output_type": "display_data"
    }
   ],
   "source": [
    "plot_mixture(pass_mixture_dict[1][0])"
   ]
  },
  {
   "cell_type": "markdown",
   "metadata": {},
   "source": [
    "### 8.0 Expected Points Added Model"
   ]
  },
  {
   "cell_type": "code",
   "execution_count": 228,
   "metadata": {},
   "outputs": [],
   "source": [
    "SEED = 42\n",
    "PCT_RUN = 0.5\n",
    "AGGRESSION = 0"
   ]
  },
  {
   "cell_type": "code",
   "execution_count": 229,
   "metadata": {},
   "outputs": [],
   "source": [
    "def EPA(down, ytg, position, pct_run=0.5, aggression=0):\n",
    "    \"\"\"\n",
    "    @param - down:\n",
    "    @param - ytg:\n",
    "    @param - position:\n",
    "    @param - own:\n",
    "    \"\"\"\n",
    "    global reverse\n",
    "    \n",
    "    points = list()\n",
    "    \n",
    "    SIMULATIONS = 100\n",
    "    for i in range(SIMULATIONS):\n",
    "        reverse = False\n",
    "        \n",
    "        point = run_play(down, ytg, position, pct_run, aggression)\n",
    "        points.append(point)\n",
    "    \n",
    "    return np.array(points).mean()"
   ]
  },
  {
   "cell_type": "code",
   "execution_count": 230,
   "metadata": {},
   "outputs": [],
   "source": [
    "def run_play(down, ytg, position, pct_run, aggression):\n",
    "    \"\"\"\n",
    "    @param - down:\n",
    "    @param - ytg:\n",
    "    @param - position:\n",
    "    \"\"\"\n",
    "    global reverse\n",
    "    \n",
    "    choices = ['run', 'pass']\n",
    "    choice = np.random.choice(choices, 1, p=[pct_run, 1 - pct_run])[0]\n",
    "\n",
    "    bins = run_bins if choice == 'run' else pass_bins\n",
    "    models = run_mixture_dict if choice == 'run' else pass_mixture_dict\n",
    "    \n",
    "    try:\n",
    "        idx = [i for i, b in enumerate(bins[down]) if ytg in range(b[1])][0]\n",
    "    except IndexError:\n",
    "        idx = 2\n",
    "    \n",
    "    model = models[down][idx]\n",
    "    \n",
    "#     print(down, ytg, position)\n",
    "    \n",
    "    if down == 4:\n",
    "        # Go For It\n",
    "        if aggression >= idx and position > 40:\n",
    "            yards_gained = round(model.sample(1)[0][0][0], 0)\n",
    "            position += yards_gained\n",
    "            \n",
    "            # Converted\n",
    "            if yards_gained >= ytg:\n",
    "                down, ytg = 1, 10\n",
    "#                 print(\"\\tConverted:\", yards_gained, \"yards gained\")\n",
    "                return run_play(down, ytg, position, pct_run, aggression)\n",
    "            \n",
    "            # Turnover on Downs\n",
    "            else:\n",
    "                reverse = not reverse\n",
    "                down, ytg = 1, 10\n",
    "#                 print(\"\\tTurnover on Downs:\", yards_gained, \"yards gained\")\n",
    "                return run_play(down, ytg, 100 - position, pct_run, aggression)\n",
    "                \n",
    "        # Field Goal\n",
    "        elif (position >= 60) or (50 >= position < 60 and AGGRESSION == 2):\n",
    "            hash_ = list(np.zeros(3))\n",
    "            hash_[np.random.randint(0, 3)] = 1\n",
    "            hash_.extend([100 - position + 17])\n",
    "            result = fg_model.predict(np.array(hash_).reshape(1, -1))[0]\n",
    "            \n",
    "#             print('Kicking Field Goal...')\n",
    "            if result == 0:\n",
    "                reverse = not reverse\n",
    "                down, ytg = 1, 10\n",
    "                return run_play(down, ytg, 100 - position, pct_run, aggression)\n",
    "            else:\n",
    "                score = True\n",
    "                scored = 3\n",
    "            \n",
    "        # Punt\n",
    "        else:\n",
    "            net_yards = round(punt_model.sample(1)[0][0][0], 0)\n",
    "            position += net_yards\n",
    "            \n",
    "#             print('Punting...', net_yards)\n",
    "            # Punt Returned for TD\n",
    "            if position < 0:\n",
    "                score = True\n",
    "                scored = -7\n",
    "            # Touchback\n",
    "            elif position >= 100:\n",
    "                down, ytg = 1, 10\n",
    "                return run_play(down, ytg, 25, pct_run, aggression)\n",
    "            else:\n",
    "                reverse = not reverse\n",
    "                down, ytg = 1, 10\n",
    "                return run_play(down, ytg, 100 - position, pct_run, aggression)\n",
    "        \n",
    "    else:\n",
    "        yards_gained = round(model.sample(1)[0][0][0], 0)\n",
    "        position += yards_gained\n",
    "#         print(\"\\t\", yards_gained, \"yards gained\")\n",
    "        \n",
    "        # Touchdown\n",
    "        if position >= 100:\n",
    "#             print('TOUCHDOWN!')\n",
    "            score = True\n",
    "            scored = 7\n",
    "            \n",
    "        # Safety\n",
    "        elif position <= 0:\n",
    "#             print('SAFETY!')\n",
    "            score = True\n",
    "            scored = -2\n",
    "            \n",
    "        # First Down\n",
    "        elif yards_gained >= ytg:\n",
    "            down, ytg = 1, 10\n",
    "            return run_play(down, ytg, position, pct_run, aggression)\n",
    "        else:\n",
    "            return run_play(down + 1, ytg - yards_gained, position, pct_run, aggression)\n",
    "    \n",
    "    ret = scored if not reverse else -scored\n",
    "#     print(ret)\n",
    "    return ret"
   ]
  },
  {
   "cell_type": "code",
   "execution_count": 231,
   "metadata": {},
   "outputs": [],
   "source": [
    "down = 1\n",
    "ytg = 10\n",
    "position = 10"
   ]
  },
  {
   "cell_type": "code",
   "execution_count": 233,
   "metadata": {},
   "outputs": [],
   "source": [
    "STATE = {\n",
    "    'down': down,\n",
    "    'ytg': ytg,\n",
    "    'position': position,\n",
    "    'pct_run': PCT_RUN,\n",
    "    'aggression': AGGRESSION\n",
    "}"
   ]
  },
  {
   "cell_type": "code",
   "execution_count": 234,
   "metadata": {},
   "outputs": [
    {
     "name": "stdout",
     "output_type": "stream",
     "text": [
      "CPU times: user 1.93 s, sys: 62.8 ms, total: 1.99 s\n",
      "Wall time: 12.2 s\n"
     ]
    }
   ],
   "source": [
    "%%time\n",
    "\n",
    "epa = EPA(**STATE)"
   ]
  },
  {
   "cell_type": "code",
   "execution_count": 236,
   "metadata": {},
   "outputs": [
    {
     "name": "stdout",
     "output_type": "stream",
     "text": [
      "\n",
      "    Expected Points Model:\n",
      "    S (Down: 1, YTG: 10, Position: Own 10) == -0.6 EP\n",
      "\n"
     ]
    }
   ],
   "source": [
    "print('''\n",
    "    Expected Points Model:\n",
    "    S (Down: {}, YTG: {}, Position: {}) == {} EP\n",
    "'''.format(\n",
    "    STATE['down'],\n",
    "    STATE['ytg'],\n",
    "    ('Own ' if STATE['position'] < 50 else '') + \n",
    "    str(STATE['position'] if STATE['position'] < 50 else 100 - STATE['position']),\n",
    "    epa\n",
    "))"
   ]
  },
  {
   "cell_type": "markdown",
   "metadata": {},
   "source": [
    "Hriday Completion %"
   ]
  },
  {
   "cell_type": "markdown",
   "metadata": {},
   "source": [
    "Short"
   ]
  },
  {
   "cell_type": "code",
   "execution_count": null,
   "metadata": {},
   "outputs": [],
   "source": [
    "[0.40185185185185185,\n",
    " 0.387123745819398,\n",
    " 0.3518578352180937,\n",
    " 0.40397350993377484]"
   ]
  },
  {
   "cell_type": "markdown",
   "metadata": {},
   "source": [
    "Medium"
   ]
  },
  {
   "cell_type": "code",
   "execution_count": null,
   "metadata": {},
   "outputs": [],
   "source": [
    "[0.3900100908173562,\n",
    " 0.3751466944842874,\n",
    " 0.3601001915426551,\n",
    " 0.2967032967032967]"
   ]
  },
  {
   "cell_type": "markdown",
   "metadata": {},
   "source": [
    "Long"
   ]
  },
  {
   "cell_type": "code",
   "execution_count": null,
   "metadata": {},
   "outputs": [],
   "source": [
    "[0.28287841191067,\n",
    " 0.2672672672672673,\n",
    " 0.22920517560073936,\n",
    " 0.30869565217391304]"
   ]
  },
  {
   "cell_type": "markdown",
   "metadata": {},
   "source": [
    "### 9.0 Data Viz"
   ]
  },
  {
   "cell_type": "code",
   "execution_count": 242,
   "metadata": {},
   "outputs": [],
   "source": [
    "DOWNS = [1, 2, 3, 4]\n",
    "YARDS = [2, 5, 10]\n",
    "POSITION = list(range(10, 100, 10))\n",
    "PCT_RUN = [0.25, 0.5, 0.75]\n",
    "AGGRESSION = [0, 1, 2]"
   ]
  },
  {
   "cell_type": "code",
   "execution_count": 243,
   "metadata": {},
   "outputs": [],
   "source": [
    "import itertools\n",
    "states = np.array(\n",
    "    list(itertools.product(DOWNS, YARDS, POSITION, PCT_RUN, AGGRESSION))\n",
    ")"
   ]
  },
  {
   "cell_type": "code",
   "execution_count": 244,
   "metadata": {},
   "outputs": [
    {
     "data": {
      "text/plain": [
       "(972, 5)"
      ]
     },
     "execution_count": 244,
     "metadata": {},
     "output_type": "execute_result"
    }
   ],
   "source": [
    "states.shape"
   ]
  },
  {
   "cell_type": "code",
   "execution_count": 245,
   "metadata": {},
   "outputs": [
    {
     "data": {
      "text/plain": [
       "array([[ 1.  ,  2.  , 10.  ,  0.25,  0.  ],\n",
       "       [ 1.  ,  2.  , 10.  ,  0.25,  1.  ],\n",
       "       [ 1.  ,  2.  , 10.  ,  0.25,  2.  ],\n",
       "       ...,\n",
       "       [ 4.  , 10.  , 90.  ,  0.75,  0.  ],\n",
       "       [ 4.  , 10.  , 90.  ,  0.75,  1.  ],\n",
       "       [ 4.  , 10.  , 90.  ,  0.75,  2.  ]])"
      ]
     },
     "execution_count": 245,
     "metadata": {},
     "output_type": "execute_result"
    }
   ],
   "source": [
    "states"
   ]
  },
  {
   "cell_type": "code",
   "execution_count": 246,
   "metadata": {},
   "outputs": [],
   "source": [
    "def call_epa(inputs):\n",
    "    \"\"\"\n",
    "    @param inputs — \n",
    "    \"\"\"\n",
    "    epa = EPA(*inputs)\n",
    "#     print(\"Inputs:\", inputs, \" | EPA:\", epa)\n",
    "    \n",
    "    return epa"
   ]
  },
  {
   "cell_type": "code",
   "execution_count": 247,
   "metadata": {},
   "outputs": [
    {
     "name": "stdout",
     "output_type": "stream",
     "text": [
      "CPU times: user 10min 47s, sys: 7.6 s, total: 10min 55s\n",
      "Wall time: 11min 51s\n"
     ]
    }
   ],
   "source": [
    "%%time\n",
    "\n",
    "epa_vect = np.vectorize(call_epa, signature='(n)->()')\n",
    "epa_lst = epa_vect(np.array(states))"
   ]
  },
  {
   "cell_type": "code",
   "execution_count": 248,
   "metadata": {},
   "outputs": [
    {
     "data": {
      "text/plain": [
       "array([ 0.28,  0.55, -0.14,  0.42,  0.49,  0.66,  0.45, -0.03,  1.12,\n",
       "        0.55,  1.62,  1.75,  1.18,  1.03,  0.7 ,  0.73,  0.76,  1.03,\n",
       "        1.65,  1.35,  1.91,  2.36,  1.28,  1.68,  1.38,  1.99,  1.3 ,\n",
       "        2.26,  1.26,  1.44,  2.44,  3.43,  0.88,  3.01,  2.54,  2.33,\n",
       "        3.18,  2.25,  2.89,  3.44,  3.83,  2.01,  2.76,  3.28,  3.22,\n",
       "        4.02,  4.91,  3.86,  4.56,  3.16,  3.63,  3.47,  3.51,  3.03,\n",
       "        3.68,  4.72,  3.5 ,  5.29,  4.76,  4.2 ,  4.51,  4.39,  4.15,\n",
       "        5.61,  5.76,  4.57,  5.16,  4.58,  4.71,  4.99,  5.85,  4.75,\n",
       "        5.91,  6.15,  6.39,  5.88,  5.63,  5.69,  6.18,  6.26,  6.06,\n",
       "        1.01, -0.02,  0.44,  0.02,  1.11,  1.14, -0.63,  0.77, -0.12,\n",
       "        1.1 ,  1.13,  1.91,  0.5 ,  0.51,  0.79,  1.52,  0.78, -0.37,\n",
       "        1.75,  2.44,  2.25,  1.02,  1.37,  0.37,  1.53,  1.74,  2.33,\n",
       "        2.67,  3.06,  2.57,  2.43,  2.07,  2.28,  0.83,  2.99,  1.07,\n",
       "        2.49,  2.81,  1.91,  2.5 ,  2.92,  3.36,  3.2 ,  3.05,  3.26,\n",
       "        4.49,  4.32,  2.98,  4.09,  3.76,  4.1 ,  3.44,  4.09,  3.82,\n",
       "        4.24,  4.52,  3.31,  4.7 ,  4.04,  4.62,  4.24,  3.96,  4.1 ,\n",
       "        4.92,  5.43,  4.52,  5.72,  5.3 ,  5.36,  5.39,  5.53,  5.22,\n",
       "        5.88,  6.64,  5.09,  5.76,  5.92,  4.8 ,  5.96,  5.77,  5.13,\n",
       "       -0.29,  0.18, -0.08,  1.  ,  0.15,  0.54,  1.  ,  1.09,  0.53,\n",
       "        1.02,  0.7 ,  0.7 ,  1.01,  0.63,  0.99,  1.28,  0.96,  1.12,\n",
       "        2.31,  1.44,  1.12,  1.31,  1.36,  1.63,  0.53,  1.75,  1.77,\n",
       "        1.89,  1.05,  1.82,  2.16,  2.11,  2.05,  2.35,  2.83,  2.38,\n",
       "        4.14,  2.94,  2.7 ,  2.69,  3.33,  2.23,  2.49,  2.28,  2.52,\n",
       "        4.12,  2.56,  2.94,  3.15,  3.2 ,  3.91,  4.07,  3.86,  3.45,\n",
       "        4.75,  4.65,  4.1 ,  5.15,  4.37,  4.06,  4.33,  4.8 ,  4.48,\n",
       "        5.55,  5.36,  4.43,  5.44,  5.68,  5.08,  5.6 ,  4.36,  5.13,\n",
       "        5.64,  5.84,  5.41,  5.94,  5.55,  5.5 ,  5.72,  5.8 ,  6.25,\n",
       "        0.7 ,  0.75, -0.13, -0.23,  0.9 ,  0.72,  0.32, -0.46,  0.73,\n",
       "        1.32,  0.49, -0.56, -0.06,  1.45,  1.54,  0.35,  1.07,  2.29,\n",
       "        2.  ,  0.75,  0.75,  0.26,  1.78,  2.38,  2.34,  1.79,  0.74,\n",
       "        2.59,  2.72,  2.29,  2.6 ,  1.65,  1.54,  2.5 ,  2.46,  1.91,\n",
       "        2.98,  2.57,  3.45,  3.01,  3.47,  2.75,  3.12,  1.75,  2.89,\n",
       "        3.87,  4.36,  3.49,  3.88,  3.18,  3.17,  4.06,  3.59,  3.64,\n",
       "        4.77,  3.99,  4.15,  3.72,  4.52,  3.36,  4.44,  4.96,  3.49,\n",
       "        5.74,  5.08,  5.18,  5.11,  4.97,  4.  ,  5.76,  5.91,  4.76,\n",
       "        6.24,  5.99,  6.02,  6.22,  6.24,  6.29,  6.14,  6.18,  5.6 ,\n",
       "       -1.61,  0.04, -0.07, -0.62,  0.3 ,  1.06, -0.36, -1.07, -1.21,\n",
       "        0.83,  0.59,  0.38,  0.49,  0.01,  0.05,  0.55,  1.39,  1.58,\n",
       "        1.45,  1.05,  2.15,  0.45,  0.63,  0.74,  1.37,  1.4 ,  0.8 ,\n",
       "        2.91,  2.97,  2.14,  1.14,  2.92,  2.43,  0.8 ,  1.42,  2.56,\n",
       "        2.6 ,  3.21,  1.77,  2.08,  3.1 ,  2.62,  3.11,  2.46,  2.42,\n",
       "        3.75,  3.33,  4.62,  3.49,  3.42,  2.89,  3.28,  3.28,  3.08,\n",
       "        3.72,  3.6 ,  4.1 ,  4.38,  3.66,  3.63,  3.63,  3.47,  3.31,\n",
       "        5.  ,  4.94,  4.15,  5.46,  4.65,  4.37,  4.8 ,  5.71,  5.08,\n",
       "        5.52,  5.76,  5.27,  5.54,  5.64,  5.73,  5.54,  5.82,  5.13,\n",
       "       -0.46, -0.51,  0.15, -0.72, -0.45, -0.26, -1.21, -1.04, -0.91,\n",
       "        0.86, -0.95,  0.7 , -0.14,  1.16, -0.47,  0.57,  0.16, -0.52,\n",
       "        0.71,  0.79,  1.02,  1.06,  0.97,  0.14,  0.74,  1.32,  1.49,\n",
       "        1.07,  1.55,  1.45,  1.82,  2.8 ,  0.84,  0.96,  1.68,  2.15,\n",
       "        2.76,  2.43,  1.96,  2.35,  3.42,  1.35,  2.8 ,  0.98,  1.16,\n",
       "        1.96,  3.46,  3.17,  2.02,  2.  ,  2.94,  2.15,  1.67,  2.47,\n",
       "        3.83,  3.49,  3.59,  3.45,  3.67,  2.7 ,  4.06,  3.66,  4.01,\n",
       "        4.21,  4.23,  4.66,  4.92,  5.15,  2.52,  4.55,  4.69,  3.73,\n",
       "        4.99,  5.41,  4.06,  5.36,  5.27,  4.93,  5.24,  4.84,  4.25,\n",
       "       -0.09, -0.26, -0.78, -0.66, -1.7 ,  0.56, -1.1 , -1.59,  0.29,\n",
       "       -0.42, -0.16,  0.66,  0.15,  0.01, -0.46,  1.46, -0.53,  0.7 ,\n",
       "       -0.09,  0.64,  0.7 ,  0.67,  0.71,  0.56,  0.09,  0.7 ,  1.17,\n",
       "        1.97,  1.83,  1.63,  0.99,  2.54,  1.41,  1.67,  2.35,  1.96,\n",
       "        1.89,  3.29,  1.72,  2.4 ,  2.76,  2.61,  2.68,  2.35,  2.56,\n",
       "        3.57,  3.38,  2.24,  2.58,  2.95,  1.96,  3.27,  1.94,  2.43,\n",
       "        4.25,  3.36,  4.34,  3.44,  4.66,  3.08,  2.39,  4.56,  3.87,\n",
       "        4.27,  4.68,  4.57,  4.38,  5.15,  4.38,  4.79,  4.41,  4.52,\n",
       "        5.21,  5.92,  5.32,  5.24,  5.66,  4.9 ,  5.41,  4.81,  5.69,\n",
       "       -1.51, -1.01, -0.88, -0.41, -1.76, -1.45, -1.34, -1.77,  0.06,\n",
       "       -0.98, -0.36, -0.27,  0.22, -0.79, -1.63, -0.84, -0.91,  0.32,\n",
       "        1.8 , -0.54, -0.24,  0.69,  0.36,  0.23,  0.19,  0.77,  0.33,\n",
       "        0.82,  0.23,  0.23,  1.42,  1.17,  0.47,  1.91,  0.7 ,  2.38,\n",
       "        1.06,  1.21,  1.21,  1.41,  2.07,  0.84,  2.69,  1.78,  1.82,\n",
       "        2.79,  2.  ,  2.  ,  2.44,  2.68,  2.66,  2.37,  2.2 ,  2.61,\n",
       "        3.31,  3.65,  3.07,  3.28,  2.98,  2.  ,  2.96,  2.33,  2.93,\n",
       "        4.52,  4.84,  3.35,  4.63,  4.32,  3.31,  4.04,  4.3 ,  3.4 ,\n",
       "        4.98,  5.28,  4.39,  5.08,  5.18,  4.57,  4.67,  4.8 ,  3.35,\n",
       "       -1.22, -0.7 , -1.06, -2.07, -2.61, -3.3 , -0.91, -2.44, -1.3 ,\n",
       "       -1.09, -0.95, -1.4 , -0.94, -1.17, -0.69, -1.16, -0.82, -0.42,\n",
       "       -1.11,  0.57, -1.96, -0.43, -0.24, -1.22, -0.67, -1.16, -0.33,\n",
       "        0.24,  0.82, -0.94,  0.81,  0.47, -1.12,  0.63, -0.2 , -0.04,\n",
       "        1.47,  0.41,  0.98,  0.76,  0.81,  1.31,  2.14,  0.97,  0.33,\n",
       "        1.26, -0.31,  1.12,  0.32,  1.23,  2.47,  1.26,  0.69,  2.14,\n",
       "        3.05,  2.54,  2.85,  2.88,  3.01,  2.94,  2.45,  2.62,  1.72,\n",
       "        3.28,  3.68,  3.5 ,  3.87,  3.63,  2.56,  3.8 ,  3.36,  2.84,\n",
       "        3.91,  4.27,  2.74,  4.52,  4.32,  2.6 ,  3.63,  3.57,  3.57,\n",
       "       -3.73, -3.38, -2.75, -1.66, -3.63, -2.42, -2.5 , -1.93, -3.27,\n",
       "       -1.88, -3.06, -2.99, -1.51, -2.59, -1.64, -1.8 , -2.95, -2.57,\n",
       "       -1.66, -1.73, -1.54, -0.87, -1.17, -1.59, -1.57,  0.3 , -0.75,\n",
       "       -0.75, -1.09, -0.74, -0.71, -1.21,  0.55, -0.97, -0.51, -0.37,\n",
       "        0.42, -0.55,  2.24,  0.21,  0.76,  0.  ,  0.94,  2.18,  1.3 ,\n",
       "        1.42,  2.51,  1.12,  1.02,  1.76,  1.86,  1.59,  1.27,  0.56,\n",
       "        2.61,  1.97,  2.43,  1.06,  1.46,  2.75,  2.66,  2.41,  2.34,\n",
       "        2.38,  3.03,  2.94,  2.94,  3.45,  1.82,  2.  ,  2.78,  3.36,\n",
       "        3.37,  3.95,  3.26,  2.62,  3.21,  3.44,  3.81,  4.02,  3.03,\n",
       "       -3.29, -2.81, -3.5 , -2.52, -2.33, -2.8 , -3.4 , -3.22, -2.14,\n",
       "       -2.6 , -2.87, -2.61, -2.28, -2.7 , -2.38, -1.63, -1.4 , -1.12,\n",
       "       -1.53, -2.18, -1.82, -2.46, -2.46, -1.77, -1.11, -1.51, -1.58,\n",
       "        0.19, -1.63, -0.61, -0.36, -1.15, -1.74, -1.14, -1.61, -0.33,\n",
       "       -0.71,  0.16, -0.7 , -0.21,  0.36, -0.37,  0.27, -0.66, -0.56,\n",
       "       -2.21,  0.82,  0.05, -1.8 ,  1.11, -0.98, -2.83,  0.55, -0.09,\n",
       "        3.  ,  1.71,  1.86,  3.  ,  1.81,  1.82,  3.  ,  0.85,  0.89,\n",
       "        3.  ,  2.79,  2.28,  3.  ,  1.62,  2.1 ,  3.  ,  2.54,  2.1 ,\n",
       "        3.  ,  3.28,  2.1 ,  3.  ,  2.38,  2.84,  3.  ,  1.51,  2.51,\n",
       "       -2.47, -2.54, -2.47, -2.61, -2.9 , -3.41, -3.39, -0.86, -2.89,\n",
       "       -2.96, -2.05, -1.49, -0.89, -2.66, -1.91, -2.35, -3.28, -2.65,\n",
       "       -1.03, -1.48, -1.87, -1.06, -1.66, -1.17, -2.45, -2.03, -2.19,\n",
       "       -0.54, -0.69, -0.99, -0.61, -0.64, -0.66, -1.58, -0.86,  0.13,\n",
       "       -0.12,  0.75, -0.37, -0.86, -0.73, -1.73, -0.2 ,  0.07, -0.51,\n",
       "       -1.6 , -1.45, -0.98, -2.1 , -2.03,  0.19, -2.2 , -2.57,  0.1 ,\n",
       "        3.  ,  3.  , -0.84,  3.  ,  3.  , -0.19,  3.  ,  3.  ,  0.1 ,\n",
       "        3.  ,  3.  ,  0.42,  3.  ,  3.  ,  2.05,  3.  ,  3.  ,  0.23,\n",
       "        3.  ,  3.  ,  1.9 ,  3.  ,  3.  ,  1.9 ,  3.  ,  3.  ,  0.26])"
      ]
     },
     "execution_count": 248,
     "metadata": {},
     "output_type": "execute_result"
    }
   ],
   "source": [
    "epa_lst"
   ]
  },
  {
   "cell_type": "code",
   "execution_count": 249,
   "metadata": {},
   "outputs": [],
   "source": [
    "states_df = pd.DataFrame(\n",
    "    states, columns=['down', 'yard', 'position', 'percent_run', 'aggression']\n",
    ")"
   ]
  },
  {
   "cell_type": "code",
   "execution_count": 250,
   "metadata": {},
   "outputs": [],
   "source": [
    "states_df['epa'] = epa_lst"
   ]
  },
  {
   "cell_type": "code",
   "execution_count": 254,
   "metadata": {},
   "outputs": [],
   "source": [
    "states_df.to_csv('states.csv')"
   ]
  }
 ],
 "metadata": {
  "kernelspec": {
   "display_name": "Python 3",
   "language": "python",
   "name": "python3"
  },
  "language_info": {
   "codemirror_mode": {
    "name": "ipython",
    "version": 3
   },
   "file_extension": ".py",
   "mimetype": "text/x-python",
   "name": "python",
   "nbconvert_exporter": "python",
   "pygments_lexer": "ipython3",
   "version": "3.6.4"
  }
 },
 "nbformat": 4,
 "nbformat_minor": 1
}
