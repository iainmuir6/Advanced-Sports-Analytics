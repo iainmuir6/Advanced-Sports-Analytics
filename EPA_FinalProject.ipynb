{
 "cells": [
  {
   "cell_type": "markdown",
   "metadata": {
    "collapsed": true
   },
   "source": [
    "# Empirical Expected Points Model"
   ]
  },
  {
   "cell_type": "markdown",
   "metadata": {},
   "source": [
    "**Authors:**  \n",
    "Iain Muir, iam9ez  \n",
    "Hriday Singh,  \n",
    "Connor Smith"
   ]
  },
  {
   "cell_type": "markdown",
   "metadata": {},
   "source": [
    "## Table of Contents"
   ]
  },
  {
   "cell_type": "markdown",
   "metadata": {},
   "source": [
    "* 0. Import Libraries\n",
    "* 1. Load Data\n",
    "* 2. Transform Data\n",
    "    * 2.1 Remove Garbage Time\n",
    "    * 2.2 Split Score to Home/Away\n",
    "    * 2.3 Cast datetime Variables\n",
    "    * 2.4 Group Point Periods\n",
    "* 3. Expected Points Model"
   ]
  },
  {
   "cell_type": "markdown",
   "metadata": {},
   "source": [
    "### 0. Import Libraries"
   ]
  },
  {
   "cell_type": "code",
   "execution_count": 2,
   "metadata": {},
   "outputs": [],
   "source": [
    "from sklearn.linear_model import LinearRegression, LogisticRegression\n",
    "from sklearn.preprocessing import OneHotEncoder, StandardScaler\n",
    "from sklearn.metrics import confusion_matrix, f1_score\n",
    "from sklearn.model_selection import train_test_split\n",
    "from sklearn.compose import ColumnTransformer\n",
    "from sklearn.mixture import GaussianMixture\n",
    "from sklearn.pipeline import Pipeline\n",
    "import matplotlib.pyplot as plt\n",
    "import pandas as pd\n",
    "import numpy as np"
   ]
  },
  {
   "cell_type": "code",
   "execution_count": 19,
   "metadata": {},
   "outputs": [],
   "source": [
    "from pandas.core.common import SettingWithCopyWarning\n",
    "import warnings\n",
    "\n",
    "warnings.simplefilter(action=\"ignore\", category=SettingWithCopyWarning)"
   ]
  },
  {
   "cell_type": "markdown",
   "metadata": {},
   "source": [
    "### 1.0 Load Data"
   ]
  },
  {
   "cell_type": "markdown",
   "metadata": {},
   "source": [
    "#### 1.1 Aggregate Data across Years"
   ]
  },
  {
   "cell_type": "code",
   "execution_count": 1,
   "metadata": {},
   "outputs": [],
   "source": [
    "ROOT = '/Users/iainmuir/Desktop/4Y 1S/STAT 4800/Dataset/{} PFF All Plays.csv'"
   ]
  },
  {
   "cell_type": "code",
   "execution_count": 6,
   "metadata": {},
   "outputs": [],
   "source": [
    "DATA = pd.DataFrame()"
   ]
  },
  {
   "cell_type": "code",
   "execution_count": 8,
   "metadata": {},
   "outputs": [
    {
     "name": "stdout",
     "output_type": "stream",
     "text": [
      "CPU times: user 42.7 s, sys: 11.3 s, total: 53.9 s\n",
      "Wall time: 59.9 s\n"
     ]
    }
   ],
   "source": [
    "%%time\n",
    "\n",
    "for year in range(2015, 2020):\n",
    "    PATH = ROOT.format(year)\n",
    "    df = pd.read_csv(PATH, low_memory=False)\n",
    "    DATA = pd.concat([DATA, df])"
   ]
  },
  {
   "cell_type": "code",
   "execution_count": 9,
   "metadata": {},
   "outputs": [
    {
     "data": {
      "text/plain": [
       "(758971, 177)"
      ]
     },
     "execution_count": 9,
     "metadata": {},
     "output_type": "execute_result"
    }
   ],
   "source": [
    "DATA.shape"
   ]
  },
  {
   "cell_type": "code",
   "execution_count": 10,
   "metadata": {},
   "outputs": [
    {
     "data": {
      "text/html": [
       "<div>\n",
       "<style scoped>\n",
       "    .dataframe tbody tr th:only-of-type {\n",
       "        vertical-align: middle;\n",
       "    }\n",
       "\n",
       "    .dataframe tbody tr th {\n",
       "        vertical-align: top;\n",
       "    }\n",
       "\n",
       "    .dataframe thead th {\n",
       "        text-align: right;\n",
       "    }\n",
       "</style>\n",
       "<table border=\"1\" class=\"dataframe\">\n",
       "  <thead>\n",
       "    <tr style=\"text-align: right;\">\n",
       "      <th></th>\n",
       "      <th>pff_PLAYID</th>\n",
       "      <th>pff_GAMEID</th>\n",
       "      <th>pff_GAMEDATE</th>\n",
       "      <th>pff_GAMESEASON</th>\n",
       "      <th>pff_WEEK</th>\n",
       "      <th>pff_GSISGAMEKEY</th>\n",
       "      <th>pff_GSISPLAYID</th>\n",
       "      <th>pff_QUARTER</th>\n",
       "      <th>pff_DOWN</th>\n",
       "      <th>pff_CLOCK</th>\n",
       "      <th>...</th>\n",
       "      <th>pff_STSAFETIES</th>\n",
       "      <th>pff_TACKLE</th>\n",
       "      <th>pff_TACKLEASSIST</th>\n",
       "      <th>pff_TEALIGNMENT</th>\n",
       "      <th>pff_TOUCHDOWN</th>\n",
       "      <th>pff_UNBLOCKEDPRESSURE</th>\n",
       "      <th>pff_VISE</th>\n",
       "      <th>pff_WRALIGNMENT</th>\n",
       "      <th>pff_PLAYCLOCK</th>\n",
       "      <th>pff_RUNPASSOPTION</th>\n",
       "    </tr>\n",
       "  </thead>\n",
       "  <tbody>\n",
       "    <tr>\n",
       "      <th>0</th>\n",
       "      <td>1455513</td>\n",
       "      <td>5573</td>\n",
       "      <td>12/31/15</td>\n",
       "      <td>2015</td>\n",
       "      <td>PO</td>\n",
       "      <td>60761</td>\n",
       "      <td>35</td>\n",
       "      <td>1</td>\n",
       "      <td>0</td>\n",
       "      <td>15:00</td>\n",
       "      <td>...</td>\n",
       "      <td>NaN</td>\n",
       "      <td>NaN</td>\n",
       "      <td>NaN</td>\n",
       "      <td>NaN</td>\n",
       "      <td>NaN</td>\n",
       "      <td>NaN</td>\n",
       "      <td>NaN</td>\n",
       "      <td>NaN</td>\n",
       "      <td>NaN</td>\n",
       "      <td>0.0</td>\n",
       "    </tr>\n",
       "    <tr>\n",
       "      <th>1</th>\n",
       "      <td>1455434</td>\n",
       "      <td>5573</td>\n",
       "      <td>12/31/15</td>\n",
       "      <td>2015</td>\n",
       "      <td>PO</td>\n",
       "      <td>60761</td>\n",
       "      <td>49</td>\n",
       "      <td>1</td>\n",
       "      <td>1</td>\n",
       "      <td>15:00</td>\n",
       "      <td>...</td>\n",
       "      <td>NaN</td>\n",
       "      <td>NaN</td>\n",
       "      <td>NaN</td>\n",
       "      <td>NaN</td>\n",
       "      <td>NaN</td>\n",
       "      <td>NaN</td>\n",
       "      <td>NaN</td>\n",
       "      <td>LWR^; SRiWR; SRoWR^; RWR</td>\n",
       "      <td>NaN</td>\n",
       "      <td>0.0</td>\n",
       "    </tr>\n",
       "    <tr>\n",
       "      <th>2</th>\n",
       "      <td>1455470</td>\n",
       "      <td>5573</td>\n",
       "      <td>12/31/15</td>\n",
       "      <td>2015</td>\n",
       "      <td>PO</td>\n",
       "      <td>60761</td>\n",
       "      <td>68</td>\n",
       "      <td>1</td>\n",
       "      <td>2</td>\n",
       "      <td>14:33</td>\n",
       "      <td>...</td>\n",
       "      <td>NaN</td>\n",
       "      <td>SCCL D15</td>\n",
       "      <td>NaN</td>\n",
       "      <td>NaN</td>\n",
       "      <td>NaN</td>\n",
       "      <td>NaN</td>\n",
       "      <td>NaN</td>\n",
       "      <td>LWR^; SRiWR; SRoWR^; RWR</td>\n",
       "      <td>NaN</td>\n",
       "      <td>0.0</td>\n",
       "    </tr>\n",
       "    <tr>\n",
       "      <th>3</th>\n",
       "      <td>1455450</td>\n",
       "      <td>5573</td>\n",
       "      <td>12/31/15</td>\n",
       "      <td>2015</td>\n",
       "      <td>PO</td>\n",
       "      <td>60761</td>\n",
       "      <td>90</td>\n",
       "      <td>1</td>\n",
       "      <td>3</td>\n",
       "      <td>14:03</td>\n",
       "      <td>...</td>\n",
       "      <td>NaN</td>\n",
       "      <td>SCCL D18</td>\n",
       "      <td>NaN</td>\n",
       "      <td>NaN</td>\n",
       "      <td>NaN</td>\n",
       "      <td>NaN</td>\n",
       "      <td>NaN</td>\n",
       "      <td>LWR; SLWR^; SRWR^; RWR</td>\n",
       "      <td>NaN</td>\n",
       "      <td>0.0</td>\n",
       "    </tr>\n",
       "    <tr>\n",
       "      <th>4</th>\n",
       "      <td>1455419</td>\n",
       "      <td>5573</td>\n",
       "      <td>12/31/15</td>\n",
       "      <td>2015</td>\n",
       "      <td>PO</td>\n",
       "      <td>60761</td>\n",
       "      <td>112</td>\n",
       "      <td>1</td>\n",
       "      <td>1</td>\n",
       "      <td>13:51</td>\n",
       "      <td>...</td>\n",
       "      <td>NaN</td>\n",
       "      <td>SCCL D91</td>\n",
       "      <td>NaN</td>\n",
       "      <td>NaN</td>\n",
       "      <td>NaN</td>\n",
       "      <td>NaN</td>\n",
       "      <td>NaN</td>\n",
       "      <td>LWR; SLWR^; SRWR^; RWR</td>\n",
       "      <td>NaN</td>\n",
       "      <td>0.0</td>\n",
       "    </tr>\n",
       "  </tbody>\n",
       "</table>\n",
       "<p>5 rows × 177 columns</p>\n",
       "</div>"
      ],
      "text/plain": [
       "   pff_PLAYID  pff_GAMEID pff_GAMEDATE  pff_GAMESEASON pff_WEEK  \\\n",
       "0     1455513        5573     12/31/15            2015       PO   \n",
       "1     1455434        5573     12/31/15            2015       PO   \n",
       "2     1455470        5573     12/31/15            2015       PO   \n",
       "3     1455450        5573     12/31/15            2015       PO   \n",
       "4     1455419        5573     12/31/15            2015       PO   \n",
       "\n",
       "   pff_GSISGAMEKEY  pff_GSISPLAYID  pff_QUARTER  pff_DOWN pff_CLOCK  ...  \\\n",
       "0            60761              35            1         0     15:00  ...   \n",
       "1            60761              49            1         1     15:00  ...   \n",
       "2            60761              68            1         2     14:33  ...   \n",
       "3            60761              90            1         3     14:03  ...   \n",
       "4            60761             112            1         1     13:51  ...   \n",
       "\n",
       "   pff_STSAFETIES  pff_TACKLE  pff_TACKLEASSIST  pff_TEALIGNMENT  \\\n",
       "0             NaN         NaN               NaN              NaN   \n",
       "1             NaN         NaN               NaN              NaN   \n",
       "2             NaN    SCCL D15               NaN              NaN   \n",
       "3             NaN    SCCL D18               NaN              NaN   \n",
       "4             NaN    SCCL D91               NaN              NaN   \n",
       "\n",
       "   pff_TOUCHDOWN  pff_UNBLOCKEDPRESSURE  pff_VISE           pff_WRALIGNMENT  \\\n",
       "0            NaN                    NaN       NaN                       NaN   \n",
       "1            NaN                    NaN       NaN  LWR^; SRiWR; SRoWR^; RWR   \n",
       "2            NaN                    NaN       NaN  LWR^; SRiWR; SRoWR^; RWR   \n",
       "3            NaN                    NaN       NaN    LWR; SLWR^; SRWR^; RWR   \n",
       "4            NaN                    NaN       NaN    LWR; SLWR^; SRWR^; RWR   \n",
       "\n",
       "   pff_PLAYCLOCK  pff_RUNPASSOPTION  \n",
       "0            NaN                0.0  \n",
       "1            NaN                0.0  \n",
       "2            NaN                0.0  \n",
       "3            NaN                0.0  \n",
       "4            NaN                0.0  \n",
       "\n",
       "[5 rows x 177 columns]"
      ]
     },
     "execution_count": 10,
     "metadata": {},
     "output_type": "execute_result"
    }
   ],
   "source": [
    "DATA.head()"
   ]
  },
  {
   "cell_type": "code",
   "execution_count": 12,
   "metadata": {},
   "outputs": [
    {
     "name": "stdout",
     "output_type": "stream",
     "text": [
      "<class 'pandas.core.frame.DataFrame'>\n",
      "Int64Index: 758971 entries, 0 to 167026\n",
      "Columns: 177 entries, pff_PLAYID to pff_RUNPASSOPTION\n",
      "dtypes: float64(30), int64(30), object(117)\n",
      "memory usage: 1.0+ GB\n"
     ]
    }
   ],
   "source": [
    "DATA.info()"
   ]
  },
  {
   "cell_type": "code",
   "execution_count": 13,
   "metadata": {},
   "outputs": [],
   "source": [
    "d = DATA.copy()"
   ]
  },
  {
   "cell_type": "markdown",
   "metadata": {},
   "source": [
    "### 2.0 Feature Selection and Engineering"
   ]
  },
  {
   "cell_type": "markdown",
   "metadata": {},
   "source": [
    "#### 2.1 Remove Garbage Time"
   ]
  },
  {
   "cell_type": "code",
   "execution_count": 77,
   "metadata": {},
   "outputs": [],
   "source": [
    "d = d.loc[d['pff_GARBAGETIME'] == 0]"
   ]
  },
  {
   "cell_type": "code",
   "execution_count": 78,
   "metadata": {},
   "outputs": [],
   "source": [
    "d = d.reset_index(drop=True)"
   ]
  },
  {
   "cell_type": "code",
   "execution_count": 79,
   "metadata": {},
   "outputs": [
    {
     "data": {
      "text/plain": [
       "(155390, 177)"
      ]
     },
     "execution_count": 79,
     "metadata": {},
     "output_type": "execute_result"
    }
   ],
   "source": [
    "d.shape"
   ]
  },
  {
   "cell_type": "markdown",
   "metadata": {},
   "source": [
    "#### 2.2 Initial Feature Selection"
   ]
  },
  {
   "cell_type": "code",
   "execution_count": 80,
   "metadata": {},
   "outputs": [],
   "source": [
    "# Manual Selection based on Perceived Importance... simply the dataset\n",
    "SUBSET_COLS = [\n",
    "    'pff_DOWN', 'pff_CLOCK', 'pff_DRIVE', 'pff_DRIVEPLAY', 'pff_GAINLOSSNET',\n",
    "    'pff_KICKYARDS', 'pff_OFFSCORE', 'pff_OPTION', 'pff_PENALTYYARDS',\n",
    "    'pff_SCORE', 'pff_DEFTEAM', 'pff_DISTANCE', 'pff_DRIVEENDEVENT',\n",
    "    'pff_DRIVEENDFIELDPOSITION', 'pff_DRIVEENDPLAYNUMBER',\n",
    "    'pff_DRIVESTARTEVENT', 'pff_DRIVESTARTFIELDPOSITION', 'pff_FIELDPOSITION',\n",
    "    'pff_GAINLOSS', 'pff_HASH', 'pff_KICKRESULT', 'pff_KICKTYPE',\n",
    "    'pff_OFFTEAM', 'pff_PASSRESULT', 'pff_PASSRUSHRESULT', 'pff_PENALTY',\n",
    "    'pff_PLAYENDFIELDPOSITION', 'pff_RUNPASS', 'pff_SCOREDIFFERENTIAL',\n",
    "    'pff_SPECIALTEAMSTYPE', 'pff_TOUCHDOWN', 'pff_PLAYCLOCK'\n",
    "]"
   ]
  },
  {
   "cell_type": "code",
   "execution_count": 81,
   "metadata": {},
   "outputs": [],
   "source": [
    "d = d[SUBSET_COLS]"
   ]
  },
  {
   "cell_type": "code",
   "execution_count": 82,
   "metadata": {},
   "outputs": [
    {
     "data": {
      "text/plain": [
       "(155390, 32)"
      ]
     },
     "execution_count": 82,
     "metadata": {},
     "output_type": "execute_result"
    }
   ],
   "source": [
    "d.shape"
   ]
  },
  {
   "cell_type": "markdown",
   "metadata": {},
   "source": [
    "#### 2.2 Split Score to Home/Away"
   ]
  },
  {
   "cell_type": "code",
   "execution_count": 83,
   "metadata": {},
   "outputs": [],
   "source": [
    "def split_score(row):\n",
    "    \"\"\"\n",
    "    \n",
    "    \"\"\"\n",
    "    score = row['pff_SCORE']\n",
    "    \n",
    "    if '.' in score:\n",
    "        h, a = score.split('.')\n",
    "        if len(a) == 1:\n",
    "            a = int(a)\n",
    "            a *= 10\n",
    "    else:\n",
    "        h = score\n",
    "        a = 0\n",
    "    \n",
    "    return int(h), int(a)"
   ]
  },
  {
   "cell_type": "code",
   "execution_count": 84,
   "metadata": {},
   "outputs": [
    {
     "name": "stdout",
     "output_type": "stream",
     "text": [
      "CPU times: user 40.2 s, sys: 633 ms, total: 40.8 s\n",
      "Wall time: 43.5 s\n"
     ]
    }
   ],
   "source": [
    "%%time\n",
    "\n",
    "d['pff_SCORE'] = d['pff_SCORE'].astype(str)\n",
    "s = pd.DataFrame(d['pff_SCORE'])\n",
    "scores = s.apply(\n",
    "    lambda r: split_score(r),\n",
    "    axis=1,\n",
    "    result_type='expand'\n",
    ")"
   ]
  },
  {
   "cell_type": "code",
   "execution_count": 85,
   "metadata": {},
   "outputs": [],
   "source": [
    "scores.columns = ['homeScore', 'awayScore']"
   ]
  },
  {
   "cell_type": "code",
   "execution_count": 86,
   "metadata": {},
   "outputs": [],
   "source": [
    "d['homeScore'], d['awayScore'] = scores['homeScore'], scores['awayScore']"
   ]
  },
  {
   "cell_type": "markdown",
   "metadata": {},
   "source": [
    "#### 2.3 Create Point Periods"
   ]
  },
  {
   "cell_type": "code",
   "execution_count": null,
   "metadata": {},
   "outputs": [],
   "source": []
  },
  {
   "cell_type": "markdown",
   "metadata": {},
   "source": [
    "### 3.0 Field Goal Model"
   ]
  },
  {
   "cell_type": "markdown",
   "metadata": {},
   "source": [
    "#### 3.1 Subset Field Goal Attempts"
   ]
  },
  {
   "cell_type": "code",
   "execution_count": null,
   "metadata": {},
   "outputs": [],
   "source": [
    "FGS = d.loc[\n",
    "    d['pff_SPECIALTEAMSTYPE'].astype(str) == 'FIELD GOAL'\n",
    "]"
   ]
  },
  {
   "cell_type": "code",
   "execution_count": null,
   "metadata": {},
   "outputs": [],
   "source": [
    "FGS[['kickResult', 'kickLocation']] = FGS['pff_KICKRESULT'].str.split(' - ', expand=True)\n",
    "FGS['kickResult'] = np.where(FGS['kickResult'] == 'MISSED', 0, 1)"
   ]
  },
  {
   "cell_type": "code",
   "execution_count": null,
   "metadata": {},
   "outputs": [],
   "source": [
    "FGS =  FGS[\n",
    "    ['pff_HASH', 'pff_KICKYARDS', 'kickResult']\n",
    "]"
   ]
  },
  {
   "cell_type": "code",
   "execution_count": null,
   "metadata": {},
   "outputs": [],
   "source": [
    "FGS.shape"
   ]
  },
  {
   "cell_type": "code",
   "execution_count": null,
   "metadata": {},
   "outputs": [],
   "source": [
    "FGS.head()"
   ]
  },
  {
   "cell_type": "code",
   "execution_count": null,
   "metadata": {},
   "outputs": [],
   "source": [
    "fgs = FGS.copy()"
   ]
  },
  {
   "cell_type": "code",
   "execution_count": null,
   "metadata": {},
   "outputs": [],
   "source": [
    "#### 3.2"
   ]
  },
  {
   "cell_type": "code",
   "execution_count": null,
   "metadata": {},
   "outputs": [],
   "source": []
  },
  {
   "cell_type": "markdown",
   "metadata": {},
   "source": [
    "### 4.0 Transform All Data"
   ]
  },
  {
   "cell_type": "code",
   "execution_count": null,
   "metadata": {},
   "outputs": [],
   "source": []
  },
  {
   "cell_type": "markdown",
   "metadata": {},
   "source": [
    "### 5.0 Run Models"
   ]
  },
  {
   "cell_type": "code",
   "execution_count": null,
   "metadata": {},
   "outputs": [],
   "source": [
    "r1 = RUN.loc[RUN['pff_DOWN'] == 1]\n",
    "r2 = RUN.loc[RUN['pff_DOWN'] == 2]\n",
    "r3 = RUN.loc[RUN['pff_DOWN'] == 3]\n",
    "r4 = RUN.loc[RUN['pff_DOWN'] == 4]"
   ]
  },
  {
   "cell_type": "code",
   "execution_count": null,
   "metadata": {},
   "outputs": [],
   "source": [
    "print(\"Running Downs:\")\n",
    "print(\"\\t1st:\", r1.shape)\n",
    "print(\"\\t2nd:\", r2.shape)\n",
    "print(\"\\t3rd:\", r3.shape)\n",
    "print(\"\\t4th:\", r4.shape)"
   ]
  },
  {
   "cell_type": "markdown",
   "metadata": {},
   "source": [
    "### 6.0 Pass Models"
   ]
  },
  {
   "cell_type": "code",
   "execution_count": null,
   "metadata": {},
   "outputs": [],
   "source": [
    "p1 = PASS.loc[PASS['pff_DOWN'] == 1]\n",
    "p2 = PASS.loc[PASS['pff_DOWN'] == 2]\n",
    "p3 = PASS.loc[PASS['pff_DOWN'] == 3]\n",
    "p4 = PASS.loc[PASS['pff_DOWN'] == 4]"
   ]
  },
  {
   "cell_type": "code",
   "execution_count": null,
   "metadata": {},
   "outputs": [],
   "source": [
    "print(\"Passing Downs:\")\n",
    "print(\"\\t1st:\", p1.shape)\n",
    "print(\"\\t2nd:\", p2.shape)\n",
    "print(\"\\t3rd:\", p3.shape)\n",
    "print(\"\\t4th:\", p4.shape)"
   ]
  },
  {
   "cell_type": "markdown",
   "metadata": {},
   "source": [
    "### 3.0 Mixture Models"
   ]
  },
  {
   "cell_type": "markdown",
   "metadata": {},
   "source": [
    "Ref: \n",
    "* [sklearn.mixture.GaussianMixture](https://scikit-learn.org/stable/modules/generated/sklearn.mixture.GaussianMixture.html#sklearn.mixture.GaussianMixture)  \n",
    "* [sklearn.linear_model.LinearRegression](https://scikit-learn.org/stable/modules/generated/sklearn.linear_model.LinearRegression.html)\n",
    "* [sklearn.compose.ColumnTransformer](https://scikit-learn.org/stable/modules/generated/sklearn.compose.ColumnTransformer.html)\n",
    "* [sklearn.pipeline.Pipeline](https://scikit-learn.org/stable/modules/generated/sklearn.pipeline.Pipeline.html)\n",
    "* [sklearn.preprocessing.StandardScaler](https://scikit-learn.org/stable/modules/generated/sklearn.preprocessing.StandardScaler.html)\n",
    "* [sklearn.preprocessing.OneHotEncoder](https://scikit-learn.org/stable/modules/generated/sklearn.preprocessing.OneHotEncoder.html)"
   ]
  },
  {
   "cell_type": "markdown",
   "metadata": {},
   "source": [
    "#### 3.1 Feature Importance via Regression"
   ]
  },
  {
   "cell_type": "code",
   "execution_count": 90,
   "metadata": {},
   "outputs": [],
   "source": [
    "INPUTS = [\n",
    "    'pff_DOWN', 'pff_DISTANCE', 'pff_FIELDPOSITION', 'pff_RUNPASS',\n",
    "    'homeScore','awayScore', 'pff_GAINLOSSNET'\n",
    "]"
   ]
  },
  {
   "cell_type": "code",
   "execution_count": 104,
   "metadata": {},
   "outputs": [],
   "source": [
    "model_d = d[INPUTS]\n",
    "model_d = model_d.dropna()"
   ]
  },
  {
   "cell_type": "code",
   "execution_count": 105,
   "metadata": {},
   "outputs": [
    {
     "data": {
      "text/plain": [
       "(127522, 7)"
      ]
     },
     "execution_count": 105,
     "metadata": {},
     "output_type": "execute_result"
    }
   ],
   "source": [
    "model_d.shape"
   ]
  },
  {
   "cell_type": "code",
   "execution_count": 106,
   "metadata": {},
   "outputs": [
    {
     "data": {
      "text/plain": [
       "pff_DOWN             0\n",
       "pff_DISTANCE         0\n",
       "pff_FIELDPOSITION    0\n",
       "pff_RUNPASS          0\n",
       "homeScore            0\n",
       "awayScore            0\n",
       "pff_GAINLOSSNET      0\n",
       "dtype: int64"
      ]
     },
     "execution_count": 106,
     "metadata": {},
     "output_type": "execute_result"
    }
   ],
   "source": [
    "model_d.isnull().sum()"
   ]
  },
  {
   "cell_type": "code",
   "execution_count": 115,
   "metadata": {},
   "outputs": [
    {
     "data": {
      "text/plain": [
       "P    67015\n",
       "R    57509\n",
       "X     2998\n",
       "Name: pff_RUNPASS, dtype: int64"
      ]
     },
     "execution_count": 115,
     "metadata": {},
     "output_type": "execute_result"
    }
   ],
   "source": [
    "model_d['pff_RUNPASS'].value_counts()"
   ]
  },
  {
   "cell_type": "code",
   "execution_count": 107,
   "metadata": {},
   "outputs": [],
   "source": [
    "TARGET = 'pff_GAINLOSSNET'\n",
    "X = model_d.drop(TARGET, axis=1)\n",
    "y = model_d[TARGET]"
   ]
  },
  {
   "cell_type": "code",
   "execution_count": 30,
   "metadata": {},
   "outputs": [],
   "source": [
    "num_fields = X.select_dtypes(include=int).columns\n",
    "cat_fields = X.columns.tolist().remove(num_fields)"
   ]
  },
  {
   "cell_type": "code",
   "execution_count": 110,
   "metadata": {},
   "outputs": [],
   "source": [
    "num_pipeline = Pipeline([\n",
    "    ('std_scaler', StandardScaler())\n",
    "])\n",
    "cat_pipeline = Pipeline([\n",
    "    ('one_hot', OneHotEncoder())\n",
    "])\n",
    "pipeline = ColumnTransformer([\n",
    "    ('cat', cat_pipeline, )\n",
    "])"
   ]
  },
  {
   "cell_type": "code",
   "execution_count": 111,
   "metadata": {},
   "outputs": [],
   "source": [
    "X_prep = pipeline.fit_transform(X)"
   ]
  },
  {
   "cell_type": "code",
   "execution_count": 112,
   "metadata": {},
   "outputs": [
    {
     "data": {
      "text/plain": [
       "(127522, 271)"
      ]
     },
     "execution_count": 112,
     "metadata": {},
     "output_type": "execute_result"
    }
   ],
   "source": [
    "X_prep.shape"
   ]
  },
  {
   "cell_type": "code",
   "execution_count": 94,
   "metadata": {},
   "outputs": [
    {
     "name": "stdout",
     "output_type": "stream",
     "text": [
      "X: (155390, 6)\n",
      "y: (155390,)\n"
     ]
    }
   ],
   "source": [
    "print(\"X:\", X.shape)\n",
    "print(\"y:\", y.shape)"
   ]
  },
  {
   "cell_type": "code",
   "execution_count": 29,
   "metadata": {},
   "outputs": [],
   "source": [
    "regr = LinearRegression()\n",
    "regr.fit(X, y)"
   ]
  },
  {
   "cell_type": "markdown",
   "metadata": {},
   "source": [
    "#### 3.2 Split Data into Categories"
   ]
  },
  {
   "cell_type": "code",
   "execution_count": 39,
   "metadata": {},
   "outputs": [],
   "source": [
    "PASS = d.loc[d['pff_RUNPASS'] == 'P']\n",
    "RUN = d.loc[d['pff_RUNPASS'] == 'R']"
   ]
  },
  {
   "cell_type": "code",
   "execution_count": 40,
   "metadata": {},
   "outputs": [
    {
     "name": "stdout",
     "output_type": "stream",
     "text": [
      "Pass: (67015, 39)\n",
      "Run: (57509, 39)\n"
     ]
    }
   ],
   "source": [
    "print(\"Pass:\", PASS.shape)\n",
    "print(\"Run:\", RUN.shape)"
   ]
  },
  {
   "cell_type": "markdown",
   "metadata": {},
   "source": [
    "### 7.0 Expected Points Added Model"
   ]
  },
  {
   "cell_type": "code",
   "execution_count": 233,
   "metadata": {},
   "outputs": [],
   "source": [
    "points = list()\n",
    "MAX = max(d['pff_DISTANCE'])\n",
    "SEED = 42\n",
    "\n",
    "YTG_DEV = {\n",
    "    'long': 4,\n",
    "    'medium': 3,\n",
    "    'short': 2,\n",
    "    'inches': 1\n",
    "}\n",
    "YTG_MIN = {\n",
    "    'long': 10,\n",
    "    'medium': 6,\n",
    "    'short': 3,\n",
    "    'inches': 1\n",
    "}\n",
    "POSITION_DEV = 5 # yards"
   ]
  },
  {
   "cell_type": "code",
   "execution_count": 238,
   "metadata": {},
   "outputs": [],
   "source": [
    "def EPA(down, ytg, position, own):\n",
    "    \"\"\"\n",
    "    \n",
    "    \"\"\"\n",
    "    global points\n",
    "    \n",
    "    ytg_dev = 4 if ytg in range(10, MAX) else \\\n",
    "              3 if ytg in range(6, 10) else \\\n",
    "              2 if ytg in range(3, 6) else \\\n",
    "              1\n",
    "                \n",
    "    SIMULATIONS = 1000\n",
    "    for i in range(SIMULATIONS):\n",
    "        point = run_play(down, ytg, position, own)\n",
    "        points.append(point)\n",
    "    \n",
    "    return np.array(points).mean()"
   ]
  },
  {
   "cell_type": "code",
   "execution_count": 239,
   "metadata": {},
   "outputs": [],
   "source": [
    "def run_play(down, ytg, position, own):\n",
    "    dist_ = 'long' if ytg in range(10, MAX) else \\\n",
    "            'medium' if ytg in range(6, 10) else \\\n",
    "            'short' if ytg in range(3, 6) else \\\n",
    "            'inches'\n",
    "    ytg_dev = YTG_DEV[dist_]\n",
    "    ytg_min = YTG_MIN[dist_]\n",
    "    \n",
    "    position *= -1 if own else 1\n",
    "    fp_right = position - POSITION_DEV\n",
    "    fp_left = position + POSITION_DEV\n",
    "    \n",
    "    # Off the field left\n",
    "    if fp_left > 0 and fp_right < 0:\n",
    "        fp_left = -1\n",
    "    # Redzone -- shrink deviation to 3 yards\n",
    "    elif 0 < position < 20:\n",
    "        fp_right += 2\n",
    "        fp_left -= 2\n",
    "    \n",
    "    samples = d.loc[\n",
    "        (d['pff_DOWN'] == down) &\n",
    "        (d['pff_DISTANCE'] >= max(ytg_min, ytg - ytg_dev)) &\n",
    "        (d['pff_DISTANCE'] <= ytg + ytg_dev) &\n",
    "        (d['pff_FIELDPOSITION'] >= fp_right) &\n",
    "        (d['pff_FIELDPOSITION'] <= fp_left)\n",
    "    ]\n",
    "    if len(samples) == 0:\n",
    "        return None\n",
    "    else:\n",
    "        sample = samples.sample(n=1, random_state=SEED)\n",
    "        \n",
    "        # Define conditions for a TD, FG\n",
    "        if True:\n",
    "            score = True\n",
    "            scored = 6\n",
    "            \n",
    "            xps = d.loc[\n",
    "                (d['pff_DOWN'] == 0) &\n",
    "                (d['pff_DISTANCE'] == 0) &\n",
    "                (d['pff_FIELDPOSITION'] == 0)\n",
    "            ]\n",
    "            xp = xps.sample(n=1, random_state=SEED)\n",
    "            result = xp['pff_KICKRESULT']\n",
    "            scored += 1 if 'MADE' in result else 0\n",
    "        elif True:\n",
    "            score = True\n",
    "            scored = 3\n",
    "        else:\n",
    "            score = False\n",
    "    \n",
    "    if score:\n",
    "        return scored\n",
    "    else:\n",
    "        return run_play(d, y, p)"
   ]
  },
  {
   "cell_type": "code",
   "execution_count": null,
   "metadata": {},
   "outputs": [],
   "source": [
    "down = int(input('Down: ').strip())\n",
    "ytg = int(input('Yards to Go: ').strip())\n",
    "position = int(input('Field Position: ').strip())\n",
    "own = input('Possession (home/away): ').strip()\n",
    "own = True if own == 'home' else False"
   ]
  },
  {
   "cell_type": "code",
   "execution_count": null,
   "metadata": {},
   "outputs": [],
   "source": [
    "STATE = {\n",
    "    'down': down,\n",
    "    'ytg': ytg,\n",
    "    'position': position,\n",
    "    'own': own\n",
    "}"
   ]
  },
  {
   "cell_type": "code",
   "execution_count": null,
   "metadata": {},
   "outputs": [],
   "source": [
    "epa = EPA(**STATE)"
   ]
  },
  {
   "cell_type": "code",
   "execution_count": null,
   "metadata": {},
   "outputs": [],
   "source": [
    "print('''\n",
    "    Expected Points Model:\n",
    "    S (Down: {}, YTG: {}, Position: {}) == {} EP\n",
    "'''.format(\n",
    "    STATE['down'],\n",
    "    STATE['ytg'],\n",
    "    ('Own ' if STATE['own'] else '') + str(STATE['position']),\n",
    "    epa\n",
    "))"
   ]
  }
 ],
 "metadata": {
  "kernelspec": {
   "display_name": "Python 3",
   "language": "python",
   "name": "python3"
  },
  "language_info": {
   "codemirror_mode": {
    "name": "ipython",
    "version": 3
   },
   "file_extension": ".py",
   "mimetype": "text/x-python",
   "name": "python",
   "nbconvert_exporter": "python",
   "pygments_lexer": "ipython3",
   "version": "3.6.4"
  }
 },
 "nbformat": 4,
 "nbformat_minor": 1
}
