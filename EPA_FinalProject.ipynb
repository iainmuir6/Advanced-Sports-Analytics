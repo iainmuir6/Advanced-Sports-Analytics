{
 "cells": [
  {
   "cell_type": "markdown",
   "metadata": {},
   "source": [
    "<img src=\"https://upload.wikimedia.org/wikipedia/en/8/85/PFF-Logo-White-1_reduced.png\" />"
   ]
  },
  {
   "cell_type": "markdown",
   "metadata": {
    "collapsed": true
   },
   "source": [
    "# Expected Points Added Model"
   ]
  },
  {
   "cell_type": "markdown",
   "metadata": {},
   "source": [
    "### Project Description"
   ]
  },
  {
   "cell_type": "markdown",
   "metadata": {},
   "source": [
    "This notebook contains the work for our STAT 4800, Advanced Sports Analytics, Final Project. We were tasked with building an Expected Points Added Model. Given an initial start state, specifically the down, yards to go, and field position, our model simulates drives in order to calculate the expected next score.  \n",
    "\n",
    "We used [Pro Football Focus](https://www.pff.com/) data from 2015 to 2019 to build our model."
   ]
  },
  {
   "cell_type": "markdown",
   "metadata": {},
   "source": [
    "## Table of Contents <a class=\"anchor\" id=\"toc\"></a>"
   ]
  },
  {
   "cell_type": "markdown",
   "metadata": {},
   "source": [
    "* **[0. Import Libraries](#import)**\n",
    "* **[1. Load Data](#load)**\n",
    "* **[2. Feature Selection and Engineering](#fse)**\n",
    "    * [2.1 Remove Garbage Time](#garbage)\n",
    "    * [2.2 Create Custom Field Position](#fp)\n",
    "* **[3. Transform Data for Modeling](#transform)**\n",
    "    * [3.1 Subset and Clean Run/Pass Data](#rp)\n",
    "    * [3.2 Subset and Clean Field Goal Data](#sub_fg)\n",
    "* **[4. Field Goal Model](#fg)**\n",
    "    * [4.1 Threshold Experimentation](#threshold)\n",
    "    * [4.2 Final Logistic Regression Model](#log)\n",
    "* **[5. Punt Model](#punt)**\n",
    "* **[6. Run Models](#run)**\n",
    "    * [6.1 Quantile Cut by Yards to Go](#cut)\n",
    "    * [6.2 Guassian Mixture Models](#mixture)\n",
    "* **[7. Pass Models](#pass)**\n",
    "    * [7.1 Quantile Cut by Yards to Go](#cut2)\n",
    "    * [7.2 Guassian Mixture Models](#mixture2)\n",
    "* **[8. Expected Points Added Model](#epa)**\n",
    "* **[9. Data Visualization](#viz)**\n",
    "    * [9.1 Calculate EPA for Start State Grid](#grid)\n",
    "    * [9.2 Plotly EPA Bar Chart](#plotly)\n",
    "    * [9.3 Football Field Graphic (Future Use)](#field)\n",
    "* **[10. References](#ref)** \n",
    "* **[11. Authors](#authors)**"
   ]
  },
  {
   "cell_type": "markdown",
   "metadata": {},
   "source": [
    "### 0. Import Libraries <a class=\"anchor\" id=\"import\"></a>"
   ]
  },
  {
   "cell_type": "markdown",
   "metadata": {},
   "source": [
    "[Table of Contents](#toc)"
   ]
  },
  {
   "cell_type": "code",
   "execution_count": 25,
   "metadata": {},
   "outputs": [],
   "source": [
    "from sklearn.linear_model import LinearRegression, LogisticRegression\n",
    "from sklearn.preprocessing import OneHotEncoder, StandardScaler\n",
    "from sklearn.metrics import confusion_matrix, f1_score\n",
    "from sklearn.model_selection import train_test_split\n",
    "from sklearn.compose import ColumnTransformer\n",
    "from sklearn.mixture import GaussianMixture\n",
    "from sklearn.pipeline import Pipeline\n",
    "import matplotlib.pyplot as plt\n",
    "import pandas as pd\n",
    "import numpy as np"
   ]
  },
  {
   "cell_type": "code",
   "execution_count": 26,
   "metadata": {},
   "outputs": [],
   "source": [
    "from pandas.core.common import SettingWithCopyWarning\n",
    "import warnings\n",
    "\n",
    "warnings.simplefilter(action=\"ignore\", category=SettingWithCopyWarning)"
   ]
  },
  {
   "cell_type": "code",
   "execution_count": 27,
   "metadata": {},
   "outputs": [],
   "source": [
    "SEED = 42"
   ]
  },
  {
   "cell_type": "markdown",
   "metadata": {},
   "source": [
    "### 1.0 Load Data <a class=\"anchor\" id=\"load\"></a>"
   ]
  },
  {
   "cell_type": "markdown",
   "metadata": {},
   "source": [
    "[Table of Contents](#toc)"
   ]
  },
  {
   "cell_type": "markdown",
   "metadata": {},
   "source": [
    "*Aggregate Data across Years; modify ROOT directory to run locally...*"
   ]
  },
  {
   "cell_type": "code",
   "execution_count": 28,
   "metadata": {},
   "outputs": [],
   "source": [
    "ROOT = '/Users/iainmuir/Desktop/4Y 1S/STAT 4800/Dataset/{} PFF All Plays.csv'"
   ]
  },
  {
   "cell_type": "code",
   "execution_count": 29,
   "metadata": {},
   "outputs": [],
   "source": [
    "DATA = pd.DataFrame()"
   ]
  },
  {
   "cell_type": "code",
   "execution_count": 30,
   "metadata": {},
   "outputs": [
    {
     "name": "stdout",
     "output_type": "stream",
     "text": [
      "CPU times: user 46.2 s, sys: 13.4 s, total: 59.6 s\n",
      "Wall time: 1min 12s\n"
     ]
    }
   ],
   "source": [
    "%%time\n",
    "\n",
    "for year in range(2015, 2020):\n",
    "    PATH = ROOT.format(year)\n",
    "    df = pd.read_csv(PATH, low_memory=False)\n",
    "    DATA = pd.concat([DATA, df])"
   ]
  },
  {
   "cell_type": "code",
   "execution_count": 31,
   "metadata": {},
   "outputs": [
    {
     "data": {
      "text/plain": [
       "(758971, 177)"
      ]
     },
     "execution_count": 31,
     "metadata": {},
     "output_type": "execute_result"
    }
   ],
   "source": [
    "DATA.shape"
   ]
  },
  {
   "cell_type": "code",
   "execution_count": 32,
   "metadata": {},
   "outputs": [
    {
     "data": {
      "text/html": [
       "<div>\n",
       "<style scoped>\n",
       "    .dataframe tbody tr th:only-of-type {\n",
       "        vertical-align: middle;\n",
       "    }\n",
       "\n",
       "    .dataframe tbody tr th {\n",
       "        vertical-align: top;\n",
       "    }\n",
       "\n",
       "    .dataframe thead th {\n",
       "        text-align: right;\n",
       "    }\n",
       "</style>\n",
       "<table border=\"1\" class=\"dataframe\">\n",
       "  <thead>\n",
       "    <tr style=\"text-align: right;\">\n",
       "      <th></th>\n",
       "      <th>pff_PLAYID</th>\n",
       "      <th>pff_GAMEID</th>\n",
       "      <th>pff_GAMEDATE</th>\n",
       "      <th>pff_GAMESEASON</th>\n",
       "      <th>pff_WEEK</th>\n",
       "      <th>pff_GSISGAMEKEY</th>\n",
       "      <th>pff_GSISPLAYID</th>\n",
       "      <th>pff_QUARTER</th>\n",
       "      <th>pff_DOWN</th>\n",
       "      <th>pff_CLOCK</th>\n",
       "      <th>...</th>\n",
       "      <th>pff_STSAFETIES</th>\n",
       "      <th>pff_TACKLE</th>\n",
       "      <th>pff_TACKLEASSIST</th>\n",
       "      <th>pff_TEALIGNMENT</th>\n",
       "      <th>pff_TOUCHDOWN</th>\n",
       "      <th>pff_UNBLOCKEDPRESSURE</th>\n",
       "      <th>pff_VISE</th>\n",
       "      <th>pff_WRALIGNMENT</th>\n",
       "      <th>pff_PLAYCLOCK</th>\n",
       "      <th>pff_RUNPASSOPTION</th>\n",
       "    </tr>\n",
       "  </thead>\n",
       "  <tbody>\n",
       "    <tr>\n",
       "      <th>0</th>\n",
       "      <td>1455513</td>\n",
       "      <td>5573</td>\n",
       "      <td>12/31/15</td>\n",
       "      <td>2015</td>\n",
       "      <td>PO</td>\n",
       "      <td>60761</td>\n",
       "      <td>35</td>\n",
       "      <td>1</td>\n",
       "      <td>0</td>\n",
       "      <td>15:00</td>\n",
       "      <td>...</td>\n",
       "      <td>NaN</td>\n",
       "      <td>NaN</td>\n",
       "      <td>NaN</td>\n",
       "      <td>NaN</td>\n",
       "      <td>NaN</td>\n",
       "      <td>NaN</td>\n",
       "      <td>NaN</td>\n",
       "      <td>NaN</td>\n",
       "      <td>NaN</td>\n",
       "      <td>0.0</td>\n",
       "    </tr>\n",
       "    <tr>\n",
       "      <th>1</th>\n",
       "      <td>1455434</td>\n",
       "      <td>5573</td>\n",
       "      <td>12/31/15</td>\n",
       "      <td>2015</td>\n",
       "      <td>PO</td>\n",
       "      <td>60761</td>\n",
       "      <td>49</td>\n",
       "      <td>1</td>\n",
       "      <td>1</td>\n",
       "      <td>15:00</td>\n",
       "      <td>...</td>\n",
       "      <td>NaN</td>\n",
       "      <td>NaN</td>\n",
       "      <td>NaN</td>\n",
       "      <td>NaN</td>\n",
       "      <td>NaN</td>\n",
       "      <td>NaN</td>\n",
       "      <td>NaN</td>\n",
       "      <td>LWR^; SRiWR; SRoWR^; RWR</td>\n",
       "      <td>NaN</td>\n",
       "      <td>0.0</td>\n",
       "    </tr>\n",
       "    <tr>\n",
       "      <th>2</th>\n",
       "      <td>1455470</td>\n",
       "      <td>5573</td>\n",
       "      <td>12/31/15</td>\n",
       "      <td>2015</td>\n",
       "      <td>PO</td>\n",
       "      <td>60761</td>\n",
       "      <td>68</td>\n",
       "      <td>1</td>\n",
       "      <td>2</td>\n",
       "      <td>14:33</td>\n",
       "      <td>...</td>\n",
       "      <td>NaN</td>\n",
       "      <td>SCCL D15</td>\n",
       "      <td>NaN</td>\n",
       "      <td>NaN</td>\n",
       "      <td>NaN</td>\n",
       "      <td>NaN</td>\n",
       "      <td>NaN</td>\n",
       "      <td>LWR^; SRiWR; SRoWR^; RWR</td>\n",
       "      <td>NaN</td>\n",
       "      <td>0.0</td>\n",
       "    </tr>\n",
       "    <tr>\n",
       "      <th>3</th>\n",
       "      <td>1455450</td>\n",
       "      <td>5573</td>\n",
       "      <td>12/31/15</td>\n",
       "      <td>2015</td>\n",
       "      <td>PO</td>\n",
       "      <td>60761</td>\n",
       "      <td>90</td>\n",
       "      <td>1</td>\n",
       "      <td>3</td>\n",
       "      <td>14:03</td>\n",
       "      <td>...</td>\n",
       "      <td>NaN</td>\n",
       "      <td>SCCL D18</td>\n",
       "      <td>NaN</td>\n",
       "      <td>NaN</td>\n",
       "      <td>NaN</td>\n",
       "      <td>NaN</td>\n",
       "      <td>NaN</td>\n",
       "      <td>LWR; SLWR^; SRWR^; RWR</td>\n",
       "      <td>NaN</td>\n",
       "      <td>0.0</td>\n",
       "    </tr>\n",
       "    <tr>\n",
       "      <th>4</th>\n",
       "      <td>1455419</td>\n",
       "      <td>5573</td>\n",
       "      <td>12/31/15</td>\n",
       "      <td>2015</td>\n",
       "      <td>PO</td>\n",
       "      <td>60761</td>\n",
       "      <td>112</td>\n",
       "      <td>1</td>\n",
       "      <td>1</td>\n",
       "      <td>13:51</td>\n",
       "      <td>...</td>\n",
       "      <td>NaN</td>\n",
       "      <td>SCCL D91</td>\n",
       "      <td>NaN</td>\n",
       "      <td>NaN</td>\n",
       "      <td>NaN</td>\n",
       "      <td>NaN</td>\n",
       "      <td>NaN</td>\n",
       "      <td>LWR; SLWR^; SRWR^; RWR</td>\n",
       "      <td>NaN</td>\n",
       "      <td>0.0</td>\n",
       "    </tr>\n",
       "  </tbody>\n",
       "</table>\n",
       "<p>5 rows × 177 columns</p>\n",
       "</div>"
      ],
      "text/plain": [
       "   pff_PLAYID  pff_GAMEID pff_GAMEDATE  pff_GAMESEASON pff_WEEK  \\\n",
       "0     1455513        5573     12/31/15            2015       PO   \n",
       "1     1455434        5573     12/31/15            2015       PO   \n",
       "2     1455470        5573     12/31/15            2015       PO   \n",
       "3     1455450        5573     12/31/15            2015       PO   \n",
       "4     1455419        5573     12/31/15            2015       PO   \n",
       "\n",
       "   pff_GSISGAMEKEY  pff_GSISPLAYID  pff_QUARTER  pff_DOWN pff_CLOCK  ...  \\\n",
       "0            60761              35            1         0     15:00  ...   \n",
       "1            60761              49            1         1     15:00  ...   \n",
       "2            60761              68            1         2     14:33  ...   \n",
       "3            60761              90            1         3     14:03  ...   \n",
       "4            60761             112            1         1     13:51  ...   \n",
       "\n",
       "   pff_STSAFETIES  pff_TACKLE  pff_TACKLEASSIST  pff_TEALIGNMENT  \\\n",
       "0             NaN         NaN               NaN              NaN   \n",
       "1             NaN         NaN               NaN              NaN   \n",
       "2             NaN    SCCL D15               NaN              NaN   \n",
       "3             NaN    SCCL D18               NaN              NaN   \n",
       "4             NaN    SCCL D91               NaN              NaN   \n",
       "\n",
       "   pff_TOUCHDOWN  pff_UNBLOCKEDPRESSURE  pff_VISE           pff_WRALIGNMENT  \\\n",
       "0            NaN                    NaN       NaN                       NaN   \n",
       "1            NaN                    NaN       NaN  LWR^; SRiWR; SRoWR^; RWR   \n",
       "2            NaN                    NaN       NaN  LWR^; SRiWR; SRoWR^; RWR   \n",
       "3            NaN                    NaN       NaN    LWR; SLWR^; SRWR^; RWR   \n",
       "4            NaN                    NaN       NaN    LWR; SLWR^; SRWR^; RWR   \n",
       "\n",
       "   pff_PLAYCLOCK  pff_RUNPASSOPTION  \n",
       "0            NaN                0.0  \n",
       "1            NaN                0.0  \n",
       "2            NaN                0.0  \n",
       "3            NaN                0.0  \n",
       "4            NaN                0.0  \n",
       "\n",
       "[5 rows x 177 columns]"
      ]
     },
     "execution_count": 32,
     "metadata": {},
     "output_type": "execute_result"
    }
   ],
   "source": [
    "DATA.head()"
   ]
  },
  {
   "cell_type": "code",
   "execution_count": 186,
   "metadata": {},
   "outputs": [
    {
     "name": "stdout",
     "output_type": "stream",
     "text": [
      "<class 'pandas.core.frame.DataFrame'>\n",
      "Int64Index: 758971 entries, 0 to 167026\n",
      "Columns: 177 entries, pff_PLAYID to pff_RUNPASSOPTION\n",
      "dtypes: float64(30), int64(30), object(117)\n",
      "memory usage: 1.0+ GB\n"
     ]
    }
   ],
   "source": [
    "DATA.info()"
   ]
  },
  {
   "cell_type": "code",
   "execution_count": 187,
   "metadata": {},
   "outputs": [],
   "source": [
    "d = DATA.copy()"
   ]
  },
  {
   "cell_type": "markdown",
   "metadata": {},
   "source": [
    "### 2.0 Feature Selection and Engineering <a class=\"anchor\" id=\"fse\"></a>"
   ]
  },
  {
   "cell_type": "markdown",
   "metadata": {},
   "source": [
    "[Table of Contents](#toc)"
   ]
  },
  {
   "cell_type": "markdown",
   "metadata": {},
   "source": [
    "#### 2.1 Remove Garbage Time <a class=\"anchor\" id=\"garbage\"></a>"
   ]
  },
  {
   "cell_type": "code",
   "execution_count": 188,
   "metadata": {},
   "outputs": [],
   "source": [
    "d = d.loc[d['pff_GARBAGETIME'] == 0]"
   ]
  },
  {
   "cell_type": "code",
   "execution_count": 189,
   "metadata": {},
   "outputs": [],
   "source": [
    "d = d.reset_index(drop=True)"
   ]
  },
  {
   "cell_type": "code",
   "execution_count": 190,
   "metadata": {},
   "outputs": [
    {
     "data": {
      "text/plain": [
       "(721010, 177)"
      ]
     },
     "execution_count": 190,
     "metadata": {},
     "output_type": "execute_result"
    }
   ],
   "source": [
    "d.shape"
   ]
  },
  {
   "cell_type": "markdown",
   "metadata": {},
   "source": [
    "#### 2.2 Custom Field Position <a class=\"anchor\" id=\"fp\"></a>"
   ]
  },
  {
   "cell_type": "code",
   "execution_count": 191,
   "metadata": {},
   "outputs": [],
   "source": [
    "fp = d['pff_FIELDPOSITION']\n",
    "d['fp'] = np.where(fp < 0, -1 * fp, 100 - fp)"
   ]
  },
  {
   "cell_type": "code",
   "execution_count": 192,
   "metadata": {},
   "outputs": [
    {
     "data": {
      "text/plain": [
       "99"
      ]
     },
     "execution_count": 192,
     "metadata": {},
     "output_type": "execute_result"
    }
   ],
   "source": [
    "len(d['fp'].unique())"
   ]
  },
  {
   "cell_type": "markdown",
   "metadata": {},
   "source": [
    "### 3.0 Transform All Data <a class=\"anchor\" id=\"transform\"></a>"
   ]
  },
  {
   "cell_type": "markdown",
   "metadata": {},
   "source": [
    "[Table of Contents](#toc)"
   ]
  },
  {
   "cell_type": "markdown",
   "metadata": {},
   "source": [
    "#### 3.1 Subset Run and Pass Data Sets <a class=\"anchor\" id=\"rp\"></a>"
   ]
  },
  {
   "cell_type": "code",
   "execution_count": 193,
   "metadata": {},
   "outputs": [],
   "source": [
    "PLAYS = d.loc[(d['pff_RUNPASS'] == 'P') | (d['pff_RUNPASS'] == 'R')]"
   ]
  },
  {
   "cell_type": "code",
   "execution_count": 194,
   "metadata": {},
   "outputs": [
    {
     "data": {
      "text/plain": [
       "(578355, 178)"
      ]
     },
     "execution_count": 194,
     "metadata": {},
     "output_type": "execute_result"
    }
   ],
   "source": [
    "PLAYS.shape"
   ]
  },
  {
   "cell_type": "code",
   "execution_count": 195,
   "metadata": {},
   "outputs": [],
   "source": [
    "INPUTS = [\n",
    "    'pff_DOWN', 'pff_DISTANCE', 'pff_GAINLOSSNET', 'pff_PASSRESULT', 'fp', 'pff_RUNPASS'\n",
    "]"
   ]
  },
  {
   "cell_type": "code",
   "execution_count": 196,
   "metadata": {},
   "outputs": [],
   "source": [
    "plays = PLAYS[INPUTS]"
   ]
  },
  {
   "cell_type": "code",
   "execution_count": 197,
   "metadata": {},
   "outputs": [
    {
     "data": {
      "text/html": [
       "<div>\n",
       "<style scoped>\n",
       "    .dataframe tbody tr th:only-of-type {\n",
       "        vertical-align: middle;\n",
       "    }\n",
       "\n",
       "    .dataframe tbody tr th {\n",
       "        vertical-align: top;\n",
       "    }\n",
       "\n",
       "    .dataframe thead th {\n",
       "        text-align: right;\n",
       "    }\n",
       "</style>\n",
       "<table border=\"1\" class=\"dataframe\">\n",
       "  <thead>\n",
       "    <tr style=\"text-align: right;\">\n",
       "      <th></th>\n",
       "      <th>pff_DOWN</th>\n",
       "      <th>pff_DISTANCE</th>\n",
       "      <th>pff_GAINLOSSNET</th>\n",
       "      <th>pff_PASSRESULT</th>\n",
       "      <th>fp</th>\n",
       "      <th>pff_RUNPASS</th>\n",
       "    </tr>\n",
       "  </thead>\n",
       "  <tbody>\n",
       "    <tr>\n",
       "      <th>1</th>\n",
       "      <td>1</td>\n",
       "      <td>10</td>\n",
       "      <td>-6</td>\n",
       "      <td>SACK</td>\n",
       "      <td>25</td>\n",
       "      <td>P</td>\n",
       "    </tr>\n",
       "    <tr>\n",
       "      <th>2</th>\n",
       "      <td>2</td>\n",
       "      <td>16</td>\n",
       "      <td>9</td>\n",
       "      <td>NaN</td>\n",
       "      <td>19</td>\n",
       "      <td>R</td>\n",
       "    </tr>\n",
       "    <tr>\n",
       "      <th>3</th>\n",
       "      <td>3</td>\n",
       "      <td>7</td>\n",
       "      <td>17</td>\n",
       "      <td>NaN</td>\n",
       "      <td>28</td>\n",
       "      <td>R</td>\n",
       "    </tr>\n",
       "    <tr>\n",
       "      <th>4</th>\n",
       "      <td>1</td>\n",
       "      <td>10</td>\n",
       "      <td>1</td>\n",
       "      <td>NaN</td>\n",
       "      <td>45</td>\n",
       "      <td>R</td>\n",
       "    </tr>\n",
       "    <tr>\n",
       "      <th>5</th>\n",
       "      <td>1</td>\n",
       "      <td>10</td>\n",
       "      <td>15</td>\n",
       "      <td>INCOMPLETE</td>\n",
       "      <td>46</td>\n",
       "      <td>P</td>\n",
       "    </tr>\n",
       "  </tbody>\n",
       "</table>\n",
       "</div>"
      ],
      "text/plain": [
       "   pff_DOWN  pff_DISTANCE  pff_GAINLOSSNET pff_PASSRESULT  fp pff_RUNPASS\n",
       "1         1            10               -6           SACK  25           P\n",
       "2         2            16                9            NaN  19           R\n",
       "3         3             7               17            NaN  28           R\n",
       "4         1            10                1            NaN  45           R\n",
       "5         1            10               15     INCOMPLETE  46           P"
      ]
     },
     "execution_count": 197,
     "metadata": {},
     "output_type": "execute_result"
    }
   ],
   "source": [
    "plays.head()"
   ]
  },
  {
   "cell_type": "code",
   "execution_count": 198,
   "metadata": {},
   "outputs": [
    {
     "data": {
      "text/plain": [
       "(578355, 6)"
      ]
     },
     "execution_count": 198,
     "metadata": {},
     "output_type": "execute_result"
    }
   ],
   "source": [
    "plays.shape"
   ]
  },
  {
   "cell_type": "code",
   "execution_count": 199,
   "metadata": {},
   "outputs": [
    {
     "data": {
      "text/plain": [
       "pff_DOWN                0\n",
       "pff_DISTANCE            0\n",
       "pff_GAINLOSSNET         0\n",
       "pff_PASSRESULT     274374\n",
       "fp                      0\n",
       "pff_RUNPASS             0\n",
       "dtype: int64"
      ]
     },
     "execution_count": 199,
     "metadata": {},
     "output_type": "execute_result"
    }
   ],
   "source": [
    "plays.isnull().sum()"
   ]
  },
  {
   "cell_type": "code",
   "execution_count": 200,
   "metadata": {},
   "outputs": [],
   "source": [
    "plays['pff_PASSRESULT'] = plays['pff_PASSRESULT'].fillna('RUN')"
   ]
  },
  {
   "cell_type": "code",
   "execution_count": 201,
   "metadata": {},
   "outputs": [
    {
     "data": {
      "text/plain": [
       "0"
      ]
     },
     "execution_count": 201,
     "metadata": {},
     "output_type": "execute_result"
    }
   ],
   "source": [
    "plays.isnull().sum().sum()"
   ]
  },
  {
   "cell_type": "code",
   "execution_count": 202,
   "metadata": {},
   "outputs": [],
   "source": [
    "RUN = plays.loc[plays['pff_RUNPASS'] == 'R']\n",
    "PASS = plays.loc[plays['pff_RUNPASS'] == 'P']"
   ]
  },
  {
   "cell_type": "code",
   "execution_count": 203,
   "metadata": {},
   "outputs": [
    {
     "name": "stdout",
     "output_type": "stream",
     "text": [
      "Run: (274368, 6)\n",
      "Pass: (303987, 6)\n"
     ]
    }
   ],
   "source": [
    "print(\"Run:\", RUN.shape)\n",
    "print(\"Pass:\", PASS.shape)"
   ]
  },
  {
   "cell_type": "markdown",
   "metadata": {},
   "source": [
    "#### 3.2 Subset Field Goals Data <a class=\"anchor\" id=\"sub_fg\"></a>"
   ]
  },
  {
   "cell_type": "code",
   "execution_count": 204,
   "metadata": {},
   "outputs": [],
   "source": [
    "FGS = d.loc[d['pff_SPECIALTEAMSTYPE'].astype(str) == 'FIELD GOAL']"
   ]
  },
  {
   "cell_type": "code",
   "execution_count": 205,
   "metadata": {},
   "outputs": [
    {
     "data": {
      "text/plain": [
       "(12548, 178)"
      ]
     },
     "execution_count": 205,
     "metadata": {},
     "output_type": "execute_result"
    }
   ],
   "source": [
    "FGS.shape"
   ]
  },
  {
   "cell_type": "code",
   "execution_count": 206,
   "metadata": {},
   "outputs": [],
   "source": [
    "FGS[['kickResult', 'kickLocation']] = FGS['pff_KICKRESULT'].str.split(' - ', expand=True)\n",
    "FGS['kickResult'] = np.where(FGS['kickResult'] == 'MISSED', 0, 1)"
   ]
  },
  {
   "cell_type": "code",
   "execution_count": 207,
   "metadata": {},
   "outputs": [],
   "source": [
    "INPUTS = [\n",
    "    'pff_HASH', 'pff_KICKYARDS', 'kickResult'\n",
    "]"
   ]
  },
  {
   "cell_type": "code",
   "execution_count": 208,
   "metadata": {},
   "outputs": [],
   "source": [
    "model_fg = FGS[INPUTS]"
   ]
  },
  {
   "cell_type": "code",
   "execution_count": 209,
   "metadata": {},
   "outputs": [
    {
     "data": {
      "text/plain": [
       "(12548, 3)"
      ]
     },
     "execution_count": 209,
     "metadata": {},
     "output_type": "execute_result"
    }
   ],
   "source": [
    "model_fg.shape"
   ]
  },
  {
   "cell_type": "code",
   "execution_count": 210,
   "metadata": {},
   "outputs": [],
   "source": [
    "model_fg = model_fg.dropna()"
   ]
  },
  {
   "cell_type": "code",
   "execution_count": 211,
   "metadata": {},
   "outputs": [
    {
     "data": {
      "text/plain": [
       "(12535, 3)"
      ]
     },
     "execution_count": 211,
     "metadata": {},
     "output_type": "execute_result"
    }
   ],
   "source": [
    "model_fg.shape"
   ]
  },
  {
   "cell_type": "code",
   "execution_count": 212,
   "metadata": {},
   "outputs": [],
   "source": [
    "TARGET = 'kickResult'\n",
    "X_fg = model_fg.drop(TARGET, axis=1)\n",
    "y_fg = model_fg[TARGET]"
   ]
  },
  {
   "cell_type": "code",
   "execution_count": 213,
   "metadata": {},
   "outputs": [],
   "source": [
    "hash_, yards = X_fg['pff_HASH'], X_fg['pff_KICKYARDS']\n",
    "hash_ = np.array(hash_).reshape(-1, 1)\n",
    "one_hot = OneHotEncoder(sparse=True).fit_transform(hash_).toarray()\n",
    "hash_ = pd.DataFrame(one_hot, columns=['hash_C', 'hash_L', 'hash_R'])\n",
    "X_prep_fg = hash_.join(yards.reset_index(drop=True).astype(int))"
   ]
  },
  {
   "cell_type": "code",
   "execution_count": 214,
   "metadata": {},
   "outputs": [
    {
     "data": {
      "text/html": [
       "<div>\n",
       "<style scoped>\n",
       "    .dataframe tbody tr th:only-of-type {\n",
       "        vertical-align: middle;\n",
       "    }\n",
       "\n",
       "    .dataframe tbody tr th {\n",
       "        vertical-align: top;\n",
       "    }\n",
       "\n",
       "    .dataframe thead th {\n",
       "        text-align: right;\n",
       "    }\n",
       "</style>\n",
       "<table border=\"1\" class=\"dataframe\">\n",
       "  <thead>\n",
       "    <tr style=\"text-align: right;\">\n",
       "      <th></th>\n",
       "      <th>hash_C</th>\n",
       "      <th>hash_L</th>\n",
       "      <th>hash_R</th>\n",
       "      <th>pff_KICKYARDS</th>\n",
       "    </tr>\n",
       "  </thead>\n",
       "  <tbody>\n",
       "    <tr>\n",
       "      <th>0</th>\n",
       "      <td>0.0</td>\n",
       "      <td>1.0</td>\n",
       "      <td>0.0</td>\n",
       "      <td>26</td>\n",
       "    </tr>\n",
       "    <tr>\n",
       "      <th>1</th>\n",
       "      <td>0.0</td>\n",
       "      <td>0.0</td>\n",
       "      <td>1.0</td>\n",
       "      <td>36</td>\n",
       "    </tr>\n",
       "    <tr>\n",
       "      <th>2</th>\n",
       "      <td>0.0</td>\n",
       "      <td>0.0</td>\n",
       "      <td>1.0</td>\n",
       "      <td>22</td>\n",
       "    </tr>\n",
       "    <tr>\n",
       "      <th>3</th>\n",
       "      <td>0.0</td>\n",
       "      <td>1.0</td>\n",
       "      <td>0.0</td>\n",
       "      <td>43</td>\n",
       "    </tr>\n",
       "    <tr>\n",
       "      <th>4</th>\n",
       "      <td>0.0</td>\n",
       "      <td>0.0</td>\n",
       "      <td>1.0</td>\n",
       "      <td>47</td>\n",
       "    </tr>\n",
       "  </tbody>\n",
       "</table>\n",
       "</div>"
      ],
      "text/plain": [
       "   hash_C  hash_L  hash_R  pff_KICKYARDS\n",
       "0     0.0     1.0     0.0             26\n",
       "1     0.0     0.0     1.0             36\n",
       "2     0.0     0.0     1.0             22\n",
       "3     0.0     1.0     0.0             43\n",
       "4     0.0     0.0     1.0             47"
      ]
     },
     "execution_count": 214,
     "metadata": {},
     "output_type": "execute_result"
    }
   ],
   "source": [
    "X_prep_fg.head()"
   ]
  },
  {
   "cell_type": "markdown",
   "metadata": {},
   "source": [
    "### 4.0 Field Goal Model <a class=\"anchor\" id=\"fg\"></a>"
   ]
  },
  {
   "cell_type": "markdown",
   "metadata": {},
   "source": [
    "[Table of Contents](#toc)"
   ]
  },
  {
   "cell_type": "markdown",
   "metadata": {},
   "source": [
    "#### 4.1 Threshold Experimentation <a class=\"anchor\" id=\"threshold\"></a>"
   ]
  },
  {
   "cell_type": "code",
   "execution_count": 215,
   "metadata": {},
   "outputs": [],
   "source": [
    "def metrics(model, x, y, threshold=0.5):\n",
    "    \"\"\"\n",
    "    @param model — fitted Logistic Regression Model\n",
    "    @param x – x test for prediction\n",
    "    @param y – y yest for comparison\n",
    "    @param threshold – percent at which to classify the positive class\n",
    "    \n",
    "    Outputs Confusion Matrix and F1-Score for a fitted Logistic Regression Model\n",
    "        Used for experimenting with best threshold for classification\n",
    "    \"\"\"\n",
    "    y_prob = model.predict_proba(x)[:, 1]\n",
    "    predictions = np.where(y_prob > threshold, 1, 0)\n",
    "    print(\"\\nConfusion Matrix (t={})\".format(threshold))\n",
    "    print(confusion_matrix(y, predictions))\n",
    "    f1_ = f1_score(y, predictions)\n",
    "    print(\"F1:\", f1_)\n",
    "\n",
    "    return f1_"
   ]
  },
  {
   "cell_type": "code",
   "execution_count": 216,
   "metadata": {},
   "outputs": [],
   "source": [
    "def log_reg(X, y, threshold=0.5):\n",
    "    \"\"\"\n",
    "    @param X – Input features (Hash/Distance)\n",
    "    @param y – Output feature (Make/Miss)\n",
    "    @param threshold – percent at which to classify the positive class\n",
    "    \n",
    "    Initialize and fit a Logistic Regression Model given Field Goal data\n",
    "    \"\"\"\n",
    "    X_train, X_test, y_train, y_test = train_test_split(\n",
    "        X, y, test_size=0.2\n",
    "    )\n",
    "\n",
    "    lr = LogisticRegression(\n",
    "        solver='lbfgs'\n",
    "    )\n",
    "    lr = lr.fit(X_train, y_train)\n",
    "    f1_score = metrics(lr, X_test, y_test, threshold)\n",
    "\n",
    "    return lr, f1_score"
   ]
  },
  {
   "cell_type": "code",
   "execution_count": 217,
   "metadata": {},
   "outputs": [
    {
     "name": "stdout",
     "output_type": "stream",
     "text": [
      "\n",
      "Confusion Matrix (t=0.5)\n",
      "[[ 136  505]\n",
      " [ 110 1756]]\n",
      "F1: 0.8509813423794523\n",
      "\n",
      "Confusion Matrix (t=0.55)\n",
      "[[ 198  460]\n",
      " [ 213 1636]]\n",
      "F1: 0.829404309252218\n",
      "\n",
      "Confusion Matrix (t=0.6)\n",
      "[[ 264  390]\n",
      " [ 277 1576]]\n",
      "F1: 0.8253469494632103\n",
      "\n",
      "Confusion Matrix (t=0.65)\n",
      "[[ 338  296]\n",
      " [ 403 1470]]\n",
      "F1: 0.8079142621599341\n",
      "\n",
      "Confusion Matrix (t=0.7)\n",
      "[[ 412  251]\n",
      " [ 535 1309]]\n",
      "F1: 0.7690951821386605\n",
      "\n",
      "Confusion Matrix (t=0.75)\n",
      "[[ 468  202]\n",
      " [ 740 1097]]\n",
      "F1: 0.6996173469387754\n",
      "\n",
      "Confusion Matrix (t=0.8)\n",
      "[[526 133]\n",
      " [915 933]]\n",
      "F1: 0.6403568977350721\n",
      "\n",
      "Confusion Matrix (t=0.85)\n",
      "[[ 617   83]\n",
      " [1148  659]]\n",
      "F1: 0.5170655158885837\n",
      "\n",
      "Confusion Matrix (t=0.9)\n",
      "[[ 660   21]\n",
      " [1476  350]]\n",
      "F1: 0.3186162949476559\n",
      "\n",
      "Confusion Matrix (t=0.95)\n",
      "[[ 688    1]\n",
      " [1817    1]]\n",
      "F1: 0.001098901098901099\n",
      "\n",
      "Confusion Matrix (t=1.0)\n",
      "[[ 643    0]\n",
      " [1864    0]]\n",
      "F1: 0.0\n"
     ]
    }
   ],
   "source": [
    "thresholds = np.arange(0.5, 1.05, 0.05)\n",
    "f1_scores = []\n",
    "\n",
    "for t in thresholds:\n",
    "    model, f1 = log_reg(X_prep_fg, y_fg, round(t, 2))\n",
    "    f1_scores.append(f1)"
   ]
  },
  {
   "cell_type": "code",
   "execution_count": 218,
   "metadata": {},
   "outputs": [
    {
     "data": {
      "image/png": "[encoded data removed]",
      "text/plain": [
       "<Figure size 432x288 with 1 Axes>"
      ]
     },
     "metadata": {
      "needs_background": "light"
     },
     "output_type": "display_data"
    }
   ],
   "source": [
    "plt.plot(thresholds, f1_scores)\n",
    "plt.show()"
   ]
  },
  {
   "cell_type": "markdown",
   "metadata": {},
   "source": [
    "#### 4.2 Final Logistic Regression Model <a class=\"anchor\" id=\"log\"></a>"
   ]
  },
  {
   "cell_type": "code",
   "execution_count": 219,
   "metadata": {},
   "outputs": [],
   "source": [
    "BEST_THRESHOLD = 0.6"
   ]
  },
  {
   "cell_type": "code",
   "execution_count": 220,
   "metadata": {},
   "outputs": [
    {
     "name": "stdout",
     "output_type": "stream",
     "text": [
      "\n",
      "Confusion Matrix (t=0.6)\n",
      "[[ 254  396]\n",
      " [ 252 1605]]\n",
      "F1: 0.8320373250388803\n"
     ]
    }
   ],
   "source": [
    "fg_model, f1 = log_reg(X_prep_fg, y_fg, 0.6)"
   ]
  },
  {
   "cell_type": "markdown",
   "metadata": {},
   "source": [
    "### 5.0 Punt Distributions <a class=\"anchor\" id=\"punt\"></a>"
   ]
  },
  {
   "cell_type": "markdown",
   "metadata": {},
   "source": [
    "[Table of Contents](#toc)"
   ]
  },
  {
   "cell_type": "code",
   "execution_count": 221,
   "metadata": {},
   "outputs": [],
   "source": [
    "PUNTS = d.loc[d['pff_SPECIALTEAMSTYPE'] == 'PUNT'][['pff_KICKYARDS', 'pff_RETURNYARDS']]\n",
    "PUNTS['pff_RETURNYARDS'] = PUNTS['pff_RETURNYARDS'].fillna(0)\n",
    "PUNTS = PUNTS.dropna()"
   ]
  },
  {
   "cell_type": "code",
   "execution_count": 222,
   "metadata": {},
   "outputs": [
    {
     "data": {
      "text/plain": [
       "(40782, 2)"
      ]
     },
     "execution_count": 222,
     "metadata": {},
     "output_type": "execute_result"
    }
   ],
   "source": [
    "PUNTS.shape"
   ]
  },
  {
   "cell_type": "code",
   "execution_count": 223,
   "metadata": {},
   "outputs": [],
   "source": [
    "PUNTS['NET_YARDS'] = PUNTS['pff_KICKYARDS'] - PUNTS['pff_RETURNYARDS']"
   ]
  },
  {
   "cell_type": "code",
   "execution_count": 224,
   "metadata": {},
   "outputs": [
    {
     "data": {
      "image/png": "[encoded data removed]",
      "text/plain": [
       "<Figure size 432x288 with 1 Axes>"
      ]
     },
     "metadata": {
      "needs_background": "light"
     },
     "output_type": "display_data"
    }
   ],
   "source": [
    "PUNTS['NET_YARDS'].plot.density()\n",
    "plt.show()"
   ]
  },
  {
   "cell_type": "code",
   "execution_count": 225,
   "metadata": {},
   "outputs": [],
   "source": [
    "x = np.array(PUNTS['NET_YARDS'])\n",
    "punt_model = GaussianMixture(\n",
    "        n_components=2,\n",
    ").fit(x.reshape(-1, 1))"
   ]
  },
  {
   "cell_type": "markdown",
   "metadata": {},
   "source": [
    "### 6.0 Run Models <a class=\"anchor\" id=\"run\"></a>"
   ]
  },
  {
   "cell_type": "markdown",
   "metadata": {},
   "source": [
    "[Table of Contents](#toc)"
   ]
  },
  {
   "cell_type": "code",
   "execution_count": 226,
   "metadata": {},
   "outputs": [],
   "source": [
    "run = RUN.drop('pff_PASSRESULT', axis=1)"
   ]
  },
  {
   "cell_type": "code",
   "execution_count": 227,
   "metadata": {},
   "outputs": [],
   "source": [
    "r1 = run.loc[run['pff_DOWN'] == 1]\n",
    "r2 = run.loc[run['pff_DOWN'] == 2]\n",
    "r3 = run.loc[run['pff_DOWN'] == 3]\n",
    "r4 = run.loc[run['pff_DOWN'] == 4]"
   ]
  },
  {
   "cell_type": "code",
   "execution_count": 228,
   "metadata": {},
   "outputs": [
    {
     "name": "stdout",
     "output_type": "stream",
     "text": [
      "Running Downs:\n",
      "\t1st: (141050, 5)\n",
      "\t2nd: (92323, 5)\n",
      "\t3rd: (34723, 5)\n",
      "\t4th: (5925, 5)\n"
     ]
    }
   ],
   "source": [
    "print(\"Running Downs:\")\n",
    "print(\"\\t1st:\", r1.shape)\n",
    "print(\"\\t2nd:\", r2.shape)\n",
    "print(\"\\t3rd:\", r3.shape)\n",
    "print(\"\\t4th:\", r4.shape)"
   ]
  },
  {
   "cell_type": "code",
   "execution_count": 229,
   "metadata": {},
   "outputs": [
    {
     "data": {
      "text/plain": [
       "5.0"
      ]
     },
     "execution_count": 229,
     "metadata": {},
     "output_type": "execute_result"
    }
   ],
   "source": [
    "r4['pff_DISTANCE'].quantile(0.925)"
   ]
  },
  {
   "cell_type": "markdown",
   "metadata": {},
   "source": [
    "#### 6.1 Quantile Cut by Yards to Go <a class=\"anchor\" id=\"cut\"></a>"
   ]
  },
  {
   "cell_type": "code",
   "execution_count": 230,
   "metadata": {},
   "outputs": [],
   "source": [
    "r1['group'] = pd.qcut(r1['pff_DISTANCE'], q=[0, 0.05, 0.9675, 1], labels=['short', 'medium', 'long'])\n",
    "r2['group'] = pd.qcut(r2['pff_DISTANCE'], q=[0, 0.25, 0.75, 1], labels=['short', 'medium', 'long'])\n",
    "r3['group'] = pd.qcut(r3['pff_DISTANCE'], q=[0, 0.35, 0.75, 1], labels=['short', 'medium', 'long'])\n",
    "r4['group'] = pd.qcut(r4['pff_DISTANCE'], q=[0, 0.7, 0.925, 1], labels=['short', 'medium', 'long'])"
   ]
  },
  {
   "cell_type": "code",
   "execution_count": 231,
   "metadata": {},
   "outputs": [],
   "source": [
    "r1_s, r1_m, r1_l = r1.loc[r1['group'] == 'short'], r1.loc[r1['group'] == 'medium'], r1.loc[r1['group'] == 'long']\n",
    "r2_s, r2_m, r2_l = r2.loc[r2['group'] == 'short'], r2.loc[r2['group'] == 'medium'], r2.loc[r2['group'] == 'long']\n",
    "r3_s, r3_m, r3_l = r3.loc[r3['group'] == 'short'], r3.loc[r3['group'] == 'medium'], r3.loc[r3['group'] == 'long']\n",
    "r4_s, r4_m, r4_l = r4.loc[r4['group'] == 'short'], r4.loc[r4['group'] == 'medium'], r4.loc[r4['group'] == 'long']"
   ]
  },
  {
   "cell_type": "code",
   "execution_count": 232,
   "metadata": {},
   "outputs": [
    {
     "name": "stdout",
     "output_type": "stream",
     "text": [
      "Running Categories:\n",
      "\t1st: (141050, 6)\n",
      "\t\t1st Short: (7336, 6)\n",
      "\t\t1st Medium: (129745, 6)\n",
      "\t\t1st Long: (3969, 6)\n",
      "\t2nd: (92323, 6)\n",
      "\t\t2nd Short: (26658, 6)\n",
      "\t\t2nd Medium: (56061, 6)\n",
      "\t\t2nd Long: (9604, 6)\n",
      "\t3rd: (34723, 6)\n",
      "\t\t3rd Short: (16694, 6)\n",
      "\t\t3rd Medium: (9881, 6)\n",
      "\t\t3rd Long: (8148, 6)\n",
      "\t4th: (5925, 6)\n",
      "\t\t4th Short: (4986, 6)\n",
      "\t\t4th Medium: (542, 6)\n",
      "\t\t4th Long: (397, 6)\n"
     ]
    }
   ],
   "source": [
    "print(\"Running Categories:\")\n",
    "print(\"\\t1st:\", r1.shape)\n",
    "print(\"\\t\\t1st Short:\", r1_s.shape)\n",
    "print(\"\\t\\t1st Medium:\", r1_m.shape)\n",
    "print(\"\\t\\t1st Long:\", r1_l.shape)\n",
    "print(\"\\t2nd:\", r2.shape)\n",
    "print(\"\\t\\t2nd Short:\", r2_s.shape)\n",
    "print(\"\\t\\t2nd Medium:\", r2_m.shape)\n",
    "print(\"\\t\\t2nd Long:\", r2_l.shape)\n",
    "print(\"\\t3rd:\", r3.shape)\n",
    "print(\"\\t\\t3rd Short:\", r3_s.shape)\n",
    "print(\"\\t\\t3rd Medium:\", r3_m.shape)\n",
    "print(\"\\t\\t3rd Long:\", r3_l.shape)\n",
    "print(\"\\t4th:\", r4.shape)\n",
    "print(\"\\t\\t4th Short:\", r4_s.shape)\n",
    "print(\"\\t\\t4th Medium:\", r4_m.shape)\n",
    "print(\"\\t\\t4th Long:\", r4_l.shape)"
   ]
  },
  {
   "cell_type": "markdown",
   "metadata": {},
   "source": [
    "#### 6.2 Mixture Models <a class=\"anchor\" id=\"mixture\"></a>"
   ]
  },
  {
   "cell_type": "code",
   "execution_count": 233,
   "metadata": {},
   "outputs": [
    {
     "data": {
      "image/png": "[encoded data removed]",
      "text/plain": [
       "<Figure size 432x288 with 1 Axes>"
      ]
     },
     "metadata": {
      "needs_background": "light"
     },
     "output_type": "display_data"
    }
   ],
   "source": [
    "r1_s['pff_GAINLOSSNET'].plot.density()\n",
    "r1_m['pff_GAINLOSSNET'].plot.density()\n",
    "r1_l['pff_GAINLOSSNET'].plot.density()\n",
    "plt.xlim(-20, 50)\n",
    "plt.legend(labels=['short', 'medium', 'long'])\n",
    "plt.show()"
   ]
  },
  {
   "cell_type": "code",
   "execution_count": 234,
   "metadata": {},
   "outputs": [],
   "source": [
    "from sklearn.mixture import GaussianMixture\n",
    "\n",
    "def plot_mixture(gm):\n",
    "    \"\"\"\n",
    "    @param gm – fitted Guassian Mixture model\n",
    "    \n",
    "    Visualize the probability density function of a Guassian Mixture model\n",
    "    \"\"\"\n",
    "    fig = plt.figure()\n",
    "    ax = fig.add_subplot(111)\n",
    "    \n",
    "    x = np.linspace(-25, 50, 1000).reshape(1000, 1)\n",
    "    logprob = gm.score_samples(x)\n",
    "    pdf = np.exp(logprob)\n",
    "    \n",
    "    ax.plot(x, pdf, '-k')\n",
    "    plt.show()\n",
    "    \n",
    "\n",
    "def mixture_model(x, plot=True):\n",
    "    \"\"\"\n",
    "    @param x — input feature (yards gained)\n",
    "    @param plot — control output of function\n",
    "    \n",
    "    Fit a Guassian Mixture model with 2 components for yards gained input\n",
    "        n_components=2 selected after experimentation\n",
    "    \"\"\"\n",
    "    x = np.array(x['pff_GAINLOSSNET'])\n",
    "    \n",
    "    gm = GaussianMixture(\n",
    "        n_components=2\n",
    "    ).fit(x.reshape(-1, 1))\n",
    "    \n",
    "    if plot:\n",
    "        plot_mixture(gm)\n",
    "    \n",
    "    return gm"
   ]
  },
  {
   "cell_type": "code",
   "execution_count": 235,
   "metadata": {},
   "outputs": [
    {
     "data": {
      "image/png": "[encoded data removed]",
      "text/plain": [
       "<Figure size 432x288 with 1 Axes>"
      ]
     },
     "metadata": {
      "needs_background": "light"
     },
     "output_type": "display_data"
    }
   ],
   "source": [
    "m = mixture_model(r1_s)"
   ]
  },
  {
   "cell_type": "code",
   "execution_count": 236,
   "metadata": {},
   "outputs": [],
   "source": [
    "vals = [\n",
    "    r1_s, r1_m, r1_l,\n",
    "    r2_s, r2_m, r2_l,\n",
    "    r3_s, r3_m, r3_l,\n",
    "    r4_s, r4_m, r4_l\n",
    "]\n",
    "run_mixture_dict = {1: [], 2: [], 3: [], 4:[]}\n",
    "run_bins = {1: [], 2: [], 3: [], 4:[]}\n",
    "\n",
    "for i, v in enumerate(vals):\n",
    "    down = i // 3 + 1\n",
    "    \n",
    "    m = mixture_model(v, plot=False)  \n",
    "    run_mixture_dict[down].append(m)\n",
    "    run_bins[down].append((min(v['pff_DISTANCE']), max(v['pff_DISTANCE']) + 1))"
   ]
  },
  {
   "cell_type": "code",
   "execution_count": 237,
   "metadata": {},
   "outputs": [
    {
     "data": {
      "image/png": "[encoded data removed]",
      "text/plain": [
       "<Figure size 432x288 with 1 Axes>"
      ]
     },
     "metadata": {
      "needs_background": "light"
     },
     "output_type": "display_data"
    }
   ],
   "source": [
    "plot_mixture(run_mixture_dict[1][0])"
   ]
  },
  {
   "cell_type": "code",
   "execution_count": 238,
   "metadata": {},
   "outputs": [
    {
     "data": {
      "text/plain": [
       "4.7613221292073025"
      ]
     },
     "execution_count": 238,
     "metadata": {},
     "output_type": "execute_result"
    }
   ],
   "source": [
    "run_mixture_dict[1][0].sample(1)[0][0][0]"
   ]
  },
  {
   "cell_type": "markdown",
   "metadata": {},
   "source": [
    "### 7.0 Pass Models <a class=\"anchor\" id=\"pass\"></a>"
   ]
  },
  {
   "cell_type": "markdown",
   "metadata": {},
   "source": [
    "[Table of Contents](#toc)"
   ]
  },
  {
   "cell_type": "code",
   "execution_count": 239,
   "metadata": {},
   "outputs": [],
   "source": [
    "p1 = PASS.loc[PASS['pff_DOWN'] == 1]\n",
    "p2 = PASS.loc[PASS['pff_DOWN'] == 2]\n",
    "p3 = PASS.loc[PASS['pff_DOWN'] == 3]\n",
    "p4 = PASS.loc[PASS['pff_DOWN'] == 4]"
   ]
  },
  {
   "cell_type": "code",
   "execution_count": 240,
   "metadata": {},
   "outputs": [
    {
     "name": "stdout",
     "output_type": "stream",
     "text": [
      "Passing Downs:\n",
      "\t1st: (113959, 6)\n",
      "\t2nd: (96801, 6)\n",
      "\t3rd: (85140, 6)\n",
      "\t4th: (6978, 6)\n"
     ]
    }
   ],
   "source": [
    "print(\"Passing Downs:\")\n",
    "print(\"\\t1st:\", p1.shape)\n",
    "print(\"\\t2nd:\", p2.shape)\n",
    "print(\"\\t3rd:\", p3.shape)\n",
    "print(\"\\t4th:\", p4.shape)"
   ]
  },
  {
   "cell_type": "markdown",
   "metadata": {},
   "source": [
    "#### 7.1 Quantile Cut by Yards to Go <a class=\"anchor\" id=\"cut2\"></a>"
   ]
  },
  {
   "cell_type": "code",
   "execution_count": 241,
   "metadata": {},
   "outputs": [],
   "source": [
    "p1['group'] = pd.qcut(p1['pff_DISTANCE'], q=[0, 0.05, 0.9675, 1], labels=['short', 'medium', 'long'])\n",
    "p2['group'] = pd.qcut(p2['pff_DISTANCE'], q=[0, 0.25, 0.75, 1], labels=['short', 'medium', 'long'])\n",
    "p3['group'] = pd.qcut(p3['pff_DISTANCE'], q=[0, 0.25, 0.75, 1], labels=['short', 'medium', 'long'])\n",
    "p4['group'] = pd.qcut(p4['pff_DISTANCE'], q=[0, 0.5, 0.75, 1], labels=['short', 'medium', 'long'])"
   ]
  },
  {
   "cell_type": "code",
   "execution_count": 242,
   "metadata": {},
   "outputs": [],
   "source": [
    "p1_s, p1_m, p1_l = p1.loc[p1['group'] == 'short'], p1.loc[p1['group'] == 'medium'], p1.loc[p1['group'] == 'long']\n",
    "p2_s, p2_m, p2_l = p2.loc[p2['group'] == 'short'], p2.loc[p2['group'] == 'medium'], p2.loc[p2['group'] == 'long']\n",
    "p3_s, p3_m, p3_l = p3.loc[p3['group'] == 'short'], p3.loc[p3['group'] == 'medium'], p3.loc[p3['group'] == 'long']\n",
    "p4_s, p4_m, p4_l = p4.loc[p4['group'] == 'short'], p4.loc[p4['group'] == 'medium'], p4.loc[p4['group'] == 'long']"
   ]
  },
  {
   "cell_type": "code",
   "execution_count": 243,
   "metadata": {},
   "outputs": [
    {
     "name": "stdout",
     "output_type": "stream",
     "text": [
      "Passing Categories:\n",
      "\t1st: (113959, 7)\n",
      "\t\t1st Short: (109455, 7)\n",
      "\t\t1st Medium: (2447, 7)\n",
      "\t\t1st Long: (2057, 7)\n",
      "\t2nd: (96801, 7)\n",
      "\t\t2nd Short: (27129, 7)\n",
      "\t\t2nd Medium: (50327, 7)\n",
      "\t\t2nd Long: (19345, 7)\n",
      "\t3rd: (85140, 7)\n",
      "\t\t3rd Short: (25922, 7)\n",
      "\t\t3rd Medium: (40669, 7)\n",
      "\t\t3rd Long: (18549, 7)\n",
      "\t4th: (6978, 7)\n",
      "\t\t4th Short: (3856, 7)\n",
      "\t\t4th Medium: (1437, 7)\n",
      "\t\t4th Long: (1685, 7)\n"
     ]
    }
   ],
   "source": [
    "print(\"Passing Categories:\")\n",
    "print(\"\\t1st:\", p1.shape)\n",
    "print(\"\\t\\t1st Short:\", p1_s.shape)\n",
    "print(\"\\t\\t1st Medium:\", p1_m.shape)\n",
    "print(\"\\t\\t1st Long:\", p1_l.shape)\n",
    "print(\"\\t2nd:\", p2.shape)\n",
    "print(\"\\t\\t2nd Short:\", p2_s.shape)\n",
    "print(\"\\t\\t2nd Medium:\", p2_m.shape)\n",
    "print(\"\\t\\t2nd Long:\", p2_l.shape)\n",
    "print(\"\\t3rd:\", p3.shape)\n",
    "print(\"\\t\\t3rd Short:\", p3_s.shape)\n",
    "print(\"\\t\\t3rd Medium:\", p3_m.shape)\n",
    "print(\"\\t\\t3rd Long:\", p3_l.shape)\n",
    "print(\"\\t4th:\", p4.shape)\n",
    "print(\"\\t\\t4th Short:\", p4_s.shape)\n",
    "print(\"\\t\\t4th Medium:\", p4_m.shape)\n",
    "print(\"\\t\\t4th Long:\", p4_l.shape)"
   ]
  },
  {
   "cell_type": "markdown",
   "metadata": {},
   "source": [
    "#### 7.2 Mixture Models <a class=\"anchor\" id=\"mixture2\"></a>"
   ]
  },
  {
   "cell_type": "code",
   "execution_count": 244,
   "metadata": {},
   "outputs": [],
   "source": [
    "vals = [\n",
    "    p1_s, p1_m, p1_l,\n",
    "    p2_s, p2_m, p2_l,\n",
    "    p3_s, p3_m, p3_l,\n",
    "    p4_s, p4_m, p4_l\n",
    "]\n",
    "pass_mixture_dict = {1: [], 2: [], 3: [], 4:[]}\n",
    "pass_bins = {1: [], 2: [], 3: [], 4:[]}\n",
    "\n",
    "for i, v in enumerate(vals):\n",
    "    down = i // 3 + 1\n",
    "    \n",
    "    m = mixture_model(v, plot=False)  \n",
    "    pass_mixture_dict[down].append(m)\n",
    "    pass_bins[down].append((min(v['pff_DISTANCE']), max(v['pff_DISTANCE']) + 1))"
   ]
  },
  {
   "cell_type": "code",
   "execution_count": 245,
   "metadata": {},
   "outputs": [
    {
     "data": {
      "image/png": "[encoded data removed]",
      "text/plain": [
       "<Figure size 432x288 with 1 Axes>"
      ]
     },
     "metadata": {
      "needs_background": "light"
     },
     "output_type": "display_data"
    }
   ],
   "source": [
    "plot_mixture(pass_mixture_dict[1][0])"
   ]
  },
  {
   "cell_type": "markdown",
   "metadata": {},
   "source": [
    "### 8.0 Expected Points Added Model <a class=\"anchor\" id=\"epa\"></a>"
   ]
  },
  {
   "cell_type": "markdown",
   "metadata": {},
   "source": [
    "[Table of Contents](#toc)"
   ]
  },
  {
   "cell_type": "markdown",
   "metadata": {},
   "source": [
    "**Hriday Completion %**"
   ]
  },
  {
   "cell_type": "markdown",
   "metadata": {},
   "source": [
    "<u>Short<u>"
   ]
  },
  {
   "cell_type": "code",
   "execution_count": 310,
   "metadata": {},
   "outputs": [],
   "source": [
    "s = [0.40185185185185185, 0.387123745819398, 0.3518578352180937, 0.40397350993377484]"
   ]
  },
  {
   "cell_type": "markdown",
   "metadata": {},
   "source": [
    "<u>Medium<u>"
   ]
  },
  {
   "cell_type": "code",
   "execution_count": 311,
   "metadata": {},
   "outputs": [],
   "source": [
    "m = [0.3900100908173562, 0.3751466944842874, 0.3601001915426551, 0.2967032967032967]"
   ]
  },
  {
   "cell_type": "markdown",
   "metadata": {},
   "source": [
    "<u>Long<u>"
   ]
  },
  {
   "cell_type": "code",
   "execution_count": 312,
   "metadata": {},
   "outputs": [],
   "source": [
    "l = [0.28287841191067, 0.2672672672672673, 0.22920517560073936, 0.30869565217391304]"
   ]
  },
  {
   "cell_type": "code",
   "execution_count": 313,
   "metadata": {},
   "outputs": [],
   "source": [
    "completion_rates = [s, m, l]"
   ]
  },
  {
   "cell_type": "code",
   "execution_count": 315,
   "metadata": {},
   "outputs": [],
   "source": [
    "def EPA(down, ytg, position, pct_run=0.5, aggression=0):\n",
    "    \"\"\"\n",
    "    @param - down: current down of the drive (1st through 4th)\n",
    "    @param - ytg: yards until next first down or endzone\n",
    "    @param - position: field position (customized 1 to 100)\n",
    "    @param - pct_run: likliehood the 'coach' calls a run play\n",
    "    @param - aggression: scalar inclination to make 'aggressive' calls (going for conversions, etc.) \n",
    "    \n",
    "    Simulate n scoring periods to calculate Expected Points Added\n",
    "        Average of points scored through simulation\n",
    "    \"\"\"\n",
    "    global reverse\n",
    "    \n",
    "    points = list()\n",
    "    \n",
    "    SIMULATIONS = 100\n",
    "    for i in range(SIMULATIONS):\n",
    "        reverse = False\n",
    "        \n",
    "        point = run_play(down, ytg, position, pct_run, aggression)\n",
    "        points.append(point)\n",
    "    \n",
    "    return np.array(points).mean()"
   ]
  },
  {
   "cell_type": "code",
   "execution_count": 316,
   "metadata": {},
   "outputs": [],
   "source": [
    "def run_play(down, ytg, position, pct_run, aggression):\n",
    "    \"\"\"\n",
    "    @params — see above\n",
    "    \n",
    "    Recursive function to repeatedly simulate a play until next score;\n",
    "    Dense conditional structure to determine next play given a sampled event, handling:\n",
    "        4th Down Decisions (Go For It vs. Field Goal vs. Punt)\n",
    "        Traditional Plays (Touchdown, Saftey, First Down)\n",
    "    \"\"\"\n",
    "    global reverse\n",
    "    \n",
    "    choices = ['run', 'pass']\n",
    "    choice = np.random.choice(choices, 1, p=[pct_run, 1 - pct_run])[0]\n",
    "\n",
    "    bins = run_bins if choice == 'run' else pass_bins\n",
    "    models = run_mixture_dict if choice == 'run' else pass_mixture_dict\n",
    "    \n",
    "    try:\n",
    "        idx = [i for i, b in enumerate(bins[down]) if ytg in range(b[1])][0]\n",
    "    except IndexError:\n",
    "        idx = 2\n",
    "    \n",
    "    model = models[down][idx]\n",
    "    \n",
    "    if down == 4:\n",
    "        # Go For It\n",
    "        if aggression >= idx and position > 40:\n",
    "            yards_gained = round(model.sample(1)[0][0][0], 0)\n",
    "            \n",
    "            # Incomplete Pass\n",
    "            if choice == 'pass':\n",
    "                rate = completion_rates[idx][int(down) - 1]\n",
    "                yards_gained = np.random.choice([yards_gained, 0], p=[rate, 1 - rate])\n",
    "            position += yards_gained\n",
    "            \n",
    "            # Converted\n",
    "            if yards_gained >= ytg:\n",
    "                down, ytg = 1, 10\n",
    "                return run_play(down, ytg, position, pct_run, aggression)\n",
    "            \n",
    "            # Turnover on Downs\n",
    "            else:\n",
    "                reverse = not reverse\n",
    "                down, ytg = 1, 10\n",
    "                return run_play(down, ytg, 100 - position, pct_run, aggression)\n",
    "                \n",
    "        # Field Goal\n",
    "        elif (position >= 60) or (50 >= position < 60 and AGGRESSION == 2):\n",
    "            hash_ = list(np.zeros(3))\n",
    "            hash_[np.random.randint(0, 3)] = 1\n",
    "            hash_.extend([100 - position + 17])\n",
    "            result = fg_model.predict(np.array(hash_).reshape(1, -1))[0]\n",
    "            \n",
    "            if result == 0:\n",
    "                reverse = not reverse\n",
    "                down, ytg = 1, 10\n",
    "                return run_play(down, ytg, 100 - position, pct_run, aggression)\n",
    "            else:\n",
    "                score = True\n",
    "                scored = 3\n",
    "            \n",
    "        # Punt\n",
    "        else:\n",
    "            net_yards = round(punt_model.sample(1)[0][0][0], 0)\n",
    "            position += net_yards\n",
    "            \n",
    "            # Punt Returned for TD\n",
    "            if position < 0:\n",
    "                score = True\n",
    "                scored = -7\n",
    "            # Touchback\n",
    "            elif position >= 100:\n",
    "                down, ytg = 1, 10\n",
    "                return run_play(down, ytg, 25, pct_run, aggression)\n",
    "            else:\n",
    "                reverse = not reverse\n",
    "                down, ytg = 1, 10\n",
    "                return run_play(down, ytg, 100 - position, pct_run, aggression)\n",
    "        \n",
    "    else:\n",
    "        yards_gained = round(model.sample(1)[0][0][0], 0)\n",
    "        \n",
    "        # Incomplete Pass\n",
    "        if choice == 'pass':\n",
    "                rate = completion_rates[idx][int(down) - 1]\n",
    "                yards_gained = np.random.choice([yards_gained, 0], p=[rate, 1 - rate])\n",
    "        position += yards_gained\n",
    "        \n",
    "        # Touchdown\n",
    "        if position >= 100:\n",
    "            score = True\n",
    "            scored = 7\n",
    "            \n",
    "        # Safety\n",
    "        elif position <= 0:\n",
    "            score = True\n",
    "            scored = -2\n",
    "            \n",
    "        # First Down\n",
    "        elif yards_gained >= ytg:\n",
    "            down, ytg = 1, 10\n",
    "            return run_play(down, ytg, position, pct_run, aggression)\n",
    "        else:\n",
    "            return run_play(down + 1, ytg - yards_gained, position, pct_run, aggression)\n",
    "    \n",
    "    return scored if not reverse else -scored"
   ]
  },
  {
   "cell_type": "code",
   "execution_count": 332,
   "metadata": {},
   "outputs": [],
   "source": [
    "SEED = 42\n",
    "PCT_RUN = 0.5\n",
    "AGGRESSION = 0"
   ]
  },
  {
   "cell_type": "code",
   "execution_count": 345,
   "metadata": {},
   "outputs": [],
   "source": [
    "down = 1\n",
    "ytg = 1\n",
    "position = 98"
   ]
  },
  {
   "cell_type": "code",
   "execution_count": 346,
   "metadata": {},
   "outputs": [],
   "source": [
    "STATE = {\n",
    "    'down': down,\n",
    "    'ytg': ytg,\n",
    "    'position': position,\n",
    "    'pct_run': PCT_RUN,\n",
    "    'aggression': AGGRESSION\n",
    "}"
   ]
  },
  {
   "cell_type": "code",
   "execution_count": 347,
   "metadata": {},
   "outputs": [
    {
     "name": "stdout",
     "output_type": "stream",
     "text": [
      "CPU times: user 154 ms, sys: 3.38 ms, total: 157 ms\n",
      "Wall time: 175 ms\n"
     ]
    }
   ],
   "source": [
    "%%time\n",
    "\n",
    "epa = EPA(**STATE)"
   ]
  },
  {
   "cell_type": "code",
   "execution_count": 348,
   "metadata": {},
   "outputs": [
    {
     "name": "stdout",
     "output_type": "stream",
     "text": [
      "\n",
      "    Expected Points Model:\n",
      "    S (Down: 1, YTG: 1, Position: 2) == 6.46 EP\n",
      "\n"
     ]
    }
   ],
   "source": [
    "print('''\n",
    "    Expected Points Model:\n",
    "    S (Down: {}, YTG: {}, Position: {}) == {} EP\n",
    "'''.format(\n",
    "    STATE['down'],\n",
    "    STATE['ytg'],\n",
    "    ('Own ' if STATE['position'] < 50 else '') + \n",
    "    str(STATE['position'] if STATE['position'] < 50 else 100 - STATE['position']),\n",
    "    epa\n",
    "))"
   ]
  },
  {
   "cell_type": "markdown",
   "metadata": {},
   "source": [
    "### 9.0 Data Visualization <a class=\"anchor\" id=\"viz\"></a>"
   ]
  },
  {
   "cell_type": "markdown",
   "metadata": {},
   "source": [
    "[Table of Contents](#toc)"
   ]
  },
  {
   "cell_type": "markdown",
   "metadata": {},
   "source": [
    "#### 9.1 Calculate EPA for Start State Grid <a class=\"anchor\" id=\"grid\"></a>"
   ]
  },
  {
   "cell_type": "code",
   "execution_count": 321,
   "metadata": {},
   "outputs": [],
   "source": [
    "DOWNS = [1, 2, 3, 4]\n",
    "YARDS = [2, 5, 10]\n",
    "POSITION = list(range(10, 100, 10))\n",
    "PCT_RUN = [0.25, 0.5, 0.75]\n",
    "AGGRESSION = [0, 1, 2]"
   ]
  },
  {
   "cell_type": "code",
   "execution_count": 322,
   "metadata": {},
   "outputs": [],
   "source": [
    "import itertools\n",
    "states = np.array(\n",
    "    list(itertools.product(DOWNS, YARDS, POSITION, PCT_RUN, AGGRESSION))\n",
    ")"
   ]
  },
  {
   "cell_type": "code",
   "execution_count": 323,
   "metadata": {},
   "outputs": [
    {
     "data": {
      "text/plain": [
       "(972, 5)"
      ]
     },
     "execution_count": 323,
     "metadata": {},
     "output_type": "execute_result"
    }
   ],
   "source": [
    "states.shape"
   ]
  },
  {
   "cell_type": "code",
   "execution_count": 324,
   "metadata": {},
   "outputs": [
    {
     "data": {
      "text/plain": [
       "array([[ 1.  ,  2.  , 10.  ,  0.25,  0.  ],\n",
       "       [ 1.  ,  2.  , 10.  ,  0.25,  1.  ],\n",
       "       [ 1.  ,  2.  , 10.  ,  0.25,  2.  ],\n",
       "       ...,\n",
       "       [ 4.  , 10.  , 90.  ,  0.75,  0.  ],\n",
       "       [ 4.  , 10.  , 90.  ,  0.75,  1.  ],\n",
       "       [ 4.  , 10.  , 90.  ,  0.75,  2.  ]])"
      ]
     },
     "execution_count": 324,
     "metadata": {},
     "output_type": "execute_result"
    }
   ],
   "source": [
    "states"
   ]
  },
  {
   "cell_type": "code",
   "execution_count": 325,
   "metadata": {},
   "outputs": [],
   "source": [
    "def call_epa(inputs):\n",
    "    \"\"\"\n",
    "    @param inputs — array of state parameters (down, ytg, position, pct_run, aggression)\n",
    "    \n",
    "    Helper to vectorize EPA function call\n",
    "    \"\"\"\n",
    "    return EPA(*inputs)"
   ]
  },
  {
   "cell_type": "markdown",
   "metadata": {},
   "source": [
    "**WARNING:** ~10 minute runtime"
   ]
  },
  {
   "cell_type": "code",
   "execution_count": 326,
   "metadata": {},
   "outputs": [
    {
     "name": "stdout",
     "output_type": "stream",
     "text": [
      "CPU times: user 23min 3s, sys: 12.1 s, total: 23min 15s\n",
      "Wall time: 25min 15s\n"
     ]
    }
   ],
   "source": [
    "%%time\n",
    "\n",
    "epa_vect = np.vectorize(call_epa, signature='(n)->()')\n",
    "epa_lst = epa_vect(np.array(states))"
   ]
  },
  {
   "cell_type": "code",
   "execution_count": 327,
   "metadata": {},
   "outputs": [],
   "source": [
    "states_df = pd.DataFrame(\n",
    "    states, columns=['down', 'yard', 'position', 'percent_run', 'aggression']\n",
    ")"
   ]
  },
  {
   "cell_type": "code",
   "execution_count": 328,
   "metadata": {},
   "outputs": [],
   "source": [
    "states_df['epa'] = epa_lst"
   ]
  },
  {
   "cell_type": "markdown",
   "metadata": {},
   "source": [
    "#### 9.2 Plotly EPA Bar Chart <a class=\"anchor\" id=\"plotly\"></a>"
   ]
  },
  {
   "cell_type": "code",
   "execution_count": 329,
   "metadata": {},
   "outputs": [],
   "source": [
    "import plotly.express as px"
   ]
  },
  {
   "cell_type": "code",
   "execution_count": 330,
   "metadata": {},
   "outputs": [
    {
     "data": {
      "text/html": [
       "<div>                            <div id=\"b71a0682-6d92-4e1f-9748-0c69d9662eec\" class=\"plotly-graph-div\" style=\"height:525px; width:100%;\"></div>            <script type=\"text/javascript\">                require([\"plotly\"], function(Plotly) {                    window.PLOTLYENV=window.PLOTLYENV || {};                                    if (document.getElementById(\"b71a0682-6d92-4e1f-9748-0c69d9662eec\")) {                    Plotly.newPlot(                        \"b71a0682-6d92-4e1f-9748-0c69d9662eec\",                        [{\"alignmentgroup\": \"True\", \"hovertemplate\": \"position=%{x}<br>epa=%{marker.color}<extra></extra>\", \"legendgroup\": \"\", \"marker\": {\"color\": [-2.85, -2.84, -2.65, -2.55, -2.55, -2.3, -2.16, -2.14, -2.1, -2.01, -2.0, -1.9, -1.85, -1.84, -1.82, -1.77, -1.73, -1.7, -1.66, -1.59, -1.59, -1.58, -1.58, -1.52, -1.42, -1.39, -1.3, -1.26, -1.25, -1.18, -1.15, -1.11, -1.1, -1.09, -1.09, -1.04, -1.02, -0.97, -0.96, -0.96, -0.94, -0.91, -0.91, -0.89, -0.89, -0.89, -0.87, -0.85, -0.83, -0.83, -0.82, -0.81, -0.8, -0.78, -0.78, -0.78, -0.74, -0.72, -0.7, -0.69, -0.69, -0.69, -0.67, -0.67, -0.64, -0.63, -0.62, -0.61, -0.61, -0.61, -0.6, -0.6, -0.59, -0.59, -0.58, -0.5, -0.49, -0.49, -0.48, -0.48, -0.48, -0.48, -0.47, -0.47, -0.44, -0.38, -0.33, -0.32, -0.32, -0.31, -0.28, -0.23, -0.23, -0.18, -0.11, -0.1, 0.02, 0.05, 0.11, 0.15, 0.17, 0.5, 0.65, 0.83, 0.95, 1.05, 1.13, 1.27, -2.73, -1.96, -1.73, -1.66, -1.5, -1.5, -1.49, -1.45, -1.44, -1.42, -1.4, -1.39, -1.35, -1.34, -1.2, -1.16, -1.08, -1.07, -1.03, -0.99, -0.97, -0.97, -0.96, -0.91, -0.9, -0.89, -0.88, -0.88, -0.85, -0.85, -0.83, -0.81, -0.79, -0.76, -0.75, -0.75, -0.7, -0.66, -0.64, -0.63, -0.62, -0.61, -0.6, -0.6, -0.59, -0.56, -0.55, -0.55, -0.53, -0.52, -0.51, -0.47, -0.47, -0.44, -0.43, -0.43, -0.41, -0.41, -0.38, -0.33, -0.33, -0.33, -0.31, -0.3, -0.28, -0.28, -0.27, -0.25, -0.24, -0.23, -0.23, -0.22, -0.2, -0.14, -0.13, -0.07, -0.05, -0.05, 0.03, 0.04, 0.05, 0.11, 0.11, 0.15, 0.17, 0.23, 0.23, 0.27, 0.28, 0.31, 0.33, 0.34, 0.34, 0.35, 0.39, 0.43, 0.52, 0.54, 0.55, 0.55, 0.58, 0.61, 0.66, 0.71, 0.73, 0.95, 0.95, 1.58, -1.95, -1.82, -1.81, -1.58, -1.54, -1.35, -1.25, -1.19, -1.13, -1.11, -1.07, -1.07, -1.05, -0.98, -0.94, -0.94, -0.9, -0.89, -0.82, -0.78, -0.74, -0.74, -0.74, -0.6, -0.59, -0.51, -0.47, -0.45, -0.44, -0.4, -0.37, -0.35, -0.35, -0.31, -0.31, -0.25, -0.23, -0.21, -0.21, -0.18, -0.18, -0.14, -0.11, -0.11, -0.11, -0.1, -0.1, -0.1, -0.09, -0.09, -0.07, -0.06, -0.05, -0.05, -0.03, -0.03, -0.02, -0.02, -0.01, 0.0, 0.0, 0.08, 0.09, 0.1, 0.1, 0.12, 0.14, 0.19, 0.2, 0.21, 0.23, 0.24, 0.26, 0.26, 0.28, 0.3, 0.33, 0.33, 0.34, 0.38, 0.39, 0.42, 0.48, 0.51, 0.55, 0.58, 0.65, 0.7, 0.7, 0.7, 0.75, 0.76, 0.76, 0.76, 0.76, 0.8, 0.99, 1.0, 1.06, 1.12, 1.15, 1.22, 1.28, 1.3, 1.31, 1.47, 1.49, 2.18, -1.31, -0.88, -0.74, -0.65, -0.65, -0.61, -0.5, -0.47, -0.4, -0.38, -0.37, -0.37, -0.36, -0.34, -0.32, -0.32, -0.29, -0.23, -0.22, -0.22, -0.21, -0.2, -0.15, -0.14, -0.09, -0.09, -0.08, -0.04, -0.03, -0.01, 0.02, 0.03, 0.04, 0.05, 0.06, 0.07, 0.1, 0.12, 0.13, 0.13, 0.16, 0.23, 0.24, 0.27, 0.28, 0.31, 0.33, 0.33, 0.37, 0.37, 0.38, 0.38, 0.39, 0.41, 0.43, 0.45, 0.47, 0.49, 0.5, 0.52, 0.53, 0.54, 0.54, 0.55, 0.56, 0.6, 0.6, 0.62, 0.66, 0.66, 0.68, 0.79, 0.82, 0.84, 0.85, 0.88, 0.89, 0.9, 0.9, 0.93, 0.93, 0.95, 1.04, 1.06, 1.09, 1.11, 1.14, 1.17, 1.18, 1.2, 1.2, 1.22, 1.23, 1.27, 1.34, 1.35, 1.4, 1.43, 1.44, 1.46, 1.47, 1.48, 1.49, 1.5, 1.63, 1.68, 2.05, 2.52, -1.26, -1.12, -1.1, -1.07, -1.07, -1.07, -0.88, -0.84, -0.57, -0.53, -0.52, -0.51, -0.48, -0.47, -0.45, -0.43, -0.37, -0.36, -0.34, -0.33, -0.33, -0.27, -0.26, -0.23, -0.2, -0.2, -0.15, -0.13, -0.09, -0.05, -0.04, 0.1, 0.14, 0.14, 0.22, 0.23, 0.28, 0.31, 0.34, 0.39, 0.39, 0.41, 0.42, 0.46, 0.47, 0.48, 0.52, 0.57, 0.6, 0.61, 0.63, 0.66, 0.66, 0.81, 0.83, 0.84, 0.86, 0.96, 0.97, 0.98, 0.99, 1.06, 1.08, 1.11, 1.12, 1.16, 1.16, 1.17, 1.17, 1.17, 1.2, 1.2, 1.21, 1.22, 1.23, 1.24, 1.24, 1.28, 1.29, 1.31, 1.31, 1.34, 1.36, 1.36, 1.37, 1.45, 1.48, 1.57, 1.63, 1.63, 1.65, 1.67, 1.71, 1.73, 1.87, 1.88, 1.89, 1.97, 2.0, 2.0, 2.04, 2.04, 2.04, 2.1, 2.12, 2.16, 2.22, 2.4, -1.99, -1.57, -1.01, -1.0, -0.7, -0.6, -0.47, -0.36, -0.28, -0.24, -0.23, -0.19, -0.11, -0.11, -0.04, 0.0, 0.09, 0.13, 0.16, 0.18, 0.22, 0.24, 0.28, 0.29, 0.3, 0.43, 0.46, 0.46, 0.47, 0.51, 0.52, 0.53, 0.59, 0.61, 0.64, 0.66, 0.67, 0.69, 0.74, 0.78, 0.79, 0.79, 0.83, 0.84, 0.84, 0.92, 0.93, 0.94, 0.99, 1.03, 1.06, 1.08, 1.08, 1.12, 1.12, 1.14, 1.14, 1.18, 1.2, 1.21, 1.24, 1.25, 1.27, 1.28, 1.28, 1.29, 1.31, 1.32, 1.41, 1.42, 1.43, 1.53, 1.54, 1.54, 1.59, 1.6, 1.68, 1.7, 1.73, 1.74, 1.76, 1.76, 1.77, 1.85, 1.86, 1.88, 1.9, 1.94, 2.0, 2.0, 2.03, 2.08, 2.16, 2.29, 2.39, 2.41, 2.44, 2.44, 2.48, 2.57, 2.71, 2.77, 2.79, 2.8, 3.02, 3.02, 3.17, 3.22, -0.46, 0.35, 0.37, 0.45, 0.52, 0.59, 0.61, 0.65, 0.74, 0.81, 0.87, 0.92, 0.92, 0.92, 1.06, 1.07, 1.11, 1.12, 1.13, 1.13, 1.17, 1.26, 1.26, 1.37, 1.42, 1.43, 1.45, 1.48, 1.49, 1.49, 1.59, 1.61, 1.64, 1.65, 1.68, 1.71, 1.72, 1.8, 1.88, 1.9, 2.0, 2.05, 2.05, 2.06, 2.1, 2.17, 2.19, 2.22, 2.22, 2.24, 2.26, 2.29, 2.33, 2.35, 2.35, 2.35, 2.36, 2.36, 2.38, 2.38, 2.47, 2.53, 2.57, 2.57, 2.59, 2.62, 2.62, 2.63, 2.65, 2.74, 2.79, 2.84, 2.85, 2.9, 2.92, 2.93, 2.96, 2.96, 2.96, 3.0, 3.0, 3.0, 3.0, 3.0, 3.0, 3.02, 3.03, 3.12, 3.13, 3.16, 3.19, 3.21, 3.21, 3.27, 3.29, 3.31, 3.33, 3.38, 3.45, 3.52, 3.64, 3.65, 3.73, 3.96, 4.03, 4.03, 4.07, 4.43, -0.23, 0.51, 0.65, 0.79, 0.97, 1.21, 1.45, 1.48, 1.48, 1.5, 1.57, 1.68, 1.79, 1.82, 1.83, 1.91, 1.91, 1.91, 1.96, 1.97, 1.98, 1.99, 2.02, 2.17, 2.2, 2.22, 2.25, 2.25, 2.29, 2.38, 2.4, 2.42, 2.43, 2.47, 2.47, 2.55, 2.56, 2.67, 2.74, 2.77, 2.78, 2.85, 2.93, 2.97, 2.97, 3.0, 3.0, 3.0, 3.0, 3.0, 3.0, 3.03, 3.05, 3.18, 3.22, 3.22, 3.22, 3.24, 3.26, 3.32, 3.33, 3.35, 3.37, 3.4, 3.43, 3.43, 3.45, 3.6, 3.69, 3.69, 3.72, 3.76, 3.77, 3.78, 3.78, 3.78, 3.82, 3.83, 3.84, 3.87, 3.9, 3.93, 3.96, 3.96, 3.97, 3.99, 4.04, 4.07, 4.1, 4.12, 4.15, 4.16, 4.16, 4.18, 4.2, 4.26, 4.31, 4.32, 4.36, 4.4, 4.55, 4.56, 4.56, 4.6, 4.64, 4.8, 4.86, 5.23, 0.41, 1.48, 1.52, 1.62, 1.75, 1.83, 1.86, 1.99, 2.01, 2.02, 2.19, 2.2, 2.31, 2.45, 2.51, 2.59, 2.64, 2.67, 2.7, 2.74, 2.78, 2.79, 2.83, 2.88, 2.89, 2.89, 2.94, 2.94, 2.99, 3.0, 3.0, 3.0, 3.0, 3.0, 3.0, 3.0, 3.05, 3.1, 3.12, 3.2, 3.21, 3.33, 3.33, 3.49, 3.54, 3.58, 3.62, 3.62, 3.68, 3.7, 3.73, 3.8, 3.87, 3.91, 3.94, 3.99, 4.0, 4.02, 4.05, 4.06, 4.08, 4.11, 4.12, 4.12, 4.14, 4.15, 4.16, 4.17, 4.19, 4.21, 4.33, 4.38, 4.38, 4.39, 4.4, 4.48, 4.52, 4.55, 4.55, 4.58, 4.61, 4.61, 4.71, 4.71, 4.71, 4.74, 4.74, 4.83, 4.85, 4.9, 4.95, 5.01, 5.05, 5.1, 5.13, 5.16, 5.17, 5.34, 5.36, 5.49, 5.51, 5.52, 5.54, 5.7, 5.74, 5.74, 5.83, 5.88], \"coloraxis\": \"coloraxis\"}, \"name\": \"\", \"offsetgroup\": \"\", \"orientation\": \"v\", \"showlegend\": false, \"textposition\": \"auto\", \"type\": \"bar\", \"x\": [10.0, 10.0, 10.0, 10.0, 10.0, 10.0, 10.0, 10.0, 10.0, 10.0, 10.0, 10.0, 10.0, 10.0, 10.0, 10.0, 10.0, 10.0, 10.0, 10.0, 10.0, 10.0, 10.0, 10.0, 10.0, 10.0, 10.0, 10.0, 10.0, 10.0, 10.0, 10.0, 10.0, 10.0, 10.0, 10.0, 10.0, 10.0, 10.0, 10.0, 10.0, 10.0, 10.0, 10.0, 10.0, 10.0, 10.0, 10.0, 10.0, 10.0, 10.0, 10.0, 10.0, 10.0, 10.0, 10.0, 10.0, 10.0, 10.0, 10.0, 10.0, 10.0, 10.0, 10.0, 10.0, 10.0, 10.0, 10.0, 10.0, 10.0, 10.0, 10.0, 10.0, 10.0, 10.0, 10.0, 10.0, 10.0, 10.0, 10.0, 10.0, 10.0, 10.0, 10.0, 10.0, 10.0, 10.0, 10.0, 10.0, 10.0, 10.0, 10.0, 10.0, 10.0, 10.0, 10.0, 10.0, 10.0, 10.0, 10.0, 10.0, 10.0, 10.0, 10.0, 10.0, 10.0, 10.0, 10.0, 20.0, 20.0, 20.0, 20.0, 20.0, 20.0, 20.0, 20.0, 20.0, 20.0, 20.0, 20.0, 20.0, 20.0, 20.0, 20.0, 20.0, 20.0, 20.0, 20.0, 20.0, 20.0, 20.0, 20.0, 20.0, 20.0, 20.0, 20.0, 20.0, 20.0, 20.0, 20.0, 20.0, 20.0, 20.0, 20.0, 20.0, 20.0, 20.0, 20.0, 20.0, 20.0, 20.0, 20.0, 20.0, 20.0, 20.0, 20.0, 20.0, 20.0, 20.0, 20.0, 20.0, 20.0, 20.0, 20.0, 20.0, 20.0, 20.0, 20.0, 20.0, 20.0, 20.0, 20.0, 20.0, 20.0, 20.0, 20.0, 20.0, 20.0, 20.0, 20.0, 20.0, 20.0, 20.0, 20.0, 20.0, 20.0, 20.0, 20.0, 20.0, 20.0, 20.0, 20.0, 20.0, 20.0, 20.0, 20.0, 20.0, 20.0, 20.0, 20.0, 20.0, 20.0, 20.0, 20.0, 20.0, 20.0, 20.0, 20.0, 20.0, 20.0, 20.0, 20.0, 20.0, 20.0, 20.0, 20.0, 30.0, 30.0, 30.0, 30.0, 30.0, 30.0, 30.0, 30.0, 30.0, 30.0, 30.0, 30.0, 30.0, 30.0, 30.0, 30.0, 30.0, 30.0, 30.0, 30.0, 30.0, 30.0, 30.0, 30.0, 30.0, 30.0, 30.0, 30.0, 30.0, 30.0, 30.0, 30.0, 30.0, 30.0, 30.0, 30.0, 30.0, 30.0, 30.0, 30.0, 30.0, 30.0, 30.0, 30.0, 30.0, 30.0, 30.0, 30.0, 30.0, 30.0, 30.0, 30.0, 30.0, 30.0, 30.0, 30.0, 30.0, 30.0, 30.0, 30.0, 30.0, 30.0, 30.0, 30.0, 30.0, 30.0, 30.0, 30.0, 30.0, 30.0, 30.0, 30.0, 30.0, 30.0, 30.0, 30.0, 30.0, 30.0, 30.0, 30.0, 30.0, 30.0, 30.0, 30.0, 30.0, 30.0, 30.0, 30.0, 30.0, 30.0, 30.0, 30.0, 30.0, 30.0, 30.0, 30.0, 30.0, 30.0, 30.0, 30.0, 30.0, 30.0, 30.0, 30.0, 30.0, 30.0, 30.0, 30.0, 40.0, 40.0, 40.0, 40.0, 40.0, 40.0, 40.0, 40.0, 40.0, 40.0, 40.0, 40.0, 40.0, 40.0, 40.0, 40.0, 40.0, 40.0, 40.0, 40.0, 40.0, 40.0, 40.0, 40.0, 40.0, 40.0, 40.0, 40.0, 40.0, 40.0, 40.0, 40.0, 40.0, 40.0, 40.0, 40.0, 40.0, 40.0, 40.0, 40.0, 40.0, 40.0, 40.0, 40.0, 40.0, 40.0, 40.0, 40.0, 40.0, 40.0, 40.0, 40.0, 40.0, 40.0, 40.0, 40.0, 40.0, 40.0, 40.0, 40.0, 40.0, 40.0, 40.0, 40.0, 40.0, 40.0, 40.0, 40.0, 40.0, 40.0, 40.0, 40.0, 40.0, 40.0, 40.0, 40.0, 40.0, 40.0, 40.0, 40.0, 40.0, 40.0, 40.0, 40.0, 40.0, 40.0, 40.0, 40.0, 40.0, 40.0, 40.0, 40.0, 40.0, 40.0, 40.0, 40.0, 40.0, 40.0, 40.0, 40.0, 40.0, 40.0, 40.0, 40.0, 40.0, 40.0, 40.0, 40.0, 50.0, 50.0, 50.0, 50.0, 50.0, 50.0, 50.0, 50.0, 50.0, 50.0, 50.0, 50.0, 50.0, 50.0, 50.0, 50.0, 50.0, 50.0, 50.0, 50.0, 50.0, 50.0, 50.0, 50.0, 50.0, 50.0, 50.0, 50.0, 50.0, 50.0, 50.0, 50.0, 50.0, 50.0, 50.0, 50.0, 50.0, 50.0, 50.0, 50.0, 50.0, 50.0, 50.0, 50.0, 50.0, 50.0, 50.0, 50.0, 50.0, 50.0, 50.0, 50.0, 50.0, 50.0, 50.0, 50.0, 50.0, 50.0, 50.0, 50.0, 50.0, 50.0, 50.0, 50.0, 50.0, 50.0, 50.0, 50.0, 50.0, 50.0, 50.0, 50.0, 50.0, 50.0, 50.0, 50.0, 50.0, 50.0, 50.0, 50.0, 50.0, 50.0, 50.0, 50.0, 50.0, 50.0, 50.0, 50.0, 50.0, 50.0, 50.0, 50.0, 50.0, 50.0, 50.0, 50.0, 50.0, 50.0, 50.0, 50.0, 50.0, 50.0, 50.0, 50.0, 50.0, 50.0, 50.0, 50.0, 60.0, 60.0, 60.0, 60.0, 60.0, 60.0, 60.0, 60.0, 60.0, 60.0, 60.0, 60.0, 60.0, 60.0, 60.0, 60.0, 60.0, 60.0, 60.0, 60.0, 60.0, 60.0, 60.0, 60.0, 60.0, 60.0, 60.0, 60.0, 60.0, 60.0, 60.0, 60.0, 60.0, 60.0, 60.0, 60.0, 60.0, 60.0, 60.0, 60.0, 60.0, 60.0, 60.0, 60.0, 60.0, 60.0, 60.0, 60.0, 60.0, 60.0, 60.0, 60.0, 60.0, 60.0, 60.0, 60.0, 60.0, 60.0, 60.0, 60.0, 60.0, 60.0, 60.0, 60.0, 60.0, 60.0, 60.0, 60.0, 60.0, 60.0, 60.0, 60.0, 60.0, 60.0, 60.0, 60.0, 60.0, 60.0, 60.0, 60.0, 60.0, 60.0, 60.0, 60.0, 60.0, 60.0, 60.0, 60.0, 60.0, 60.0, 60.0, 60.0, 60.0, 60.0, 60.0, 60.0, 60.0, 60.0, 60.0, 60.0, 60.0, 60.0, 60.0, 60.0, 60.0, 60.0, 60.0, 60.0, 70.0, 70.0, 70.0, 70.0, 70.0, 70.0, 70.0, 70.0, 70.0, 70.0, 70.0, 70.0, 70.0, 70.0, 70.0, 70.0, 70.0, 70.0, 70.0, 70.0, 70.0, 70.0, 70.0, 70.0, 70.0, 70.0, 70.0, 70.0, 70.0, 70.0, 70.0, 70.0, 70.0, 70.0, 70.0, 70.0, 70.0, 70.0, 70.0, 70.0, 70.0, 70.0, 70.0, 70.0, 70.0, 70.0, 70.0, 70.0, 70.0, 70.0, 70.0, 70.0, 70.0, 70.0, 70.0, 70.0, 70.0, 70.0, 70.0, 70.0, 70.0, 70.0, 70.0, 70.0, 70.0, 70.0, 70.0, 70.0, 70.0, 70.0, 70.0, 70.0, 70.0, 70.0, 70.0, 70.0, 70.0, 70.0, 70.0, 70.0, 70.0, 70.0, 70.0, 70.0, 70.0, 70.0, 70.0, 70.0, 70.0, 70.0, 70.0, 70.0, 70.0, 70.0, 70.0, 70.0, 70.0, 70.0, 70.0, 70.0, 70.0, 70.0, 70.0, 70.0, 70.0, 70.0, 70.0, 70.0, 80.0, 80.0, 80.0, 80.0, 80.0, 80.0, 80.0, 80.0, 80.0, 80.0, 80.0, 80.0, 80.0, 80.0, 80.0, 80.0, 80.0, 80.0, 80.0, 80.0, 80.0, 80.0, 80.0, 80.0, 80.0, 80.0, 80.0, 80.0, 80.0, 80.0, 80.0, 80.0, 80.0, 80.0, 80.0, 80.0, 80.0, 80.0, 80.0, 80.0, 80.0, 80.0, 80.0, 80.0, 80.0, 80.0, 80.0, 80.0, 80.0, 80.0, 80.0, 80.0, 80.0, 80.0, 80.0, 80.0, 80.0, 80.0, 80.0, 80.0, 80.0, 80.0, 80.0, 80.0, 80.0, 80.0, 80.0, 80.0, 80.0, 80.0, 80.0, 80.0, 80.0, 80.0, 80.0, 80.0, 80.0, 80.0, 80.0, 80.0, 80.0, 80.0, 80.0, 80.0, 80.0, 80.0, 80.0, 80.0, 80.0, 80.0, 80.0, 80.0, 80.0, 80.0, 80.0, 80.0, 80.0, 80.0, 80.0, 80.0, 80.0, 80.0, 80.0, 80.0, 80.0, 80.0, 80.0, 80.0, 90.0, 90.0, 90.0, 90.0, 90.0, 90.0, 90.0, 90.0, 90.0, 90.0, 90.0, 90.0, 90.0, 90.0, 90.0, 90.0, 90.0, 90.0, 90.0, 90.0, 90.0, 90.0, 90.0, 90.0, 90.0, 90.0, 90.0, 90.0, 90.0, 90.0, 90.0, 90.0, 90.0, 90.0, 90.0, 90.0, 90.0, 90.0, 90.0, 90.0, 90.0, 90.0, 90.0, 90.0, 90.0, 90.0, 90.0, 90.0, 90.0, 90.0, 90.0, 90.0, 90.0, 90.0, 90.0, 90.0, 90.0, 90.0, 90.0, 90.0, 90.0, 90.0, 90.0, 90.0, 90.0, 90.0, 90.0, 90.0, 90.0, 90.0, 90.0, 90.0, 90.0, 90.0, 90.0, 90.0, 90.0, 90.0, 90.0, 90.0, 90.0, 90.0, 90.0, 90.0, 90.0, 90.0, 90.0, 90.0, 90.0, 90.0, 90.0, 90.0, 90.0, 90.0, 90.0, 90.0, 90.0, 90.0, 90.0, 90.0, 90.0, 90.0, 90.0, 90.0, 90.0, 90.0, 90.0, 90.0], \"xaxis\": \"x\", \"y\": [-2.85, -2.84, -2.65, -2.55, -2.55, -2.3, -2.16, -2.14, -2.1, -2.01, -2.0, -1.9, -1.85, -1.84, -1.82, -1.77, -1.73, -1.7, -1.66, -1.59, -1.59, -1.58, -1.58, -1.52, -1.42, -1.39, -1.3, -1.26, -1.25, -1.18, -1.15, -1.11, -1.1, -1.09, -1.09, -1.04, -1.02, -0.97, -0.96, -0.96, -0.94, -0.91, -0.91, -0.89, -0.89, -0.89, -0.87, -0.85, -0.83, -0.83, -0.82, -0.81, -0.8, -0.78, -0.78, -0.78, -0.74, -0.72, -0.7, -0.69, -0.69, -0.69, -0.67, -0.67, -0.64, -0.63, -0.62, -0.61, -0.61, -0.61, -0.6, -0.6, -0.59, -0.59, -0.58, -0.5, -0.49, -0.49, -0.48, -0.48, -0.48, -0.48, -0.47, -0.47, -0.44, -0.38, -0.33, -0.32, -0.32, -0.31, -0.28, -0.23, -0.23, -0.18, -0.11, -0.1, 0.02, 0.05, 0.11, 0.15, 0.17, 0.5, 0.65, 0.83, 0.95, 1.05, 1.13, 1.27, -2.73, -1.96, -1.73, -1.66, -1.5, -1.5, -1.49, -1.45, -1.44, -1.42, -1.4, -1.39, -1.35, -1.34, -1.2, -1.16, -1.08, -1.07, -1.03, -0.99, -0.97, -0.97, -0.96, -0.91, -0.9, -0.89, -0.88, -0.88, -0.85, -0.85, -0.83, -0.81, -0.79, -0.76, -0.75, -0.75, -0.7, -0.66, -0.64, -0.63, -0.62, -0.61, -0.6, -0.6, -0.59, -0.56, -0.55, -0.55, -0.53, -0.52, -0.51, -0.47, -0.47, -0.44, -0.43, -0.43, -0.41, -0.41, -0.38, -0.33, -0.33, -0.33, -0.31, -0.3, -0.28, -0.28, -0.27, -0.25, -0.24, -0.23, -0.23, -0.22, -0.2, -0.14, -0.13, -0.07, -0.05, -0.05, 0.03, 0.04, 0.05, 0.11, 0.11, 0.15, 0.17, 0.23, 0.23, 0.27, 0.28, 0.31, 0.33, 0.34, 0.34, 0.35, 0.39, 0.43, 0.52, 0.54, 0.55, 0.55, 0.58, 0.61, 0.66, 0.71, 0.73, 0.95, 0.95, 1.58, -1.95, -1.82, -1.81, -1.58, -1.54, -1.35, -1.25, -1.19, -1.13, -1.11, -1.07, -1.07, -1.05, -0.98, -0.94, -0.94, -0.9, -0.89, -0.82, -0.78, -0.74, -0.74, -0.74, -0.6, -0.59, -0.51, -0.47, -0.45, -0.44, -0.4, -0.37, -0.35, -0.35, -0.31, -0.31, -0.25, -0.23, -0.21, -0.21, -0.18, -0.18, -0.14, -0.11, -0.11, -0.11, -0.1, -0.1, -0.1, -0.09, -0.09, -0.07, -0.06, -0.05, -0.05, -0.03, -0.03, -0.02, -0.02, -0.01, 0.0, 0.0, 0.08, 0.09, 0.1, 0.1, 0.12, 0.14, 0.19, 0.2, 0.21, 0.23, 0.24, 0.26, 0.26, 0.28, 0.3, 0.33, 0.33, 0.34, 0.38, 0.39, 0.42, 0.48, 0.51, 0.55, 0.58, 0.65, 0.7, 0.7, 0.7, 0.75, 0.76, 0.76, 0.76, 0.76, 0.8, 0.99, 1.0, 1.06, 1.12, 1.15, 1.22, 1.28, 1.3, 1.31, 1.47, 1.49, 2.18, -1.31, -0.88, -0.74, -0.65, -0.65, -0.61, -0.5, -0.47, -0.4, -0.38, -0.37, -0.37, -0.36, -0.34, -0.32, -0.32, -0.29, -0.23, -0.22, -0.22, -0.21, -0.2, -0.15, -0.14, -0.09, -0.09, -0.08, -0.04, -0.03, -0.01, 0.02, 0.03, 0.04, 0.05, 0.06, 0.07, 0.1, 0.12, 0.13, 0.13, 0.16, 0.23, 0.24, 0.27, 0.28, 0.31, 0.33, 0.33, 0.37, 0.37, 0.38, 0.38, 0.39, 0.41, 0.43, 0.45, 0.47, 0.49, 0.5, 0.52, 0.53, 0.54, 0.54, 0.55, 0.56, 0.6, 0.6, 0.62, 0.66, 0.66, 0.68, 0.79, 0.82, 0.84, 0.85, 0.88, 0.89, 0.9, 0.9, 0.93, 0.93, 0.95, 1.04, 1.06, 1.09, 1.11, 1.14, 1.17, 1.18, 1.2, 1.2, 1.22, 1.23, 1.27, 1.34, 1.35, 1.4, 1.43, 1.44, 1.46, 1.47, 1.48, 1.49, 1.5, 1.63, 1.68, 2.05, 2.52, -1.26, -1.12, -1.1, -1.07, -1.07, -1.07, -0.88, -0.84, -0.57, -0.53, -0.52, -0.51, -0.48, -0.47, -0.45, -0.43, -0.37, -0.36, -0.34, -0.33, -0.33, -0.27, -0.26, -0.23, -0.2, -0.2, -0.15, -0.13, -0.09, -0.05, -0.04, 0.1, 0.14, 0.14, 0.22, 0.23, 0.28, 0.31, 0.34, 0.39, 0.39, 0.41, 0.42, 0.46, 0.47, 0.48, 0.52, 0.57, 0.6, 0.61, 0.63, 0.66, 0.66, 0.81, 0.83, 0.84, 0.86, 0.96, 0.97, 0.98, 0.99, 1.06, 1.08, 1.11, 1.12, 1.16, 1.16, 1.17, 1.17, 1.17, 1.2, 1.2, 1.21, 1.22, 1.23, 1.24, 1.24, 1.28, 1.29, 1.31, 1.31, 1.34, 1.36, 1.36, 1.37, 1.45, 1.48, 1.57, 1.63, 1.63, 1.65, 1.67, 1.71, 1.73, 1.87, 1.88, 1.89, 1.97, 2.0, 2.0, 2.04, 2.04, 2.04, 2.1, 2.12, 2.16, 2.22, 2.4, -1.99, -1.57, -1.01, -1.0, -0.7, -0.6, -0.47, -0.36, -0.28, -0.24, -0.23, -0.19, -0.11, -0.11, -0.04, 0.0, 0.09, 0.13, 0.16, 0.18, 0.22, 0.24, 0.28, 0.29, 0.3, 0.43, 0.46, 0.46, 0.47, 0.51, 0.52, 0.53, 0.59, 0.61, 0.64, 0.66, 0.67, 0.69, 0.74, 0.78, 0.79, 0.79, 0.83, 0.84, 0.84, 0.92, 0.93, 0.94, 0.99, 1.03, 1.06, 1.08, 1.08, 1.12, 1.12, 1.14, 1.14, 1.18, 1.2, 1.21, 1.24, 1.25, 1.27, 1.28, 1.28, 1.29, 1.31, 1.32, 1.41, 1.42, 1.43, 1.53, 1.54, 1.54, 1.59, 1.6, 1.68, 1.7, 1.73, 1.74, 1.76, 1.76, 1.77, 1.85, 1.86, 1.88, 1.9, 1.94, 2.0, 2.0, 2.03, 2.08, 2.16, 2.29, 2.39, 2.41, 2.44, 2.44, 2.48, 2.57, 2.71, 2.77, 2.79, 2.8, 3.02, 3.02, 3.17, 3.22, -0.46, 0.35, 0.37, 0.45, 0.52, 0.59, 0.61, 0.65, 0.74, 0.81, 0.87, 0.92, 0.92, 0.92, 1.06, 1.07, 1.11, 1.12, 1.13, 1.13, 1.17, 1.26, 1.26, 1.37, 1.42, 1.43, 1.45, 1.48, 1.49, 1.49, 1.59, 1.61, 1.64, 1.65, 1.68, 1.71, 1.72, 1.8, 1.88, 1.9, 2.0, 2.05, 2.05, 2.06, 2.1, 2.17, 2.19, 2.22, 2.22, 2.24, 2.26, 2.29, 2.33, 2.35, 2.35, 2.35, 2.36, 2.36, 2.38, 2.38, 2.47, 2.53, 2.57, 2.57, 2.59, 2.62, 2.62, 2.63, 2.65, 2.74, 2.79, 2.84, 2.85, 2.9, 2.92, 2.93, 2.96, 2.96, 2.96, 3.0, 3.0, 3.0, 3.0, 3.0, 3.0, 3.02, 3.03, 3.12, 3.13, 3.16, 3.19, 3.21, 3.21, 3.27, 3.29, 3.31, 3.33, 3.38, 3.45, 3.52, 3.64, 3.65, 3.73, 3.96, 4.03, 4.03, 4.07, 4.43, -0.23, 0.51, 0.65, 0.79, 0.97, 1.21, 1.45, 1.48, 1.48, 1.5, 1.57, 1.68, 1.79, 1.82, 1.83, 1.91, 1.91, 1.91, 1.96, 1.97, 1.98, 1.99, 2.02, 2.17, 2.2, 2.22, 2.25, 2.25, 2.29, 2.38, 2.4, 2.42, 2.43, 2.47, 2.47, 2.55, 2.56, 2.67, 2.74, 2.77, 2.78, 2.85, 2.93, 2.97, 2.97, 3.0, 3.0, 3.0, 3.0, 3.0, 3.0, 3.03, 3.05, 3.18, 3.22, 3.22, 3.22, 3.24, 3.26, 3.32, 3.33, 3.35, 3.37, 3.4, 3.43, 3.43, 3.45, 3.6, 3.69, 3.69, 3.72, 3.76, 3.77, 3.78, 3.78, 3.78, 3.82, 3.83, 3.84, 3.87, 3.9, 3.93, 3.96, 3.96, 3.97, 3.99, 4.04, 4.07, 4.1, 4.12, 4.15, 4.16, 4.16, 4.18, 4.2, 4.26, 4.31, 4.32, 4.36, 4.4, 4.55, 4.56, 4.56, 4.6, 4.64, 4.8, 4.86, 5.23, 0.41, 1.48, 1.52, 1.62, 1.75, 1.83, 1.86, 1.99, 2.01, 2.02, 2.19, 2.2, 2.31, 2.45, 2.51, 2.59, 2.64, 2.67, 2.7, 2.74, 2.78, 2.79, 2.83, 2.88, 2.89, 2.89, 2.94, 2.94, 2.99, 3.0, 3.0, 3.0, 3.0, 3.0, 3.0, 3.0, 3.05, 3.1, 3.12, 3.2, 3.21, 3.33, 3.33, 3.49, 3.54, 3.58, 3.62, 3.62, 3.68, 3.7, 3.73, 3.8, 3.87, 3.91, 3.94, 3.99, 4.0, 4.02, 4.05, 4.06, 4.08, 4.11, 4.12, 4.12, 4.14, 4.15, 4.16, 4.17, 4.19, 4.21, 4.33, 4.38, 4.38, 4.39, 4.4, 4.48, 4.52, 4.55, 4.55, 4.58, 4.61, 4.61, 4.71, 4.71, 4.71, 4.74, 4.74, 4.83, 4.85, 4.9, 4.95, 5.01, 5.05, 5.1, 5.13, 5.16, 5.17, 5.34, 5.36, 5.49, 5.51, 5.52, 5.54, 5.7, 5.74, 5.74, 5.83, 5.88], \"yaxis\": \"y\"}],                        {\"barmode\": \"relative\", \"coloraxis\": {\"colorbar\": {\"title\": {\"text\": \"epa\"}}, \"colorscale\": [[0.0, \"#0d0887\"], [0.1111111111111111, \"#46039f\"], [0.2222222222222222, \"#7201a8\"], [0.3333333333333333, \"#9c179e\"], [0.4444444444444444, \"#bd3786\"], [0.5555555555555556, \"#d8576b\"], [0.6666666666666666, \"#ed7953\"], [0.7777777777777778, \"#fb9f3a\"], [0.8888888888888888, \"#fdca26\"], [1.0, \"#f0f921\"]]}, \"legend\": {\"tracegroupgap\": 0}, \"margin\": {\"t\": 60}, \"template\": {\"data\": {\"bar\": [{\"error_x\": {\"color\": \"#2a3f5f\"}, \"error_y\": {\"color\": \"#2a3f5f\"}, \"marker\": {\"line\": {\"color\": \"#E5ECF6\", \"width\": 0.5}}, \"type\": \"bar\"}], \"barpolar\": [{\"marker\": {\"line\": {\"color\": \"#E5ECF6\", \"width\": 0.5}}, \"type\": \"barpolar\"}], \"carpet\": [{\"aaxis\": {\"endlinecolor\": \"#2a3f5f\", \"gridcolor\": \"white\", \"linecolor\": \"white\", \"minorgridcolor\": \"white\", \"startlinecolor\": \"#2a3f5f\"}, \"baxis\": {\"endlinecolor\": \"#2a3f5f\", \"gridcolor\": \"white\", \"linecolor\": \"white\", \"minorgridcolor\": \"white\", \"startlinecolor\": \"#2a3f5f\"}, \"type\": \"carpet\"}], \"choropleth\": [{\"colorbar\": {\"outlinewidth\": 0, \"ticks\": \"\"}, \"type\": \"choropleth\"}], \"contour\": [{\"colorbar\": {\"outlinewidth\": 0, \"ticks\": \"\"}, \"colorscale\": [[0.0, \"#0d0887\"], [0.1111111111111111, \"#46039f\"], [0.2222222222222222, \"#7201a8\"], [0.3333333333333333, \"#9c179e\"], [0.4444444444444444, \"#bd3786\"], [0.5555555555555556, \"#d8576b\"], [0.6666666666666666, \"#ed7953\"], [0.7777777777777778, \"#fb9f3a\"], [0.8888888888888888, \"#fdca26\"], [1.0, \"#f0f921\"]], \"type\": \"contour\"}], \"contourcarpet\": [{\"colorbar\": {\"outlinewidth\": 0, \"ticks\": \"\"}, \"type\": \"contourcarpet\"}], \"heatmap\": [{\"colorbar\": {\"outlinewidth\": 0, \"ticks\": \"\"}, \"colorscale\": [[0.0, \"#0d0887\"], [0.1111111111111111, \"#46039f\"], [0.2222222222222222, \"#7201a8\"], [0.3333333333333333, \"#9c179e\"], [0.4444444444444444, \"#bd3786\"], [0.5555555555555556, \"#d8576b\"], [0.6666666666666666, \"#ed7953\"], [0.7777777777777778, \"#fb9f3a\"], [0.8888888888888888, \"#fdca26\"], [1.0, \"#f0f921\"]], \"type\": \"heatmap\"}], \"heatmapgl\": [{\"colorbar\": {\"outlinewidth\": 0, \"ticks\": \"\"}, \"colorscale\": [[0.0, \"#0d0887\"], [0.1111111111111111, \"#46039f\"], [0.2222222222222222, \"#7201a8\"], [0.3333333333333333, \"#9c179e\"], [0.4444444444444444, \"#bd3786\"], [0.5555555555555556, \"#d8576b\"], [0.6666666666666666, \"#ed7953\"], [0.7777777777777778, \"#fb9f3a\"], [0.8888888888888888, \"#fdca26\"], [1.0, \"#f0f921\"]], \"type\": \"heatmapgl\"}], \"histogram\": [{\"marker\": {\"colorbar\": {\"outlinewidth\": 0, \"ticks\": \"\"}}, \"type\": \"histogram\"}], \"histogram2d\": [{\"colorbar\": {\"outlinewidth\": 0, \"ticks\": \"\"}, \"colorscale\": [[0.0, \"#0d0887\"], [0.1111111111111111, \"#46039f\"], [0.2222222222222222, \"#7201a8\"], [0.3333333333333333, \"#9c179e\"], [0.4444444444444444, \"#bd3786\"], [0.5555555555555556, \"#d8576b\"], [0.6666666666666666, \"#ed7953\"], [0.7777777777777778, \"#fb9f3a\"], [0.8888888888888888, \"#fdca26\"], [1.0, \"#f0f921\"]], \"type\": \"histogram2d\"}], \"histogram2dcontour\": [{\"colorbar\": {\"outlinewidth\": 0, \"ticks\": \"\"}, \"colorscale\": [[0.0, \"#0d0887\"], [0.1111111111111111, \"#46039f\"], [0.2222222222222222, \"#7201a8\"], [0.3333333333333333, \"#9c179e\"], [0.4444444444444444, \"#bd3786\"], [0.5555555555555556, \"#d8576b\"], [0.6666666666666666, \"#ed7953\"], [0.7777777777777778, \"#fb9f3a\"], [0.8888888888888888, \"#fdca26\"], [1.0, \"#f0f921\"]], \"type\": \"histogram2dcontour\"}], \"mesh3d\": [{\"colorbar\": {\"outlinewidth\": 0, \"ticks\": \"\"}, \"type\": \"mesh3d\"}], \"parcoords\": [{\"line\": {\"colorbar\": {\"outlinewidth\": 0, \"ticks\": \"\"}}, \"type\": \"parcoords\"}], \"pie\": [{\"automargin\": true, \"type\": \"pie\"}], \"scatter\": [{\"marker\": {\"colorbar\": {\"outlinewidth\": 0, \"ticks\": \"\"}}, \"type\": \"scatter\"}], \"scatter3d\": [{\"line\": {\"colorbar\": {\"outlinewidth\": 0, \"ticks\": \"\"}}, \"marker\": {\"colorbar\": {\"outlinewidth\": 0, \"ticks\": \"\"}}, \"type\": \"scatter3d\"}], \"scattercarpet\": [{\"marker\": {\"colorbar\": {\"outlinewidth\": 0, \"ticks\": \"\"}}, \"type\": \"scattercarpet\"}], \"scattergeo\": [{\"marker\": {\"colorbar\": {\"outlinewidth\": 0, \"ticks\": \"\"}}, \"type\": \"scattergeo\"}], \"scattergl\": [{\"marker\": {\"colorbar\": {\"outlinewidth\": 0, \"ticks\": \"\"}}, \"type\": \"scattergl\"}], \"scattermapbox\": [{\"marker\": {\"colorbar\": {\"outlinewidth\": 0, \"ticks\": \"\"}}, \"type\": \"scattermapbox\"}], \"scatterpolar\": [{\"marker\": {\"colorbar\": {\"outlinewidth\": 0, \"ticks\": \"\"}}, \"type\": \"scatterpolar\"}], \"scatterpolargl\": [{\"marker\": {\"colorbar\": {\"outlinewidth\": 0, \"ticks\": \"\"}}, \"type\": \"scatterpolargl\"}], \"scatterternary\": [{\"marker\": {\"colorbar\": {\"outlinewidth\": 0, \"ticks\": \"\"}}, \"type\": \"scatterternary\"}], \"surface\": [{\"colorbar\": {\"outlinewidth\": 0, \"ticks\": \"\"}, \"colorscale\": [[0.0, \"#0d0887\"], [0.1111111111111111, \"#46039f\"], [0.2222222222222222, \"#7201a8\"], [0.3333333333333333, \"#9c179e\"], [0.4444444444444444, \"#bd3786\"], [0.5555555555555556, \"#d8576b\"], [0.6666666666666666, \"#ed7953\"], [0.7777777777777778, \"#fb9f3a\"], [0.8888888888888888, \"#fdca26\"], [1.0, \"#f0f921\"]], \"type\": \"surface\"}], \"table\": [{\"cells\": {\"fill\": {\"color\": \"#EBF0F8\"}, \"line\": {\"color\": \"white\"}}, \"header\": {\"fill\": {\"color\": \"#C8D4E3\"}, \"line\": {\"color\": \"white\"}}, \"type\": \"table\"}]}, \"layout\": {\"annotationdefaults\": {\"arrowcolor\": \"#2a3f5f\", \"arrowhead\": 0, \"arrowwidth\": 1}, \"coloraxis\": {\"colorbar\": {\"outlinewidth\": 0, \"ticks\": \"\"}}, \"colorscale\": {\"diverging\": [[0, \"#8e0152\"], [0.1, \"#c51b7d\"], [0.2, \"#de77ae\"], [0.3, \"#f1b6da\"], [0.4, \"#fde0ef\"], [0.5, \"#f7f7f7\"], [0.6, \"#e6f5d0\"], [0.7, \"#b8e186\"], [0.8, \"#7fbc41\"], [0.9, \"#4d9221\"], [1, \"#276419\"]], \"sequential\": [[0.0, \"#0d0887\"], [0.1111111111111111, \"#46039f\"], [0.2222222222222222, \"#7201a8\"], [0.3333333333333333, \"#9c179e\"], [0.4444444444444444, \"#bd3786\"], [0.5555555555555556, \"#d8576b\"], [0.6666666666666666, \"#ed7953\"], [0.7777777777777778, \"#fb9f3a\"], [0.8888888888888888, \"#fdca26\"], [1.0, \"#f0f921\"]], \"sequentialminus\": [[0.0, \"#0d0887\"], [0.1111111111111111, \"#46039f\"], [0.2222222222222222, \"#7201a8\"], [0.3333333333333333, \"#9c179e\"], [0.4444444444444444, \"#bd3786\"], [0.5555555555555556, \"#d8576b\"], [0.6666666666666666, \"#ed7953\"], [0.7777777777777778, \"#fb9f3a\"], [0.8888888888888888, \"#fdca26\"], [1.0, \"#f0f921\"]]}, \"colorway\": [\"#636efa\", \"#EF553B\", \"#00cc96\", \"#ab63fa\", \"#FFA15A\", \"#19d3f3\", \"#FF6692\", \"#B6E880\", \"#FF97FF\", \"#FECB52\"], \"font\": {\"color\": \"#2a3f5f\"}, \"geo\": {\"bgcolor\": \"white\", \"lakecolor\": \"white\", \"landcolor\": \"#E5ECF6\", \"showlakes\": true, \"showland\": true, \"subunitcolor\": \"white\"}, \"hoverlabel\": {\"align\": \"left\"}, \"hovermode\": \"closest\", \"mapbox\": {\"style\": \"light\"}, \"paper_bgcolor\": \"white\", \"plot_bgcolor\": \"#E5ECF6\", \"polar\": {\"angularaxis\": {\"gridcolor\": \"white\", \"linecolor\": \"white\", \"ticks\": \"\"}, \"bgcolor\": \"#E5ECF6\", \"radialaxis\": {\"gridcolor\": \"white\", \"linecolor\": \"white\", \"ticks\": \"\"}}, \"scene\": {\"xaxis\": {\"backgroundcolor\": \"#E5ECF6\", \"gridcolor\": \"white\", \"gridwidth\": 2, \"linecolor\": \"white\", \"showbackground\": true, \"ticks\": \"\", \"zerolinecolor\": \"white\"}, \"yaxis\": {\"backgroundcolor\": \"#E5ECF6\", \"gridcolor\": \"white\", \"gridwidth\": 2, \"linecolor\": \"white\", \"showbackground\": true, \"ticks\": \"\", \"zerolinecolor\": \"white\"}, \"zaxis\": {\"backgroundcolor\": \"#E5ECF6\", \"gridcolor\": \"white\", \"gridwidth\": 2, \"linecolor\": \"white\", \"showbackground\": true, \"ticks\": \"\", \"zerolinecolor\": \"white\"}}, \"shapedefaults\": {\"line\": {\"color\": \"#2a3f5f\"}}, \"ternary\": {\"aaxis\": {\"gridcolor\": \"white\", \"linecolor\": \"white\", \"ticks\": \"\"}, \"baxis\": {\"gridcolor\": \"white\", \"linecolor\": \"white\", \"ticks\": \"\"}, \"bgcolor\": \"#E5ECF6\", \"caxis\": {\"gridcolor\": \"white\", \"linecolor\": \"white\", \"ticks\": \"\"}}, \"title\": {\"x\": 0.05}, \"xaxis\": {\"automargin\": true, \"gridcolor\": \"white\", \"linecolor\": \"white\", \"ticks\": \"\", \"title\": {\"standoff\": 15}, \"zerolinecolor\": \"white\", \"zerolinewidth\": 2}, \"yaxis\": {\"automargin\": true, \"gridcolor\": \"white\", \"linecolor\": \"white\", \"ticks\": \"\", \"title\": {\"standoff\": 15}, \"zerolinecolor\": \"white\", \"zerolinewidth\": 2}}}, \"xaxis\": {\"anchor\": \"y\", \"domain\": [0.0, 1.0], \"title\": {\"text\": \"position\"}}, \"yaxis\": {\"anchor\": \"x\", \"domain\": [0.0, 1.0], \"title\": {\"text\": \"epa\"}}},                        {\"responsive\": true}                    ).then(function(){\n",
       "                            \n",
       "var gd = document.getElementById('b71a0682-6d92-4e1f-9748-0c69d9662eec');\n",
       "var x = new MutationObserver(function (mutations, observer) {{\n",
       "        var display = window.getComputedStyle(gd).display;\n",
       "        if (!display || display === 'none') {{\n",
       "            console.log([gd, 'removed!']);\n",
       "            Plotly.purge(gd);\n",
       "            observer.disconnect();\n",
       "        }}\n",
       "}});\n",
       "\n",
       "// Listen for the removal of the full notebook cells\n",
       "var notebookContainer = gd.closest('#notebook-container');\n",
       "if (notebookContainer) {{\n",
       "    x.observe(notebookContainer, {childList: true});\n",
       "}}\n",
       "\n",
       "// Listen for the clearing of the current output cell\n",
       "var outputEl = gd.closest('.output');\n",
       "if (outputEl) {{\n",
       "    x.observe(outputEl, {childList: true});\n",
       "}}\n",
       "\n",
       "                        })                };                });            </script>        </div>"
      ]
     },
     "metadata": {},
     "output_type": "execute_result"
    }
   ],
   "source": [
    "states_df_sorted = states_df.sort_values(by=['position', 'epa'])\n",
    "fig = px.bar(\n",
    "    states_df_sorted, x=\"position\", y='epa', color='epa'\n",
    ")\n",
    "fig.show()"
   ]
  },
  {
   "cell_type": "markdown",
   "metadata": {},
   "source": [
    "#### 9.3 Football Field Graphic (Future Use) <a class=\"anchor\" id=\"field\"></a>"
   ]
  },
  {
   "cell_type": "code",
   "execution_count": 331,
   "metadata": {},
   "outputs": [
    {
     "data": {
      "image/png": "[encoded data removed]",
      "text/plain": [
       "<Figure size 864x455.76 with 1 Axes>"
      ]
     },
     "metadata": {
      "needs_background": "light"
     },
     "output_type": "display_data"
    }
   ],
   "source": [
    "import matplotlib.patches as patches\n",
    "\n",
    "def create_football_field(linenumbers=True,\n",
    "                          endzones=True,\n",
    "                          highlight_line=False,\n",
    "                          highlight_line_number=50,\n",
    "                          highlighted_name='Line of Scrimmage',\n",
    "                          fifty_is_los=False,\n",
    "                          figsize=(12, 6.33)):\n",
    "    \"\"\"\n",
    "    Function that plots the football field for viewing plays.\n",
    "    Allows for showing or hiding endzones.\n",
    "    \"\"\"\n",
    "    rect = patches.Rectangle((0, 0), 120, 53.3, linewidth=0.1,\n",
    "                             edgecolor='r', facecolor='darkgreen', zorder=0)\n",
    "\n",
    "    fig, ax = plt.subplots(1, figsize=figsize)\n",
    "    ax.add_patch(rect)\n",
    "\n",
    "    plt.plot([10, 10, 10, 20, 20, 30, 30, 40, 40, 50, 50, 60, 60, 70, 70, 80,\n",
    "              80, 90, 90, 100, 100, 110, 110, 120, 0, 0, 120, 120],\n",
    "             [0, 0, 53.3, 53.3, 0, 0, 53.3, 53.3, 0, 0, 53.3, 53.3, 0, 0, 53.3,\n",
    "              53.3, 0, 0, 53.3, 53.3, 0, 0, 53.3, 53.3, 53.3, 0, 0, 53.3],\n",
    "             color='white')\n",
    "    if fifty_is_los:\n",
    "        plt.plot([60, 60], [0, 53.3], color='gold')\n",
    "        plt.text(62, 50, '<- Player Yardline at Snap', color='gold')\n",
    "    # Endzones\n",
    "    if endzones:\n",
    "        ez1 = patches.Rectangle((0, 0), 10, 53.3,\n",
    "                                linewidth=0.1,\n",
    "                                edgecolor='r',\n",
    "                                facecolor='blue',\n",
    "                                alpha=0.2,\n",
    "                                zorder=0)\n",
    "        ez2 = patches.Rectangle((110, 0), 120, 53.3,\n",
    "                                linewidth=0.1,\n",
    "                                edgecolor='r',\n",
    "                                facecolor='blue',\n",
    "                                alpha=0.2,\n",
    "                                zorder=0)\n",
    "        ax.add_patch(ez1)\n",
    "        ax.add_patch(ez2)\n",
    "    plt.xlim(0, 120)\n",
    "    plt.ylim(-5, 58.3)\n",
    "    plt.axis('off')\n",
    "    if linenumbers:\n",
    "        for x in range(20, 110, 10):\n",
    "            numb = x\n",
    "            if x > 50:\n",
    "                numb = 120 - x\n",
    "            plt.text(x, 5, str(numb - 10),\n",
    "                     horizontalalignment='center',\n",
    "                     fontsize=20,  # fontname='Arial',\n",
    "                     color='white')\n",
    "            plt.text(x - 0.95, 53.3 - 5, str(numb - 10),\n",
    "                     horizontalalignment='center',\n",
    "                     fontsize=20,  # fontname='Arial',\n",
    "                     color='white', rotation=180)\n",
    "    if endzones:\n",
    "        hash_range = range(11, 110)\n",
    "    else:\n",
    "        hash_range = range(1, 120)\n",
    "\n",
    "    for x in hash_range:\n",
    "        ax.plot([x, x], [0.4, 0.7], color='white')\n",
    "        ax.plot([x, x], [53.0, 52.5], color='white')\n",
    "        ax.plot([x, x], [22.91, 23.57], color='white')\n",
    "        ax.plot([x, x], [29.73, 30.39], color='white')\n",
    "\n",
    "    if highlight_line:\n",
    "        hl = highlight_line_number + 10\n",
    "        plt.plot([hl, hl], [0, 53.3], color='yellow')\n",
    "        plt.text(hl + 2, 50, '<- {}'.format(highlighted_name),\n",
    "                 color='yellow')\n",
    "    return fig, ax\n",
    "\n",
    "create_football_field()\n",
    "plt.show()"
   ]
  },
  {
   "cell_type": "markdown",
   "metadata": {},
   "source": [
    "### 10.0 References <a class=\"anchor\" id=\"ref\"></a>"
   ]
  },
  {
   "cell_type": "markdown",
   "metadata": {},
   "source": [
    "[Table of Contents](#toc)"
   ]
  },
  {
   "cell_type": "markdown",
   "metadata": {},
   "source": [
    "* [Pro Football Focus](https://pff.com)\n",
    "* [sklearn.mixture.GaussianMixture](https://scikit-learn.org/stable/modules/generated/sklearn.mixture.GaussianMixture.html#sklearn.mixture.GaussianMixture)  \n",
    "* [sklearn.linear_model.LinearRegression](https://scikit-learn.org/stable/modules/generated/sklearn.linear_model.LinearRegression.html)\n",
    "* [sklearn.preprocessing.OneHotEncoder](https://scikit-learn.org/stable/modules/generated/sklearn.preprocessing.OneHotEncoder.html)\n",
    "* [Football Field Graphic – Kaggle](https://www.kaggle.com/robikscube/nfl-big-data-bowl-plotting-player-position)\n",
    "* [Plotly Bar Viz](https://plotly.com/python/bar-charts/)"
   ]
  },
  {
   "cell_type": "markdown",
   "metadata": {},
   "source": [
    "### 11.0 Authors <a class=\"anchor\" id=\"authors\"></a>"
   ]
  },
  {
   "cell_type": "markdown",
   "metadata": {},
   "source": [
    "[Table of Contents](#toc)"
   ]
  },
  {
   "cell_type": "markdown",
   "metadata": {},
   "source": [
    "**Iain Muir**\n",
    "* E – iam9ez@virginia.edu  \n",
    "* [LinkedIn](https://www.linkedin.com/in/iain-a-muir/)"
   ]
  },
  {
   "cell_type": "markdown",
   "metadata": {},
   "source": [
    "**Hriday Singh**  \n",
    "* E – hns4dc@virginia.edu  \n",
    "* [LinkedIn](https://www.linkedin.com/in/hriday-singh-b60b86182/)"
   ]
  },
  {
   "cell_type": "markdown",
   "metadata": {},
   "source": [
    "**Connor Smith**  \n",
    "* E – cms6xs@virginia.edu  \n",
    "* [LinkedIn](https://www.linkedin.com/in/connor-smith-5b5b08176/)"
   ]
  }
 ],
 "metadata": {
  "kernelspec": {
   "display_name": "Python 3",
   "language": "python",
   "name": "python3"
  },
  "language_info": {
   "codemirror_mode": {
    "name": "ipython",
    "version": 3
   },
   "file_extension": ".py",
   "mimetype": "text/x-python",
   "name": "python",
   "nbconvert_exporter": "python",
   "pygments_lexer": "ipython3",
   "version": "3.6.4"
  }
 },
 "nbformat": 4,
 "nbformat_minor": 1
}
