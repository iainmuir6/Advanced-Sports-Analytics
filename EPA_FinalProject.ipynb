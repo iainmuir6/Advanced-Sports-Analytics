{
 "cells": [
  {
   "cell_type": "markdown",
   "metadata": {
    "collapsed": true
   },
   "source": [
    "# Empirical Expected Points Added Model"
   ]
  },
  {
   "cell_type": "markdown",
   "metadata": {},
   "source": [
    "#### Authors"
   ]
  },
  {
   "cell_type": "markdown",
   "metadata": {},
   "source": [
    "**Iain Muir**, iam9ez  \n",
    "**Hriday Singh**, hns4dc  \n",
    "**Connor Smith**, cms6xs"
   ]
  },
  {
   "cell_type": "markdown",
   "metadata": {},
   "source": [
    "## Table of Contents"
   ]
  },
  {
   "cell_type": "markdown",
   "metadata": {},
   "source": [
    "* **0. Import Libraries**\n",
    "* **1. Load Data**\n",
    "* **2. Feature Selection and Engineering**\n",
    "    * 2.1 Remove Garbage Time\n",
    "    * 2.2 Split Score to Home/Away\n",
    "    * 2.3 Group Point Periods\n",
    "* **3. Transform Data for Modeling**\n",
    "* **4. Field Goal Model**\n",
    "* **5. Run Models**\n",
    "* **6. Pass Models**\n",
    "* **7. Expected Points Added Model**"
   ]
  },
  {
   "cell_type": "markdown",
   "metadata": {},
   "source": [
    "### 0. Import Libraries"
   ]
  },
  {
   "cell_type": "code",
   "execution_count": 1,
   "metadata": {},
   "outputs": [],
   "source": [
    "from sklearn.linear_model import LinearRegression, LogisticRegression\n",
    "from sklearn.preprocessing import OneHotEncoder, StandardScaler\n",
    "from sklearn.metrics import confusion_matrix, f1_score\n",
    "from sklearn.model_selection import train_test_split\n",
    "from sklearn.compose import ColumnTransformer\n",
    "from sklearn.mixture import GaussianMixture\n",
    "from sklearn.pipeline import Pipeline\n",
    "import matplotlib.pyplot as plt\n",
    "import pandas as pd\n",
    "import numpy as np"
   ]
  },
  {
   "cell_type": "code",
   "execution_count": 2,
   "metadata": {},
   "outputs": [],
   "source": [
    "from pandas.core.common import SettingWithCopyWarning\n",
    "import warnings\n",
    "\n",
    "warnings.simplefilter(action=\"ignore\", category=SettingWithCopyWarning)"
   ]
  },
  {
   "cell_type": "code",
   "execution_count": 130,
   "metadata": {},
   "outputs": [],
   "source": [
    "SEED = 42"
   ]
  },
  {
   "cell_type": "markdown",
   "metadata": {},
   "source": [
    "### 1.0 Load Data"
   ]
  },
  {
   "cell_type": "markdown",
   "metadata": {},
   "source": [
    "#### 1.1 Aggregate Data across Years"
   ]
  },
  {
   "cell_type": "code",
   "execution_count": 3,
   "metadata": {},
   "outputs": [],
   "source": [
    "ROOT = '/Users/iainmuir/Desktop/4Y 1S/STAT 4800/Dataset/{} PFF All Plays.csv'"
   ]
  },
  {
   "cell_type": "code",
   "execution_count": 4,
   "metadata": {},
   "outputs": [],
   "source": [
    "DATA = pd.DataFrame()"
   ]
  },
  {
   "cell_type": "code",
   "execution_count": 5,
   "metadata": {},
   "outputs": [
    {
     "name": "stdout",
     "output_type": "stream",
     "text": [
      "CPU times: user 43.1 s, sys: 11 s, total: 54.2 s\n",
      "Wall time: 1min\n"
     ]
    }
   ],
   "source": [
    "%%time\n",
    "\n",
    "for year in range(2015, 2020):\n",
    "    PATH = ROOT.format(year)\n",
    "    df = pd.read_csv(PATH, low_memory=False)\n",
    "    DATA = pd.concat([DATA, df])"
   ]
  },
  {
   "cell_type": "code",
   "execution_count": 6,
   "metadata": {},
   "outputs": [
    {
     "data": {
      "text/plain": [
       "(758971, 177)"
      ]
     },
     "execution_count": 6,
     "metadata": {},
     "output_type": "execute_result"
    }
   ],
   "source": [
    "DATA.shape"
   ]
  },
  {
   "cell_type": "code",
   "execution_count": 7,
   "metadata": {},
   "outputs": [
    {
     "data": {
      "text/html": [
       "<div>\n",
       "<style scoped>\n",
       "    .dataframe tbody tr th:only-of-type {\n",
       "        vertical-align: middle;\n",
       "    }\n",
       "\n",
       "    .dataframe tbody tr th {\n",
       "        vertical-align: top;\n",
       "    }\n",
       "\n",
       "    .dataframe thead th {\n",
       "        text-align: right;\n",
       "    }\n",
       "</style>\n",
       "<table border=\"1\" class=\"dataframe\">\n",
       "  <thead>\n",
       "    <tr style=\"text-align: right;\">\n",
       "      <th></th>\n",
       "      <th>pff_PLAYID</th>\n",
       "      <th>pff_GAMEID</th>\n",
       "      <th>pff_GAMEDATE</th>\n",
       "      <th>pff_GAMESEASON</th>\n",
       "      <th>pff_WEEK</th>\n",
       "      <th>pff_GSISGAMEKEY</th>\n",
       "      <th>pff_GSISPLAYID</th>\n",
       "      <th>pff_QUARTER</th>\n",
       "      <th>pff_DOWN</th>\n",
       "      <th>pff_CLOCK</th>\n",
       "      <th>...</th>\n",
       "      <th>pff_STSAFETIES</th>\n",
       "      <th>pff_TACKLE</th>\n",
       "      <th>pff_TACKLEASSIST</th>\n",
       "      <th>pff_TEALIGNMENT</th>\n",
       "      <th>pff_TOUCHDOWN</th>\n",
       "      <th>pff_UNBLOCKEDPRESSURE</th>\n",
       "      <th>pff_VISE</th>\n",
       "      <th>pff_WRALIGNMENT</th>\n",
       "      <th>pff_PLAYCLOCK</th>\n",
       "      <th>pff_RUNPASSOPTION</th>\n",
       "    </tr>\n",
       "  </thead>\n",
       "  <tbody>\n",
       "    <tr>\n",
       "      <th>0</th>\n",
       "      <td>1455513</td>\n",
       "      <td>5573</td>\n",
       "      <td>12/31/15</td>\n",
       "      <td>2015</td>\n",
       "      <td>PO</td>\n",
       "      <td>60761</td>\n",
       "      <td>35</td>\n",
       "      <td>1</td>\n",
       "      <td>0</td>\n",
       "      <td>15:00</td>\n",
       "      <td>...</td>\n",
       "      <td>NaN</td>\n",
       "      <td>NaN</td>\n",
       "      <td>NaN</td>\n",
       "      <td>NaN</td>\n",
       "      <td>NaN</td>\n",
       "      <td>NaN</td>\n",
       "      <td>NaN</td>\n",
       "      <td>NaN</td>\n",
       "      <td>NaN</td>\n",
       "      <td>0.0</td>\n",
       "    </tr>\n",
       "    <tr>\n",
       "      <th>1</th>\n",
       "      <td>1455434</td>\n",
       "      <td>5573</td>\n",
       "      <td>12/31/15</td>\n",
       "      <td>2015</td>\n",
       "      <td>PO</td>\n",
       "      <td>60761</td>\n",
       "      <td>49</td>\n",
       "      <td>1</td>\n",
       "      <td>1</td>\n",
       "      <td>15:00</td>\n",
       "      <td>...</td>\n",
       "      <td>NaN</td>\n",
       "      <td>NaN</td>\n",
       "      <td>NaN</td>\n",
       "      <td>NaN</td>\n",
       "      <td>NaN</td>\n",
       "      <td>NaN</td>\n",
       "      <td>NaN</td>\n",
       "      <td>LWR^; SRiWR; SRoWR^; RWR</td>\n",
       "      <td>NaN</td>\n",
       "      <td>0.0</td>\n",
       "    </tr>\n",
       "    <tr>\n",
       "      <th>2</th>\n",
       "      <td>1455470</td>\n",
       "      <td>5573</td>\n",
       "      <td>12/31/15</td>\n",
       "      <td>2015</td>\n",
       "      <td>PO</td>\n",
       "      <td>60761</td>\n",
       "      <td>68</td>\n",
       "      <td>1</td>\n",
       "      <td>2</td>\n",
       "      <td>14:33</td>\n",
       "      <td>...</td>\n",
       "      <td>NaN</td>\n",
       "      <td>SCCL D15</td>\n",
       "      <td>NaN</td>\n",
       "      <td>NaN</td>\n",
       "      <td>NaN</td>\n",
       "      <td>NaN</td>\n",
       "      <td>NaN</td>\n",
       "      <td>LWR^; SRiWR; SRoWR^; RWR</td>\n",
       "      <td>NaN</td>\n",
       "      <td>0.0</td>\n",
       "    </tr>\n",
       "    <tr>\n",
       "      <th>3</th>\n",
       "      <td>1455450</td>\n",
       "      <td>5573</td>\n",
       "      <td>12/31/15</td>\n",
       "      <td>2015</td>\n",
       "      <td>PO</td>\n",
       "      <td>60761</td>\n",
       "      <td>90</td>\n",
       "      <td>1</td>\n",
       "      <td>3</td>\n",
       "      <td>14:03</td>\n",
       "      <td>...</td>\n",
       "      <td>NaN</td>\n",
       "      <td>SCCL D18</td>\n",
       "      <td>NaN</td>\n",
       "      <td>NaN</td>\n",
       "      <td>NaN</td>\n",
       "      <td>NaN</td>\n",
       "      <td>NaN</td>\n",
       "      <td>LWR; SLWR^; SRWR^; RWR</td>\n",
       "      <td>NaN</td>\n",
       "      <td>0.0</td>\n",
       "    </tr>\n",
       "    <tr>\n",
       "      <th>4</th>\n",
       "      <td>1455419</td>\n",
       "      <td>5573</td>\n",
       "      <td>12/31/15</td>\n",
       "      <td>2015</td>\n",
       "      <td>PO</td>\n",
       "      <td>60761</td>\n",
       "      <td>112</td>\n",
       "      <td>1</td>\n",
       "      <td>1</td>\n",
       "      <td>13:51</td>\n",
       "      <td>...</td>\n",
       "      <td>NaN</td>\n",
       "      <td>SCCL D91</td>\n",
       "      <td>NaN</td>\n",
       "      <td>NaN</td>\n",
       "      <td>NaN</td>\n",
       "      <td>NaN</td>\n",
       "      <td>NaN</td>\n",
       "      <td>LWR; SLWR^; SRWR^; RWR</td>\n",
       "      <td>NaN</td>\n",
       "      <td>0.0</td>\n",
       "    </tr>\n",
       "  </tbody>\n",
       "</table>\n",
       "<p>5 rows × 177 columns</p>\n",
       "</div>"
      ],
      "text/plain": [
       "   pff_PLAYID  pff_GAMEID pff_GAMEDATE  pff_GAMESEASON pff_WEEK  \\\n",
       "0     1455513        5573     12/31/15            2015       PO   \n",
       "1     1455434        5573     12/31/15            2015       PO   \n",
       "2     1455470        5573     12/31/15            2015       PO   \n",
       "3     1455450        5573     12/31/15            2015       PO   \n",
       "4     1455419        5573     12/31/15            2015       PO   \n",
       "\n",
       "   pff_GSISGAMEKEY  pff_GSISPLAYID  pff_QUARTER  pff_DOWN pff_CLOCK  ...  \\\n",
       "0            60761              35            1         0     15:00  ...   \n",
       "1            60761              49            1         1     15:00  ...   \n",
       "2            60761              68            1         2     14:33  ...   \n",
       "3            60761              90            1         3     14:03  ...   \n",
       "4            60761             112            1         1     13:51  ...   \n",
       "\n",
       "   pff_STSAFETIES  pff_TACKLE  pff_TACKLEASSIST  pff_TEALIGNMENT  \\\n",
       "0             NaN         NaN               NaN              NaN   \n",
       "1             NaN         NaN               NaN              NaN   \n",
       "2             NaN    SCCL D15               NaN              NaN   \n",
       "3             NaN    SCCL D18               NaN              NaN   \n",
       "4             NaN    SCCL D91               NaN              NaN   \n",
       "\n",
       "   pff_TOUCHDOWN  pff_UNBLOCKEDPRESSURE  pff_VISE           pff_WRALIGNMENT  \\\n",
       "0            NaN                    NaN       NaN                       NaN   \n",
       "1            NaN                    NaN       NaN  LWR^; SRiWR; SRoWR^; RWR   \n",
       "2            NaN                    NaN       NaN  LWR^; SRiWR; SRoWR^; RWR   \n",
       "3            NaN                    NaN       NaN    LWR; SLWR^; SRWR^; RWR   \n",
       "4            NaN                    NaN       NaN    LWR; SLWR^; SRWR^; RWR   \n",
       "\n",
       "   pff_PLAYCLOCK  pff_RUNPASSOPTION  \n",
       "0            NaN                0.0  \n",
       "1            NaN                0.0  \n",
       "2            NaN                0.0  \n",
       "3            NaN                0.0  \n",
       "4            NaN                0.0  \n",
       "\n",
       "[5 rows x 177 columns]"
      ]
     },
     "execution_count": 7,
     "metadata": {},
     "output_type": "execute_result"
    }
   ],
   "source": [
    "DATA.head()"
   ]
  },
  {
   "cell_type": "code",
   "execution_count": 8,
   "metadata": {},
   "outputs": [
    {
     "name": "stdout",
     "output_type": "stream",
     "text": [
      "<class 'pandas.core.frame.DataFrame'>\n",
      "Int64Index: 758971 entries, 0 to 167026\n",
      "Columns: 177 entries, pff_PLAYID to pff_RUNPASSOPTION\n",
      "dtypes: float64(30), int64(30), object(117)\n",
      "memory usage: 1.0+ GB\n"
     ]
    }
   ],
   "source": [
    "DATA.info()"
   ]
  },
  {
   "cell_type": "code",
   "execution_count": 9,
   "metadata": {},
   "outputs": [],
   "source": [
    "d = DATA.copy()"
   ]
  },
  {
   "cell_type": "markdown",
   "metadata": {},
   "source": [
    "### 2.0 Feature Selection and Engineering"
   ]
  },
  {
   "cell_type": "markdown",
   "metadata": {},
   "source": [
    "#### 2.1 Remove Garbage Time"
   ]
  },
  {
   "cell_type": "code",
   "execution_count": 10,
   "metadata": {},
   "outputs": [],
   "source": [
    "d = d.loc[d['pff_GARBAGETIME'] == 0]"
   ]
  },
  {
   "cell_type": "code",
   "execution_count": 11,
   "metadata": {},
   "outputs": [],
   "source": [
    "d = d.reset_index(drop=True)"
   ]
  },
  {
   "cell_type": "code",
   "execution_count": 12,
   "metadata": {},
   "outputs": [
    {
     "data": {
      "text/plain": [
       "(721010, 177)"
      ]
     },
     "execution_count": 12,
     "metadata": {},
     "output_type": "execute_result"
    }
   ],
   "source": [
    "d.shape"
   ]
  },
  {
   "cell_type": "markdown",
   "metadata": {},
   "source": [
    "#### 2.2 Split Score to Home/Away"
   ]
  },
  {
   "cell_type": "code",
   "execution_count": 13,
   "metadata": {},
   "outputs": [],
   "source": [
    "def split_score(row):\n",
    "    \"\"\"\n",
    "    \n",
    "    \"\"\"\n",
    "    score = row['pff_SCORE']\n",
    "    \n",
    "    if '.' in score:\n",
    "        h, a = score.split('.')\n",
    "        if len(a) == 1:\n",
    "            a = int(a)\n",
    "            a *= 10\n",
    "    else:\n",
    "        h = score\n",
    "        a = 0\n",
    "    \n",
    "    return int(h), int(a)"
   ]
  },
  {
   "cell_type": "code",
   "execution_count": 14,
   "metadata": {},
   "outputs": [
    {
     "name": "stdout",
     "output_type": "stream",
     "text": [
      "CPU times: user 3min, sys: 2.57 s, total: 3min 3s\n",
      "Wall time: 3min 20s\n"
     ]
    }
   ],
   "source": [
    "%%time\n",
    "\n",
    "d['pff_SCORE'] = d['pff_SCORE'].astype(str)\n",
    "s = pd.DataFrame(d['pff_SCORE'])\n",
    "scores = s.apply(\n",
    "    lambda r: split_score(r),\n",
    "    axis=1,\n",
    "    result_type='expand'\n",
    ")"
   ]
  },
  {
   "cell_type": "code",
   "execution_count": 15,
   "metadata": {},
   "outputs": [],
   "source": [
    "scores.columns = ['homeScore', 'awayScore']"
   ]
  },
  {
   "cell_type": "code",
   "execution_count": 16,
   "metadata": {},
   "outputs": [],
   "source": [
    "d['homeScore'], d['awayScore'] = scores['homeScore'], scores['awayScore']"
   ]
  },
  {
   "cell_type": "markdown",
   "metadata": {},
   "source": [
    "#### 2.3 Create Point Periods"
   ]
  },
  {
   "cell_type": "code",
   "execution_count": 17,
   "metadata": {},
   "outputs": [],
   "source": [
    "def group_point_periods(row):\n",
    "    \"\"\"\n",
    "    \n",
    "    \"\"\"\n",
    "    global drive, prev_qtr, last_id, increment\n",
    "    \n",
    "    id_, clock, order, type_ = row['pff_GAMEID'], row['pff_CLOCK'], row['pff_SORTORDER'], row['pff_SPECIALTEAMSTYPE']\n",
    "\n",
    "    if increment:\n",
    "        drive += 1\n",
    "        increment = False\n",
    "        \n",
    "    if id_ != last_id:\n",
    "        drive = 1\n",
    "    last_id = id_\n",
    "    \n",
    "    if str(clock) == '15:00:00' and order != 1:\n",
    "        drive += 1\n",
    "        return drive\n",
    "\n",
    "    increment = True if type_ == 'KICKOFF' and order != 1 else False\n",
    "        \n",
    "    return drive"
   ]
  },
  {
   "cell_type": "code",
   "execution_count": 18,
   "metadata": {},
   "outputs": [],
   "source": [
    "drive = 1\n",
    "prev_qtr = None\n",
    "last_id = None\n",
    "increment = False"
   ]
  },
  {
   "cell_type": "code",
   "execution_count": 19,
   "metadata": {},
   "outputs": [
    {
     "name": "stdout",
     "output_type": "stream",
     "text": [
      "CPU times: user 1min 1s, sys: 4.02 s, total: 1min 5s\n",
      "Wall time: 1min 23s\n"
     ]
    }
   ],
   "source": [
    "%%time\n",
    "\n",
    "games = pd.DataFrame(\n",
    "    d[['pff_GAMEID', 'pff_CLOCK', 'pff_SORTORDER', 'pff_SPECIALTEAMSTYPE']]\n",
    ")\n",
    "d['pointPeriod'] = games.apply(\n",
    "    lambda r: group_point_periods(r),\n",
    "    axis=1\n",
    ")"
   ]
  },
  {
   "cell_type": "code",
   "execution_count": 20,
   "metadata": {},
   "outputs": [],
   "source": [
    "periods = d.groupby(\n",
    "    ['pff_GAMEID', 'pointPeriod']\n",
    ")"
   ]
  },
  {
   "cell_type": "code",
   "execution_count": 21,
   "metadata": {},
   "outputs": [
    {
     "name": "stdout",
     "output_type": "stream",
     "text": [
      "CPU times: user 38.7 s, sys: 2.93 s, total: 41.6 s\n",
      "Wall time: 44.6 s\n"
     ]
    }
   ],
   "source": [
    "%%time\n",
    "\n",
    "point_periods = list()\n",
    "for name, group in periods:\n",
    "    g = group.reset_index(drop=True)\n",
    "    num = len(g)\n",
    "    \n",
    "    home = g['homeScore'].iloc[-1] - g['homeScore'].iloc[0]\n",
    "    away = g['awayScore'].iloc[-1] - g['awayScore'].iloc[0]\n",
    "    \n",
    "    diff = home - away\n",
    "    points = np.ones(num) * diff\n",
    "\n",
    "    point_periods.extend(points)"
   ]
  },
  {
   "cell_type": "code",
   "execution_count": 22,
   "metadata": {},
   "outputs": [],
   "source": [
    "d['periodScore'] = point_periods"
   ]
  },
  {
   "cell_type": "code",
   "execution_count": 23,
   "metadata": {},
   "outputs": [
    {
     "data": {
      "text/plain": [
       "(721010, 181)"
      ]
     },
     "execution_count": 23,
     "metadata": {},
     "output_type": "execute_result"
    }
   ],
   "source": [
    "d.shape"
   ]
  },
  {
   "cell_type": "code",
   "execution_count": 24,
   "metadata": {},
   "outputs": [],
   "source": [
    "d = d.loc[d['periodScore'] < 14]"
   ]
  },
  {
   "cell_type": "code",
   "execution_count": 25,
   "metadata": {},
   "outputs": [
    {
     "data": {
      "text/plain": [
       "(720713, 181)"
      ]
     },
     "execution_count": 25,
     "metadata": {},
     "output_type": "execute_result"
    }
   ],
   "source": [
    "d.shape"
   ]
  },
  {
   "cell_type": "code",
   "execution_count": 29,
   "metadata": {},
   "outputs": [
    {
     "data": {
      "text/html": [
       "<div>\n",
       "<style scoped>\n",
       "    .dataframe tbody tr th:only-of-type {\n",
       "        vertical-align: middle;\n",
       "    }\n",
       "\n",
       "    .dataframe tbody tr th {\n",
       "        vertical-align: top;\n",
       "    }\n",
       "\n",
       "    .dataframe thead th {\n",
       "        text-align: right;\n",
       "    }\n",
       "</style>\n",
       "<table border=\"1\" class=\"dataframe\">\n",
       "  <thead>\n",
       "    <tr style=\"text-align: right;\">\n",
       "      <th></th>\n",
       "      <th>pff_PLAYID</th>\n",
       "      <th>pff_GAMEID</th>\n",
       "      <th>pff_GAMEDATE</th>\n",
       "      <th>pff_GAMESEASON</th>\n",
       "      <th>pff_WEEK</th>\n",
       "      <th>pff_GSISGAMEKEY</th>\n",
       "      <th>pff_GSISPLAYID</th>\n",
       "      <th>pff_QUARTER</th>\n",
       "      <th>pff_DOWN</th>\n",
       "      <th>pff_CLOCK</th>\n",
       "      <th>...</th>\n",
       "      <th>pff_TOUCHDOWN</th>\n",
       "      <th>pff_UNBLOCKEDPRESSURE</th>\n",
       "      <th>pff_VISE</th>\n",
       "      <th>pff_WRALIGNMENT</th>\n",
       "      <th>pff_PLAYCLOCK</th>\n",
       "      <th>pff_RUNPASSOPTION</th>\n",
       "      <th>homeScore</th>\n",
       "      <th>awayScore</th>\n",
       "      <th>pointPeriod</th>\n",
       "      <th>periodScore</th>\n",
       "    </tr>\n",
       "  </thead>\n",
       "  <tbody>\n",
       "    <tr>\n",
       "      <th>0</th>\n",
       "      <td>1455513</td>\n",
       "      <td>5573</td>\n",
       "      <td>12/31/15</td>\n",
       "      <td>2015</td>\n",
       "      <td>PO</td>\n",
       "      <td>60761</td>\n",
       "      <td>35</td>\n",
       "      <td>1</td>\n",
       "      <td>0</td>\n",
       "      <td>15:00</td>\n",
       "      <td>...</td>\n",
       "      <td>NaN</td>\n",
       "      <td>NaN</td>\n",
       "      <td>NaN</td>\n",
       "      <td>NaN</td>\n",
       "      <td>NaN</td>\n",
       "      <td>0.0</td>\n",
       "      <td>0</td>\n",
       "      <td>0</td>\n",
       "      <td>1</td>\n",
       "      <td>-7.0</td>\n",
       "    </tr>\n",
       "    <tr>\n",
       "      <th>1</th>\n",
       "      <td>1455434</td>\n",
       "      <td>5573</td>\n",
       "      <td>12/31/15</td>\n",
       "      <td>2015</td>\n",
       "      <td>PO</td>\n",
       "      <td>60761</td>\n",
       "      <td>49</td>\n",
       "      <td>1</td>\n",
       "      <td>1</td>\n",
       "      <td>15:00</td>\n",
       "      <td>...</td>\n",
       "      <td>NaN</td>\n",
       "      <td>NaN</td>\n",
       "      <td>NaN</td>\n",
       "      <td>LWR^; SRiWR; SRoWR^; RWR</td>\n",
       "      <td>NaN</td>\n",
       "      <td>0.0</td>\n",
       "      <td>0</td>\n",
       "      <td>0</td>\n",
       "      <td>1</td>\n",
       "      <td>-7.0</td>\n",
       "    </tr>\n",
       "    <tr>\n",
       "      <th>2</th>\n",
       "      <td>1455470</td>\n",
       "      <td>5573</td>\n",
       "      <td>12/31/15</td>\n",
       "      <td>2015</td>\n",
       "      <td>PO</td>\n",
       "      <td>60761</td>\n",
       "      <td>68</td>\n",
       "      <td>1</td>\n",
       "      <td>2</td>\n",
       "      <td>14:33</td>\n",
       "      <td>...</td>\n",
       "      <td>NaN</td>\n",
       "      <td>NaN</td>\n",
       "      <td>NaN</td>\n",
       "      <td>LWR^; SRiWR; SRoWR^; RWR</td>\n",
       "      <td>NaN</td>\n",
       "      <td>0.0</td>\n",
       "      <td>0</td>\n",
       "      <td>0</td>\n",
       "      <td>1</td>\n",
       "      <td>-7.0</td>\n",
       "    </tr>\n",
       "    <tr>\n",
       "      <th>3</th>\n",
       "      <td>1455450</td>\n",
       "      <td>5573</td>\n",
       "      <td>12/31/15</td>\n",
       "      <td>2015</td>\n",
       "      <td>PO</td>\n",
       "      <td>60761</td>\n",
       "      <td>90</td>\n",
       "      <td>1</td>\n",
       "      <td>3</td>\n",
       "      <td>14:03</td>\n",
       "      <td>...</td>\n",
       "      <td>NaN</td>\n",
       "      <td>NaN</td>\n",
       "      <td>NaN</td>\n",
       "      <td>LWR; SLWR^; SRWR^; RWR</td>\n",
       "      <td>NaN</td>\n",
       "      <td>0.0</td>\n",
       "      <td>0</td>\n",
       "      <td>0</td>\n",
       "      <td>1</td>\n",
       "      <td>3.0</td>\n",
       "    </tr>\n",
       "    <tr>\n",
       "      <th>4</th>\n",
       "      <td>1455419</td>\n",
       "      <td>5573</td>\n",
       "      <td>12/31/15</td>\n",
       "      <td>2015</td>\n",
       "      <td>PO</td>\n",
       "      <td>60761</td>\n",
       "      <td>112</td>\n",
       "      <td>1</td>\n",
       "      <td>1</td>\n",
       "      <td>13:51</td>\n",
       "      <td>...</td>\n",
       "      <td>NaN</td>\n",
       "      <td>NaN</td>\n",
       "      <td>NaN</td>\n",
       "      <td>LWR; SLWR^; SRWR^; RWR</td>\n",
       "      <td>NaN</td>\n",
       "      <td>0.0</td>\n",
       "      <td>0</td>\n",
       "      <td>0</td>\n",
       "      <td>1</td>\n",
       "      <td>3.0</td>\n",
       "    </tr>\n",
       "  </tbody>\n",
       "</table>\n",
       "<p>5 rows × 181 columns</p>\n",
       "</div>"
      ],
      "text/plain": [
       "   pff_PLAYID  pff_GAMEID pff_GAMEDATE  pff_GAMESEASON pff_WEEK  \\\n",
       "0     1455513        5573     12/31/15            2015       PO   \n",
       "1     1455434        5573     12/31/15            2015       PO   \n",
       "2     1455470        5573     12/31/15            2015       PO   \n",
       "3     1455450        5573     12/31/15            2015       PO   \n",
       "4     1455419        5573     12/31/15            2015       PO   \n",
       "\n",
       "   pff_GSISGAMEKEY  pff_GSISPLAYID  pff_QUARTER  pff_DOWN pff_CLOCK  ...  \\\n",
       "0            60761              35            1         0     15:00  ...   \n",
       "1            60761              49            1         1     15:00  ...   \n",
       "2            60761              68            1         2     14:33  ...   \n",
       "3            60761              90            1         3     14:03  ...   \n",
       "4            60761             112            1         1     13:51  ...   \n",
       "\n",
       "   pff_TOUCHDOWN  pff_UNBLOCKEDPRESSURE  pff_VISE           pff_WRALIGNMENT  \\\n",
       "0            NaN                    NaN       NaN                       NaN   \n",
       "1            NaN                    NaN       NaN  LWR^; SRiWR; SRoWR^; RWR   \n",
       "2            NaN                    NaN       NaN  LWR^; SRiWR; SRoWR^; RWR   \n",
       "3            NaN                    NaN       NaN    LWR; SLWR^; SRWR^; RWR   \n",
       "4            NaN                    NaN       NaN    LWR; SLWR^; SRWR^; RWR   \n",
       "\n",
       "   pff_PLAYCLOCK  pff_RUNPASSOPTION  homeScore  awayScore  pointPeriod  \\\n",
       "0            NaN                0.0          0          0            1   \n",
       "1            NaN                0.0          0          0            1   \n",
       "2            NaN                0.0          0          0            1   \n",
       "3            NaN                0.0          0          0            1   \n",
       "4            NaN                0.0          0          0            1   \n",
       "\n",
       "   periodScore  \n",
       "0         -7.0  \n",
       "1         -7.0  \n",
       "2         -7.0  \n",
       "3          3.0  \n",
       "4          3.0  \n",
       "\n",
       "[5 rows x 181 columns]"
      ]
     },
     "execution_count": 29,
     "metadata": {},
     "output_type": "execute_result"
    }
   ],
   "source": [
    "d.head()"
   ]
  },
  {
   "cell_type": "markdown",
   "metadata": {},
   "source": [
    "### 3.0 Transform All Data"
   ]
  },
  {
   "cell_type": "markdown",
   "metadata": {},
   "source": [
    "#### 3.1 Subset Data Sets"
   ]
  },
  {
   "cell_type": "code",
   "execution_count": 59,
   "metadata": {},
   "outputs": [],
   "source": [
    "PLAYS = d.loc[(d['pff_RUNPASS'] == 'P') | (d['pff_RUNPASS'] == 'R')]\n",
    "FGS = d.loc[d['pff_SPECIALTEAMSTYPE'].astype(str) == 'FIELD GOAL']"
   ]
  },
  {
   "cell_type": "code",
   "execution_count": 177,
   "metadata": {},
   "outputs": [
    {
     "name": "stdout",
     "output_type": "stream",
     "text": [
      "Plays: (578119, 181)\n",
      "FGs: (12545, 183)\n"
     ]
    }
   ],
   "source": [
    "print(\"Plays:\", PLAYS.shape)\n",
    "print(\"FGs:\", FGS.shape)"
   ]
  },
  {
   "cell_type": "markdown",
   "metadata": {},
   "source": [
    "#### 3.2 Column Transformer and Selection"
   ]
  },
  {
   "cell_type": "markdown",
   "metadata": {},
   "source": [
    "###### 3.2.1 Run + Pass"
   ]
  },
  {
   "cell_type": "code",
   "execution_count": 185,
   "metadata": {},
   "outputs": [],
   "source": [
    "rp = PLAYS['pff_RUNPASS']"
   ]
  },
  {
   "cell_type": "code",
   "execution_count": 186,
   "metadata": {},
   "outputs": [],
   "source": [
    "INPUTS = [\n",
    "    'pff_DOWN', 'pff_DISTANCE', 'pff_FIELDPOSITION', 'pff_GAINLOSSNET',\n",
    "    'homeScore', 'awayScore', 'pointPeriod', 'periodScore'\n",
    "]"
   ]
  },
  {
   "cell_type": "code",
   "execution_count": 187,
   "metadata": {},
   "outputs": [],
   "source": [
    "model_p = PLAYS[INPUTS]"
   ]
  },
  {
   "cell_type": "code",
   "execution_count": 188,
   "metadata": {},
   "outputs": [],
   "source": [
    "model_p = model_p.dropna()"
   ]
  },
  {
   "cell_type": "code",
   "execution_count": 189,
   "metadata": {},
   "outputs": [
    {
     "name": "stdout",
     "output_type": "stream",
     "text": [
      "Plays: (578119, 8)\n"
     ]
    }
   ],
   "source": [
    "print(\"Plays:\", model_p.shape)"
   ]
  },
  {
   "cell_type": "code",
   "execution_count": 190,
   "metadata": {},
   "outputs": [
    {
     "data": {
      "text/html": [
       "<div>\n",
       "<style scoped>\n",
       "    .dataframe tbody tr th:only-of-type {\n",
       "        vertical-align: middle;\n",
       "    }\n",
       "\n",
       "    .dataframe tbody tr th {\n",
       "        vertical-align: top;\n",
       "    }\n",
       "\n",
       "    .dataframe thead th {\n",
       "        text-align: right;\n",
       "    }\n",
       "</style>\n",
       "<table border=\"1\" class=\"dataframe\">\n",
       "  <thead>\n",
       "    <tr style=\"text-align: right;\">\n",
       "      <th></th>\n",
       "      <th>pff_DOWN</th>\n",
       "      <th>pff_DISTANCE</th>\n",
       "      <th>pff_FIELDPOSITION</th>\n",
       "      <th>pff_GAINLOSSNET</th>\n",
       "      <th>homeScore</th>\n",
       "      <th>awayScore</th>\n",
       "      <th>pointPeriod</th>\n",
       "      <th>periodScore</th>\n",
       "    </tr>\n",
       "  </thead>\n",
       "  <tbody>\n",
       "    <tr>\n",
       "      <th>1</th>\n",
       "      <td>1</td>\n",
       "      <td>10</td>\n",
       "      <td>-25</td>\n",
       "      <td>-6</td>\n",
       "      <td>0</td>\n",
       "      <td>0</td>\n",
       "      <td>1</td>\n",
       "      <td>-7.0</td>\n",
       "    </tr>\n",
       "    <tr>\n",
       "      <th>2</th>\n",
       "      <td>2</td>\n",
       "      <td>16</td>\n",
       "      <td>-19</td>\n",
       "      <td>9</td>\n",
       "      <td>0</td>\n",
       "      <td>0</td>\n",
       "      <td>1</td>\n",
       "      <td>-7.0</td>\n",
       "    </tr>\n",
       "    <tr>\n",
       "      <th>3</th>\n",
       "      <td>3</td>\n",
       "      <td>7</td>\n",
       "      <td>-28</td>\n",
       "      <td>17</td>\n",
       "      <td>0</td>\n",
       "      <td>0</td>\n",
       "      <td>1</td>\n",
       "      <td>3.0</td>\n",
       "    </tr>\n",
       "    <tr>\n",
       "      <th>4</th>\n",
       "      <td>1</td>\n",
       "      <td>10</td>\n",
       "      <td>-45</td>\n",
       "      <td>1</td>\n",
       "      <td>0</td>\n",
       "      <td>0</td>\n",
       "      <td>1</td>\n",
       "      <td>3.0</td>\n",
       "    </tr>\n",
       "    <tr>\n",
       "      <th>5</th>\n",
       "      <td>1</td>\n",
       "      <td>10</td>\n",
       "      <td>-46</td>\n",
       "      <td>15</td>\n",
       "      <td>0</td>\n",
       "      <td>0</td>\n",
       "      <td>1</td>\n",
       "      <td>3.0</td>\n",
       "    </tr>\n",
       "  </tbody>\n",
       "</table>\n",
       "</div>"
      ],
      "text/plain": [
       "   pff_DOWN  pff_DISTANCE  pff_FIELDPOSITION  pff_GAINLOSSNET  homeScore  \\\n",
       "1         1            10                -25               -6          0   \n",
       "2         2            16                -19                9          0   \n",
       "3         3             7                -28               17          0   \n",
       "4         1            10                -45                1          0   \n",
       "5         1            10                -46               15          0   \n",
       "\n",
       "   awayScore  pointPeriod  periodScore  \n",
       "1          0            1         -7.0  \n",
       "2          0            1         -7.0  \n",
       "3          0            1          3.0  \n",
       "4          0            1          3.0  \n",
       "5          0            1          3.0  "
      ]
     },
     "execution_count": 190,
     "metadata": {},
     "output_type": "execute_result"
    }
   ],
   "source": [
    "model_p.head()"
   ]
  },
  {
   "cell_type": "code",
   "execution_count": 191,
   "metadata": {},
   "outputs": [],
   "source": [
    "TARGET = 'pff_GAINLOSSNET'\n",
    "X_p = model_p.drop(TARGET, axis=1)\n",
    "y_p = model_p[TARGET]"
   ]
  },
  {
   "cell_type": "code",
   "execution_count": 147,
   "metadata": {},
   "outputs": [],
   "source": [
    "# num_pipeline = Pipeline([\n",
    "#     ('std_scaler', StandardScaler())\n",
    "# ])\n",
    "# X_prep_p = num_pipeline.fit_transform(X_p)\n",
    "# X_prep_p = pd.DataFrame(X_prep_p, columns=X_p.columns.tolist())\n",
    "# X_prep_p = X_prep_p.join(rp.reset_index(drop=True))"
   ]
  },
  {
   "cell_type": "code",
   "execution_count": 192,
   "metadata": {},
   "outputs": [],
   "source": [
    "X_prep_p = X_p.join(rp.reset_index(drop=True))"
   ]
  },
  {
   "cell_type": "code",
   "execution_count": 193,
   "metadata": {},
   "outputs": [
    {
     "data": {
      "text/html": [
       "<div>\n",
       "<style scoped>\n",
       "    .dataframe tbody tr th:only-of-type {\n",
       "        vertical-align: middle;\n",
       "    }\n",
       "\n",
       "    .dataframe tbody tr th {\n",
       "        vertical-align: top;\n",
       "    }\n",
       "\n",
       "    .dataframe thead th {\n",
       "        text-align: right;\n",
       "    }\n",
       "</style>\n",
       "<table border=\"1\" class=\"dataframe\">\n",
       "  <thead>\n",
       "    <tr style=\"text-align: right;\">\n",
       "      <th></th>\n",
       "      <th>pff_DOWN</th>\n",
       "      <th>pff_DISTANCE</th>\n",
       "      <th>pff_FIELDPOSITION</th>\n",
       "      <th>homeScore</th>\n",
       "      <th>awayScore</th>\n",
       "      <th>pointPeriod</th>\n",
       "      <th>periodScore</th>\n",
       "      <th>pff_RUNPASS</th>\n",
       "    </tr>\n",
       "  </thead>\n",
       "  <tbody>\n",
       "    <tr>\n",
       "      <th>1</th>\n",
       "      <td>1</td>\n",
       "      <td>10</td>\n",
       "      <td>-25</td>\n",
       "      <td>0</td>\n",
       "      <td>0</td>\n",
       "      <td>1</td>\n",
       "      <td>-7.0</td>\n",
       "      <td>R</td>\n",
       "    </tr>\n",
       "    <tr>\n",
       "      <th>2</th>\n",
       "      <td>2</td>\n",
       "      <td>16</td>\n",
       "      <td>-19</td>\n",
       "      <td>0</td>\n",
       "      <td>0</td>\n",
       "      <td>1</td>\n",
       "      <td>-7.0</td>\n",
       "      <td>R</td>\n",
       "    </tr>\n",
       "    <tr>\n",
       "      <th>3</th>\n",
       "      <td>3</td>\n",
       "      <td>7</td>\n",
       "      <td>-28</td>\n",
       "      <td>0</td>\n",
       "      <td>0</td>\n",
       "      <td>1</td>\n",
       "      <td>3.0</td>\n",
       "      <td>R</td>\n",
       "    </tr>\n",
       "    <tr>\n",
       "      <th>4</th>\n",
       "      <td>1</td>\n",
       "      <td>10</td>\n",
       "      <td>-45</td>\n",
       "      <td>0</td>\n",
       "      <td>0</td>\n",
       "      <td>1</td>\n",
       "      <td>3.0</td>\n",
       "      <td>P</td>\n",
       "    </tr>\n",
       "    <tr>\n",
       "      <th>5</th>\n",
       "      <td>1</td>\n",
       "      <td>10</td>\n",
       "      <td>-46</td>\n",
       "      <td>0</td>\n",
       "      <td>0</td>\n",
       "      <td>1</td>\n",
       "      <td>3.0</td>\n",
       "      <td>R</td>\n",
       "    </tr>\n",
       "  </tbody>\n",
       "</table>\n",
       "</div>"
      ],
      "text/plain": [
       "   pff_DOWN  pff_DISTANCE  pff_FIELDPOSITION  homeScore  awayScore  \\\n",
       "1         1            10                -25          0          0   \n",
       "2         2            16                -19          0          0   \n",
       "3         3             7                -28          0          0   \n",
       "4         1            10                -45          0          0   \n",
       "5         1            10                -46          0          0   \n",
       "\n",
       "   pointPeriod  periodScore pff_RUNPASS  \n",
       "1            1         -7.0           R  \n",
       "2            1         -7.0           R  \n",
       "3            1          3.0           R  \n",
       "4            1          3.0           P  \n",
       "5            1          3.0           R  "
      ]
     },
     "execution_count": 193,
     "metadata": {},
     "output_type": "execute_result"
    }
   ],
   "source": [
    "X_prep_p.head()"
   ]
  },
  {
   "cell_type": "code",
   "execution_count": 194,
   "metadata": {},
   "outputs": [
    {
     "name": "stdout",
     "output_type": "stream",
     "text": [
      "Plays: (578119, 8)\n"
     ]
    }
   ],
   "source": [
    "print(\"Plays:\", X_prep_p.shape)"
   ]
  },
  {
   "cell_type": "code",
   "execution_count": 195,
   "metadata": {},
   "outputs": [
    {
     "name": "stdout",
     "output_type": "stream",
     "text": [
      "Plays: (578119,)\n"
     ]
    }
   ],
   "source": [
    "print(\"Plays:\", y_p.shape)"
   ]
  },
  {
   "cell_type": "code",
   "execution_count": 196,
   "metadata": {},
   "outputs": [],
   "source": [
    "RUN = X_prep_p.loc[X_prep_p['pff_RUNPASS'] == 'P']\n",
    "PASS = X_prep_p.loc[X_prep_p['pff_RUNPASS'] == 'R']"
   ]
  },
  {
   "cell_type": "code",
   "execution_count": 197,
   "metadata": {},
   "outputs": [
    {
     "name": "stdout",
     "output_type": "stream",
     "text": [
      "Run: (243673, 8)\n",
      "Pass: (219982, 8)\n"
     ]
    }
   ],
   "source": [
    "print(\"Run:\", RUN.shape)\n",
    "print(\"Pass:\", PASS.shape)"
   ]
  },
  {
   "cell_type": "markdown",
   "metadata": {},
   "source": [
    "###### 3.2.2 Field Goals"
   ]
  },
  {
   "cell_type": "code",
   "execution_count": 80,
   "metadata": {},
   "outputs": [],
   "source": [
    "FGS[['kickResult', 'kickLocation']] = FGS['pff_KICKRESULT'].str.split(' - ', expand=True)\n",
    "FGS['kickResult'] = np.where(FGS['kickResult'] == 'MISSED', 0, 1)"
   ]
  },
  {
   "cell_type": "code",
   "execution_count": 81,
   "metadata": {},
   "outputs": [],
   "source": [
    "INPUTS = [\n",
    "    'pff_HASH', 'pff_KICKYARDS', 'kickResult'\n",
    "]"
   ]
  },
  {
   "cell_type": "code",
   "execution_count": 82,
   "metadata": {},
   "outputs": [],
   "source": [
    "model_fg = FGS[INPUTS]"
   ]
  },
  {
   "cell_type": "code",
   "execution_count": 84,
   "metadata": {},
   "outputs": [
    {
     "data": {
      "text/plain": [
       "(12545, 3)"
      ]
     },
     "execution_count": 84,
     "metadata": {},
     "output_type": "execute_result"
    }
   ],
   "source": [
    "model_fg.shape"
   ]
  },
  {
   "cell_type": "code",
   "execution_count": 91,
   "metadata": {},
   "outputs": [],
   "source": [
    "model_fg = model_fg.dropna()"
   ]
  },
  {
   "cell_type": "code",
   "execution_count": 92,
   "metadata": {},
   "outputs": [
    {
     "data": {
      "text/plain": [
       "(12532, 3)"
      ]
     },
     "execution_count": 92,
     "metadata": {},
     "output_type": "execute_result"
    }
   ],
   "source": [
    "model_fg.shape"
   ]
  },
  {
   "cell_type": "code",
   "execution_count": 95,
   "metadata": {},
   "outputs": [],
   "source": [
    "TARGET = 'kickResult'\n",
    "X_fg = model_fg.drop(TARGET, axis=1)\n",
    "y_fg = model_fg[TARGET]"
   ]
  },
  {
   "cell_type": "code",
   "execution_count": 124,
   "metadata": {},
   "outputs": [],
   "source": [
    "hash_, yards = X_fg['pff_HASH'], X_fg['pff_KICKYARDS']\n",
    "hash_ = np.array(hash_).reshape(-1, 1)\n",
    "one_hot = OneHotEncoder(sparse=True).fit_transform(hash_).toarray()\n",
    "hash_ = pd.DataFrame(one_hot, columns=['hash_C', 'hash_L', 'hash_R'])\n",
    "X_prep_fg = hash_.join(yards.reset_index(drop=True).astype(int))"
   ]
  },
  {
   "cell_type": "code",
   "execution_count": 125,
   "metadata": {},
   "outputs": [
    {
     "data": {
      "text/html": [
       "<div>\n",
       "<style scoped>\n",
       "    .dataframe tbody tr th:only-of-type {\n",
       "        vertical-align: middle;\n",
       "    }\n",
       "\n",
       "    .dataframe tbody tr th {\n",
       "        vertical-align: top;\n",
       "    }\n",
       "\n",
       "    .dataframe thead th {\n",
       "        text-align: right;\n",
       "    }\n",
       "</style>\n",
       "<table border=\"1\" class=\"dataframe\">\n",
       "  <thead>\n",
       "    <tr style=\"text-align: right;\">\n",
       "      <th></th>\n",
       "      <th>hash_C</th>\n",
       "      <th>hash_L</th>\n",
       "      <th>hash_R</th>\n",
       "      <th>pff_KICKYARDS</th>\n",
       "    </tr>\n",
       "  </thead>\n",
       "  <tbody>\n",
       "    <tr>\n",
       "      <th>0</th>\n",
       "      <td>0.0</td>\n",
       "      <td>1.0</td>\n",
       "      <td>0.0</td>\n",
       "      <td>26</td>\n",
       "    </tr>\n",
       "    <tr>\n",
       "      <th>1</th>\n",
       "      <td>0.0</td>\n",
       "      <td>0.0</td>\n",
       "      <td>1.0</td>\n",
       "      <td>36</td>\n",
       "    </tr>\n",
       "    <tr>\n",
       "      <th>2</th>\n",
       "      <td>0.0</td>\n",
       "      <td>0.0</td>\n",
       "      <td>1.0</td>\n",
       "      <td>22</td>\n",
       "    </tr>\n",
       "    <tr>\n",
       "      <th>3</th>\n",
       "      <td>0.0</td>\n",
       "      <td>1.0</td>\n",
       "      <td>0.0</td>\n",
       "      <td>43</td>\n",
       "    </tr>\n",
       "    <tr>\n",
       "      <th>4</th>\n",
       "      <td>0.0</td>\n",
       "      <td>0.0</td>\n",
       "      <td>1.0</td>\n",
       "      <td>47</td>\n",
       "    </tr>\n",
       "  </tbody>\n",
       "</table>\n",
       "</div>"
      ],
      "text/plain": [
       "   hash_C  hash_L  hash_R  pff_KICKYARDS\n",
       "0     0.0     1.0     0.0             26\n",
       "1     0.0     0.0     1.0             36\n",
       "2     0.0     0.0     1.0             22\n",
       "3     0.0     1.0     0.0             43\n",
       "4     0.0     0.0     1.0             47"
      ]
     },
     "execution_count": 125,
     "metadata": {},
     "output_type": "execute_result"
    }
   ],
   "source": [
    "X_prep_fg.head()"
   ]
  },
  {
   "cell_type": "markdown",
   "metadata": {},
   "source": [
    "### 4.0 Field Goal Model"
   ]
  },
  {
   "cell_type": "markdown",
   "metadata": {},
   "source": [
    "#### 4.1 Threshold Experimentation"
   ]
  },
  {
   "cell_type": "code",
   "execution_count": 126,
   "metadata": {},
   "outputs": [],
   "source": [
    "def metrics(model, x, y, threshold=0.5):\n",
    "    y_prob = model.predict_proba(x)[:, 1]\n",
    "    predictions = np.where(y_prob > threshold, 1, 0)\n",
    "    print(\"\\nConfusion Matrix (t={})\".format(threshold))\n",
    "    print(confusion_matrix(y, predictions))\n",
    "    f1_ = f1_score(y, predictions)\n",
    "    print(\"F1:\", f1_)\n",
    "\n",
    "    return f1_"
   ]
  },
  {
   "cell_type": "code",
   "execution_count": 133,
   "metadata": {},
   "outputs": [],
   "source": [
    "def log_reg(X, y, threshold=0.5):\n",
    "    X_train, X_test, y_train, y_test = train_test_split(\n",
    "        X, y, test_size=0.2\n",
    "    )\n",
    "\n",
    "    lr = LogisticRegression(\n",
    "        random_state=SEED,\n",
    "        solver='lbfgs'\n",
    "    )\n",
    "    lr = lr.fit(X_train, y_train)\n",
    "    f1_score = metrics(lr, X_test, y_test, threshold)\n",
    "\n",
    "    return lr, f1_score"
   ]
  },
  {
   "cell_type": "code",
   "execution_count": 134,
   "metadata": {},
   "outputs": [
    {
     "name": "stdout",
     "output_type": "stream",
     "text": [
      "\n",
      "Confusion Matrix (t=0.5)\n",
      "[[ 136  527]\n",
      " [ 108 1736]]\n",
      "F1: 0.8453859264670074\n",
      "\n",
      "Confusion Matrix (t=0.55)\n",
      "[[ 206  486]\n",
      " [ 158 1657]]\n",
      "F1: 0.8372915613946438\n",
      "\n",
      "Confusion Matrix (t=0.6)\n",
      "[[ 258  407]\n",
      " [ 282 1560]]\n",
      "F1: 0.8191126279863482\n",
      "\n",
      "Confusion Matrix (t=0.65)\n",
      "[[ 320  341]\n",
      " [ 401 1445]]\n",
      "F1: 0.7957048458149779\n",
      "\n",
      "Confusion Matrix (t=0.7)\n",
      "[[ 406  263]\n",
      " [ 542 1296]]\n",
      "F1: 0.7630261995878717\n",
      "\n",
      "Confusion Matrix (t=0.75)\n",
      "[[ 464  207]\n",
      " [ 732 1104]]\n",
      "F1: 0.7016205910390847\n",
      "\n",
      "Confusion Matrix (t=0.8)\n",
      "[[556 125]\n",
      " [934 892]]\n",
      "F1: 0.6275061554695743\n",
      "\n",
      "Confusion Matrix (t=0.85)\n",
      "[[ 575   87]\n",
      " [1191  654]]\n",
      "F1: 0.505800464037123\n",
      "\n",
      "Confusion Matrix (t=0.9)\n",
      "[[ 632   17]\n",
      " [1602  256]]\n",
      "F1: 0.24026278742374468\n",
      "\n",
      "Confusion Matrix (t=0.95)\n",
      "[[ 680    0]\n",
      " [1826    1]]\n",
      "F1: 0.0010940919037199124\n",
      "\n",
      "Confusion Matrix (t=1.0)\n",
      "[[ 677    0]\n",
      " [1830    0]]\n",
      "F1: 0.0\n"
     ]
    }
   ],
   "source": [
    "thresholds = np.arange(0.5, 1.05, 0.05)\n",
    "f1_scores = []\n",
    "for t in thresholds:\n",
    "    model, f1 = log_reg(X_prep_fg, y_fg, round(t, 2))\n",
    "    f1_scores.append(f1)"
   ]
  },
  {
   "cell_type": "code",
   "execution_count": 135,
   "metadata": {},
   "outputs": [
    {
     "data": {
      "image/png": "[encoded data removed]",
      "text/plain": [
       "<Figure size 432x288 with 1 Axes>"
      ]
     },
     "metadata": {
      "needs_background": "light"
     },
     "output_type": "display_data"
    }
   ],
   "source": [
    "plt.plot(thresholds, f1_scores)\n",
    "plt.show()"
   ]
  },
  {
   "cell_type": "markdown",
   "metadata": {},
   "source": [
    "#### 4.2 Final Logistic Regression Model"
   ]
  },
  {
   "cell_type": "code",
   "execution_count": 136,
   "metadata": {},
   "outputs": [],
   "source": [
    "BEST_THRESHOLD = 0.6"
   ]
  },
  {
   "cell_type": "code",
   "execution_count": 137,
   "metadata": {},
   "outputs": [
    {
     "name": "stdout",
     "output_type": "stream",
     "text": [
      "\n",
      "Confusion Matrix (t=0.6)\n",
      "[[ 285  423]\n",
      " [ 267 1532]]\n",
      "F1: 0.8161960575386255\n"
     ]
    }
   ],
   "source": [
    "fg_model = log_reg(X_prep_fg, y_fg, 0.6)"
   ]
  },
  {
   "cell_type": "markdown",
   "metadata": {},
   "source": [
    "### 5.0 Run Models"
   ]
  },
  {
   "cell_type": "code",
   "execution_count": 198,
   "metadata": {},
   "outputs": [],
   "source": [
    "r1 = RUN.loc[RUN['pff_DOWN'] == 1]\n",
    "r2 = RUN.loc[RUN['pff_DOWN'] == 2]\n",
    "r3 = RUN.loc[RUN['pff_DOWN'] == 3]\n",
    "r4 = RUN.loc[RUN['pff_DOWN'] == 4]"
   ]
  },
  {
   "cell_type": "code",
   "execution_count": 199,
   "metadata": {},
   "outputs": [
    {
     "name": "stdout",
     "output_type": "stream",
     "text": [
      "Running Downs:\n",
      "\t1st: (107268, 8)\n",
      "\t2nd: (79709, 8)\n",
      "\t3rd: (50658, 8)\n",
      "\t4th: (5458, 8)\n"
     ]
    }
   ],
   "source": [
    "print(\"Running Downs:\")\n",
    "print(\"\\t1st:\", r1.shape)\n",
    "print(\"\\t2nd:\", r2.shape)\n",
    "print(\"\\t3rd:\", r3.shape)\n",
    "print(\"\\t4th:\", r4.shape)"
   ]
  },
  {
   "cell_type": "markdown",
   "metadata": {},
   "source": [
    "### 6.0 Pass Models"
   ]
  },
  {
   "cell_type": "code",
   "execution_count": null,
   "metadata": {},
   "outputs": [],
   "source": [
    "p1 = PASS.loc[PASS['pff_DOWN'] == 1]\n",
    "p2 = PASS.loc[PASS['pff_DOWN'] == 2]\n",
    "p3 = PASS.loc[PASS['pff_DOWN'] == 3]\n",
    "p4 = PASS.loc[PASS['pff_DOWN'] == 4]"
   ]
  },
  {
   "cell_type": "code",
   "execution_count": null,
   "metadata": {},
   "outputs": [],
   "source": [
    "print(\"Passing Downs:\")\n",
    "print(\"\\t1st:\", p1.shape)\n",
    "print(\"\\t2nd:\", p2.shape)\n",
    "print(\"\\t3rd:\", p3.shape)\n",
    "print(\"\\t4th:\", p4.shape)"
   ]
  },
  {
   "cell_type": "markdown",
   "metadata": {},
   "source": [
    "### 3.0 Mixture Models"
   ]
  },
  {
   "cell_type": "markdown",
   "metadata": {},
   "source": [
    "Ref: \n",
    "* [sklearn.mixture.GaussianMixture](https://scikit-learn.org/stable/modules/generated/sklearn.mixture.GaussianMixture.html#sklearn.mixture.GaussianMixture)  \n",
    "* [sklearn.linear_model.LinearRegression](https://scikit-learn.org/stable/modules/generated/sklearn.linear_model.LinearRegression.html)\n",
    "* [sklearn.compose.ColumnTransformer](https://scikit-learn.org/stable/modules/generated/sklearn.compose.ColumnTransformer.html)\n",
    "* [sklearn.pipeline.Pipeline](https://scikit-learn.org/stable/modules/generated/sklearn.pipeline.Pipeline.html)\n",
    "* [sklearn.preprocessing.StandardScaler](https://scikit-learn.org/stable/modules/generated/sklearn.preprocessing.StandardScaler.html)\n",
    "* [sklearn.preprocessing.OneHotEncoder](https://scikit-learn.org/stable/modules/generated/sklearn.preprocessing.OneHotEncoder.html)"
   ]
  },
  {
   "cell_type": "code",
   "execution_count": 29,
   "metadata": {},
   "outputs": [],
   "source": [
    "regr = LinearRegression()\n",
    "regr.fit(X, y)"
   ]
  },
  {
   "cell_type": "markdown",
   "metadata": {},
   "source": [
    "### 7.0 Expected Points Added Model"
   ]
  },
  {
   "cell_type": "code",
   "execution_count": 233,
   "metadata": {},
   "outputs": [],
   "source": [
    "points = list()\n",
    "MAX = max(d['pff_DISTANCE'])\n",
    "SEED = 42\n",
    "\n",
    "YTG_DEV = {\n",
    "    'long': 4,\n",
    "    'medium': 3,\n",
    "    'short': 2,\n",
    "    'inches': 1\n",
    "}\n",
    "YTG_MIN = {\n",
    "    'long': 10,\n",
    "    'medium': 6,\n",
    "    'short': 3,\n",
    "    'inches': 1\n",
    "}\n",
    "POSITION_DEV = 5 # yards"
   ]
  },
  {
   "cell_type": "code",
   "execution_count": 238,
   "metadata": {},
   "outputs": [],
   "source": [
    "def EPA(down, ytg, position, own):\n",
    "    \"\"\"\n",
    "    \n",
    "    \"\"\"\n",
    "    global points\n",
    "    \n",
    "    ytg_dev = 4 if ytg in range(10, MAX) else \\\n",
    "              3 if ytg in range(6, 10) else \\\n",
    "              2 if ytg in range(3, 6) else \\\n",
    "              1\n",
    "                \n",
    "    SIMULATIONS = 1000\n",
    "    for i in range(SIMULATIONS):\n",
    "        point = run_play(down, ytg, position, own)\n",
    "        points.append(point)\n",
    "    \n",
    "    return np.array(points).mean()"
   ]
  },
  {
   "cell_type": "code",
   "execution_count": 239,
   "metadata": {},
   "outputs": [],
   "source": [
    "def run_play(down, ytg, position, own):\n",
    "    dist_ = 'long' if ytg in range(10, MAX) else \\\n",
    "            'medium' if ytg in range(6, 10) else \\\n",
    "            'short' if ytg in range(3, 6) else \\\n",
    "            'inches'\n",
    "    ytg_dev = YTG_DEV[dist_]\n",
    "    ytg_min = YTG_MIN[dist_]\n",
    "    \n",
    "    position *= -1 if own else 1\n",
    "    fp_right = position - POSITION_DEV\n",
    "    fp_left = position + POSITION_DEV\n",
    "    \n",
    "    # Off the field left\n",
    "    if fp_left > 0 and fp_right < 0:\n",
    "        fp_left = -1\n",
    "    # Redzone -- shrink deviation to 3 yards\n",
    "    elif 0 < position < 20:\n",
    "        fp_right += 2\n",
    "        fp_left -= 2\n",
    "    \n",
    "    samples = d.loc[\n",
    "        (d['pff_DOWN'] == down) &\n",
    "        (d['pff_DISTANCE'] >= max(ytg_min, ytg - ytg_dev)) &\n",
    "        (d['pff_DISTANCE'] <= ytg + ytg_dev) &\n",
    "        (d['pff_FIELDPOSITION'] >= fp_right) &\n",
    "        (d['pff_FIELDPOSITION'] <= fp_left)\n",
    "    ]\n",
    "    if len(samples) == 0:\n",
    "        return None\n",
    "    else:\n",
    "        sample = samples.sample(n=1, random_state=SEED)\n",
    "        \n",
    "        # Define conditions for a TD, FG\n",
    "        if True:\n",
    "            score = True\n",
    "            scored = 6\n",
    "            \n",
    "            xps = d.loc[\n",
    "                (d['pff_DOWN'] == 0) &\n",
    "                (d['pff_DISTANCE'] == 0) &\n",
    "                (d['pff_FIELDPOSITION'] == 0)\n",
    "            ]\n",
    "            xp = xps.sample(n=1, random_state=SEED)\n",
    "            result = xp['pff_KICKRESULT']\n",
    "            scored += 1 if 'MADE' in result else 0\n",
    "        elif True:\n",
    "            score = True\n",
    "            scored = 3\n",
    "        else:\n",
    "            score = False\n",
    "    \n",
    "    if score:\n",
    "        return scored\n",
    "    else:\n",
    "        return run_play(d, y, p)"
   ]
  },
  {
   "cell_type": "code",
   "execution_count": null,
   "metadata": {},
   "outputs": [],
   "source": [
    "down = int(input('Down: ').strip())\n",
    "ytg = int(input('Yards to Go: ').strip())\n",
    "position = int(input('Field Position: ').strip())\n",
    "own = input('Possession (home/away): ').strip()\n",
    "own = True if own == 'home' else False"
   ]
  },
  {
   "cell_type": "code",
   "execution_count": null,
   "metadata": {},
   "outputs": [],
   "source": [
    "STATE = {\n",
    "    'down': down,\n",
    "    'ytg': ytg,\n",
    "    'position': position,\n",
    "    'own': own\n",
    "}"
   ]
  },
  {
   "cell_type": "code",
   "execution_count": null,
   "metadata": {},
   "outputs": [],
   "source": [
    "epa = EPA(**STATE)"
   ]
  },
  {
   "cell_type": "code",
   "execution_count": null,
   "metadata": {},
   "outputs": [],
   "source": [
    "print('''\n",
    "    Expected Points Model:\n",
    "    S (Down: {}, YTG: {}, Position: {}) == {} EP\n",
    "'''.format(\n",
    "    STATE['down'],\n",
    "    STATE['ytg'],\n",
    "    ('Own ' if STATE['own'] else '') + str(STATE['position']),\n",
    "    epa\n",
    "))"
   ]
  }
 ],
 "metadata": {
  "kernelspec": {
   "display_name": "Python 3",
   "language": "python",
   "name": "python3"
  },
  "language_info": {
   "codemirror_mode": {
    "name": "ipython",
    "version": 3
   },
   "file_extension": ".py",
   "mimetype": "text/x-python",
   "name": "python",
   "nbconvert_exporter": "python",
   "pygments_lexer": "ipython3",
   "version": "3.6.4"
  }
 },
 "nbformat": 4,
 "nbformat_minor": 1
}
