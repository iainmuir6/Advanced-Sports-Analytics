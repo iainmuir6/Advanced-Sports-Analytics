{
 "cells": [
  {
   "cell_type": "markdown",
   "metadata": {
    "collapsed": true
   },
   "source": [
    "# Empirical Expected Points Added Model"
   ]
  },
  {
   "cell_type": "markdown",
   "metadata": {},
   "source": [
    "#### Authors"
   ]
  },
  {
   "cell_type": "markdown",
   "metadata": {},
   "source": [
    "**Iain Muir**, iam9ez  \n",
    "**Hriday Singh**, hns4dc  \n",
    "**Connor Smith**, cms6xs"
   ]
  },
  {
   "cell_type": "markdown",
   "metadata": {},
   "source": [
    "## Table of Contents"
   ]
  },
  {
   "cell_type": "markdown",
   "metadata": {},
   "source": [
    "* **0. Import Libraries**\n",
    "* **1. Load Data**\n",
    "* **2. Feature Selection and Engineering**\n",
    "    * 2.1 Remove Garbage Time\n",
    "    * 2.2 Split Score to Home/Away\n",
    "    * 2.3 Group Point Periods\n",
    "* **3. Transform Data for Modeling**\n",
    "* **4. Field Goal Model**\n",
    "* **5. Run Models**\n",
    "* **6. Pass Models**\n",
    "* **7. Expected Points Added Model**"
   ]
  },
  {
   "cell_type": "markdown",
   "metadata": {},
   "source": [
    "### 0. Import Libraries"
   ]
  },
  {
   "cell_type": "code",
   "execution_count": 1,
   "metadata": {},
   "outputs": [],
   "source": [
    "from sklearn.linear_model import LinearRegression, LogisticRegression\n",
    "from sklearn.preprocessing import OneHotEncoder, StandardScaler\n",
    "from sklearn.metrics import confusion_matrix, f1_score\n",
    "from sklearn.model_selection import train_test_split\n",
    "from sklearn.compose import ColumnTransformer\n",
    "from sklearn.mixture import GaussianMixture\n",
    "from sklearn.pipeline import Pipeline\n",
    "import matplotlib.pyplot as plt\n",
    "import pandas as pd\n",
    "import numpy as np"
   ]
  },
  {
   "cell_type": "code",
   "execution_count": 2,
   "metadata": {},
   "outputs": [],
   "source": [
    "from pandas.core.common import SettingWithCopyWarning\n",
    "import warnings\n",
    "\n",
    "warnings.simplefilter(action=\"ignore\", category=SettingWithCopyWarning)"
   ]
  },
  {
   "cell_type": "code",
   "execution_count": 3,
   "metadata": {},
   "outputs": [],
   "source": [
    "SEED = 42"
   ]
  },
  {
   "cell_type": "markdown",
   "metadata": {},
   "source": [
    "### 1.0 Load Data"
   ]
  },
  {
   "cell_type": "markdown",
   "metadata": {},
   "source": [
    "#### 1.1 Aggregate Data across Years"
   ]
  },
  {
   "cell_type": "code",
   "execution_count": 4,
   "metadata": {},
   "outputs": [],
   "source": [
    "ROOT = '/Users/iainmuir/Desktop/4Y 1S/STAT 4800/Dataset/{} PFF All Plays.csv'"
   ]
  },
  {
   "cell_type": "code",
   "execution_count": 5,
   "metadata": {},
   "outputs": [],
   "source": [
    "DATA = pd.DataFrame()"
   ]
  },
  {
   "cell_type": "code",
   "execution_count": 6,
   "metadata": {},
   "outputs": [
    {
     "name": "stdout",
     "output_type": "stream",
     "text": [
      "CPU times: user 46.5 s, sys: 16.9 s, total: 1min 3s\n",
      "Wall time: 1min 28s\n"
     ]
    }
   ],
   "source": [
    "%%time\n",
    "\n",
    "for year in range(2015, 2020):\n",
    "    PATH = ROOT.format(year)\n",
    "    df = pd.read_csv(PATH, low_memory=False)\n",
    "    DATA = pd.concat([DATA, df])"
   ]
  },
  {
   "cell_type": "code",
   "execution_count": 7,
   "metadata": {},
   "outputs": [
    {
     "data": {
      "text/plain": [
       "(758971, 177)"
      ]
     },
     "execution_count": 7,
     "metadata": {},
     "output_type": "execute_result"
    }
   ],
   "source": [
    "DATA.shape"
   ]
  },
  {
   "cell_type": "code",
   "execution_count": 8,
   "metadata": {},
   "outputs": [
    {
     "data": {
      "text/html": [
       "<div>\n",
       "<style scoped>\n",
       "    .dataframe tbody tr th:only-of-type {\n",
       "        vertical-align: middle;\n",
       "    }\n",
       "\n",
       "    .dataframe tbody tr th {\n",
       "        vertical-align: top;\n",
       "    }\n",
       "\n",
       "    .dataframe thead th {\n",
       "        text-align: right;\n",
       "    }\n",
       "</style>\n",
       "<table border=\"1\" class=\"dataframe\">\n",
       "  <thead>\n",
       "    <tr style=\"text-align: right;\">\n",
       "      <th></th>\n",
       "      <th>pff_PLAYID</th>\n",
       "      <th>pff_GAMEID</th>\n",
       "      <th>pff_GAMEDATE</th>\n",
       "      <th>pff_GAMESEASON</th>\n",
       "      <th>pff_WEEK</th>\n",
       "      <th>pff_GSISGAMEKEY</th>\n",
       "      <th>pff_GSISPLAYID</th>\n",
       "      <th>pff_QUARTER</th>\n",
       "      <th>pff_DOWN</th>\n",
       "      <th>pff_CLOCK</th>\n",
       "      <th>...</th>\n",
       "      <th>pff_STSAFETIES</th>\n",
       "      <th>pff_TACKLE</th>\n",
       "      <th>pff_TACKLEASSIST</th>\n",
       "      <th>pff_TEALIGNMENT</th>\n",
       "      <th>pff_TOUCHDOWN</th>\n",
       "      <th>pff_UNBLOCKEDPRESSURE</th>\n",
       "      <th>pff_VISE</th>\n",
       "      <th>pff_WRALIGNMENT</th>\n",
       "      <th>pff_PLAYCLOCK</th>\n",
       "      <th>pff_RUNPASSOPTION</th>\n",
       "    </tr>\n",
       "  </thead>\n",
       "  <tbody>\n",
       "    <tr>\n",
       "      <th>0</th>\n",
       "      <td>1455513</td>\n",
       "      <td>5573</td>\n",
       "      <td>12/31/15</td>\n",
       "      <td>2015</td>\n",
       "      <td>PO</td>\n",
       "      <td>60761</td>\n",
       "      <td>35</td>\n",
       "      <td>1</td>\n",
       "      <td>0</td>\n",
       "      <td>15:00</td>\n",
       "      <td>...</td>\n",
       "      <td>NaN</td>\n",
       "      <td>NaN</td>\n",
       "      <td>NaN</td>\n",
       "      <td>NaN</td>\n",
       "      <td>NaN</td>\n",
       "      <td>NaN</td>\n",
       "      <td>NaN</td>\n",
       "      <td>NaN</td>\n",
       "      <td>NaN</td>\n",
       "      <td>0.0</td>\n",
       "    </tr>\n",
       "    <tr>\n",
       "      <th>1</th>\n",
       "      <td>1455434</td>\n",
       "      <td>5573</td>\n",
       "      <td>12/31/15</td>\n",
       "      <td>2015</td>\n",
       "      <td>PO</td>\n",
       "      <td>60761</td>\n",
       "      <td>49</td>\n",
       "      <td>1</td>\n",
       "      <td>1</td>\n",
       "      <td>15:00</td>\n",
       "      <td>...</td>\n",
       "      <td>NaN</td>\n",
       "      <td>NaN</td>\n",
       "      <td>NaN</td>\n",
       "      <td>NaN</td>\n",
       "      <td>NaN</td>\n",
       "      <td>NaN</td>\n",
       "      <td>NaN</td>\n",
       "      <td>LWR^; SRiWR; SRoWR^; RWR</td>\n",
       "      <td>NaN</td>\n",
       "      <td>0.0</td>\n",
       "    </tr>\n",
       "    <tr>\n",
       "      <th>2</th>\n",
       "      <td>1455470</td>\n",
       "      <td>5573</td>\n",
       "      <td>12/31/15</td>\n",
       "      <td>2015</td>\n",
       "      <td>PO</td>\n",
       "      <td>60761</td>\n",
       "      <td>68</td>\n",
       "      <td>1</td>\n",
       "      <td>2</td>\n",
       "      <td>14:33</td>\n",
       "      <td>...</td>\n",
       "      <td>NaN</td>\n",
       "      <td>SCCL D15</td>\n",
       "      <td>NaN</td>\n",
       "      <td>NaN</td>\n",
       "      <td>NaN</td>\n",
       "      <td>NaN</td>\n",
       "      <td>NaN</td>\n",
       "      <td>LWR^; SRiWR; SRoWR^; RWR</td>\n",
       "      <td>NaN</td>\n",
       "      <td>0.0</td>\n",
       "    </tr>\n",
       "    <tr>\n",
       "      <th>3</th>\n",
       "      <td>1455450</td>\n",
       "      <td>5573</td>\n",
       "      <td>12/31/15</td>\n",
       "      <td>2015</td>\n",
       "      <td>PO</td>\n",
       "      <td>60761</td>\n",
       "      <td>90</td>\n",
       "      <td>1</td>\n",
       "      <td>3</td>\n",
       "      <td>14:03</td>\n",
       "      <td>...</td>\n",
       "      <td>NaN</td>\n",
       "      <td>SCCL D18</td>\n",
       "      <td>NaN</td>\n",
       "      <td>NaN</td>\n",
       "      <td>NaN</td>\n",
       "      <td>NaN</td>\n",
       "      <td>NaN</td>\n",
       "      <td>LWR; SLWR^; SRWR^; RWR</td>\n",
       "      <td>NaN</td>\n",
       "      <td>0.0</td>\n",
       "    </tr>\n",
       "    <tr>\n",
       "      <th>4</th>\n",
       "      <td>1455419</td>\n",
       "      <td>5573</td>\n",
       "      <td>12/31/15</td>\n",
       "      <td>2015</td>\n",
       "      <td>PO</td>\n",
       "      <td>60761</td>\n",
       "      <td>112</td>\n",
       "      <td>1</td>\n",
       "      <td>1</td>\n",
       "      <td>13:51</td>\n",
       "      <td>...</td>\n",
       "      <td>NaN</td>\n",
       "      <td>SCCL D91</td>\n",
       "      <td>NaN</td>\n",
       "      <td>NaN</td>\n",
       "      <td>NaN</td>\n",
       "      <td>NaN</td>\n",
       "      <td>NaN</td>\n",
       "      <td>LWR; SLWR^; SRWR^; RWR</td>\n",
       "      <td>NaN</td>\n",
       "      <td>0.0</td>\n",
       "    </tr>\n",
       "  </tbody>\n",
       "</table>\n",
       "<p>5 rows × 177 columns</p>\n",
       "</div>"
      ],
      "text/plain": [
       "   pff_PLAYID  pff_GAMEID pff_GAMEDATE  pff_GAMESEASON pff_WEEK  \\\n",
       "0     1455513        5573     12/31/15            2015       PO   \n",
       "1     1455434        5573     12/31/15            2015       PO   \n",
       "2     1455470        5573     12/31/15            2015       PO   \n",
       "3     1455450        5573     12/31/15            2015       PO   \n",
       "4     1455419        5573     12/31/15            2015       PO   \n",
       "\n",
       "   pff_GSISGAMEKEY  pff_GSISPLAYID  pff_QUARTER  pff_DOWN pff_CLOCK  ...  \\\n",
       "0            60761              35            1         0     15:00  ...   \n",
       "1            60761              49            1         1     15:00  ...   \n",
       "2            60761              68            1         2     14:33  ...   \n",
       "3            60761              90            1         3     14:03  ...   \n",
       "4            60761             112            1         1     13:51  ...   \n",
       "\n",
       "   pff_STSAFETIES  pff_TACKLE  pff_TACKLEASSIST  pff_TEALIGNMENT  \\\n",
       "0             NaN         NaN               NaN              NaN   \n",
       "1             NaN         NaN               NaN              NaN   \n",
       "2             NaN    SCCL D15               NaN              NaN   \n",
       "3             NaN    SCCL D18               NaN              NaN   \n",
       "4             NaN    SCCL D91               NaN              NaN   \n",
       "\n",
       "   pff_TOUCHDOWN  pff_UNBLOCKEDPRESSURE  pff_VISE           pff_WRALIGNMENT  \\\n",
       "0            NaN                    NaN       NaN                       NaN   \n",
       "1            NaN                    NaN       NaN  LWR^; SRiWR; SRoWR^; RWR   \n",
       "2            NaN                    NaN       NaN  LWR^; SRiWR; SRoWR^; RWR   \n",
       "3            NaN                    NaN       NaN    LWR; SLWR^; SRWR^; RWR   \n",
       "4            NaN                    NaN       NaN    LWR; SLWR^; SRWR^; RWR   \n",
       "\n",
       "   pff_PLAYCLOCK  pff_RUNPASSOPTION  \n",
       "0            NaN                0.0  \n",
       "1            NaN                0.0  \n",
       "2            NaN                0.0  \n",
       "3            NaN                0.0  \n",
       "4            NaN                0.0  \n",
       "\n",
       "[5 rows x 177 columns]"
      ]
     },
     "execution_count": 8,
     "metadata": {},
     "output_type": "execute_result"
    }
   ],
   "source": [
    "DATA.head()"
   ]
  },
  {
   "cell_type": "code",
   "execution_count": 9,
   "metadata": {},
   "outputs": [
    {
     "name": "stdout",
     "output_type": "stream",
     "text": [
      "<class 'pandas.core.frame.DataFrame'>\n",
      "Int64Index: 758971 entries, 0 to 167026\n",
      "Columns: 177 entries, pff_PLAYID to pff_RUNPASSOPTION\n",
      "dtypes: float64(30), int64(30), object(117)\n",
      "memory usage: 1.0+ GB\n"
     ]
    }
   ],
   "source": [
    "DATA.info()"
   ]
  },
  {
   "cell_type": "code",
   "execution_count": 10,
   "metadata": {},
   "outputs": [],
   "source": [
    "d = DATA.copy()"
   ]
  },
  {
   "cell_type": "markdown",
   "metadata": {},
   "source": [
    "### 2.0 Feature Selection and Engineering"
   ]
  },
  {
   "cell_type": "markdown",
   "metadata": {},
   "source": [
    "#### 2.1 Remove Garbage Time"
   ]
  },
  {
   "cell_type": "code",
   "execution_count": 11,
   "metadata": {},
   "outputs": [],
   "source": [
    "d = d.loc[d['pff_GARBAGETIME'] == 0]"
   ]
  },
  {
   "cell_type": "code",
   "execution_count": 12,
   "metadata": {},
   "outputs": [],
   "source": [
    "d = d.reset_index(drop=True)"
   ]
  },
  {
   "cell_type": "code",
   "execution_count": 13,
   "metadata": {},
   "outputs": [
    {
     "data": {
      "text/plain": [
       "(721010, 177)"
      ]
     },
     "execution_count": 13,
     "metadata": {},
     "output_type": "execute_result"
    }
   ],
   "source": [
    "d.shape"
   ]
  },
  {
   "cell_type": "markdown",
   "metadata": {},
   "source": [
    "#### 2.2 Split Score to Home/Away"
   ]
  },
  {
   "cell_type": "code",
   "execution_count": 14,
   "metadata": {},
   "outputs": [],
   "source": [
    "def split_score(row):\n",
    "    \"\"\"\n",
    "    \n",
    "    \"\"\"\n",
    "    score = row['pff_SCORE']\n",
    "    \n",
    "    if '.' in score:\n",
    "        h, a = score.split('.')\n",
    "        if len(a) == 1:\n",
    "            a = int(a)\n",
    "            a *= 10\n",
    "    else:\n",
    "        h = score\n",
    "        a = 0\n",
    "    \n",
    "    return int(h), int(a)"
   ]
  },
  {
   "cell_type": "code",
   "execution_count": 15,
   "metadata": {},
   "outputs": [
    {
     "name": "stdout",
     "output_type": "stream",
     "text": [
      "CPU times: user 3min 3s, sys: 3.04 s, total: 3min 6s\n",
      "Wall time: 3min 52s\n"
     ]
    }
   ],
   "source": [
    "%%time\n",
    "\n",
    "d['pff_SCORE'] = d['pff_SCORE'].astype(str)\n",
    "s = pd.DataFrame(d['pff_SCORE'])\n",
    "scores = s.apply(\n",
    "    lambda r: split_score(r),\n",
    "    axis=1,\n",
    "    result_type='expand'\n",
    ")"
   ]
  },
  {
   "cell_type": "code",
   "execution_count": 16,
   "metadata": {},
   "outputs": [],
   "source": [
    "scores.columns = ['homeScore', 'awayScore']"
   ]
  },
  {
   "cell_type": "code",
   "execution_count": 17,
   "metadata": {},
   "outputs": [],
   "source": [
    "d['homeScore'], d['awayScore'] = scores['homeScore'], scores['awayScore']"
   ]
  },
  {
   "cell_type": "markdown",
   "metadata": {},
   "source": [
    "#### 2.3 Create Point Periods"
   ]
  },
  {
   "cell_type": "code",
   "execution_count": 18,
   "metadata": {},
   "outputs": [],
   "source": [
    "def group_point_periods(row):\n",
    "    \"\"\"\n",
    "    \n",
    "    \"\"\"\n",
    "    global drive, prev_qtr, last_id, increment\n",
    "    \n",
    "    id_, clock, order, type_ = row['pff_GAMEID'], row['pff_CLOCK'], row['pff_SORTORDER'], row['pff_SPECIALTEAMSTYPE']\n",
    "\n",
    "    if increment:\n",
    "        drive += 1\n",
    "        increment = False\n",
    "        \n",
    "    if id_ != last_id:\n",
    "        drive = 1\n",
    "    last_id = id_\n",
    "    \n",
    "    if str(clock) == '15:00:00' and order != 1:\n",
    "        drive += 1\n",
    "        return drive\n",
    "\n",
    "    increment = True if type_ == 'KICKOFF' and order != 1 else False\n",
    "        \n",
    "    return drive"
   ]
  },
  {
   "cell_type": "code",
   "execution_count": 19,
   "metadata": {},
   "outputs": [],
   "source": [
    "drive = 1\n",
    "prev_qtr = None\n",
    "last_id = None\n",
    "increment = False"
   ]
  },
  {
   "cell_type": "code",
   "execution_count": 20,
   "metadata": {},
   "outputs": [
    {
     "name": "stdout",
     "output_type": "stream",
     "text": [
      "CPU times: user 58.4 s, sys: 4.93 s, total: 1min 3s\n",
      "Wall time: 1min 26s\n"
     ]
    }
   ],
   "source": [
    "%%time\n",
    "\n",
    "games = pd.DataFrame(\n",
    "    d[['pff_GAMEID', 'pff_CLOCK', 'pff_SORTORDER', 'pff_SPECIALTEAMSTYPE']]\n",
    ")\n",
    "d['pointPeriod'] = games.apply(\n",
    "    lambda r: group_point_periods(r),\n",
    "    axis=1\n",
    ")"
   ]
  },
  {
   "cell_type": "code",
   "execution_count": 21,
   "metadata": {},
   "outputs": [],
   "source": [
    "periods = d.groupby(\n",
    "    ['pff_GAMEID', 'pointPeriod']\n",
    ")"
   ]
  },
  {
   "cell_type": "code",
   "execution_count": 22,
   "metadata": {},
   "outputs": [
    {
     "name": "stdout",
     "output_type": "stream",
     "text": [
      "CPU times: user 43.9 s, sys: 5.4 s, total: 49.3 s\n",
      "Wall time: 1min 2s\n"
     ]
    }
   ],
   "source": [
    "%%time\n",
    "\n",
    "point_periods = list()\n",
    "for name, group in periods:\n",
    "    g = group.reset_index(drop=True)\n",
    "    num = len(g)\n",
    "    \n",
    "    home = g['homeScore'].iloc[-1] - g['homeScore'].iloc[0]\n",
    "    away = g['awayScore'].iloc[-1] - g['awayScore'].iloc[0]\n",
    "    \n",
    "    diff = home - away\n",
    "    points = np.ones(num) * diff\n",
    "\n",
    "    point_periods.extend(points)"
   ]
  },
  {
   "cell_type": "code",
   "execution_count": 23,
   "metadata": {},
   "outputs": [],
   "source": [
    "d['periodScore'] = point_periods"
   ]
  },
  {
   "cell_type": "code",
   "execution_count": 24,
   "metadata": {},
   "outputs": [
    {
     "data": {
      "text/plain": [
       "(721010, 181)"
      ]
     },
     "execution_count": 24,
     "metadata": {},
     "output_type": "execute_result"
    }
   ],
   "source": [
    "d.shape"
   ]
  },
  {
   "cell_type": "code",
   "execution_count": 25,
   "metadata": {},
   "outputs": [],
   "source": [
    "d = d.loc[d['periodScore'] < 14]"
   ]
  },
  {
   "cell_type": "code",
   "execution_count": 26,
   "metadata": {},
   "outputs": [
    {
     "data": {
      "text/plain": [
       "(720713, 181)"
      ]
     },
     "execution_count": 26,
     "metadata": {},
     "output_type": "execute_result"
    }
   ],
   "source": [
    "d.shape"
   ]
  },
  {
   "cell_type": "code",
   "execution_count": 27,
   "metadata": {},
   "outputs": [
    {
     "data": {
      "text/html": [
       "<div>\n",
       "<style scoped>\n",
       "    .dataframe tbody tr th:only-of-type {\n",
       "        vertical-align: middle;\n",
       "    }\n",
       "\n",
       "    .dataframe tbody tr th {\n",
       "        vertical-align: top;\n",
       "    }\n",
       "\n",
       "    .dataframe thead th {\n",
       "        text-align: right;\n",
       "    }\n",
       "</style>\n",
       "<table border=\"1\" class=\"dataframe\">\n",
       "  <thead>\n",
       "    <tr style=\"text-align: right;\">\n",
       "      <th></th>\n",
       "      <th>pff_PLAYID</th>\n",
       "      <th>pff_GAMEID</th>\n",
       "      <th>pff_GAMEDATE</th>\n",
       "      <th>pff_GAMESEASON</th>\n",
       "      <th>pff_WEEK</th>\n",
       "      <th>pff_GSISGAMEKEY</th>\n",
       "      <th>pff_GSISPLAYID</th>\n",
       "      <th>pff_QUARTER</th>\n",
       "      <th>pff_DOWN</th>\n",
       "      <th>pff_CLOCK</th>\n",
       "      <th>...</th>\n",
       "      <th>pff_TOUCHDOWN</th>\n",
       "      <th>pff_UNBLOCKEDPRESSURE</th>\n",
       "      <th>pff_VISE</th>\n",
       "      <th>pff_WRALIGNMENT</th>\n",
       "      <th>pff_PLAYCLOCK</th>\n",
       "      <th>pff_RUNPASSOPTION</th>\n",
       "      <th>homeScore</th>\n",
       "      <th>awayScore</th>\n",
       "      <th>pointPeriod</th>\n",
       "      <th>periodScore</th>\n",
       "    </tr>\n",
       "  </thead>\n",
       "  <tbody>\n",
       "    <tr>\n",
       "      <th>0</th>\n",
       "      <td>1455513</td>\n",
       "      <td>5573</td>\n",
       "      <td>12/31/15</td>\n",
       "      <td>2015</td>\n",
       "      <td>PO</td>\n",
       "      <td>60761</td>\n",
       "      <td>35</td>\n",
       "      <td>1</td>\n",
       "      <td>0</td>\n",
       "      <td>15:00</td>\n",
       "      <td>...</td>\n",
       "      <td>NaN</td>\n",
       "      <td>NaN</td>\n",
       "      <td>NaN</td>\n",
       "      <td>NaN</td>\n",
       "      <td>NaN</td>\n",
       "      <td>0.0</td>\n",
       "      <td>0</td>\n",
       "      <td>0</td>\n",
       "      <td>1</td>\n",
       "      <td>-7.0</td>\n",
       "    </tr>\n",
       "    <tr>\n",
       "      <th>1</th>\n",
       "      <td>1455434</td>\n",
       "      <td>5573</td>\n",
       "      <td>12/31/15</td>\n",
       "      <td>2015</td>\n",
       "      <td>PO</td>\n",
       "      <td>60761</td>\n",
       "      <td>49</td>\n",
       "      <td>1</td>\n",
       "      <td>1</td>\n",
       "      <td>15:00</td>\n",
       "      <td>...</td>\n",
       "      <td>NaN</td>\n",
       "      <td>NaN</td>\n",
       "      <td>NaN</td>\n",
       "      <td>LWR^; SRiWR; SRoWR^; RWR</td>\n",
       "      <td>NaN</td>\n",
       "      <td>0.0</td>\n",
       "      <td>0</td>\n",
       "      <td>0</td>\n",
       "      <td>1</td>\n",
       "      <td>-7.0</td>\n",
       "    </tr>\n",
       "    <tr>\n",
       "      <th>2</th>\n",
       "      <td>1455470</td>\n",
       "      <td>5573</td>\n",
       "      <td>12/31/15</td>\n",
       "      <td>2015</td>\n",
       "      <td>PO</td>\n",
       "      <td>60761</td>\n",
       "      <td>68</td>\n",
       "      <td>1</td>\n",
       "      <td>2</td>\n",
       "      <td>14:33</td>\n",
       "      <td>...</td>\n",
       "      <td>NaN</td>\n",
       "      <td>NaN</td>\n",
       "      <td>NaN</td>\n",
       "      <td>LWR^; SRiWR; SRoWR^; RWR</td>\n",
       "      <td>NaN</td>\n",
       "      <td>0.0</td>\n",
       "      <td>0</td>\n",
       "      <td>0</td>\n",
       "      <td>1</td>\n",
       "      <td>-7.0</td>\n",
       "    </tr>\n",
       "    <tr>\n",
       "      <th>3</th>\n",
       "      <td>1455450</td>\n",
       "      <td>5573</td>\n",
       "      <td>12/31/15</td>\n",
       "      <td>2015</td>\n",
       "      <td>PO</td>\n",
       "      <td>60761</td>\n",
       "      <td>90</td>\n",
       "      <td>1</td>\n",
       "      <td>3</td>\n",
       "      <td>14:03</td>\n",
       "      <td>...</td>\n",
       "      <td>NaN</td>\n",
       "      <td>NaN</td>\n",
       "      <td>NaN</td>\n",
       "      <td>LWR; SLWR^; SRWR^; RWR</td>\n",
       "      <td>NaN</td>\n",
       "      <td>0.0</td>\n",
       "      <td>0</td>\n",
       "      <td>0</td>\n",
       "      <td>1</td>\n",
       "      <td>3.0</td>\n",
       "    </tr>\n",
       "    <tr>\n",
       "      <th>4</th>\n",
       "      <td>1455419</td>\n",
       "      <td>5573</td>\n",
       "      <td>12/31/15</td>\n",
       "      <td>2015</td>\n",
       "      <td>PO</td>\n",
       "      <td>60761</td>\n",
       "      <td>112</td>\n",
       "      <td>1</td>\n",
       "      <td>1</td>\n",
       "      <td>13:51</td>\n",
       "      <td>...</td>\n",
       "      <td>NaN</td>\n",
       "      <td>NaN</td>\n",
       "      <td>NaN</td>\n",
       "      <td>LWR; SLWR^; SRWR^; RWR</td>\n",
       "      <td>NaN</td>\n",
       "      <td>0.0</td>\n",
       "      <td>0</td>\n",
       "      <td>0</td>\n",
       "      <td>1</td>\n",
       "      <td>3.0</td>\n",
       "    </tr>\n",
       "  </tbody>\n",
       "</table>\n",
       "<p>5 rows × 181 columns</p>\n",
       "</div>"
      ],
      "text/plain": [
       "   pff_PLAYID  pff_GAMEID pff_GAMEDATE  pff_GAMESEASON pff_WEEK  \\\n",
       "0     1455513        5573     12/31/15            2015       PO   \n",
       "1     1455434        5573     12/31/15            2015       PO   \n",
       "2     1455470        5573     12/31/15            2015       PO   \n",
       "3     1455450        5573     12/31/15            2015       PO   \n",
       "4     1455419        5573     12/31/15            2015       PO   \n",
       "\n",
       "   pff_GSISGAMEKEY  pff_GSISPLAYID  pff_QUARTER  pff_DOWN pff_CLOCK  ...  \\\n",
       "0            60761              35            1         0     15:00  ...   \n",
       "1            60761              49            1         1     15:00  ...   \n",
       "2            60761              68            1         2     14:33  ...   \n",
       "3            60761              90            1         3     14:03  ...   \n",
       "4            60761             112            1         1     13:51  ...   \n",
       "\n",
       "   pff_TOUCHDOWN  pff_UNBLOCKEDPRESSURE  pff_VISE           pff_WRALIGNMENT  \\\n",
       "0            NaN                    NaN       NaN                       NaN   \n",
       "1            NaN                    NaN       NaN  LWR^; SRiWR; SRoWR^; RWR   \n",
       "2            NaN                    NaN       NaN  LWR^; SRiWR; SRoWR^; RWR   \n",
       "3            NaN                    NaN       NaN    LWR; SLWR^; SRWR^; RWR   \n",
       "4            NaN                    NaN       NaN    LWR; SLWR^; SRWR^; RWR   \n",
       "\n",
       "   pff_PLAYCLOCK  pff_RUNPASSOPTION  homeScore  awayScore  pointPeriod  \\\n",
       "0            NaN                0.0          0          0            1   \n",
       "1            NaN                0.0          0          0            1   \n",
       "2            NaN                0.0          0          0            1   \n",
       "3            NaN                0.0          0          0            1   \n",
       "4            NaN                0.0          0          0            1   \n",
       "\n",
       "   periodScore  \n",
       "0         -7.0  \n",
       "1         -7.0  \n",
       "2         -7.0  \n",
       "3          3.0  \n",
       "4          3.0  \n",
       "\n",
       "[5 rows x 181 columns]"
      ]
     },
     "execution_count": 27,
     "metadata": {},
     "output_type": "execute_result"
    }
   ],
   "source": [
    "d.head()"
   ]
  },
  {
   "cell_type": "markdown",
   "metadata": {},
   "source": [
    "### 3.0 Transform All Data"
   ]
  },
  {
   "cell_type": "markdown",
   "metadata": {},
   "source": [
    "#### 3.1 Subset Data Sets"
   ]
  },
  {
   "cell_type": "code",
   "execution_count": 28,
   "metadata": {},
   "outputs": [],
   "source": [
    "PLAYS = d.loc[(d['pff_RUNPASS'] == 'P') | (d['pff_RUNPASS'] == 'R')]\n",
    "FGS = d.loc[d['pff_SPECIALTEAMSTYPE'].astype(str) == 'FIELD GOAL']"
   ]
  },
  {
   "cell_type": "code",
   "execution_count": 29,
   "metadata": {},
   "outputs": [
    {
     "name": "stdout",
     "output_type": "stream",
     "text": [
      "Plays: (578119, 181)\n",
      "FGs: (12545, 181)\n"
     ]
    }
   ],
   "source": [
    "print(\"Plays:\", PLAYS.shape)\n",
    "print(\"FGs:\", FGS.shape)"
   ]
  },
  {
   "cell_type": "markdown",
   "metadata": {},
   "source": [
    "#### 3.2 Column Transformer and Selection"
   ]
  },
  {
   "cell_type": "markdown",
   "metadata": {},
   "source": [
    "###### 3.2.1 Run + Pass"
   ]
  },
  {
   "cell_type": "code",
   "execution_count": 30,
   "metadata": {},
   "outputs": [],
   "source": [
    "rp = PLAYS['pff_RUNPASS']"
   ]
  },
  {
   "cell_type": "code",
   "execution_count": 98,
   "metadata": {},
   "outputs": [],
   "source": [
    "INPUTS = [\n",
    "    'pff_DOWN', 'pff_DISTANCE', 'pff_FIELDPOSITION', 'pff_GAINLOSSNET', 'pff_PASSRESULT',\n",
    "    'homeScore', 'awayScore', 'pointPeriod', 'periodScore'\n",
    "]"
   ]
  },
  {
   "cell_type": "code",
   "execution_count": 99,
   "metadata": {},
   "outputs": [],
   "source": [
    "model_p = PLAYS[INPUTS]"
   ]
  },
  {
   "cell_type": "code",
   "execution_count": 100,
   "metadata": {},
   "outputs": [
    {
     "data": {
      "text/plain": [
       "pff_DOWN                  0\n",
       "pff_DISTANCE              0\n",
       "pff_FIELDPOSITION         0\n",
       "pff_GAINLOSSNET           0\n",
       "pff_PASSRESULT       274257\n",
       "homeScore                 0\n",
       "awayScore                 0\n",
       "pointPeriod               0\n",
       "periodScore               0\n",
       "dtype: int64"
      ]
     },
     "execution_count": 100,
     "metadata": {},
     "output_type": "execute_result"
    }
   ],
   "source": [
    "model_p.isnull().sum()"
   ]
  },
  {
   "cell_type": "code",
   "execution_count": 101,
   "metadata": {},
   "outputs": [],
   "source": [
    "model_p['pff_PASSRESULT'] = model_p['pff_PASSRESULT'].fillna('RUN')"
   ]
  },
  {
   "cell_type": "code",
   "execution_count": 102,
   "metadata": {},
   "outputs": [
    {
     "data": {
      "text/plain": [
       "0"
      ]
     },
     "execution_count": 102,
     "metadata": {},
     "output_type": "execute_result"
    }
   ],
   "source": [
    "model_p.isnull().sum().sum()"
   ]
  },
  {
   "cell_type": "code",
   "execution_count": 103,
   "metadata": {},
   "outputs": [
    {
     "name": "stdout",
     "output_type": "stream",
     "text": [
      "Plays: (578119, 9)\n"
     ]
    }
   ],
   "source": [
    "print(\"Plays:\", model_p.shape)"
   ]
  },
  {
   "cell_type": "code",
   "execution_count": 104,
   "metadata": {},
   "outputs": [
    {
     "data": {
      "text/html": [
       "<div>\n",
       "<style scoped>\n",
       "    .dataframe tbody tr th:only-of-type {\n",
       "        vertical-align: middle;\n",
       "    }\n",
       "\n",
       "    .dataframe tbody tr th {\n",
       "        vertical-align: top;\n",
       "    }\n",
       "\n",
       "    .dataframe thead th {\n",
       "        text-align: right;\n",
       "    }\n",
       "</style>\n",
       "<table border=\"1\" class=\"dataframe\">\n",
       "  <thead>\n",
       "    <tr style=\"text-align: right;\">\n",
       "      <th></th>\n",
       "      <th>pff_DOWN</th>\n",
       "      <th>pff_DISTANCE</th>\n",
       "      <th>pff_FIELDPOSITION</th>\n",
       "      <th>pff_GAINLOSSNET</th>\n",
       "      <th>pff_PASSRESULT</th>\n",
       "      <th>homeScore</th>\n",
       "      <th>awayScore</th>\n",
       "      <th>pointPeriod</th>\n",
       "      <th>periodScore</th>\n",
       "    </tr>\n",
       "  </thead>\n",
       "  <tbody>\n",
       "    <tr>\n",
       "      <th>1</th>\n",
       "      <td>1</td>\n",
       "      <td>10</td>\n",
       "      <td>-25</td>\n",
       "      <td>-6</td>\n",
       "      <td>SACK</td>\n",
       "      <td>0</td>\n",
       "      <td>0</td>\n",
       "      <td>1</td>\n",
       "      <td>-7.0</td>\n",
       "    </tr>\n",
       "    <tr>\n",
       "      <th>2</th>\n",
       "      <td>2</td>\n",
       "      <td>16</td>\n",
       "      <td>-19</td>\n",
       "      <td>9</td>\n",
       "      <td>RUN</td>\n",
       "      <td>0</td>\n",
       "      <td>0</td>\n",
       "      <td>1</td>\n",
       "      <td>-7.0</td>\n",
       "    </tr>\n",
       "    <tr>\n",
       "      <th>3</th>\n",
       "      <td>3</td>\n",
       "      <td>7</td>\n",
       "      <td>-28</td>\n",
       "      <td>17</td>\n",
       "      <td>RUN</td>\n",
       "      <td>0</td>\n",
       "      <td>0</td>\n",
       "      <td>1</td>\n",
       "      <td>3.0</td>\n",
       "    </tr>\n",
       "    <tr>\n",
       "      <th>4</th>\n",
       "      <td>1</td>\n",
       "      <td>10</td>\n",
       "      <td>-45</td>\n",
       "      <td>1</td>\n",
       "      <td>RUN</td>\n",
       "      <td>0</td>\n",
       "      <td>0</td>\n",
       "      <td>1</td>\n",
       "      <td>3.0</td>\n",
       "    </tr>\n",
       "    <tr>\n",
       "      <th>5</th>\n",
       "      <td>1</td>\n",
       "      <td>10</td>\n",
       "      <td>-46</td>\n",
       "      <td>15</td>\n",
       "      <td>INCOMPLETE</td>\n",
       "      <td>0</td>\n",
       "      <td>0</td>\n",
       "      <td>1</td>\n",
       "      <td>3.0</td>\n",
       "    </tr>\n",
       "  </tbody>\n",
       "</table>\n",
       "</div>"
      ],
      "text/plain": [
       "   pff_DOWN  pff_DISTANCE  pff_FIELDPOSITION  pff_GAINLOSSNET pff_PASSRESULT  \\\n",
       "1         1            10                -25               -6           SACK   \n",
       "2         2            16                -19                9            RUN   \n",
       "3         3             7                -28               17            RUN   \n",
       "4         1            10                -45                1            RUN   \n",
       "5         1            10                -46               15     INCOMPLETE   \n",
       "\n",
       "   homeScore  awayScore  pointPeriod  periodScore  \n",
       "1          0          0            1         -7.0  \n",
       "2          0          0            1         -7.0  \n",
       "3          0          0            1          3.0  \n",
       "4          0          0            1          3.0  \n",
       "5          0          0            1          3.0  "
      ]
     },
     "execution_count": 104,
     "metadata": {},
     "output_type": "execute_result"
    }
   ],
   "source": [
    "model_p.head()"
   ]
  },
  {
   "cell_type": "code",
   "execution_count": 105,
   "metadata": {},
   "outputs": [],
   "source": [
    "TARGET = 'pff_GAINLOSSNET'\n",
    "X_p = model_p.drop(TARGET, axis=1)\n",
    "y_p = model_p[TARGET]"
   ]
  },
  {
   "cell_type": "code",
   "execution_count": 37,
   "metadata": {},
   "outputs": [],
   "source": [
    "# num_pipeline = Pipeline([\n",
    "#     ('std_scaler', StandardScaler())\n",
    "# ])\n",
    "# X_prep_p = num_pipeline.fit_transform(X_p)\n",
    "# X_prep_p = pd.DataFrame(X_prep_p, columns=X_p.columns.tolist())\n",
    "# X_prep_p = X_prep_p.join(rp.reset_index(drop=True))"
   ]
  },
  {
   "cell_type": "code",
   "execution_count": 106,
   "metadata": {},
   "outputs": [],
   "source": [
    "X_prep_p = X_p.join(rp.reset_index(drop=True))"
   ]
  },
  {
   "cell_type": "code",
   "execution_count": 107,
   "metadata": {},
   "outputs": [
    {
     "data": {
      "text/html": [
       "<div>\n",
       "<style scoped>\n",
       "    .dataframe tbody tr th:only-of-type {\n",
       "        vertical-align: middle;\n",
       "    }\n",
       "\n",
       "    .dataframe tbody tr th {\n",
       "        vertical-align: top;\n",
       "    }\n",
       "\n",
       "    .dataframe thead th {\n",
       "        text-align: right;\n",
       "    }\n",
       "</style>\n",
       "<table border=\"1\" class=\"dataframe\">\n",
       "  <thead>\n",
       "    <tr style=\"text-align: right;\">\n",
       "      <th></th>\n",
       "      <th>pff_DOWN</th>\n",
       "      <th>pff_DISTANCE</th>\n",
       "      <th>pff_FIELDPOSITION</th>\n",
       "      <th>pff_PASSRESULT</th>\n",
       "      <th>homeScore</th>\n",
       "      <th>awayScore</th>\n",
       "      <th>pointPeriod</th>\n",
       "      <th>periodScore</th>\n",
       "      <th>pff_RUNPASS</th>\n",
       "    </tr>\n",
       "  </thead>\n",
       "  <tbody>\n",
       "    <tr>\n",
       "      <th>1</th>\n",
       "      <td>1</td>\n",
       "      <td>10</td>\n",
       "      <td>-25</td>\n",
       "      <td>SACK</td>\n",
       "      <td>0</td>\n",
       "      <td>0</td>\n",
       "      <td>1</td>\n",
       "      <td>-7.0</td>\n",
       "      <td>R</td>\n",
       "    </tr>\n",
       "    <tr>\n",
       "      <th>2</th>\n",
       "      <td>2</td>\n",
       "      <td>16</td>\n",
       "      <td>-19</td>\n",
       "      <td>RUN</td>\n",
       "      <td>0</td>\n",
       "      <td>0</td>\n",
       "      <td>1</td>\n",
       "      <td>-7.0</td>\n",
       "      <td>R</td>\n",
       "    </tr>\n",
       "    <tr>\n",
       "      <th>3</th>\n",
       "      <td>3</td>\n",
       "      <td>7</td>\n",
       "      <td>-28</td>\n",
       "      <td>RUN</td>\n",
       "      <td>0</td>\n",
       "      <td>0</td>\n",
       "      <td>1</td>\n",
       "      <td>3.0</td>\n",
       "      <td>R</td>\n",
       "    </tr>\n",
       "    <tr>\n",
       "      <th>4</th>\n",
       "      <td>1</td>\n",
       "      <td>10</td>\n",
       "      <td>-45</td>\n",
       "      <td>RUN</td>\n",
       "      <td>0</td>\n",
       "      <td>0</td>\n",
       "      <td>1</td>\n",
       "      <td>3.0</td>\n",
       "      <td>P</td>\n",
       "    </tr>\n",
       "    <tr>\n",
       "      <th>5</th>\n",
       "      <td>1</td>\n",
       "      <td>10</td>\n",
       "      <td>-46</td>\n",
       "      <td>INCOMPLETE</td>\n",
       "      <td>0</td>\n",
       "      <td>0</td>\n",
       "      <td>1</td>\n",
       "      <td>3.0</td>\n",
       "      <td>R</td>\n",
       "    </tr>\n",
       "  </tbody>\n",
       "</table>\n",
       "</div>"
      ],
      "text/plain": [
       "   pff_DOWN  pff_DISTANCE  pff_FIELDPOSITION pff_PASSRESULT  homeScore  \\\n",
       "1         1            10                -25           SACK          0   \n",
       "2         2            16                -19            RUN          0   \n",
       "3         3             7                -28            RUN          0   \n",
       "4         1            10                -45            RUN          0   \n",
       "5         1            10                -46     INCOMPLETE          0   \n",
       "\n",
       "   awayScore  pointPeriod  periodScore pff_RUNPASS  \n",
       "1          0            1         -7.0           R  \n",
       "2          0            1         -7.0           R  \n",
       "3          0            1          3.0           R  \n",
       "4          0            1          3.0           P  \n",
       "5          0            1          3.0           R  "
      ]
     },
     "execution_count": 107,
     "metadata": {},
     "output_type": "execute_result"
    }
   ],
   "source": [
    "X_prep_p.head()"
   ]
  },
  {
   "cell_type": "code",
   "execution_count": 108,
   "metadata": {},
   "outputs": [
    {
     "name": "stdout",
     "output_type": "stream",
     "text": [
      "Plays: (578119, 9)\n"
     ]
    }
   ],
   "source": [
    "print(\"Plays:\", X_prep_p.shape)"
   ]
  },
  {
   "cell_type": "code",
   "execution_count": 109,
   "metadata": {},
   "outputs": [
    {
     "name": "stdout",
     "output_type": "stream",
     "text": [
      "Plays: (578119,)\n"
     ]
    }
   ],
   "source": [
    "print(\"Plays:\", y_p.shape)"
   ]
  },
  {
   "cell_type": "code",
   "execution_count": 110,
   "metadata": {},
   "outputs": [],
   "source": [
    "X_prep_p = X_prep_p.join(y_p)"
   ]
  },
  {
   "cell_type": "code",
   "execution_count": 111,
   "metadata": {},
   "outputs": [],
   "source": [
    "RUN = X_prep_p.loc[X_prep_p['pff_RUNPASS'] == 'R']\n",
    "PASS = X_prep_p.loc[X_prep_p['pff_RUNPASS'] == 'P']"
   ]
  },
  {
   "cell_type": "code",
   "execution_count": 112,
   "metadata": {},
   "outputs": [
    {
     "name": "stdout",
     "output_type": "stream",
     "text": [
      "Run: (219982, 10)\n",
      "Pass: (243673, 10)\n"
     ]
    }
   ],
   "source": [
    "print(\"Run:\", RUN.shape)\n",
    "print(\"Pass:\", PASS.shape)"
   ]
  },
  {
   "cell_type": "markdown",
   "metadata": {},
   "source": [
    "###### 3.2.2 Field Goals"
   ]
  },
  {
   "cell_type": "code",
   "execution_count": 44,
   "metadata": {},
   "outputs": [],
   "source": [
    "FGS[['kickResult', 'kickLocation']] = FGS['pff_KICKRESULT'].str.split(' - ', expand=True)\n",
    "FGS['kickResult'] = np.where(FGS['kickResult'] == 'MISSED', 0, 1)"
   ]
  },
  {
   "cell_type": "code",
   "execution_count": 45,
   "metadata": {},
   "outputs": [],
   "source": [
    "INPUTS = [\n",
    "    'pff_HASH', 'pff_KICKYARDS', 'kickResult'\n",
    "]"
   ]
  },
  {
   "cell_type": "code",
   "execution_count": 46,
   "metadata": {},
   "outputs": [],
   "source": [
    "model_fg = FGS[INPUTS]"
   ]
  },
  {
   "cell_type": "code",
   "execution_count": 47,
   "metadata": {},
   "outputs": [
    {
     "data": {
      "text/plain": [
       "(12545, 3)"
      ]
     },
     "execution_count": 47,
     "metadata": {},
     "output_type": "execute_result"
    }
   ],
   "source": [
    "model_fg.shape"
   ]
  },
  {
   "cell_type": "code",
   "execution_count": 48,
   "metadata": {},
   "outputs": [],
   "source": [
    "model_fg = model_fg.dropna()"
   ]
  },
  {
   "cell_type": "code",
   "execution_count": 49,
   "metadata": {},
   "outputs": [
    {
     "data": {
      "text/plain": [
       "(12532, 3)"
      ]
     },
     "execution_count": 49,
     "metadata": {},
     "output_type": "execute_result"
    }
   ],
   "source": [
    "model_fg.shape"
   ]
  },
  {
   "cell_type": "code",
   "execution_count": 50,
   "metadata": {},
   "outputs": [],
   "source": [
    "TARGET = 'kickResult'\n",
    "X_fg = model_fg.drop(TARGET, axis=1)\n",
    "y_fg = model_fg[TARGET]"
   ]
  },
  {
   "cell_type": "code",
   "execution_count": 51,
   "metadata": {},
   "outputs": [],
   "source": [
    "hash_, yards = X_fg['pff_HASH'], X_fg['pff_KICKYARDS']\n",
    "hash_ = np.array(hash_).reshape(-1, 1)\n",
    "one_hot = OneHotEncoder(sparse=True).fit_transform(hash_).toarray()\n",
    "hash_ = pd.DataFrame(one_hot, columns=['hash_C', 'hash_L', 'hash_R'])\n",
    "X_prep_fg = hash_.join(yards.reset_index(drop=True).astype(int))"
   ]
  },
  {
   "cell_type": "code",
   "execution_count": 52,
   "metadata": {},
   "outputs": [
    {
     "data": {
      "text/html": [
       "<div>\n",
       "<style scoped>\n",
       "    .dataframe tbody tr th:only-of-type {\n",
       "        vertical-align: middle;\n",
       "    }\n",
       "\n",
       "    .dataframe tbody tr th {\n",
       "        vertical-align: top;\n",
       "    }\n",
       "\n",
       "    .dataframe thead th {\n",
       "        text-align: right;\n",
       "    }\n",
       "</style>\n",
       "<table border=\"1\" class=\"dataframe\">\n",
       "  <thead>\n",
       "    <tr style=\"text-align: right;\">\n",
       "      <th></th>\n",
       "      <th>hash_C</th>\n",
       "      <th>hash_L</th>\n",
       "      <th>hash_R</th>\n",
       "      <th>pff_KICKYARDS</th>\n",
       "    </tr>\n",
       "  </thead>\n",
       "  <tbody>\n",
       "    <tr>\n",
       "      <th>0</th>\n",
       "      <td>0.0</td>\n",
       "      <td>1.0</td>\n",
       "      <td>0.0</td>\n",
       "      <td>26</td>\n",
       "    </tr>\n",
       "    <tr>\n",
       "      <th>1</th>\n",
       "      <td>0.0</td>\n",
       "      <td>0.0</td>\n",
       "      <td>1.0</td>\n",
       "      <td>36</td>\n",
       "    </tr>\n",
       "    <tr>\n",
       "      <th>2</th>\n",
       "      <td>0.0</td>\n",
       "      <td>0.0</td>\n",
       "      <td>1.0</td>\n",
       "      <td>22</td>\n",
       "    </tr>\n",
       "    <tr>\n",
       "      <th>3</th>\n",
       "      <td>0.0</td>\n",
       "      <td>1.0</td>\n",
       "      <td>0.0</td>\n",
       "      <td>43</td>\n",
       "    </tr>\n",
       "    <tr>\n",
       "      <th>4</th>\n",
       "      <td>0.0</td>\n",
       "      <td>0.0</td>\n",
       "      <td>1.0</td>\n",
       "      <td>47</td>\n",
       "    </tr>\n",
       "  </tbody>\n",
       "</table>\n",
       "</div>"
      ],
      "text/plain": [
       "   hash_C  hash_L  hash_R  pff_KICKYARDS\n",
       "0     0.0     1.0     0.0             26\n",
       "1     0.0     0.0     1.0             36\n",
       "2     0.0     0.0     1.0             22\n",
       "3     0.0     1.0     0.0             43\n",
       "4     0.0     0.0     1.0             47"
      ]
     },
     "execution_count": 52,
     "metadata": {},
     "output_type": "execute_result"
    }
   ],
   "source": [
    "X_prep_fg.head()"
   ]
  },
  {
   "cell_type": "markdown",
   "metadata": {},
   "source": [
    "### 4.0 Field Goal Model"
   ]
  },
  {
   "cell_type": "markdown",
   "metadata": {},
   "source": [
    "#### 4.1 Threshold Experimentation"
   ]
  },
  {
   "cell_type": "code",
   "execution_count": 53,
   "metadata": {},
   "outputs": [],
   "source": [
    "def metrics(model, x, y, threshold=0.5):\n",
    "    y_prob = model.predict_proba(x)[:, 1]\n",
    "    predictions = np.where(y_prob > threshold, 1, 0)\n",
    "    print(\"\\nConfusion Matrix (t={})\".format(threshold))\n",
    "    print(confusion_matrix(y, predictions))\n",
    "    f1_ = f1_score(y, predictions)\n",
    "    print(\"F1:\", f1_)\n",
    "\n",
    "    return f1_"
   ]
  },
  {
   "cell_type": "code",
   "execution_count": 54,
   "metadata": {},
   "outputs": [],
   "source": [
    "def log_reg(X, y, threshold=0.5):\n",
    "    X_train, X_test, y_train, y_test = train_test_split(\n",
    "        X, y, test_size=0.2\n",
    "    )\n",
    "\n",
    "    lr = LogisticRegression(\n",
    "        random_state=SEED,\n",
    "        solver='lbfgs'\n",
    "    )\n",
    "    lr = lr.fit(X_train, y_train)\n",
    "    f1_score = metrics(lr, X_test, y_test, threshold)\n",
    "\n",
    "    return lr, f1_score"
   ]
  },
  {
   "cell_type": "code",
   "execution_count": 55,
   "metadata": {},
   "outputs": [
    {
     "name": "stdout",
     "output_type": "stream",
     "text": [
      "\n",
      "Confusion Matrix (t=0.5)\n",
      "[[ 150  532]\n",
      " [ 113 1712]]\n",
      "F1: 0.8414843942000492\n",
      "\n",
      "Confusion Matrix (t=0.55)\n",
      "[[ 194  489]\n",
      " [ 179 1645]]\n",
      "F1: 0.8312278928751895\n",
      "\n",
      "Confusion Matrix (t=0.6)\n",
      "[[ 243  401]\n",
      " [ 279 1584]]\n",
      "F1: 0.8232848232848233\n",
      "\n",
      "Confusion Matrix (t=0.65)\n",
      "[[ 343  314]\n",
      " [ 404 1446]]\n",
      "F1: 0.8011080332409972\n",
      "\n",
      "Confusion Matrix (t=0.7)\n",
      "[[ 396  261]\n",
      " [ 580 1270]]\n",
      "F1: 0.7512570245489499\n",
      "\n",
      "Confusion Matrix (t=0.75)\n",
      "[[ 505  199]\n",
      " [ 695 1108]]\n",
      "F1: 0.7125401929260451\n",
      "\n",
      "Confusion Matrix (t=0.8)\n",
      "[[549 129]\n",
      " [923 906]]\n",
      "F1: 0.6326815642458101\n",
      "\n",
      "Confusion Matrix (t=0.85)\n",
      "[[ 626   67]\n",
      " [1179  635]]\n",
      "F1: 0.5047694753577106\n",
      "\n",
      "Confusion Matrix (t=0.9)\n",
      "[[ 649   15]\n",
      " [1563  280]]\n",
      "F1: 0.2619270346117867\n",
      "\n",
      "Confusion Matrix (t=0.95)\n",
      "[[ 672    0]\n",
      " [1835    0]]\n",
      "F1: 0.0\n",
      "\n",
      "Confusion Matrix (t=1.0)\n",
      "[[ 697    0]\n",
      " [1810    0]]\n",
      "F1: 0.0\n"
     ]
    }
   ],
   "source": [
    "thresholds = np.arange(0.5, 1.05, 0.05)\n",
    "f1_scores = []\n",
    "for t in thresholds:\n",
    "    model, f1 = log_reg(X_prep_fg, y_fg, round(t, 2))\n",
    "    f1_scores.append(f1)"
   ]
  },
  {
   "cell_type": "code",
   "execution_count": 56,
   "metadata": {},
   "outputs": [
    {
     "data": {
      "image/png": "[encoded data removed]",
      "text/plain": [
       "<Figure size 432x288 with 1 Axes>"
      ]
     },
     "metadata": {
      "needs_background": "light"
     },
     "output_type": "display_data"
    }
   ],
   "source": [
    "plt.plot(thresholds, f1_scores)\n",
    "plt.show()"
   ]
  },
  {
   "cell_type": "markdown",
   "metadata": {},
   "source": [
    "#### 4.2 Final Logistic Regression Model"
   ]
  },
  {
   "cell_type": "code",
   "execution_count": 57,
   "metadata": {},
   "outputs": [],
   "source": [
    "BEST_THRESHOLD = 0.6"
   ]
  },
  {
   "cell_type": "code",
   "execution_count": 58,
   "metadata": {},
   "outputs": [
    {
     "name": "stdout",
     "output_type": "stream",
     "text": [
      "\n",
      "Confusion Matrix (t=0.6)\n",
      "[[ 269  421]\n",
      " [ 245 1572]]\n",
      "F1: 0.8251968503937008\n"
     ]
    }
   ],
   "source": [
    "fg_model = log_reg(X_prep_fg, y_fg, 0.6)"
   ]
  },
  {
   "cell_type": "markdown",
   "metadata": {},
   "source": [
    "### 5.0 Run Models"
   ]
  },
  {
   "cell_type": "code",
   "execution_count": 116,
   "metadata": {},
   "outputs": [],
   "source": [
    "RUN = RUN.drop('pff_PASSRESULT', axis=1)"
   ]
  },
  {
   "cell_type": "code",
   "execution_count": 118,
   "metadata": {},
   "outputs": [],
   "source": [
    "r1 = RUN.loc[RUN['pff_DOWN'] == 1]\n",
    "r2 = RUN.loc[RUN['pff_DOWN'] == 2]\n",
    "r3 = RUN.loc[RUN['pff_DOWN'] == 3]\n",
    "r4 = RUN.loc[RUN['pff_DOWN'] == 4]"
   ]
  },
  {
   "cell_type": "code",
   "execution_count": 119,
   "metadata": {},
   "outputs": [
    {
     "name": "stdout",
     "output_type": "stream",
     "text": [
      "Running Downs:\n",
      "\t1st: (97040, 9)\n",
      "\t2nd: (72009, 9)\n",
      "\t3rd: (45589, 9)\n",
      "\t4th: (4791, 9)\n"
     ]
    }
   ],
   "source": [
    "print(\"Running Downs:\")\n",
    "print(\"\\t1st:\", r1.shape)\n",
    "print(\"\\t2nd:\", r2.shape)\n",
    "print(\"\\t3rd:\", r3.shape)\n",
    "print(\"\\t4th:\", r4.shape)"
   ]
  },
  {
   "cell_type": "markdown",
   "metadata": {},
   "source": [
    "#### Calculate Median and Standard Deviation"
   ]
  },
  {
   "cell_type": "code",
   "execution_count": 136,
   "metadata": {},
   "outputs": [],
   "source": [
    "r1['group'] = pd.qcut(r1['pff_GAINLOSSNET'], q=[0, 0.5, 0.75, 1], labels=['short', 'medium', 'long'])\n",
    "r2['group'] = pd.qcut(r2['pff_GAINLOSSNET'], q=[0, 0.5, 0.75, 1], labels=['short', 'medium', 'long'])\n",
    "r3['group'] = pd.qcut(r3['pff_GAINLOSSNET'], q=[0, 0.5, 0.75, 1], labels=['short', 'medium', 'long'])\n",
    "r4['group'] = pd.qcut(r4['pff_GAINLOSSNET'], q=[0, 0.5, 0.75, 1], labels=['short', 'medium', 'long'])"
   ]
  },
  {
   "cell_type": "code",
   "execution_count": 137,
   "metadata": {},
   "outputs": [],
   "source": [
    "r1_s, r1_m, r1_l = r1.loc[r1['group'] == 'short'], r1.loc[r1['group'] == 'medium'], r1.loc[r1['group'] == 'long']\n",
    "r2_s, r2_m, r2_l = r2.loc[r2['group'] == 'short'], r2.loc[r2['group'] == 'medium'], r2.loc[r2['group'] == 'long']\n",
    "r3_s, r3_m, r3_l = r3.loc[r3['group'] == 'short'], r3.loc[r3['group'] == 'medium'], r3.loc[r3['group'] == 'long']\n",
    "r4_s, r4_m, r4_l = r4.loc[r4['group'] == 'short'], r4.loc[r4['group'] == 'medium'], r4.loc[r4['group'] == 'long']"
   ]
  },
  {
   "cell_type": "code",
   "execution_count": 138,
   "metadata": {},
   "outputs": [
    {
     "name": "stdout",
     "output_type": "stream",
     "text": [
      "Running Categories:\n",
      "\t1st: (97040, 10)\n",
      "\t\t1st Short: (50086, 10)\n",
      "\t\t1st Medium: (23994, 10)\n",
      "\t\t1st Long: (22960, 10)\n",
      "\t2nd: (72009, 10)\n",
      "\t\t2nd Short: (37237, 10)\n",
      "\t\t2nd Medium: (17560, 10)\n",
      "\t\t2nd Long: (17212, 10)\n",
      "\t3rd: (45589, 10)\n",
      "\t\t3rd Short: (22929, 10)\n",
      "\t\t3rd Medium: (12156, 10)\n",
      "\t\t3rd Long: (10504, 10)\n",
      "\t4th: (4791, 10)\n",
      "\t\t4th Short: (2747, 10)\n",
      "\t\t4th Medium: (918, 10)\n",
      "\t\t4th Long: (1126, 10)\n"
     ]
    }
   ],
   "source": [
    "print(\"Running Categories:\")\n",
    "print(\"\\t1st:\", r1.shape)\n",
    "print(\"\\t\\t1st Short:\", r1_s.shape)\n",
    "print(\"\\t\\t1st Medium:\", r1_m.shape)\n",
    "print(\"\\t\\t1st Long:\", r1_l.shape)\n",
    "print(\"\\t2nd:\", r2.shape)\n",
    "print(\"\\t\\t2nd Short:\", r2_s.shape)\n",
    "print(\"\\t\\t2nd Medium:\", r2_m.shape)\n",
    "print(\"\\t\\t2nd Long:\", r2_l.shape)\n",
    "print(\"\\t3rd:\", r3.shape)\n",
    "print(\"\\t\\t3rd Short:\", r3_s.shape)\n",
    "print(\"\\t\\t3rd Medium:\", r3_m.shape)\n",
    "print(\"\\t\\t3rd Long:\", r3_l.shape)\n",
    "print(\"\\t4th:\", r4.shape)\n",
    "print(\"\\t\\t4th Short:\", r4_s.shape)\n",
    "print(\"\\t\\t4th Medium:\", r4_m.shape)\n",
    "print(\"\\t\\t4th Long:\", r4_l.shape)"
   ]
  },
  {
   "cell_type": "markdown",
   "metadata": {},
   "source": [
    "#### Mixture Models"
   ]
  },
  {
   "cell_type": "code",
   "execution_count": 158,
   "metadata": {},
   "outputs": [
    {
     "data": {
      "image/png": "[encoded data removed]",
      "text/plain": [
       "<Figure size 432x288 with 1 Axes>"
      ]
     },
     "metadata": {
      "needs_background": "light"
     },
     "output_type": "display_data"
    }
   ],
   "source": [
    "r1_s['pff_GAINLOSSNET'].plot.density()\n",
    "r1_m['pff_GAINLOSSNET'].plot.density()\n",
    "r1_l['pff_GAINLOSSNET'].plot.density()\n",
    "plt.xlim(-20, 50)\n",
    "plt.legend(labels=['short', 'medium', 'long'])\n",
    "plt.show()"
   ]
  },
  {
   "cell_type": "code",
   "execution_count": 200,
   "metadata": {},
   "outputs": [],
   "source": [
    "from sklearn.mixture import GaussianMixture\n",
    "\n",
    "def plot_mixture(gm):\n",
    "    \"\"\"\n",
    "    \n",
    "    \"\"\"\n",
    "    fig = plt.figure()\n",
    "    ax = fig.add_subplot(111)\n",
    "    \n",
    "    x = np.linspace(-25, 50, 1000).reshape(1000, 1)\n",
    "    logprob = gm.score_samples(x)\n",
    "    pdf = np.exp(logprob)\n",
    "    \n",
    "    ax.plot(x, pdf, '-k')\n",
    "    plt.show()\n",
    "    \n",
    "\n",
    "def mixture_model(x, plot=True):\n",
    "    \"\"\"\n",
    "    \n",
    "    \"\"\"\n",
    "    x = np.array(x['pff_GAINLOSSNET'])\n",
    "    \n",
    "    gm = GaussianMixture(\n",
    "        n_components=3, random_state=SEED\n",
    "    ).fit(x.reshape(-1, 1))\n",
    "    \n",
    "    if plot:\n",
    "        plot_mixture(gm)\n",
    "    \n",
    "    return gm"
   ]
  },
  {
   "cell_type": "code",
   "execution_count": 201,
   "metadata": {},
   "outputs": [
    {
     "data": {
      "image/png": "[encoded data removed]",
      "text/plain": [
       "<Figure size 432x288 with 1 Axes>"
      ]
     },
     "metadata": {
      "needs_background": "light"
     },
     "output_type": "display_data"
    }
   ],
   "source": [
    "m = mixture_model(r1_s)"
   ]
  },
  {
   "cell_type": "code",
   "execution_count": 203,
   "metadata": {},
   "outputs": [],
   "source": [
    "gm_r1_s, gm_r1_m, gm_r1_l, gm_r2_s, gm_r2_m, gm_r2_l, gm_r3_s, gm_r3_m, gm_r3_l, gm_r4_s, gm_r4_m, gm_r4_l = range(0, 12)\n",
    "models = [\n",
    "    gm_r1_s, gm_r1_m, gm_r1_l,\n",
    "    gm_r2_s, gm_r2_m, gm_r2_l,\n",
    "    gm_r3_s, gm_r3_m, gm_r3_l,\n",
    "    gm_r4_s, gm_r4_m, gm_r4_l\n",
    "]\n",
    "vals = [\n",
    "    r1_s, r1_m, r1_l,\n",
    "    r2_s, r2_m, r2_l,\n",
    "    r3_s, r3_m, r3_l,\n",
    "    r4_s, r4_m, r4_l\n",
    "]\n",
    "labels = [\n",
    "    'short_1', 'medium_1', 'long_1',\n",
    "    'short_2', 'medium_2', 'long_2',\n",
    "    'short_3', 'medium_3', 'long_3',\n",
    "    'short_4', 'medium_4', 'long_4',\n",
    "]\n",
    "mixture_dict = {}\n",
    "\n",
    "for m, v, l in zip(models, vals, labels):\n",
    "    m = mixture_model(v, plot=False)\n",
    "    mixture_dict[l] = m"
   ]
  },
  {
   "cell_type": "code",
   "execution_count": 207,
   "metadata": {},
   "outputs": [
    {
     "data": {
      "image/png": "[encoded data removed]",
      "text/plain": [
       "<Figure size 432x288 with 1 Axes>"
      ]
     },
     "metadata": {
      "needs_background": "light"
     },
     "output_type": "display_data"
    }
   ],
   "source": [
    "plot_mixture(mixture_dict['short_4'])"
   ]
  },
  {
   "cell_type": "markdown",
   "metadata": {},
   "source": [
    "### 6.0 Pass Models"
   ]
  },
  {
   "cell_type": "code",
   "execution_count": 121,
   "metadata": {},
   "outputs": [],
   "source": [
    "p1 = PASS.loc[PASS['pff_DOWN'] == 1]\n",
    "p2 = PASS.loc[PASS['pff_DOWN'] == 2]\n",
    "p3 = PASS.loc[PASS['pff_DOWN'] == 3]\n",
    "p4 = PASS.loc[PASS['pff_DOWN'] == 4]"
   ]
  },
  {
   "cell_type": "code",
   "execution_count": 122,
   "metadata": {},
   "outputs": [
    {
     "name": "stdout",
     "output_type": "stream",
     "text": [
      "Passing Downs:\n",
      "\t1st: (107268, 10)\n",
      "\t2nd: (79709, 10)\n",
      "\t3rd: (50658, 10)\n",
      "\t4th: (5458, 10)\n"
     ]
    }
   ],
   "source": [
    "print(\"Passing Downs:\")\n",
    "print(\"\\t1st:\", p1.shape)\n",
    "print(\"\\t2nd:\", p2.shape)\n",
    "print(\"\\t3rd:\", p3.shape)\n",
    "print(\"\\t4th:\", p4.shape)"
   ]
  },
  {
   "cell_type": "markdown",
   "metadata": {},
   "source": [
    "#### Calculate Median and Standard Deviation"
   ]
  },
  {
   "cell_type": "code",
   "execution_count": 139,
   "metadata": {},
   "outputs": [],
   "source": [
    "p1['group'] = pd.qcut(p1['pff_GAINLOSSNET'], q=[0, 0.5, 0.75, 1], labels=['short', 'medium', 'long'])\n",
    "p2['group'] = pd.qcut(p2['pff_GAINLOSSNET'], q=[0, 0.5, 0.75, 1], labels=['short', 'medium', 'long'])\n",
    "p3['group'] = pd.qcut(p3['pff_GAINLOSSNET'], q=[0, 0.5, 0.75, 1], labels=['short', 'medium', 'long'])\n",
    "p4['group'] = pd.qcut(p4['pff_GAINLOSSNET'], q=[0, 0.5, 0.75, 1], labels=['short', 'medium', 'long'])"
   ]
  },
  {
   "cell_type": "code",
   "execution_count": 140,
   "metadata": {},
   "outputs": [],
   "source": [
    "p1_s, p1_m, p1_l = p1.loc[p1['group'] == 'short'], p1.loc[p1['group'] == 'medium'], p1.loc[p1['group'] == 'long']\n",
    "p2_s, p2_m, p2_l = p2.loc[p2['group'] == 'short'], p2.loc[p2['group'] == 'medium'], p2.loc[p2['group'] == 'long']\n",
    "p3_s, p3_m, p3_l = p3.loc[p3['group'] == 'short'], p3.loc[p3['group'] == 'medium'], p3.loc[p3['group'] == 'long']\n",
    "p4_s, p4_m, p4_l = p4.loc[p4['group'] == 'short'], p4.loc[p4['group'] == 'medium'], p4.loc[p4['group'] == 'long']"
   ]
  },
  {
   "cell_type": "code",
   "execution_count": 141,
   "metadata": {},
   "outputs": [
    {
     "name": "stdout",
     "output_type": "stream",
     "text": [
      "Passing Categories:\n",
      "\t1st: (107268, 11)\n",
      "\t\t1st Short: (55608, 11)\n",
      "\t\t1st Medium: (26289, 11)\n",
      "\t\t1st Long: (25371, 11)\n",
      "\t2nd: (79709, 11)\n",
      "\t\t2nd Short: (41194, 11)\n",
      "\t\t2nd Medium: (19577, 11)\n",
      "\t\t2nd Long: (18938, 11)\n",
      "\t3rd: (50658, 11)\n",
      "\t\t3rd Short: (25485, 11)\n",
      "\t\t3rd Medium: (13611, 11)\n",
      "\t\t3rd Long: (11562, 11)\n",
      "\t4th: (5458, 11)\n",
      "\t\t4th Short: (3135, 11)\n",
      "\t\t4th Medium: (968, 11)\n",
      "\t\t4th Long: (1355, 11)\n"
     ]
    }
   ],
   "source": [
    "print(\"Passing Categories:\")\n",
    "print(\"\\t1st:\", p1.shape)\n",
    "print(\"\\t\\t1st Short:\", p1_s.shape)\n",
    "print(\"\\t\\t1st Medium:\", p1_m.shape)\n",
    "print(\"\\t\\t1st Long:\", p1_l.shape)\n",
    "print(\"\\t2nd:\", p2.shape)\n",
    "print(\"\\t\\t2nd Short:\", p2_s.shape)\n",
    "print(\"\\t\\t2nd Medium:\", p2_m.shape)\n",
    "print(\"\\t\\t2nd Long:\", p2_l.shape)\n",
    "print(\"\\t3rd:\", p3.shape)\n",
    "print(\"\\t\\t3rd Short:\", p3_s.shape)\n",
    "print(\"\\t\\t3rd Medium:\", p3_m.shape)\n",
    "print(\"\\t\\t3rd Long:\", p3_l.shape)\n",
    "print(\"\\t4th:\", p4.shape)\n",
    "print(\"\\t\\t4th Short:\", p4_s.shape)\n",
    "print(\"\\t\\t4th Medium:\", p4_m.shape)\n",
    "print(\"\\t\\t4th Long:\", p4_l.shape)"
   ]
  },
  {
   "cell_type": "markdown",
   "metadata": {},
   "source": [
    "#### Mixture Models"
   ]
  },
  {
   "cell_type": "code",
   "execution_count": null,
   "metadata": {},
   "outputs": [],
   "source": []
  },
  {
   "cell_type": "markdown",
   "metadata": {},
   "source": [
    "#### Reference"
   ]
  },
  {
   "cell_type": "markdown",
   "metadata": {},
   "source": [
    "Ref: \n",
    "* [sklearn.mixture.GaussianMixture](https://scikit-learn.org/stable/modules/generated/sklearn.mixture.GaussianMixture.html#sklearn.mixture.GaussianMixture)  \n",
    "* [sklearn.linear_model.LinearRegression](https://scikit-learn.org/stable/modules/generated/sklearn.linear_model.LinearRegression.html)\n",
    "* [sklearn.compose.ColumnTransformer](https://scikit-learn.org/stable/modules/generated/sklearn.compose.ColumnTransformer.html)\n",
    "* [sklearn.pipeline.Pipeline](https://scikit-learn.org/stable/modules/generated/sklearn.pipeline.Pipeline.html)\n",
    "* [sklearn.preprocessing.StandardScaler](https://scikit-learn.org/stable/modules/generated/sklearn.preprocessing.StandardScaler.html)\n",
    "* [sklearn.preprocessing.OneHotEncoder](https://scikit-learn.org/stable/modules/generated/sklearn.preprocessing.OneHotEncoder.html)"
   ]
  },
  {
   "cell_type": "markdown",
   "metadata": {},
   "source": [
    "### 7.0 Expected Points Added Model"
   ]
  },
  {
   "cell_type": "code",
   "execution_count": 233,
   "metadata": {},
   "outputs": [],
   "source": [
    "points = list()\n",
    "MAX = max(d['pff_DISTANCE'])\n",
    "SEED = 42\n",
    "\n",
    "YTG_DEV = {\n",
    "    'long': 4,\n",
    "    'medium': 3,\n",
    "    'short': 2,\n",
    "    'inches': 1\n",
    "}\n",
    "YTG_MIN = {\n",
    "    'long': 10,\n",
    "    'medium': 6,\n",
    "    'short': 3,\n",
    "    'inches': 1\n",
    "}\n",
    "POSITION_DEV = 5 # yards"
   ]
  },
  {
   "cell_type": "code",
   "execution_count": 238,
   "metadata": {},
   "outputs": [],
   "source": [
    "def EPA(down, ytg, position, own):\n",
    "    \"\"\"\n",
    "    \n",
    "    \"\"\"\n",
    "    global points\n",
    "    \n",
    "    ytg_dev = 4 if ytg in range(10, MAX) else \\\n",
    "              3 if ytg in range(6, 10) else \\\n",
    "              2 if ytg in range(3, 6) else \\\n",
    "              1\n",
    "                \n",
    "    SIMULATIONS = 1000\n",
    "    for i in range(SIMULATIONS):\n",
    "        point = run_play(down, ytg, position, own)\n",
    "        points.append(point)\n",
    "    \n",
    "    return np.array(points).mean()"
   ]
  },
  {
   "cell_type": "code",
   "execution_count": 239,
   "metadata": {},
   "outputs": [],
   "source": [
    "def run_play(down, ytg, position, own):\n",
    "    dist_ = 'long' if ytg in range(10, MAX) else \\\n",
    "            'medium' if ytg in range(6, 10) else \\\n",
    "            'short' if ytg in range(3, 6) else \\\n",
    "            'inches'\n",
    "    ytg_dev = YTG_DEV[dist_]\n",
    "    ytg_min = YTG_MIN[dist_]\n",
    "    \n",
    "    position *= -1 if own else 1\n",
    "    fp_right = position - POSITION_DEV\n",
    "    fp_left = position + POSITION_DEV\n",
    "    \n",
    "    # Off the field left\n",
    "    if fp_left > 0 and fp_right < 0:\n",
    "        fp_left = -1\n",
    "    # Redzone -- shrink deviation to 3 yards\n",
    "    elif 0 < position < 20:\n",
    "        fp_right += 2\n",
    "        fp_left -= 2\n",
    "    \n",
    "    samples = d.loc[\n",
    "        (d['pff_DOWN'] == down) &\n",
    "        (d['pff_DISTANCE'] >= max(ytg_min, ytg - ytg_dev)) &\n",
    "        (d['pff_DISTANCE'] <= ytg + ytg_dev) &\n",
    "        (d['pff_FIELDPOSITION'] >= fp_right) &\n",
    "        (d['pff_FIELDPOSITION'] <= fp_left)\n",
    "    ]\n",
    "    if len(samples) == 0:\n",
    "        return None\n",
    "    else:\n",
    "        sample = samples.sample(n=1, random_state=SEED)\n",
    "        \n",
    "        # Define conditions for a TD, FG\n",
    "        if True:\n",
    "            score = True\n",
    "            scored = 6\n",
    "            \n",
    "            xps = d.loc[\n",
    "                (d['pff_DOWN'] == 0) &\n",
    "                (d['pff_DISTANCE'] == 0) &\n",
    "                (d['pff_FIELDPOSITION'] == 0)\n",
    "            ]\n",
    "            xp = xps.sample(n=1, random_state=SEED)\n",
    "            result = xp['pff_KICKRESULT']\n",
    "            scored += 1 if 'MADE' in result else 0\n",
    "        elif True:\n",
    "            score = True\n",
    "            scored = 3\n",
    "        else:\n",
    "            score = False\n",
    "    \n",
    "    if score:\n",
    "        return scored\n",
    "    else:\n",
    "        return run_play(d, y, p)"
   ]
  },
  {
   "cell_type": "code",
   "execution_count": null,
   "metadata": {},
   "outputs": [],
   "source": [
    "down = int(input('Down: ').strip())\n",
    "ytg = int(input('Yards to Go: ').strip())\n",
    "position = int(input('Field Position: ').strip())\n",
    "own = input('Possession (home/away): ').strip()\n",
    "own = True if own == 'home' else False"
   ]
  },
  {
   "cell_type": "code",
   "execution_count": null,
   "metadata": {},
   "outputs": [],
   "source": [
    "STATE = {\n",
    "    'down': down,\n",
    "    'ytg': ytg,\n",
    "    'position': position,\n",
    "    'own': own\n",
    "}"
   ]
  },
  {
   "cell_type": "code",
   "execution_count": null,
   "metadata": {},
   "outputs": [],
   "source": [
    "epa = EPA(**STATE)"
   ]
  },
  {
   "cell_type": "code",
   "execution_count": null,
   "metadata": {},
   "outputs": [],
   "source": [
    "print('''\n",
    "    Expected Points Model:\n",
    "    S (Down: {}, YTG: {}, Position: {}) == {} EP\n",
    "'''.format(\n",
    "    STATE['down'],\n",
    "    STATE['ytg'],\n",
    "    ('Own ' if STATE['own'] else '') + str(STATE['position']),\n",
    "    epa\n",
    "))"
   ]
  }
 ],
 "metadata": {
  "kernelspec": {
   "display_name": "Python 3",
   "language": "python",
   "name": "python3"
  },
  "language_info": {
   "codemirror_mode": {
    "name": "ipython",
    "version": 3
   },
   "file_extension": ".py",
   "mimetype": "text/x-python",
   "name": "python",
   "nbconvert_exporter": "python",
   "pygments_lexer": "ipython3",
   "version": "3.6.4"
  }
 },
 "nbformat": 4,
 "nbformat_minor": 1
}
